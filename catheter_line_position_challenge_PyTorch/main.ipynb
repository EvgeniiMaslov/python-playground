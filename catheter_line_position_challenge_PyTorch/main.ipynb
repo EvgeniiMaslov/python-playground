{
 "cells": [
  {
   "cell_type": "markdown",
   "metadata": {},
   "source": [
    "# About this notebook\n",
    "- PyTorch resnext50_32x4d starter code\n",
    "- GroupKFold 4 folds\n",
    "\n",
    "If this notebook is helpful, feel free to upvote :)"
   ]
  },
  {
   "cell_type": "markdown",
   "metadata": {
    "papermill": {
     "duration": 0.021363,
     "end_time": "2020-12-14T19:52:40.311302",
     "exception": false,
     "start_time": "2020-12-14T19:52:40.289939",
     "status": "completed"
    },
    "tags": []
   },
   "source": [
    "# Data Loading"
   ]
  },
  {
   "cell_type": "code",
   "execution_count": 2,
   "metadata": {
    "execution": {
     "iopub.execute_input": "2020-12-14T19:52:40.356269Z",
     "iopub.status.busy": "2020-12-14T19:52:40.355455Z",
     "iopub.status.idle": "2020-12-14T19:52:41.346426Z",
     "shell.execute_reply": "2020-12-14T19:52:41.344656Z"
    },
    "papermill": {
     "duration": 1.015612,
     "end_time": "2020-12-14T19:52:41.346578",
     "exception": false,
     "start_time": "2020-12-14T19:52:40.330966",
     "status": "completed"
    },
    "tags": []
   },
   "outputs": [],
   "source": [
    "import os\n",
    "\n",
    "import pandas as pd"
   ]
  },
  {
   "cell_type": "code",
   "execution_count": 3,
   "metadata": {
    "execution": {
     "iopub.execute_input": "2020-12-14T19:52:41.396141Z",
     "iopub.status.busy": "2020-12-14T19:52:41.395396Z",
     "iopub.status.idle": "2020-12-14T19:52:41.45231Z",
     "shell.execute_reply": "2020-12-14T19:52:41.451677Z"
    },
    "papermill": {
     "duration": 0.084553,
     "end_time": "2020-12-14T19:52:41.45243",
     "exception": false,
     "start_time": "2020-12-14T19:52:41.367877",
     "status": "completed"
    },
    "tags": []
   },
   "outputs": [],
   "source": [
    "train = pd.read_csv('data/train.csv')\n",
    "test = pd.read_csv('data/sample_submission.csv')"
   ]
  },
  {
   "cell_type": "markdown",
   "metadata": {
    "papermill": {
     "duration": 0.022224,
     "end_time": "2020-12-14T19:52:41.498163",
     "exception": false,
     "start_time": "2020-12-14T19:52:41.475939",
     "status": "completed"
    },
    "tags": []
   },
   "source": [
    "# Directory settings"
   ]
  },
  {
   "cell_type": "code",
   "execution_count": 4,
   "metadata": {
    "execution": {
     "iopub.execute_input": "2020-12-14T19:52:41.549032Z",
     "iopub.status.busy": "2020-12-14T19:52:41.548343Z",
     "iopub.status.idle": "2020-12-14T19:52:41.553026Z",
     "shell.execute_reply": "2020-12-14T19:52:41.552269Z"
    },
    "papermill": {
     "duration": 0.033458,
     "end_time": "2020-12-14T19:52:41.553131",
     "exception": false,
     "start_time": "2020-12-14T19:52:41.519673",
     "status": "completed"
    },
    "tags": []
   },
   "outputs": [],
   "source": [
    "# ====================================================\n",
    "# Directory settings\n",
    "# ====================================================\n",
    "import os\n",
    "\n",
    "OUTPUT_DIR = './'\n",
    "if not os.path.exists(OUTPUT_DIR):\n",
    "    os.makedirs(OUTPUT_DIR)\n",
    "\n",
    "#TRAIN_PATH = '../input/ranzcr-512x512-dataset'\n",
    "TRAIN_PATH = 'data/train'\n"
   ]
  },
  {
   "cell_type": "markdown",
   "metadata": {
    "papermill": {
     "duration": 0.02073,
     "end_time": "2020-12-14T19:52:41.594446",
     "exception": false,
     "start_time": "2020-12-14T19:52:41.573716",
     "status": "completed"
    },
    "tags": []
   },
   "source": [
    "# CFG"
   ]
  },
  {
   "cell_type": "code",
   "execution_count": 5,
   "metadata": {
    "execution": {
     "iopub.execute_input": "2020-12-14T19:52:41.647322Z",
     "iopub.status.busy": "2020-12-14T19:52:41.646482Z",
     "iopub.status.idle": "2020-12-14T19:52:41.650102Z",
     "shell.execute_reply": "2020-12-14T19:52:41.649535Z"
    },
    "papermill": {
     "duration": 0.034829,
     "end_time": "2020-12-14T19:52:41.650216",
     "exception": false,
     "start_time": "2020-12-14T19:52:41.615387",
     "status": "completed"
    },
    "tags": []
   },
   "outputs": [],
   "source": [
    "# ====================================================\n",
    "# CFG\n",
    "# ====================================================\n",
    "class CFG:\n",
    "    debug=True\n",
    "    print_freq=100\n",
    "    num_workers=0\n",
    "    model_name='resnext50_32x4d'\n",
    "    size=400\n",
    "    scheduler='CosineAnnealingLR' # ['ReduceLROnPlateau', 'CosineAnnealingLR', 'CosineAnnealingWarmRestarts']\n",
    "    epochs=6\n",
    "    #factor=0.2 # ReduceLROnPlateau\n",
    "    #patience=4 # ReduceLROnPlateau\n",
    "    #eps=1e-6 # ReduceLROnPlateau\n",
    "    T_max=6 # CosineAnnealingLR\n",
    "    #T_0=6 # CosineAnnealingWarmRestarts\n",
    "    lr=1e-4\n",
    "    min_lr=1e-6\n",
    "    batch_size=4\n",
    "    weight_decay=1e-6\n",
    "    gradient_accumulation_steps=1\n",
    "    max_grad_norm=1000\n",
    "    seed=42\n",
    "    target_size=11\n",
    "    target_cols=['ETT - Abnormal', 'ETT - Borderline', 'ETT - Normal',\n",
    "                 'NGT - Abnormal', 'NGT - Borderline', 'NGT - Incompletely Imaged', 'NGT - Normal', \n",
    "                 'CVC - Abnormal', 'CVC - Borderline', 'CVC - Normal',\n",
    "                 'Swan Ganz Catheter Present']\n",
    "    n_fold=4\n",
    "    trn_fold=[0, 1, 2, 3]\n",
    "    train=True\n",
    "    \n",
    "if CFG.debug:\n",
    "    CFG.epochs = 1\n",
    "    train = train.sample(n=100, random_state=CFG.seed).reset_index(drop=True)"
   ]
  },
  {
   "cell_type": "markdown",
   "metadata": {
    "papermill": {
     "duration": 0.02152,
     "end_time": "2020-12-14T19:52:41.693202",
     "exception": false,
     "start_time": "2020-12-14T19:52:41.671682",
     "status": "completed"
    },
    "tags": []
   },
   "source": [
    "# Library"
   ]
  },
  {
   "cell_type": "code",
   "execution_count": 6,
   "metadata": {
    "execution": {
     "iopub.execute_input": "2020-12-14T19:52:41.750878Z",
     "iopub.status.busy": "2020-12-14T19:52:41.750245Z",
     "iopub.status.idle": "2020-12-14T19:52:45.494184Z",
     "shell.execute_reply": "2020-12-14T19:52:45.492665Z"
    },
    "papermill": {
     "duration": 3.779959,
     "end_time": "2020-12-14T19:52:45.49431",
     "exception": false,
     "start_time": "2020-12-14T19:52:41.714351",
     "status": "completed"
    },
    "tags": []
   },
   "outputs": [],
   "source": [
    "# ====================================================\n",
    "# Library\n",
    "# ====================================================\n",
    "import sys\n",
    "sys.path.append('../input/pytorch-image-models/pytorch-image-models-master')\n",
    "\n",
    "import os\n",
    "import math\n",
    "import time\n",
    "import random\n",
    "import shutil\n",
    "from pathlib import Path\n",
    "from contextlib import contextmanager\n",
    "from collections import defaultdict, Counter\n",
    "\n",
    "import scipy as sp\n",
    "import numpy as np\n",
    "import pandas as pd\n",
    "\n",
    "from sklearn import preprocessing\n",
    "from sklearn.metrics import roc_auc_score\n",
    "from sklearn.model_selection import StratifiedKFold, GroupKFold, KFold\n",
    "\n",
    "from tqdm import tqdm\n",
    "from functools import partial\n",
    "\n",
    "import cv2\n",
    "from PIL import Image\n",
    "\n",
    "import torch\n",
    "import torch.nn as nn\n",
    "import torch.nn.functional as F\n",
    "from torch.optim import Adam, SGD\n",
    "import torchvision.models as models\n",
    "from torch.nn.parameter import Parameter\n",
    "from torch.utils.data import DataLoader, Dataset\n",
    "from torch.optim.lr_scheduler import CosineAnnealingWarmRestarts, CosineAnnealingLR, ReduceLROnPlateau\n",
    "\n",
    "from albumentations import (\n",
    "    Compose, OneOf, Normalize, Resize, RandomResizedCrop, RandomCrop, HorizontalFlip, VerticalFlip, \n",
    "    RandomBrightness, RandomContrast, RandomBrightnessContrast, Rotate, ShiftScaleRotate, Cutout, \n",
    "    IAAAdditiveGaussianNoise, Transpose\n",
    "    )\n",
    "from albumentations.pytorch import ToTensorV2\n",
    "from albumentations import ImageOnlyTransform\n",
    "\n",
    "import timm\n",
    "\n",
    "from torch.cuda.amp import autocast, GradScaler\n",
    "\n",
    "import warnings \n",
    "warnings.filterwarnings('ignore')\n",
    "\n",
    "device = torch.device('cuda' if torch.cuda.is_available() else 'cpu')"
   ]
  },
  {
   "cell_type": "markdown",
   "metadata": {
    "papermill": {
     "duration": 0.021243,
     "end_time": "2020-12-14T19:52:45.536479",
     "exception": false,
     "start_time": "2020-12-14T19:52:45.515236",
     "status": "completed"
    },
    "tags": []
   },
   "source": [
    "# Utils"
   ]
  },
  {
   "cell_type": "code",
   "execution_count": 7,
   "metadata": {
    "execution": {
     "iopub.execute_input": "2020-12-14T19:52:45.59513Z",
     "iopub.status.busy": "2020-12-14T19:52:45.594471Z",
     "iopub.status.idle": "2020-12-14T19:52:45.60117Z",
     "shell.execute_reply": "2020-12-14T19:52:45.60042Z"
    },
    "papermill": {
     "duration": 0.040687,
     "end_time": "2020-12-14T19:52:45.601288",
     "exception": false,
     "start_time": "2020-12-14T19:52:45.560601",
     "status": "completed"
    },
    "tags": []
   },
   "outputs": [],
   "source": [
    "# ====================================================\n",
    "# Utils\n",
    "# ====================================================\n",
    "def get_score(y_true, y_pred):\n",
    "    scores = []\n",
    "    for i in range(y_true.shape[1]):\n",
    "        try:\n",
    "            score = roc_auc_score(y_true[:,i], y_pred[:,i])\n",
    "            scores.append(score)\n",
    "        except ValueError:\n",
    "            print(i)\n",
    "        \n",
    "        \n",
    "    avg_score = np.mean(scores)\n",
    "    return avg_score, scores\n",
    "\n",
    "\n",
    "def seed_torch(seed=42):\n",
    "    random.seed(seed)\n",
    "    os.environ['PYTHONHASHSEED'] = str(seed)\n",
    "    np.random.seed(seed)\n",
    "    torch.manual_seed(seed)\n",
    "    torch.cuda.manual_seed(seed)\n",
    "    torch.backends.cudnn.deterministic = True\n",
    "\n",
    "seed_torch(seed=CFG.seed)"
   ]
  },
  {
   "cell_type": "markdown",
   "metadata": {
    "papermill": {
     "duration": 0.020877,
     "end_time": "2020-12-14T19:52:45.643202",
     "exception": false,
     "start_time": "2020-12-14T19:52:45.622325",
     "status": "completed"
    },
    "tags": []
   },
   "source": [
    "# CV split"
   ]
  },
  {
   "cell_type": "code",
   "execution_count": 8,
   "metadata": {
    "execution": {
     "iopub.execute_input": "2020-12-14T19:52:45.784606Z",
     "iopub.status.busy": "2020-12-14T19:52:45.783744Z",
     "iopub.status.idle": "2020-12-14T19:52:45.800946Z",
     "shell.execute_reply": "2020-12-14T19:52:45.800261Z"
    },
    "papermill": {
     "duration": 0.046951,
     "end_time": "2020-12-14T19:52:45.80106",
     "exception": false,
     "start_time": "2020-12-14T19:52:45.754109",
     "status": "completed"
    },
    "tags": []
   },
   "outputs": [
    {
     "data": {
      "text/plain": [
       "fold\n",
       "0    25\n",
       "1    25\n",
       "2    25\n",
       "3    25\n",
       "dtype: int64"
      ]
     },
     "metadata": {},
     "output_type": "display_data"
    }
   ],
   "source": [
    "\n",
    "\n",
    "folds = train.copy()\n",
    "Fold = GroupKFold(n_splits=CFG.n_fold)\n",
    "groups = folds['PatientID'].values\n",
    "for n, (train_index, val_index) in enumerate(Fold.split(folds, folds[CFG.target_cols], groups)):\n",
    "    folds.loc[val_index, 'fold'] = int(n)\n",
    "folds['fold'] = folds['fold'].astype(int)\n",
    "display(folds.groupby('fold').size())"
   ]
  },
  {
   "cell_type": "markdown",
   "metadata": {
    "papermill": {
     "duration": 0.023234,
     "end_time": "2020-12-14T19:52:45.910123",
     "exception": false,
     "start_time": "2020-12-14T19:52:45.886889",
     "status": "completed"
    },
    "tags": []
   },
   "source": [
    "# Dataset"
   ]
  },
  {
   "cell_type": "code",
   "execution_count": 9,
   "metadata": {
    "execution": {
     "iopub.execute_input": "2020-12-14T19:52:45.967747Z",
     "iopub.status.busy": "2020-12-14T19:52:45.96573Z",
     "iopub.status.idle": "2020-12-14T19:52:45.968559Z",
     "shell.execute_reply": "2020-12-14T19:52:45.969115Z"
    },
    "papermill": {
     "duration": 0.036559,
     "end_time": "2020-12-14T19:52:45.969232",
     "exception": false,
     "start_time": "2020-12-14T19:52:45.932673",
     "status": "completed"
    },
    "tags": []
   },
   "outputs": [],
   "source": [
    "# ====================================================\n",
    "# Dataset\n",
    "# ====================================================\n",
    "class TrainDataset(Dataset):\n",
    "    def __init__(self, df, transform=None):\n",
    "        self.df = df\n",
    "        self.file_names = df['StudyInstanceUID'].values\n",
    "        self.labels = df[CFG.target_cols].values\n",
    "        self.transform = transform\n",
    "        \n",
    "    def __len__(self):\n",
    "        return len(self.df)\n",
    "\n",
    "    def __getitem__(self, idx):\n",
    "        file_name = self.file_names[idx]\n",
    "        file_path = f'{TRAIN_PATH}/{file_name}.jpg'\n",
    "        image = cv2.imread(file_path)\n",
    "        image = cv2.cvtColor(image, cv2.COLOR_BGR2RGB)\n",
    "        if self.transform:\n",
    "            augmented = self.transform(image=image)\n",
    "            image = augmented['image']\n",
    "        label = torch.tensor(self.labels[idx]).float()\n",
    "        return image, label"
   ]
  },
  {
   "cell_type": "markdown",
   "metadata": {
    "papermill": {
     "duration": 0.024022,
     "end_time": "2020-12-14T19:52:46.01618",
     "exception": false,
     "start_time": "2020-12-14T19:52:45.992158",
     "status": "completed"
    },
    "tags": []
   },
   "source": [
    "# Transforms"
   ]
  },
  {
   "cell_type": "code",
   "execution_count": 10,
   "metadata": {
    "execution": {
     "iopub.execute_input": "2020-12-14T19:52:46.071509Z",
     "iopub.status.busy": "2020-12-14T19:52:46.070642Z",
     "iopub.status.idle": "2020-12-14T19:52:46.074136Z",
     "shell.execute_reply": "2020-12-14T19:52:46.073613Z"
    },
    "papermill": {
     "duration": 0.035507,
     "end_time": "2020-12-14T19:52:46.074245",
     "exception": false,
     "start_time": "2020-12-14T19:52:46.038738",
     "status": "completed"
    },
    "tags": []
   },
   "outputs": [],
   "source": [
    "# ====================================================\n",
    "# Transforms\n",
    "# ====================================================\n",
    "def get_transforms(*, data):\n",
    "    \n",
    "    if data == 'train':\n",
    "        return Compose([\n",
    "            #Resize(CFG.size, CFG.size),\n",
    "            RandomResizedCrop(CFG.size, CFG.size, scale=(0.85, 1.0)),\n",
    "            HorizontalFlip(p=0.5),\n",
    "            Normalize(\n",
    "                mean=[0.485, 0.456, 0.406],\n",
    "                std=[0.229, 0.224, 0.225],\n",
    "            ),\n",
    "            ToTensorV2(),\n",
    "        ])\n",
    "\n",
    "    elif data == 'valid':\n",
    "        return Compose([\n",
    "            Resize(CFG.size, CFG.size),\n",
    "            Normalize(\n",
    "                mean=[0.485, 0.456, 0.406],\n",
    "                std=[0.229, 0.224, 0.225],\n",
    "            ),\n",
    "            ToTensorV2(),\n",
    "        ])"
   ]
  },
  {
   "cell_type": "markdown",
   "metadata": {
    "papermill": {
     "duration": 0.022168,
     "end_time": "2020-12-14T19:52:46.118843",
     "exception": false,
     "start_time": "2020-12-14T19:52:46.096675",
     "status": "completed"
    },
    "tags": []
   },
   "source": [
    "# MODEL"
   ]
  },
  {
   "cell_type": "code",
   "execution_count": 11,
   "metadata": {
    "execution": {
     "iopub.execute_input": "2020-12-14T19:52:46.17627Z",
     "iopub.status.busy": "2020-12-14T19:52:46.170979Z",
     "iopub.status.idle": "2020-12-14T19:52:46.18312Z",
     "shell.execute_reply": "2020-12-14T19:52:46.183763Z"
    },
    "papermill": {
     "duration": 0.042914,
     "end_time": "2020-12-14T19:52:46.183878",
     "exception": false,
     "start_time": "2020-12-14T19:52:46.140964",
     "status": "completed"
    },
    "tags": []
   },
   "outputs": [],
   "source": [
    "# ====================================================\n",
    "# MODEL\n",
    "# ====================================================\n",
    "class CustomResNext(nn.Module):\n",
    "    def __init__(self, model_name='resnext50_32x4d', pretrained=False):\n",
    "        super().__init__()\n",
    "        self.model = timm.create_model(model_name, pretrained=pretrained)\n",
    "        n_features = self.model.fc.in_features\n",
    "        self.model.fc = nn.Linear(n_features, CFG.target_size)\n",
    "\n",
    "    def forward(self, x):\n",
    "        x = self.model(x)\n",
    "        return x"
   ]
  },
  {
   "cell_type": "markdown",
   "metadata": {
    "papermill": {
     "duration": 0.022356,
     "end_time": "2020-12-14T19:52:46.228883",
     "exception": false,
     "start_time": "2020-12-14T19:52:46.206527",
     "status": "completed"
    },
    "tags": []
   },
   "source": [
    "# Helper functions"
   ]
  },
  {
   "cell_type": "code",
   "execution_count": 12,
   "metadata": {
    "execution": {
     "iopub.execute_input": "2020-12-14T19:52:46.445205Z",
     "iopub.status.busy": "2020-12-14T19:52:46.443326Z",
     "iopub.status.idle": "2020-12-14T19:52:46.445944Z",
     "shell.execute_reply": "2020-12-14T19:52:46.446449Z"
    },
    "papermill": {
     "duration": 0.064625,
     "end_time": "2020-12-14T19:52:46.446561",
     "exception": false,
     "start_time": "2020-12-14T19:52:46.381936",
     "status": "completed"
    },
    "tags": []
   },
   "outputs": [],
   "source": [
    "def train_fn(train_loader, model, criterion, optimizer, epoch, scheduler, device):\n",
    "    scaler = GradScaler()\n",
    "    \n",
    "    # switch to train mode\n",
    "    model.train()\n",
    "    \n",
    "    progress_bar = tqdm(train_loader)\n",
    "    \n",
    "    losses = []\n",
    "    \n",
    "    for step, (images, labels) in enumerate(progress_bar):\n",
    "        # measure data loading time\n",
    "        images = images.to(device)\n",
    "        labels = labels.to(device)\n",
    "        batch_size = labels.size(0)\n",
    "        with autocast():\n",
    "            y_preds = model(images)\n",
    "            loss = criterion(y_preds, labels)\n",
    "        # record loss\n",
    "        \n",
    "        scaler.scale(loss).backward()\n",
    "        scaler.step(optimizer)\n",
    "        scaler.update()\n",
    "        optimizer.zero_grad()\n",
    "        \n",
    "        \n",
    "        losses.append(loss.item())\n",
    "        smooth_loss = np.mean(losses[-30:])\n",
    "        progress_bar.set_description(f'loss: {loss.item():.5f}, smth: {smooth_loss:.5f}')\n",
    "        \n",
    "    return np.mean(losses)\n",
    "\n",
    "\n",
    "def valid_fn(valid_loader, model, criterion, device):\n",
    "    # switch to evaluation mode\n",
    "    model.eval()\n",
    "    \n",
    "    progress_bar = tqdm(valid_loader)\n",
    "    \n",
    "    preds = []\n",
    "    losses = []\n",
    "    \n",
    "    for step, (images, labels) in enumerate(progress_bar):\n",
    "        # measure data loading time\n",
    "        images = images.to(device)\n",
    "        labels = labels.to(device)\n",
    "        batch_size = labels.size(0)\n",
    "        # compute loss\n",
    "        with torch.no_grad():\n",
    "            y_preds = model(images)\n",
    "        loss = criterion(y_preds, labels)\n",
    "        losses.append(loss.item())\n",
    "        # record accuracy\n",
    "        progress_bar.set_description(f'loss: {loss.item():.5f}')\n",
    "        preds.append(y_preds.sigmoid().to('cpu').numpy())\n",
    "        \n",
    "    predictions = np.concatenate(preds)\n",
    "    return np.mean(losses), predictions"
   ]
  },
  {
   "cell_type": "markdown",
   "metadata": {
    "papermill": {
     "duration": 0.022557,
     "end_time": "2020-12-14T19:52:46.492442",
     "exception": false,
     "start_time": "2020-12-14T19:52:46.469885",
     "status": "completed"
    },
    "tags": []
   },
   "source": [
    "# Train loop"
   ]
  },
  {
   "cell_type": "code",
   "execution_count": 13,
   "metadata": {
    "_cell_guid": "b1076dfc-b9ad-4769-8c92-a6c4dae69d19",
    "_uuid": "8f2839f25d086af736a60e9eeb907d3b93b6e0e5",
    "execution": {
     "iopub.execute_input": "2020-12-14T19:52:46.552529Z",
     "iopub.status.busy": "2020-12-14T19:52:46.541988Z",
     "iopub.status.idle": "2020-12-14T19:52:46.608359Z",
     "shell.execute_reply": "2020-12-14T19:52:46.609161Z"
    },
    "papermill": {
     "duration": 0.093848,
     "end_time": "2020-12-14T19:52:46.609353",
     "exception": false,
     "start_time": "2020-12-14T19:52:46.515505",
     "status": "completed"
    },
    "tags": []
   },
   "outputs": [],
   "source": [
    "# ====================================================\n",
    "# Train loop\n",
    "# ====================================================\n",
    "def train_loop(folds, fold):\n",
    "\n",
    "    # ====================================================\n",
    "    # loader\n",
    "    # ====================================================\n",
    "    trn_idx = folds[folds['fold'] != fold].index\n",
    "    val_idx = folds[folds['fold'] == fold].index\n",
    "\n",
    "    train_folds = folds.loc[trn_idx].reset_index(drop=True)\n",
    "    valid_folds = folds.loc[val_idx].reset_index(drop=True)\n",
    "    valid_labels = valid_folds[CFG.target_cols].values\n",
    "\n",
    "    train_dataset = TrainDataset(train_folds, \n",
    "                                 transform=get_transforms(data='train'))\n",
    "    valid_dataset = TrainDataset(valid_folds, \n",
    "                                 transform=get_transforms(data='valid'))\n",
    "\n",
    "    train_loader = DataLoader(train_dataset, \n",
    "                              batch_size=CFG.batch_size, \n",
    "                              shuffle=True, \n",
    "                              num_workers=CFG.num_workers, pin_memory=True, drop_last=True)\n",
    "    valid_loader = DataLoader(valid_dataset, \n",
    "                              batch_size=CFG.batch_size * 2, \n",
    "                              shuffle=False, \n",
    "                              num_workers=CFG.num_workers, pin_memory=True, drop_last=False)\n",
    "    \n",
    "    # ====================================================\n",
    "    # scheduler \n",
    "    # ====================================================\n",
    "    def get_scheduler(optimizer):\n",
    "        if CFG.scheduler=='ReduceLROnPlateau':\n",
    "            scheduler = ReduceLROnPlateau(optimizer, mode='min', factor=CFG.factor, patience=CFG.patience, verbose=True, eps=CFG.eps)\n",
    "        elif CFG.scheduler=='CosineAnnealingLR':\n",
    "            scheduler = CosineAnnealingLR(optimizer, T_max=CFG.T_max, eta_min=CFG.min_lr, last_epoch=-1)\n",
    "        elif CFG.scheduler=='CosineAnnealingWarmRestarts':\n",
    "            scheduler = CosineAnnealingWarmRestarts(optimizer, T_0=CFG.T_0, T_mult=1, eta_min=CFG.min_lr, last_epoch=-1)\n",
    "        return scheduler\n",
    "\n",
    "    # ====================================================\n",
    "    # model & optimizer\n",
    "    # ====================================================\n",
    "    model = CustomResNext(CFG.model_name, pretrained=True)\n",
    "    model.to(device)\n",
    "\n",
    "    optimizer = Adam(model.parameters(), lr=CFG.lr, weight_decay=CFG.weight_decay, amsgrad=False)\n",
    "    scheduler = get_scheduler(optimizer)\n",
    "\n",
    "    # ====================================================\n",
    "    # loop\n",
    "    # ====================================================\n",
    "    criterion = nn.BCEWithLogitsLoss()\n",
    "\n",
    "    best_score = 0.\n",
    "    best_loss = np.inf\n",
    "    \n",
    "    for epoch in range(CFG.epochs):\n",
    "        \n",
    "        start_time = time.time()\n",
    "        \n",
    "        # train\n",
    "        avg_loss = train_fn(train_loader, model, criterion, optimizer, epoch, scheduler, device)\n",
    "\n",
    "        # eval\n",
    "        avg_val_loss, preds = valid_fn(valid_loader, model, criterion, device)\n",
    "        \n",
    "        if isinstance(scheduler, ReduceLROnPlateau):\n",
    "            scheduler.step(avg_val_loss)\n",
    "        elif isinstance(scheduler, CosineAnnealingLR):\n",
    "            scheduler.step()\n",
    "        elif isinstance(scheduler, CosineAnnealingWarmRestarts):\n",
    "            scheduler.step()\n",
    "\n",
    "        # scoring\n",
    "        score, scores = get_score(valid_labels, preds)\n",
    " \n",
    "        if avg_val_loss < best_loss:\n",
    "            best_loss = avg_val_loss\n",
    "            torch.save({'model': model.state_dict(), \n",
    "                        'preds': preds},\n",
    "                        OUTPUT_DIR+f'{CFG.model_name}_fold{fold}_best.pth')\n",
    "    \n",
    "    check_point = torch.load(OUTPUT_DIR+f'{CFG.model_name}_fold{fold}_best.pth')\n",
    "    for c in [f'pred_{c}' for c in CFG.target_cols]:\n",
    "        valid_folds[c] = np.nan\n",
    "    valid_folds[[f'pred_{c}' for c in CFG.target_cols]] = check_point['preds']\n",
    "\n",
    "    return valid_folds"
   ]
  },
  {
   "cell_type": "code",
   "execution_count": 14,
   "metadata": {
    "execution": {
     "iopub.execute_input": "2020-12-14T19:52:46.697088Z",
     "iopub.status.busy": "2020-12-14T19:52:46.694995Z",
     "iopub.status.idle": "2020-12-14T19:52:46.697997Z",
     "shell.execute_reply": "2020-12-14T19:52:46.698568Z"
    },
    "papermill": {
     "duration": 0.043278,
     "end_time": "2020-12-14T19:52:46.698687",
     "exception": false,
     "start_time": "2020-12-14T19:52:46.655409",
     "status": "completed"
    },
    "tags": []
   },
   "outputs": [],
   "source": [
    "# ====================================================\n",
    "# main\n",
    "# ====================================================\n",
    "def main():\n",
    "\n",
    "    \"\"\"\n",
    "    Prepare: 1.train  2.folds\n",
    "    \"\"\"\n",
    "\n",
    "    def get_result(result_df):\n",
    "        preds = result_df[[f'pred_{c}' for c in CFG.target_cols]].values\n",
    "        labels = result_df[CFG.target_cols].values\n",
    "        score, scores = get_score(labels, preds)\n",
    "    \n",
    "    if CFG.train:\n",
    "        # train \n",
    "        oof_df = pd.DataFrame()\n",
    "        for fold in range(CFG.n_fold):\n",
    "            if fold in CFG.trn_fold:\n",
    "                _oof_df = train_loop(folds, fold)\n",
    "                oof_df = pd.concat([oof_df, _oof_df])\n",
    "                get_result(_oof_df)\n",
    "        # CV result\n",
    "        get_result(oof_df)\n",
    "        # save result\n",
    "        oof_df.to_csv(OUTPUT_DIR+'oof_df.csv', index=False)"
   ]
  },
  {
   "cell_type": "code",
   "execution_count": 14,
   "metadata": {
    "_cell_guid": "79c7e3d0-c299-4dcb-8224-4455121ee9b0",
    "_uuid": "d629ff2d2480ee46fbb7e2d37f6b5fab8052498a",
    "execution": {
     "iopub.execute_input": "2020-12-14T19:52:46.757077Z",
     "iopub.status.busy": "2020-12-14T19:52:46.755987Z"
    },
    "papermill": {
     "duration": null,
     "end_time": null,
     "exception": false,
     "start_time": "2020-12-14T19:52:46.725364",
     "status": "running"
    },
    "tags": []
   },
   "outputs": [
    {
     "name": "stderr",
     "output_type": "stream",
     "text": [
      "loss: 0.34738, smth: 0.51163: 100%|██████████| 18/18 [00:39<00:00,  2.22s/it]\n",
      "loss: 0.15793: 100%|██████████| 4/4 [00:02<00:00,  1.85it/s]\n"
     ]
    },
    {
     "name": "stdout",
     "output_type": "stream",
     "text": [
      "0\n",
      "3\n",
      "4\n",
      "0\n",
      "3\n",
      "4\n"
     ]
    },
    {
     "name": "stderr",
     "output_type": "stream",
     "text": [
      "loss: 0.30217, smth: 0.50949: 100%|██████████| 18/18 [00:38<00:00,  2.15s/it]\n",
      "loss: 0.39098: 100%|██████████| 4/4 [00:02<00:00,  1.90it/s]\n"
     ]
    },
    {
     "name": "stdout",
     "output_type": "stream",
     "text": [
      "0\n",
      "3\n",
      "4\n",
      "0\n",
      "3\n",
      "4\n"
     ]
    },
    {
     "name": "stderr",
     "output_type": "stream",
     "text": [
      "loss: 0.65345, smth: 0.68210:  17%|█▋        | 3/18 [00:08<00:43,  2.88s/it]\n"
     ]
    },
    {
     "ename": "KeyboardInterrupt",
     "evalue": "",
     "output_type": "error",
     "traceback": [
      "\u001b[1;31m---------------------------------------------------------------------------\u001b[0m",
      "\u001b[1;31mKeyboardInterrupt\u001b[0m                         Traceback (most recent call last)",
      "\u001b[1;32m<ipython-input-14-c7bc734e5e35>\u001b[0m in \u001b[0;36m<module>\u001b[1;34m\u001b[0m\n\u001b[0;32m      1\u001b[0m \u001b[1;32mif\u001b[0m \u001b[0m__name__\u001b[0m \u001b[1;33m==\u001b[0m \u001b[1;34m'__main__'\u001b[0m\u001b[1;33m:\u001b[0m\u001b[1;33m\u001b[0m\u001b[1;33m\u001b[0m\u001b[0m\n\u001b[1;32m----> 2\u001b[1;33m     \u001b[0mmain\u001b[0m\u001b[1;33m(\u001b[0m\u001b[1;33m)\u001b[0m\u001b[1;33m\u001b[0m\u001b[1;33m\u001b[0m\u001b[0m\n\u001b[0m",
      "\u001b[1;32m<ipython-input-13-746e314c877f>\u001b[0m in \u001b[0;36mmain\u001b[1;34m()\u001b[0m\n\u001b[0;32m     18\u001b[0m         \u001b[1;32mfor\u001b[0m \u001b[0mfold\u001b[0m \u001b[1;32min\u001b[0m \u001b[0mrange\u001b[0m\u001b[1;33m(\u001b[0m\u001b[0mCFG\u001b[0m\u001b[1;33m.\u001b[0m\u001b[0mn_fold\u001b[0m\u001b[1;33m)\u001b[0m\u001b[1;33m:\u001b[0m\u001b[1;33m\u001b[0m\u001b[1;33m\u001b[0m\u001b[0m\n\u001b[0;32m     19\u001b[0m             \u001b[1;32mif\u001b[0m \u001b[0mfold\u001b[0m \u001b[1;32min\u001b[0m \u001b[0mCFG\u001b[0m\u001b[1;33m.\u001b[0m\u001b[0mtrn_fold\u001b[0m\u001b[1;33m:\u001b[0m\u001b[1;33m\u001b[0m\u001b[1;33m\u001b[0m\u001b[0m\n\u001b[1;32m---> 20\u001b[1;33m                 \u001b[0m_oof_df\u001b[0m \u001b[1;33m=\u001b[0m \u001b[0mtrain_loop\u001b[0m\u001b[1;33m(\u001b[0m\u001b[0mfolds\u001b[0m\u001b[1;33m,\u001b[0m \u001b[0mfold\u001b[0m\u001b[1;33m)\u001b[0m\u001b[1;33m\u001b[0m\u001b[1;33m\u001b[0m\u001b[0m\n\u001b[0m\u001b[0;32m     21\u001b[0m                 \u001b[0moof_df\u001b[0m \u001b[1;33m=\u001b[0m \u001b[0mpd\u001b[0m\u001b[1;33m.\u001b[0m\u001b[0mconcat\u001b[0m\u001b[1;33m(\u001b[0m\u001b[1;33m[\u001b[0m\u001b[0moof_df\u001b[0m\u001b[1;33m,\u001b[0m \u001b[0m_oof_df\u001b[0m\u001b[1;33m]\u001b[0m\u001b[1;33m)\u001b[0m\u001b[1;33m\u001b[0m\u001b[1;33m\u001b[0m\u001b[0m\n\u001b[0;32m     22\u001b[0m                 \u001b[0mget_result\u001b[0m\u001b[1;33m(\u001b[0m\u001b[0m_oof_df\u001b[0m\u001b[1;33m)\u001b[0m\u001b[1;33m\u001b[0m\u001b[1;33m\u001b[0m\u001b[0m\n",
      "\u001b[1;32m<ipython-input-12-4ce07668a59f>\u001b[0m in \u001b[0;36mtrain_loop\u001b[1;34m(folds, fold)\u001b[0m\n\u001b[0;32m     62\u001b[0m \u001b[1;33m\u001b[0m\u001b[0m\n\u001b[0;32m     63\u001b[0m         \u001b[1;31m# train\u001b[0m\u001b[1;33m\u001b[0m\u001b[1;33m\u001b[0m\u001b[1;33m\u001b[0m\u001b[0m\n\u001b[1;32m---> 64\u001b[1;33m         \u001b[0mavg_loss\u001b[0m \u001b[1;33m=\u001b[0m \u001b[0mtrain_fn\u001b[0m\u001b[1;33m(\u001b[0m\u001b[0mtrain_loader\u001b[0m\u001b[1;33m,\u001b[0m \u001b[0mmodel\u001b[0m\u001b[1;33m,\u001b[0m \u001b[0mcriterion\u001b[0m\u001b[1;33m,\u001b[0m \u001b[0moptimizer\u001b[0m\u001b[1;33m,\u001b[0m \u001b[0mepoch\u001b[0m\u001b[1;33m,\u001b[0m \u001b[0mscheduler\u001b[0m\u001b[1;33m,\u001b[0m \u001b[0mdevice\u001b[0m\u001b[1;33m)\u001b[0m\u001b[1;33m\u001b[0m\u001b[1;33m\u001b[0m\u001b[0m\n\u001b[0m\u001b[0;32m     65\u001b[0m \u001b[1;33m\u001b[0m\u001b[0m\n\u001b[0;32m     66\u001b[0m         \u001b[1;31m# eval\u001b[0m\u001b[1;33m\u001b[0m\u001b[1;33m\u001b[0m\u001b[1;33m\u001b[0m\u001b[0m\n",
      "\u001b[1;32m<ipython-input-11-0073d1828ee7>\u001b[0m in \u001b[0;36mtrain_fn\u001b[1;34m(train_loader, model, criterion, optimizer, epoch, scheduler, device)\u001b[0m\n\u001b[0;32m     20\u001b[0m \u001b[1;33m\u001b[0m\u001b[0m\n\u001b[0;32m     21\u001b[0m         \u001b[0mscaler\u001b[0m\u001b[1;33m.\u001b[0m\u001b[0mscale\u001b[0m\u001b[1;33m(\u001b[0m\u001b[0mloss\u001b[0m\u001b[1;33m)\u001b[0m\u001b[1;33m.\u001b[0m\u001b[0mbackward\u001b[0m\u001b[1;33m(\u001b[0m\u001b[1;33m)\u001b[0m\u001b[1;33m\u001b[0m\u001b[1;33m\u001b[0m\u001b[0m\n\u001b[1;32m---> 22\u001b[1;33m         \u001b[0mscaler\u001b[0m\u001b[1;33m.\u001b[0m\u001b[0mstep\u001b[0m\u001b[1;33m(\u001b[0m\u001b[0moptimizer\u001b[0m\u001b[1;33m)\u001b[0m\u001b[1;33m\u001b[0m\u001b[1;33m\u001b[0m\u001b[0m\n\u001b[0m\u001b[0;32m     23\u001b[0m         \u001b[0mscaler\u001b[0m\u001b[1;33m.\u001b[0m\u001b[0mupdate\u001b[0m\u001b[1;33m(\u001b[0m\u001b[1;33m)\u001b[0m\u001b[1;33m\u001b[0m\u001b[1;33m\u001b[0m\u001b[0m\n\u001b[0;32m     24\u001b[0m         \u001b[0moptimizer\u001b[0m\u001b[1;33m.\u001b[0m\u001b[0mzero_grad\u001b[0m\u001b[1;33m(\u001b[0m\u001b[1;33m)\u001b[0m\u001b[1;33m\u001b[0m\u001b[1;33m\u001b[0m\u001b[0m\n",
      "\u001b[1;32m~\\anaconda3\\envs\\pytorch\\lib\\site-packages\\torch\\cuda\\amp\\grad_scaler.py\u001b[0m in \u001b[0;36mstep\u001b[1;34m(self, optimizer, *args, **kwargs)\u001b[0m\n\u001b[0;32m    318\u001b[0m         \u001b[1;32massert\u001b[0m \u001b[0mlen\u001b[0m\u001b[1;33m(\u001b[0m\u001b[0moptimizer_state\u001b[0m\u001b[1;33m[\u001b[0m\u001b[1;34m\"found_inf_per_device\"\u001b[0m\u001b[1;33m]\u001b[0m\u001b[1;33m)\u001b[0m \u001b[1;33m>\u001b[0m \u001b[1;36m0\u001b[0m\u001b[1;33m,\u001b[0m \u001b[1;34m\"No inf checks were recorded for this optimizer.\"\u001b[0m\u001b[1;33m\u001b[0m\u001b[1;33m\u001b[0m\u001b[0m\n\u001b[0;32m    319\u001b[0m \u001b[1;33m\u001b[0m\u001b[0m\n\u001b[1;32m--> 320\u001b[1;33m         \u001b[1;32mif\u001b[0m \u001b[1;32mnot\u001b[0m \u001b[0msum\u001b[0m\u001b[1;33m(\u001b[0m\u001b[0mv\u001b[0m\u001b[1;33m.\u001b[0m\u001b[0mitem\u001b[0m\u001b[1;33m(\u001b[0m\u001b[1;33m)\u001b[0m \u001b[1;32mfor\u001b[0m \u001b[0mv\u001b[0m \u001b[1;32min\u001b[0m \u001b[0moptimizer_state\u001b[0m\u001b[1;33m[\u001b[0m\u001b[1;34m\"found_inf_per_device\"\u001b[0m\u001b[1;33m]\u001b[0m\u001b[1;33m.\u001b[0m\u001b[0mvalues\u001b[0m\u001b[1;33m(\u001b[0m\u001b[1;33m)\u001b[0m\u001b[1;33m)\u001b[0m\u001b[1;33m:\u001b[0m\u001b[1;33m\u001b[0m\u001b[1;33m\u001b[0m\u001b[0m\n\u001b[0m\u001b[0;32m    321\u001b[0m             \u001b[0mretval\u001b[0m \u001b[1;33m=\u001b[0m \u001b[0moptimizer\u001b[0m\u001b[1;33m.\u001b[0m\u001b[0mstep\u001b[0m\u001b[1;33m(\u001b[0m\u001b[1;33m*\u001b[0m\u001b[0margs\u001b[0m\u001b[1;33m,\u001b[0m \u001b[1;33m**\u001b[0m\u001b[0mkwargs\u001b[0m\u001b[1;33m)\u001b[0m\u001b[1;33m\u001b[0m\u001b[1;33m\u001b[0m\u001b[0m\n\u001b[0;32m    322\u001b[0m \u001b[1;33m\u001b[0m\u001b[0m\n",
      "\u001b[1;32m~\\anaconda3\\envs\\pytorch\\lib\\site-packages\\torch\\cuda\\amp\\grad_scaler.py\u001b[0m in \u001b[0;36m<genexpr>\u001b[1;34m(.0)\u001b[0m\n\u001b[0;32m    318\u001b[0m         \u001b[1;32massert\u001b[0m \u001b[0mlen\u001b[0m\u001b[1;33m(\u001b[0m\u001b[0moptimizer_state\u001b[0m\u001b[1;33m[\u001b[0m\u001b[1;34m\"found_inf_per_device\"\u001b[0m\u001b[1;33m]\u001b[0m\u001b[1;33m)\u001b[0m \u001b[1;33m>\u001b[0m \u001b[1;36m0\u001b[0m\u001b[1;33m,\u001b[0m \u001b[1;34m\"No inf checks were recorded for this optimizer.\"\u001b[0m\u001b[1;33m\u001b[0m\u001b[1;33m\u001b[0m\u001b[0m\n\u001b[0;32m    319\u001b[0m \u001b[1;33m\u001b[0m\u001b[0m\n\u001b[1;32m--> 320\u001b[1;33m         \u001b[1;32mif\u001b[0m \u001b[1;32mnot\u001b[0m \u001b[0msum\u001b[0m\u001b[1;33m(\u001b[0m\u001b[0mv\u001b[0m\u001b[1;33m.\u001b[0m\u001b[0mitem\u001b[0m\u001b[1;33m(\u001b[0m\u001b[1;33m)\u001b[0m \u001b[1;32mfor\u001b[0m \u001b[0mv\u001b[0m \u001b[1;32min\u001b[0m \u001b[0moptimizer_state\u001b[0m\u001b[1;33m[\u001b[0m\u001b[1;34m\"found_inf_per_device\"\u001b[0m\u001b[1;33m]\u001b[0m\u001b[1;33m.\u001b[0m\u001b[0mvalues\u001b[0m\u001b[1;33m(\u001b[0m\u001b[1;33m)\u001b[0m\u001b[1;33m)\u001b[0m\u001b[1;33m:\u001b[0m\u001b[1;33m\u001b[0m\u001b[1;33m\u001b[0m\u001b[0m\n\u001b[0m\u001b[0;32m    321\u001b[0m             \u001b[0mretval\u001b[0m \u001b[1;33m=\u001b[0m \u001b[0moptimizer\u001b[0m\u001b[1;33m.\u001b[0m\u001b[0mstep\u001b[0m\u001b[1;33m(\u001b[0m\u001b[1;33m*\u001b[0m\u001b[0margs\u001b[0m\u001b[1;33m,\u001b[0m \u001b[1;33m**\u001b[0m\u001b[0mkwargs\u001b[0m\u001b[1;33m)\u001b[0m\u001b[1;33m\u001b[0m\u001b[1;33m\u001b[0m\u001b[0m\n\u001b[0;32m    322\u001b[0m \u001b[1;33m\u001b[0m\u001b[0m\n",
      "\u001b[1;31mKeyboardInterrupt\u001b[0m: "
     ]
    }
   ],
   "source": [
    "if __name__ == '__main__':\n",
    "    main()"
   ]
  },
  {
   "cell_type": "code",
   "execution_count": 15,
   "metadata": {},
   "outputs": [],
   "source": [
    "oof = pd.read_csv('oof_df.csv')"
   ]
  },
  {
   "cell_type": "code",
   "execution_count": 16,
   "metadata": {},
   "outputs": [
    {
     "data": {
      "text/html": [
       "<div>\n",
       "<style scoped>\n",
       "    .dataframe tbody tr th:only-of-type {\n",
       "        vertical-align: middle;\n",
       "    }\n",
       "\n",
       "    .dataframe tbody tr th {\n",
       "        vertical-align: top;\n",
       "    }\n",
       "\n",
       "    .dataframe thead th {\n",
       "        text-align: right;\n",
       "    }\n",
       "</style>\n",
       "<table border=\"1\" class=\"dataframe\">\n",
       "  <thead>\n",
       "    <tr style=\"text-align: right;\">\n",
       "      <th></th>\n",
       "      <th>StudyInstanceUID</th>\n",
       "      <th>ETT - Abnormal</th>\n",
       "      <th>ETT - Borderline</th>\n",
       "      <th>ETT - Normal</th>\n",
       "      <th>NGT - Abnormal</th>\n",
       "      <th>NGT - Borderline</th>\n",
       "      <th>NGT - Incompletely Imaged</th>\n",
       "      <th>NGT - Normal</th>\n",
       "      <th>CVC - Abnormal</th>\n",
       "      <th>CVC - Borderline</th>\n",
       "      <th>...</th>\n",
       "      <th>pred_ETT - Borderline</th>\n",
       "      <th>pred_ETT - Normal</th>\n",
       "      <th>pred_NGT - Abnormal</th>\n",
       "      <th>pred_NGT - Borderline</th>\n",
       "      <th>pred_NGT - Incompletely Imaged</th>\n",
       "      <th>pred_NGT - Normal</th>\n",
       "      <th>pred_CVC - Abnormal</th>\n",
       "      <th>pred_CVC - Borderline</th>\n",
       "      <th>pred_CVC - Normal</th>\n",
       "      <th>pred_Swan Ganz Catheter Present</th>\n",
       "    </tr>\n",
       "  </thead>\n",
       "  <tbody>\n",
       "    <tr>\n",
       "      <th>0</th>\n",
       "      <td>1.2.826.0.1.3680043.8.498.12062735938247288574...</td>\n",
       "      <td>0</td>\n",
       "      <td>0</td>\n",
       "      <td>0</td>\n",
       "      <td>0</td>\n",
       "      <td>0</td>\n",
       "      <td>0</td>\n",
       "      <td>0</td>\n",
       "      <td>1</td>\n",
       "      <td>0</td>\n",
       "      <td>...</td>\n",
       "      <td>0.090071</td>\n",
       "      <td>0.351044</td>\n",
       "      <td>0.090335</td>\n",
       "      <td>0.085504</td>\n",
       "      <td>0.237534</td>\n",
       "      <td>0.160310</td>\n",
       "      <td>0.217420</td>\n",
       "      <td>0.209095</td>\n",
       "      <td>0.767686</td>\n",
       "      <td>0.087943</td>\n",
       "    </tr>\n",
       "    <tr>\n",
       "      <th>1</th>\n",
       "      <td>1.2.826.0.1.3680043.8.498.12261966456376427418...</td>\n",
       "      <td>0</td>\n",
       "      <td>0</td>\n",
       "      <td>0</td>\n",
       "      <td>0</td>\n",
       "      <td>0</td>\n",
       "      <td>0</td>\n",
       "      <td>0</td>\n",
       "      <td>0</td>\n",
       "      <td>0</td>\n",
       "      <td>...</td>\n",
       "      <td>0.047286</td>\n",
       "      <td>0.296513</td>\n",
       "      <td>0.037479</td>\n",
       "      <td>0.041369</td>\n",
       "      <td>0.184670</td>\n",
       "      <td>0.142708</td>\n",
       "      <td>0.150384</td>\n",
       "      <td>0.203658</td>\n",
       "      <td>0.779578</td>\n",
       "      <td>0.047851</td>\n",
       "    </tr>\n",
       "    <tr>\n",
       "      <th>2</th>\n",
       "      <td>1.2.826.0.1.3680043.8.498.41042511967315281006...</td>\n",
       "      <td>0</td>\n",
       "      <td>0</td>\n",
       "      <td>0</td>\n",
       "      <td>0</td>\n",
       "      <td>0</td>\n",
       "      <td>0</td>\n",
       "      <td>0</td>\n",
       "      <td>0</td>\n",
       "      <td>0</td>\n",
       "      <td>...</td>\n",
       "      <td>0.045523</td>\n",
       "      <td>0.219583</td>\n",
       "      <td>0.052283</td>\n",
       "      <td>0.054558</td>\n",
       "      <td>0.210149</td>\n",
       "      <td>0.126224</td>\n",
       "      <td>0.158763</td>\n",
       "      <td>0.234302</td>\n",
       "      <td>0.821327</td>\n",
       "      <td>0.052988</td>\n",
       "    </tr>\n",
       "    <tr>\n",
       "      <th>3</th>\n",
       "      <td>1.2.826.0.1.3680043.8.498.33395752605080511634...</td>\n",
       "      <td>0</td>\n",
       "      <td>0</td>\n",
       "      <td>0</td>\n",
       "      <td>0</td>\n",
       "      <td>0</td>\n",
       "      <td>0</td>\n",
       "      <td>1</td>\n",
       "      <td>1</td>\n",
       "      <td>1</td>\n",
       "      <td>...</td>\n",
       "      <td>0.049815</td>\n",
       "      <td>0.301751</td>\n",
       "      <td>0.063910</td>\n",
       "      <td>0.048379</td>\n",
       "      <td>0.194176</td>\n",
       "      <td>0.154946</td>\n",
       "      <td>0.140409</td>\n",
       "      <td>0.240994</td>\n",
       "      <td>0.805753</td>\n",
       "      <td>0.064665</td>\n",
       "    </tr>\n",
       "    <tr>\n",
       "      <th>4</th>\n",
       "      <td>1.2.826.0.1.3680043.8.498.12786707235059185574...</td>\n",
       "      <td>0</td>\n",
       "      <td>0</td>\n",
       "      <td>0</td>\n",
       "      <td>0</td>\n",
       "      <td>0</td>\n",
       "      <td>0</td>\n",
       "      <td>0</td>\n",
       "      <td>0</td>\n",
       "      <td>1</td>\n",
       "      <td>...</td>\n",
       "      <td>0.073287</td>\n",
       "      <td>0.250406</td>\n",
       "      <td>0.057670</td>\n",
       "      <td>0.062815</td>\n",
       "      <td>0.186268</td>\n",
       "      <td>0.139078</td>\n",
       "      <td>0.187163</td>\n",
       "      <td>0.241002</td>\n",
       "      <td>0.770120</td>\n",
       "      <td>0.071849</td>\n",
       "    </tr>\n",
       "    <tr>\n",
       "      <th>...</th>\n",
       "      <td>...</td>\n",
       "      <td>...</td>\n",
       "      <td>...</td>\n",
       "      <td>...</td>\n",
       "      <td>...</td>\n",
       "      <td>...</td>\n",
       "      <td>...</td>\n",
       "      <td>...</td>\n",
       "      <td>...</td>\n",
       "      <td>...</td>\n",
       "      <td>...</td>\n",
       "      <td>...</td>\n",
       "      <td>...</td>\n",
       "      <td>...</td>\n",
       "      <td>...</td>\n",
       "      <td>...</td>\n",
       "      <td>...</td>\n",
       "      <td>...</td>\n",
       "      <td>...</td>\n",
       "      <td>...</td>\n",
       "      <td>...</td>\n",
       "    </tr>\n",
       "    <tr>\n",
       "      <th>95</th>\n",
       "      <td>1.2.826.0.1.3680043.8.498.30440955038019441887...</td>\n",
       "      <td>0</td>\n",
       "      <td>0</td>\n",
       "      <td>0</td>\n",
       "      <td>0</td>\n",
       "      <td>0</td>\n",
       "      <td>0</td>\n",
       "      <td>0</td>\n",
       "      <td>0</td>\n",
       "      <td>0</td>\n",
       "      <td>...</td>\n",
       "      <td>0.051844</td>\n",
       "      <td>0.099541</td>\n",
       "      <td>0.048328</td>\n",
       "      <td>0.032392</td>\n",
       "      <td>0.049238</td>\n",
       "      <td>0.062926</td>\n",
       "      <td>0.064201</td>\n",
       "      <td>0.158358</td>\n",
       "      <td>0.873588</td>\n",
       "      <td>0.048062</td>\n",
       "    </tr>\n",
       "    <tr>\n",
       "      <th>96</th>\n",
       "      <td>1.2.826.0.1.3680043.8.498.25293340653252895771...</td>\n",
       "      <td>0</td>\n",
       "      <td>1</td>\n",
       "      <td>0</td>\n",
       "      <td>0</td>\n",
       "      <td>0</td>\n",
       "      <td>0</td>\n",
       "      <td>1</td>\n",
       "      <td>0</td>\n",
       "      <td>0</td>\n",
       "      <td>...</td>\n",
       "      <td>0.053195</td>\n",
       "      <td>0.159721</td>\n",
       "      <td>0.032550</td>\n",
       "      <td>0.030838</td>\n",
       "      <td>0.041230</td>\n",
       "      <td>0.091780</td>\n",
       "      <td>0.062114</td>\n",
       "      <td>0.121545</td>\n",
       "      <td>0.892970</td>\n",
       "      <td>0.054452</td>\n",
       "    </tr>\n",
       "    <tr>\n",
       "      <th>97</th>\n",
       "      <td>1.2.826.0.1.3680043.8.498.90855111132163997581...</td>\n",
       "      <td>0</td>\n",
       "      <td>0</td>\n",
       "      <td>1</td>\n",
       "      <td>0</td>\n",
       "      <td>0</td>\n",
       "      <td>1</td>\n",
       "      <td>0</td>\n",
       "      <td>0</td>\n",
       "      <td>0</td>\n",
       "      <td>...</td>\n",
       "      <td>0.061409</td>\n",
       "      <td>0.139958</td>\n",
       "      <td>0.059453</td>\n",
       "      <td>0.046548</td>\n",
       "      <td>0.061353</td>\n",
       "      <td>0.107965</td>\n",
       "      <td>0.098531</td>\n",
       "      <td>0.160864</td>\n",
       "      <td>0.864314</td>\n",
       "      <td>0.064115</td>\n",
       "    </tr>\n",
       "    <tr>\n",
       "      <th>98</th>\n",
       "      <td>1.2.826.0.1.3680043.8.498.10764130667321392143...</td>\n",
       "      <td>0</td>\n",
       "      <td>0</td>\n",
       "      <td>0</td>\n",
       "      <td>0</td>\n",
       "      <td>0</td>\n",
       "      <td>0</td>\n",
       "      <td>0</td>\n",
       "      <td>1</td>\n",
       "      <td>0</td>\n",
       "      <td>...</td>\n",
       "      <td>0.067294</td>\n",
       "      <td>0.177097</td>\n",
       "      <td>0.053040</td>\n",
       "      <td>0.041260</td>\n",
       "      <td>0.047553</td>\n",
       "      <td>0.102829</td>\n",
       "      <td>0.083989</td>\n",
       "      <td>0.131890</td>\n",
       "      <td>0.912400</td>\n",
       "      <td>0.058846</td>\n",
       "    </tr>\n",
       "    <tr>\n",
       "      <th>99</th>\n",
       "      <td>1.2.826.0.1.3680043.8.498.90624434818104211416...</td>\n",
       "      <td>0</td>\n",
       "      <td>0</td>\n",
       "      <td>0</td>\n",
       "      <td>0</td>\n",
       "      <td>0</td>\n",
       "      <td>0</td>\n",
       "      <td>0</td>\n",
       "      <td>0</td>\n",
       "      <td>0</td>\n",
       "      <td>...</td>\n",
       "      <td>0.053045</td>\n",
       "      <td>0.121354</td>\n",
       "      <td>0.041591</td>\n",
       "      <td>0.034503</td>\n",
       "      <td>0.040214</td>\n",
       "      <td>0.089903</td>\n",
       "      <td>0.062906</td>\n",
       "      <td>0.165788</td>\n",
       "      <td>0.889161</td>\n",
       "      <td>0.061775</td>\n",
       "    </tr>\n",
       "  </tbody>\n",
       "</table>\n",
       "<p>100 rows × 25 columns</p>\n",
       "</div>"
      ],
      "text/plain": [
       "                                     StudyInstanceUID  ETT - Abnormal  \\\n",
       "0   1.2.826.0.1.3680043.8.498.12062735938247288574...               0   \n",
       "1   1.2.826.0.1.3680043.8.498.12261966456376427418...               0   \n",
       "2   1.2.826.0.1.3680043.8.498.41042511967315281006...               0   \n",
       "3   1.2.826.0.1.3680043.8.498.33395752605080511634...               0   \n",
       "4   1.2.826.0.1.3680043.8.498.12786707235059185574...               0   \n",
       "..                                                ...             ...   \n",
       "95  1.2.826.0.1.3680043.8.498.30440955038019441887...               0   \n",
       "96  1.2.826.0.1.3680043.8.498.25293340653252895771...               0   \n",
       "97  1.2.826.0.1.3680043.8.498.90855111132163997581...               0   \n",
       "98  1.2.826.0.1.3680043.8.498.10764130667321392143...               0   \n",
       "99  1.2.826.0.1.3680043.8.498.90624434818104211416...               0   \n",
       "\n",
       "    ETT - Borderline  ETT - Normal  NGT - Abnormal  NGT - Borderline  \\\n",
       "0                  0             0               0                 0   \n",
       "1                  0             0               0                 0   \n",
       "2                  0             0               0                 0   \n",
       "3                  0             0               0                 0   \n",
       "4                  0             0               0                 0   \n",
       "..               ...           ...             ...               ...   \n",
       "95                 0             0               0                 0   \n",
       "96                 1             0               0                 0   \n",
       "97                 0             1               0                 0   \n",
       "98                 0             0               0                 0   \n",
       "99                 0             0               0                 0   \n",
       "\n",
       "    NGT - Incompletely Imaged  NGT - Normal  CVC - Abnormal  CVC - Borderline  \\\n",
       "0                           0             0               1                 0   \n",
       "1                           0             0               0                 0   \n",
       "2                           0             0               0                 0   \n",
       "3                           0             1               1                 1   \n",
       "4                           0             0               0                 1   \n",
       "..                        ...           ...             ...               ...   \n",
       "95                          0             0               0                 0   \n",
       "96                          0             1               0                 0   \n",
       "97                          1             0               0                 0   \n",
       "98                          0             0               1                 0   \n",
       "99                          0             0               0                 0   \n",
       "\n",
       "    ...  pred_ETT - Borderline  pred_ETT - Normal pred_NGT - Abnormal  \\\n",
       "0   ...               0.090071           0.351044            0.090335   \n",
       "1   ...               0.047286           0.296513            0.037479   \n",
       "2   ...               0.045523           0.219583            0.052283   \n",
       "3   ...               0.049815           0.301751            0.063910   \n",
       "4   ...               0.073287           0.250406            0.057670   \n",
       "..  ...                    ...                ...                 ...   \n",
       "95  ...               0.051844           0.099541            0.048328   \n",
       "96  ...               0.053195           0.159721            0.032550   \n",
       "97  ...               0.061409           0.139958            0.059453   \n",
       "98  ...               0.067294           0.177097            0.053040   \n",
       "99  ...               0.053045           0.121354            0.041591   \n",
       "\n",
       "    pred_NGT - Borderline  pred_NGT - Incompletely Imaged  pred_NGT - Normal  \\\n",
       "0                0.085504                        0.237534           0.160310   \n",
       "1                0.041369                        0.184670           0.142708   \n",
       "2                0.054558                        0.210149           0.126224   \n",
       "3                0.048379                        0.194176           0.154946   \n",
       "4                0.062815                        0.186268           0.139078   \n",
       "..                    ...                             ...                ...   \n",
       "95               0.032392                        0.049238           0.062926   \n",
       "96               0.030838                        0.041230           0.091780   \n",
       "97               0.046548                        0.061353           0.107965   \n",
       "98               0.041260                        0.047553           0.102829   \n",
       "99               0.034503                        0.040214           0.089903   \n",
       "\n",
       "    pred_CVC - Abnormal  pred_CVC - Borderline  pred_CVC - Normal  \\\n",
       "0              0.217420               0.209095           0.767686   \n",
       "1              0.150384               0.203658           0.779578   \n",
       "2              0.158763               0.234302           0.821327   \n",
       "3              0.140409               0.240994           0.805753   \n",
       "4              0.187163               0.241002           0.770120   \n",
       "..                  ...                    ...                ...   \n",
       "95             0.064201               0.158358           0.873588   \n",
       "96             0.062114               0.121545           0.892970   \n",
       "97             0.098531               0.160864           0.864314   \n",
       "98             0.083989               0.131890           0.912400   \n",
       "99             0.062906               0.165788           0.889161   \n",
       "\n",
       "    pred_Swan Ganz Catheter Present  \n",
       "0                          0.087943  \n",
       "1                          0.047851  \n",
       "2                          0.052988  \n",
       "3                          0.064665  \n",
       "4                          0.071849  \n",
       "..                              ...  \n",
       "95                         0.048062  \n",
       "96                         0.054452  \n",
       "97                         0.064115  \n",
       "98                         0.058846  \n",
       "99                         0.061775  \n",
       "\n",
       "[100 rows x 25 columns]"
      ]
     },
     "execution_count": 16,
     "metadata": {},
     "output_type": "execute_result"
    }
   ],
   "source": [
    "oof"
   ]
  },
  {
   "cell_type": "code",
   "execution_count": 17,
   "metadata": {},
   "outputs": [
    {
     "name": "stdout",
     "output_type": "stream",
     "text": [
      "0\n"
     ]
    }
   ],
   "source": [
    "preds = oof[[f'pred_{c}' for c in CFG.target_cols]].values\n",
    "labels = oof[CFG.target_cols].values\n",
    "score, scores = get_score(labels, preds)"
   ]
  },
  {
   "cell_type": "code",
   "execution_count": 18,
   "metadata": {},
   "outputs": [
    {
     "data": {
      "text/plain": [
       "0.5059441020890516"
      ]
     },
     "execution_count": 18,
     "metadata": {},
     "output_type": "execute_result"
    }
   ],
   "source": [
    "score"
   ]
  },
  {
   "cell_type": "code",
   "execution_count": 20,
   "metadata": {},
   "outputs": [
    {
     "data": {
      "text/plain": [
       "array([0.087513  , 0.0515033 , 0.04688244, 0.05143243, 0.06017136,\n",
       "       0.04742864, 0.052565  , 0.04839828, 0.04098251, 0.07034287,\n",
       "       0.13008662, 0.06335313, 0.05159475, 0.08106221, 0.03875271,\n",
       "       0.12160487, 0.07755381, 0.02878727, 0.03772036, 0.05654447,\n",
       "       0.07541224, 0.03744994, 0.07439245, 0.03348478, 0.05966498,\n",
       "       0.03043422, 0.06460388, 0.08215841, 0.02559223, 0.10560989,\n",
       "       0.08013184, 0.04747726, 0.04712925, 0.04174506, 0.05693524,\n",
       "       0.06785142, 0.10215937, 0.03164821, 0.04435433, 0.04983869,\n",
       "       0.06027292, 0.04376763, 0.06310797, 0.04561419, 0.02328596,\n",
       "       0.07098681, 0.08587869, 0.04366614, 0.05079442, 0.06034593,\n",
       "       0.08360209, 0.08105859, 0.03483585, 0.02583926, 0.04693085,\n",
       "       0.0717994 , 0.03570352, 0.0982999 , 0.11059007, 0.08348852,\n",
       "       0.08237597, 0.09916498, 0.05116217, 0.02071713, 0.04143083,\n",
       "       0.04408927, 0.10074294, 0.0587924 , 0.06357034, 0.12634082,\n",
       "       0.08822627, 0.1071081 , 0.06153767, 0.11367757, 0.03521212,\n",
       "       0.09413203, 0.03785274, 0.05362528, 0.04815702, 0.06628916,\n",
       "       0.061784  , 0.14029355, 0.04249771, 0.05020695, 0.05107345,\n",
       "       0.06693552, 0.0446715 , 0.05192117, 0.07903577, 0.06195865,\n",
       "       0.05380314, 0.03752077, 0.08729205, 0.06872477, 0.08234506,\n",
       "       0.02896862, 0.03342522, 0.04270871, 0.04484226, 0.03713216])"
      ]
     },
     "execution_count": 20,
     "metadata": {},
     "output_type": "execute_result"
    }
   ],
   "source": [
    "preds[:, 0]"
   ]
  },
  {
   "cell_type": "code",
   "execution_count": 23,
   "metadata": {},
   "outputs": [
    {
     "data": {
      "text/plain": [
       "array([0, 0, 0, 0, 0, 0, 0, 0, 0, 0, 0, 0, 0, 0, 1, 0, 0, 0, 1, 0, 0, 0,\n",
       "       0, 0, 0, 1, 1, 0, 0, 0, 0, 0, 1, 1, 0, 1, 0, 0, 1, 0, 0, 0, 0, 0,\n",
       "       0, 0, 0, 0, 0, 1, 0, 0, 0, 0, 0, 0, 1, 0, 1, 1, 0, 0, 0, 0, 1, 1,\n",
       "       1, 0, 1, 0, 0, 1, 0, 0, 0, 1, 1, 0, 0, 0, 0, 0, 1, 0, 0, 1, 1, 0,\n",
       "       1, 0, 1, 0, 0, 1, 0, 0, 0, 1, 0, 0], dtype=int64)"
      ]
     },
     "execution_count": 23,
     "metadata": {},
     "output_type": "execute_result"
    }
   ],
   "source": [
    "labels[:, 2]"
   ]
  },
  {
   "cell_type": "code",
   "execution_count": null,
   "metadata": {},
   "outputs": [],
   "source": []
  },
  {
   "cell_type": "code",
   "execution_count": null,
   "metadata": {},
   "outputs": [],
   "source": []
  }
 ],
 "metadata": {
  "kernelspec": {
   "display_name": "Python 3",
   "language": "python",
   "name": "python3"
  },
  "language_info": {
   "codemirror_mode": {
    "name": "ipython",
    "version": 3
   },
   "file_extension": ".py",
   "mimetype": "text/x-python",
   "name": "python",
   "nbconvert_exporter": "python",
   "pygments_lexer": "ipython3",
   "version": "3.8.5"
  }
 },
 "nbformat": 4,
 "nbformat_minor": 4
}
