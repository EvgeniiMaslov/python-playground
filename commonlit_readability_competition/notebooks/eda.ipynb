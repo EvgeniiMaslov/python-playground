{
 "cells": [
  {
   "cell_type": "code",
   "execution_count": 1,
   "id": "5832ca7e",
   "metadata": {},
   "outputs": [],
   "source": [
    "import pandas as pd\n",
    "import numpy as np\n",
    "\n",
    "import matplotlib.pyplot as plt\n",
    "import seaborn as sns\n",
    "\n",
    "import nltk\n",
    "from nltk import word_tokenize\n",
    "from nltk.corpus import stopwords\n",
    "\n",
    "import scipy.stats as stats"
   ]
  },
  {
   "cell_type": "code",
   "execution_count": 2,
   "id": "9bdb5b76",
   "metadata": {},
   "outputs": [],
   "source": [
    "train = pd.read_csv('../data/train.csv')"
   ]
  },
  {
   "cell_type": "markdown",
   "id": "d5e690e7",
   "metadata": {},
   "source": [
    "#### Columns\n",
    "id - unique ID for excerpt <br>\n",
    "url_legal - URL of source - this is blank in the test set.<br>\n",
    "license - license of source material - this is blank in the test set.<br>\n",
    "excerpt - text to predict reading ease of<br>\n",
    "target - reading ease<br>\n",
    "standard_error - measure of spread of scores among multiple raters for each excerpt. Not included for test data.<br>"
   ]
  },
  {
   "cell_type": "code",
   "execution_count": 3,
   "id": "5eeeaa8d",
   "metadata": {},
   "outputs": [
    {
     "data": {
      "text/html": [
       "<div>\n",
       "<style scoped>\n",
       "    .dataframe tbody tr th:only-of-type {\n",
       "        vertical-align: middle;\n",
       "    }\n",
       "\n",
       "    .dataframe tbody tr th {\n",
       "        vertical-align: top;\n",
       "    }\n",
       "\n",
       "    .dataframe thead th {\n",
       "        text-align: right;\n",
       "    }\n",
       "</style>\n",
       "<table border=\"1\" class=\"dataframe\">\n",
       "  <thead>\n",
       "    <tr style=\"text-align: right;\">\n",
       "      <th></th>\n",
       "      <th>id</th>\n",
       "      <th>url_legal</th>\n",
       "      <th>license</th>\n",
       "      <th>excerpt</th>\n",
       "      <th>target</th>\n",
       "      <th>standard_error</th>\n",
       "    </tr>\n",
       "  </thead>\n",
       "  <tbody>\n",
       "    <tr>\n",
       "      <th>0</th>\n",
       "      <td>c12129c31</td>\n",
       "      <td>NaN</td>\n",
       "      <td>NaN</td>\n",
       "      <td>When the young people returned to the ballroom...</td>\n",
       "      <td>-0.340259</td>\n",
       "      <td>0.464009</td>\n",
       "    </tr>\n",
       "    <tr>\n",
       "      <th>1</th>\n",
       "      <td>85aa80a4c</td>\n",
       "      <td>NaN</td>\n",
       "      <td>NaN</td>\n",
       "      <td>All through dinner time, Mrs. Fayre was somewh...</td>\n",
       "      <td>-0.315372</td>\n",
       "      <td>0.480805</td>\n",
       "    </tr>\n",
       "    <tr>\n",
       "      <th>2</th>\n",
       "      <td>b69ac6792</td>\n",
       "      <td>NaN</td>\n",
       "      <td>NaN</td>\n",
       "      <td>As Roger had predicted, the snow departed as q...</td>\n",
       "      <td>-0.580118</td>\n",
       "      <td>0.476676</td>\n",
       "    </tr>\n",
       "    <tr>\n",
       "      <th>3</th>\n",
       "      <td>dd1000b26</td>\n",
       "      <td>NaN</td>\n",
       "      <td>NaN</td>\n",
       "      <td>And outside before the palace a great garden w...</td>\n",
       "      <td>-1.054013</td>\n",
       "      <td>0.450007</td>\n",
       "    </tr>\n",
       "    <tr>\n",
       "      <th>4</th>\n",
       "      <td>37c1b32fb</td>\n",
       "      <td>NaN</td>\n",
       "      <td>NaN</td>\n",
       "      <td>Once upon a time there were Three Bears who li...</td>\n",
       "      <td>0.247197</td>\n",
       "      <td>0.510845</td>\n",
       "    </tr>\n",
       "  </tbody>\n",
       "</table>\n",
       "</div>"
      ],
      "text/plain": [
       "          id url_legal license  \\\n",
       "0  c12129c31       NaN     NaN   \n",
       "1  85aa80a4c       NaN     NaN   \n",
       "2  b69ac6792       NaN     NaN   \n",
       "3  dd1000b26       NaN     NaN   \n",
       "4  37c1b32fb       NaN     NaN   \n",
       "\n",
       "                                             excerpt    target  standard_error  \n",
       "0  When the young people returned to the ballroom... -0.340259        0.464009  \n",
       "1  All through dinner time, Mrs. Fayre was somewh... -0.315372        0.480805  \n",
       "2  As Roger had predicted, the snow departed as q... -0.580118        0.476676  \n",
       "3  And outside before the palace a great garden w... -1.054013        0.450007  \n",
       "4  Once upon a time there were Three Bears who li...  0.247197        0.510845  "
      ]
     },
     "execution_count": 3,
     "metadata": {},
     "output_type": "execute_result"
    }
   ],
   "source": [
    "train.head()"
   ]
  },
  {
   "cell_type": "markdown",
   "id": "b0f35f17",
   "metadata": {},
   "source": [
    "#### Missing value\n",
    "\n",
    "In Train, the values in `url_legal` and `license` are missing; if `url_legal` is specified, `license` is also specified."
   ]
  },
  {
   "cell_type": "code",
   "execution_count": 4,
   "id": "e1315df7",
   "metadata": {},
   "outputs": [
    {
     "name": "stdout",
     "output_type": "stream",
     "text": [
      "<class 'pandas.core.frame.DataFrame'>\n",
      "RangeIndex: 2834 entries, 0 to 2833\n",
      "Data columns (total 6 columns):\n",
      " #   Column          Non-Null Count  Dtype  \n",
      "---  ------          --------------  -----  \n",
      " 0   id              2834 non-null   object \n",
      " 1   url_legal       830 non-null    object \n",
      " 2   license         830 non-null    object \n",
      " 3   excerpt         2834 non-null   object \n",
      " 4   target          2834 non-null   float64\n",
      " 5   standard_error  2834 non-null   float64\n",
      "dtypes: float64(2), object(4)\n",
      "memory usage: 133.0+ KB\n"
     ]
    }
   ],
   "source": [
    "train.info()"
   ]
  },
  {
   "cell_type": "code",
   "execution_count": 5,
   "id": "ed393237",
   "metadata": {},
   "outputs": [
    {
     "name": "stdout",
     "output_type": "stream",
     "text": [
      "<class 'pandas.core.frame.DataFrame'>\n",
      "Int64Index: 830 entries, 249 to 2833\n",
      "Data columns (total 6 columns):\n",
      " #   Column          Non-Null Count  Dtype  \n",
      "---  ------          --------------  -----  \n",
      " 0   id              830 non-null    object \n",
      " 1   url_legal       830 non-null    object \n",
      " 2   license         830 non-null    object \n",
      " 3   excerpt         830 non-null    object \n",
      " 4   target          830 non-null    float64\n",
      " 5   standard_error  830 non-null    float64\n",
      "dtypes: float64(2), object(4)\n",
      "memory usage: 45.4+ KB\n"
     ]
    }
   ],
   "source": [
    "train.dropna(subset=['url_legal']).info()"
   ]
  },
  {
   "cell_type": "markdown",
   "id": "b0065cff",
   "metadata": {},
   "source": [
    "#### Unique values"
   ]
  },
  {
   "cell_type": "code",
   "execution_count": 6,
   "id": "1d3f647b",
   "metadata": {},
   "outputs": [
    {
     "name": "stdout",
     "output_type": "stream",
     "text": [
      "Total number of rows: 2834\n",
      "Number of unique ids: 2834\n",
      "Number of unique urls: 667\n",
      "Number of unique licenses: 15\n"
     ]
    }
   ],
   "source": [
    "print(f'Total number of rows: {train.shape[0]}')\n",
    "print(f'Number of unique ids: {train.id.nunique()}')\n",
    "print(f'Number of unique urls: {train.url_legal.nunique()}')\n",
    "print(f'Number of unique licenses: {train.license.nunique()}')"
   ]
  },
  {
   "cell_type": "markdown",
   "id": "981dbd03",
   "metadata": {},
   "source": [
    "#### Excerpt statistics"
   ]
  },
  {
   "cell_type": "code",
   "execution_count": 7,
   "id": "f65e0213",
   "metadata": {},
   "outputs": [],
   "source": [
    "def get_tokens(text, remove_stopwords=False):\n",
    "    text = text.strip().lower()\n",
    "    tokens = word_tokenize(text)\n",
    "    \n",
    "    if remove_stopwords:\n",
    "        tokens = [w for w in tokens if w not in stopwords.words('english')]\n",
    "        \n",
    "    return tokens"
   ]
  },
  {
   "cell_type": "code",
   "execution_count": 8,
   "id": "56f8d736",
   "metadata": {},
   "outputs": [
    {
     "name": "stdout",
     "output_type": "stream",
     "text": [
      "Wall time: 2min 35s\n"
     ]
    }
   ],
   "source": [
    "%%time\n",
    "train['tokenized'] = train.excerpt.apply(get_tokens, args=(False,))\n",
    "train['tokenized_wout_stopwords'] = train.excerpt.apply(get_tokens, args=(True,))"
   ]
  },
  {
   "cell_type": "code",
   "execution_count": 9,
   "id": "c710945c",
   "metadata": {},
   "outputs": [],
   "source": [
    "tokenized_len = train.tokenized.apply(lambda x: len(x))\n",
    "tokenized_wout_stopwords_len = train.tokenized_wout_stopwords.apply(lambda x: len(x))"
   ]
  },
  {
   "cell_type": "code",
   "execution_count": 10,
   "id": "0e74652c",
   "metadata": {},
   "outputs": [
    {
     "data": {
      "image/png": "[encoded data removed]",
      "text/plain": [
       "<Figure size 1152x432 with 2 Axes>"
      ]
     },
     "metadata": {
      "needs_background": "light"
     },
     "output_type": "display_data"
    }
   ],
   "source": [
    "height = 270 \n",
    "\n",
    "x_with = [tokenized_len.mean() for _ in range(height)]\n",
    "x_without = [tokenized_wout_stopwords_len.mean() for _ in range(height)]\n",
    "\n",
    "y = [i for i in range(height)]\n",
    "\n",
    "fig, ax = plt.subplots(1, 2, figsize=(16,6))\n",
    "\n",
    "ax[0].set_title('Length of text with stopwords')\n",
    "ax[0].plot(x_with, y, ':', color='orange')\n",
    "sns.histplot(data=tokenized_len, ax=ax[0])\n",
    "\n",
    "ax[1].set_title('Length of text without stopwords')\n",
    "ax[1].plot(x_without, y, ':', color='orange')\n",
    "sns.histplot(data=tokenized_wout_stopwords_len, ax=ax[1])\n",
    "plt.show()"
   ]
  },
  {
   "cell_type": "code",
   "execution_count": 11,
   "id": "6e090727",
   "metadata": {},
   "outputs": [
    {
     "data": {
      "image/png": "[encoded data removed]",
      "text/plain": [
       "<Figure size 1224x288 with 2 Axes>"
      ]
     },
     "metadata": {
      "needs_background": "light"
     },
     "output_type": "display_data"
    }
   ],
   "source": [
    "fig, ax = plt.subplots(1, 2, figsize=(17,4))\n",
    "ax[0].set_title('Length of text with stopwords')\n",
    "sns.boxplot(x=tokenized_len, ax=ax[0])\n",
    "\n",
    "ax[1].set_title('Length of text without stopwords')\n",
    "sns.boxplot(x=tokenized_wout_stopwords_len, ax=ax[1])\n",
    "plt.show()"
   ]
  },
  {
   "cell_type": "code",
   "execution_count": 12,
   "id": "a8221ae4",
   "metadata": {},
   "outputs": [
    {
     "name": "stdout",
     "output_type": "stream",
     "text": [
      "Mean number of stopwords per text: 85.37473535638675\n"
     ]
    }
   ],
   "source": [
    "print(f'Mean number of stopwords per text: {tokenized_len.mean() - tokenized_wout_stopwords_len.mean()}')"
   ]
  },
  {
   "cell_type": "markdown",
   "id": "4dd86b98",
   "metadata": {},
   "source": [
    "#### Target column"
   ]
  },
  {
   "cell_type": "code",
   "execution_count": 13,
   "id": "dcace3f4",
   "metadata": {},
   "outputs": [
    {
     "data": {
      "image/png": "[encoded data removed]",
      "text/plain": [
       "<Figure size 1152x432 with 2 Axes>"
      ]
     },
     "metadata": {
      "needs_background": "light"
     },
     "output_type": "display_data"
    }
   ],
   "source": [
    "fig, ax = plt.subplots(1, 2, figsize=(16,6))\n",
    "\n",
    "ax[0].set_title('Target hist')\n",
    "sns.histplot(data=train, x='target', ax=ax[0])\n",
    "\n",
    "stats.probplot(train.target, dist=\"norm\", plot=ax[1])\n",
    "ax[1].set_title('QQ probability plot for target')\n",
    "plt.show()"
   ]
  },
  {
   "cell_type": "code",
   "execution_count": null,
   "id": "064aa864",
   "metadata": {},
   "outputs": [],
   "source": []
  }
 ],
 "metadata": {
  "kernelspec": {
   "display_name": "Python 3",
   "language": "python",
   "name": "python3"
  },
  "language_info": {
   "codemirror_mode": {
    "name": "ipython",
    "version": 3
   },
   "file_extension": ".py",
   "mimetype": "text/x-python",
   "name": "python",
   "nbconvert_exporter": "python",
   "pygments_lexer": "ipython3",
   "version": "3.8.0"
  }
 },
 "nbformat": 4,
 "nbformat_minor": 5
}
