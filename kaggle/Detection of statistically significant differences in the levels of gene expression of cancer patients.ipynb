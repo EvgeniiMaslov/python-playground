{
 "cells": [
  {
   "cell_type": "code",
   "execution_count": 9,
   "metadata": {},
   "outputs": [],
   "source": [
    "import pandas as pd\n",
    "import numpy as np\n",
    "from scipy.stats import ttest_ind\n",
    "import statsmodels.stats.multitest as smm"
   ]
  },
  {
   "cell_type": "markdown",
   "metadata": {},
   "source": [
    "#### Описание используемых данных\n",
    "Данные для этой задачи взяты из исследования, проведенного в Stanford School of Medicine. В исследовании была предпринята попытка выявить набор генов, которые позволили бы более точно диагностировать возникновение рака груди на самых ранних стадиях.\n",
    "\n",
    "В эксперименте принимали участие 24 человек, у которых не было рака груди (normal), 25 человек, у которых это заболевание было диагностировано на ранней стадии (early neoplasia), и 23 человека с сильно выраженными симптомами (cancer).\n",
    "\n",
    "Ученые провели секвенирование биологического материала испытуемых, чтобы понять, какие из этих генов наиболее активны в клетках больных людей.\n",
    "\n",
    "Секвенирование — это определение степени активности генов в анализируемом образце с помощью подсчёта количества соответствующей каждому гену РНК.\n",
    "\n",
    "В данных для этого задания вы найдете именно эту количественную меру активности каждого из 15748 генов у каждого из 72 человек, принимавших участие в эксперименте.\n",
    "\n",
    "Вам нужно будет определить те гены, активность которых у людей в разных стадиях заболевания отличается статистически значимо.\n",
    "\n",
    "Кроме того, вам нужно будет оценить не только статистическую, но и практическую значимость этих результатов, которая часто используется в подобных исследованиях.\n",
    "\n",
    "Диагноз человека содержится в столбце под названием \"Diagnosis\".\n",
    "\n",
    "#### Практическая значимость изменения\n",
    "\n",
    "Цель исследований — найти гены, средняя экспрессия которых отличается не только статистически значимо, но и достаточно сильно. В экспрессионных исследованиях для этого часто используется метрика, которая называется fold change (кратность изменения). "
   ]
  },
  {
   "cell_type": "code",
   "execution_count": 5,
   "metadata": {},
   "outputs": [],
   "source": [
    "df = pd.read_csv('gene_high_throughput_sequencing.csv')\n",
    "normal = df[df['Diagnosis'] == 'normal']\n",
    "early_neoplasia = df[df['Diagnosis'] == 'early neoplasia']\n",
    "cancer = df[df['Diagnosis'] == 'cancer']"
   ]
  },
  {
   "cell_type": "markdown",
   "metadata": {},
   "source": [
    "Применим t-тест для проверки гипотезы о равенстве средних в двух независимых выборках (Применим критерий для каждого гена в выборке дважды - для здоровых людей & людей на ранней стадии рака, для людей на ранней стадии рака & людей с сильно выраженными симптомами). Посчитаем количество статистически значимых отличий в генах (признаках) между выборками."
   ]
  },
  {
   "cell_type": "code",
   "execution_count": 78,
   "metadata": {},
   "outputs": [
    {
     "name": "stdout",
     "output_type": "stream",
     "text": [
      "Количество статистически значимых отличий между norm vs neo: 1575\n",
      "Количество статистически значимых отличий между neo vs canc: 3490\n",
      "Суммарное количество статистически значимых отличий: 5065\n"
     ]
    }
   ],
   "source": [
    "gens = normal.columns[2:]\n",
    "\n",
    "alpha = 0.05\n",
    "\n",
    "_, p_value_norm_neo = ttest_ind(normal[gens], early_neoplasia[gens], equal_var = False)\n",
    "_, p_value_neo_canc = ttest_ind(early_neoplasia[gens], cancer[gens], equal_var = False)\n",
    "\n",
    "norm_neo_cnt = sum(p_value_norm_neo < alpha)\n",
    "neo_canc_cnt = sum(p_value_neo_canc < alpha)\n",
    "total_cnt = norm_neo_cnt + neo_canc_cnt\n",
    "\n",
    "print(\"Количество статистически значимых отличий между norm vs neo: {}\".format(norm_neo_cnt))\n",
    "print(\"Количество статистически значимых отличий между neo vs canc: {}\".format(neo_canc_cnt))\n",
    "print(\"Суммарное количество статистически значимых отличий: {}\".format(total_cnt))\n",
    "\n",
    "with open(\"answer1.txt\", \"w\") as answ:\n",
    "    answ.write(str(norm_neo_cnt))\n",
    "    \n",
    "with open(\"answer2.txt\", \"w\") as answ:\n",
    "    answ.write(str(neo_canc_cnt))"
   ]
  },
  {
   "cell_type": "markdown",
   "metadata": {},
   "source": [
    "Посчитаем поправку Холма для получившихся двух наборов достигаемых уровней значимости из предыдущей части. Обратите внимание, что поскольку мы делаем поправку для каждого из двух наборов p-value отдельно, то проблема, связанная с множественной проверкой останется.\n",
    "\n",
    "Для того, чтобы ее устранить, достаточно воспользоваться поправкой Бонферрони, то есть использовать уровень значимости 0.05 / 2 вместо 0.05 для дальнейшего уточнения значений p-value c помощью метода Холма."
   ]
  },
  {
   "cell_type": "code",
   "execution_count": 82,
   "metadata": {},
   "outputs": [
    {
     "name": "stdout",
     "output_type": "stream",
     "text": [
      "Количество статистически значимых отличий: 81\n"
     ]
    }
   ],
   "source": [
    "rej_norm_neo, pval_corr_norm_neo, _, _ = smm.multipletests(p_value_norm_neo, alpha=alpha/2, method='holm')\n",
    "rej_neo_canc, pval_corr_neo_canc, _, _ = smm.multipletests(p_value_neo_canc, alpha=alpha/2, method='holm')\n",
    "\n",
    "total_cnt = sum(rej_norm_neo) + sum(rej_neo_canc)\n",
    "print(\"Количество статистически значимых отличий: {}\".format(total_cnt)) "
   ]
  },
  {
   "cell_type": "markdown",
   "metadata": {},
   "source": [
    "Выведем количество значимых отличий в каждой группе после того, как произведена коррекция Холма-Бонферрони. Причем сделаем это с учетом практической значимости: посчитаем для каждого значимого изменения fold change и выпишем в ответ число таких значимых изменений, абсолютное значение fold change которых больше, чем 1.5.\n",
    "\n",
    "**Обратите внимание, что**\n",
    "\n",
    "* применять поправку на множественную проверку нужно ко всем значениям достигаемых уровней значимости, а не только для тех, которые меньше значения уровня доверия.\n",
    "* при использовании поправки на уровне значимости 0.025 меняются значения достигаемого уровня значимости, но не меняется значение уровня доверия (то есть для отбора значимых изменений скорректированные значения уровня значимости нужно сравнивать с порогом 0.025, а не 0.05)!"
   ]
  },
  {
   "cell_type": "code",
   "execution_count": 83,
   "metadata": {},
   "outputs": [],
   "source": [
    "def fold_change(C, T, limit=1.5):\n",
    "    '''\n",
    "    C - control sample\n",
    "    T - treatment sample\n",
    "    '''\n",
    "    if T >= C:\n",
    "        fc_stat = T / C\n",
    "    else:\n",
    "        fc_stat = -C / T\n",
    "    \n",
    "    return (np.abs(fc_stat) > limit), fc_stat"
   ]
  },
  {
   "cell_type": "code",
   "execution_count": 84,
   "metadata": {},
   "outputs": [
    {
     "name": "stdout",
     "output_type": "stream",
     "text": [
      "Normal vs neoplasia samples fold change above 1.5: 2\n",
      "Neoplasia vs cancer samples fold change above 1.5: 77\n"
     ]
    }
   ],
   "source": [
    "# Normal vs neoplasia\n",
    "gen_normal = normal[gens].iloc[:, rej_norm_neo]\n",
    "gen_neoplasia = early_neoplasia[gens].iloc[:, rej_norm_neo]\n",
    "\n",
    "normal_neoplasia = [fold_change(norm, neopl)[0]\n",
    "                    for norm, neopl in zip(gen_normal.mean(), gen_neoplasia.mean())]\n",
    "\n",
    "norm_neo_cnt = sum(normal_neoplasia)\n",
    "      \n",
    "        \n",
    "#Neoplasia vs cancer samples\n",
    "gen_neoplasia1 = early_neoplasia[gens].iloc[:, rej_neo_canc]\n",
    "gen_cancer = cancer[gens].iloc[:, rej_neo_canc]\n",
    "\n",
    "neoplasia_cancer = [fold_change(neopl, canc)[0]\n",
    "                    for neopl, canc in zip(gen_neoplasia1.mean(), gen_cancer.mean())]\n",
    "\n",
    "neo_canc_cnt = sum(neoplasia_cancer)\n",
    "\n",
    "\n",
    "print('Normal vs neoplasia samples fold change above 1.5: %d' % norm_neo_cnt)\n",
    "print('Neoplasia vs cancer samples fold change above 1.5: %d' % neo_canc_cnt)\n",
    "\n",
    "with open(\"answer3.txt\", \"w\") as answ:\n",
    "    answ.write(str(norm_neo_cnt))\n",
    "    \n",
    "with open(\"answer4.txt\", \"w\") as answ:\n",
    "    answ.write(str(neo_canc_cnt))"
   ]
  },
  {
   "cell_type": "markdown",
   "metadata": {},
   "source": [
    "Проделаем то же самое с использованием поправки Бенджамини-Хохберга"
   ]
  },
  {
   "cell_type": "code",
   "execution_count": 80,
   "metadata": {},
   "outputs": [
    {
     "name": "stdout",
     "output_type": "stream",
     "text": [
      "Количество статистически значимых отличий: 836\n",
      "Normal vs neoplasia samples fold change above 1.5: 4\n",
      "Neoplasia vs cancer samples fold change above 1.5: 524\n"
     ]
    }
   ],
   "source": [
    "rej_norm_neo, pval_corr_norm_neo, _, _ = smm.multipletests(p_value_norm_neo, alpha=alpha/2, method='fdr_bh')\n",
    "rej_neo_canc, pval_corr_neo_canc, _, _ = smm.multipletests(p_value_neo_canc, alpha=alpha/2, method='fdr_bh')\n",
    "\n",
    "total_cnt = sum(rej_norm_neo) + sum(rej_neo_canc)\n",
    "print(\"Количество статистически значимых отличий: {}\".format(total_cnt)) \n",
    "\n",
    "# Normal vs neoplasia\n",
    "gen_normal = normal[gens].iloc[:, rej_norm_neo]\n",
    "gen_neoplasia = early_neoplasia[gens].iloc[:, rej_norm_neo]\n",
    "\n",
    "normal_neoplasia = [fold_change(norm, neopl)[0]\n",
    "                    for norm, neopl in zip(gen_normal.mean(), gen_neoplasia.mean())]\n",
    "\n",
    "norm_neo_cnt = sum(normal_neoplasia)\n",
    "      \n",
    "        \n",
    "#Neoplasia vs cancer samples\n",
    "gen_neoplasia1 = early_neoplasia[gens].iloc[:, rej_neo_canc]\n",
    "gen_cancer = cancer[gens].iloc[:, rej_neo_canc]\n",
    "\n",
    "neoplasia_cancer = [fold_change(neopl, canc)[0]\n",
    "                    for neopl, canc in zip(gen_neoplasia1.mean(), gen_cancer.mean())]\n",
    "\n",
    "neo_gen_cnt = sum(neoplasia_cancer)\n",
    "\n",
    "\n",
    "print('Normal vs neoplasia samples fold change above 1.5: %d' % norm_neo_cnt)\n",
    "print('Neoplasia vs cancer samples fold change above 1.5: %d' % neo_canc_cnt)\n",
    "\n",
    "with open(\"answer5.txt\", \"w\") as answ:\n",
    "    answ.write(str(norm_neo_cnt))\n",
    "    \n",
    "with open(\"answer6.txt\", \"w\") as answ:\n",
    "    answ.write(str(neo_canc_cnt))"
   ]
  },
  {
   "cell_type": "code",
   "execution_count": null,
   "metadata": {},
   "outputs": [],
   "source": []
  }
 ],
 "metadata": {
  "kernelspec": {
   "display_name": "Python 3",
   "language": "python",
   "name": "python3"
  },
  "language_info": {
   "codemirror_mode": {
    "name": "ipython",
    "version": 3
   },
   "file_extension": ".py",
   "mimetype": "text/x-python",
   "name": "python",
   "nbconvert_exporter": "python",
   "pygments_lexer": "ipython3",
   "version": "3.8.3"
  }
 },
 "nbformat": 4,
 "nbformat_minor": 4
}
