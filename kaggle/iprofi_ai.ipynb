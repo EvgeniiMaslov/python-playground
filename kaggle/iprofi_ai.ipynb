{
  "nbformat": 4,
  "nbformat_minor": 0,
  "metadata": {
    "colab": {
      "name": "iprofi ai.ipynb",
      "provenance": [],
      "collapsed_sections": [
        "1uZkBeKD_llF",
        "5Ba86uJj_t6A",
        "66ADFIvD_4wQ",
        "JgxbubpwFlOC",
        "3JvEBXS2q6yN",
        "J6pwhVssONle",
        "kCfmc6QbX8du",
        "-kvbXQ8zv94P",
        "qZWJ-vXr3TBj",
        "kCCnxfDv3mml",
        "jOAzJiSn65Sr",
        "W6XX6Ngq4-Bt"
      ]
    },
    "kernelspec": {
      "name": "python3",
      "display_name": "Python 3"
    },
    "accelerator": "GPU"
  },
  "cells": [
    {
      "cell_type": "markdown",
      "metadata": {
        "id": "1uZkBeKD_llF"
      },
      "source": [
        "## 1 \n",
        "Олимпиаду написало 100 человек. Все набрали разное количество баллов.\n",
        "\n",
        "В регламенте олимпиады есть такие условия:\n",
        "\n",
        "Любой победитель олимпиады должен набрать баллов больше, чем любой призер олимпиады.\n",
        "Любой призер олимпиады должен набрать баллов больше, чем любой участник, не являющийся ни призером, ни победителем.\n",
        "В олимпиаде должен быть хотя бы один призер и хотя бы один победитель.\n",
        "Сколько существует способов назначить победителей и призеров олимпиады, не нарушая эти условия?"
      ]
    },
    {
      "cell_type": "code",
      "metadata": {
        "id": "pQTuZhnN_fqF"
      },
      "source": [
        ""
      ],
      "execution_count": null,
      "outputs": []
    },
    {
      "cell_type": "markdown",
      "metadata": {
        "id": "5Ba86uJj_t6A"
      },
      "source": [
        "## 2\n",
        "\n",
        "Вася написал случайную последовательность из 0 и 1 длины 9. Найдите вероятность, что у него получился палиндром.\n",
        "Формат ответа - несократимая дробь \n",
        "p\n",
        "∕\n",
        "q\n",
        ".\n",
        "\n",
        "**Answer:** 1/16\n"
      ]
    },
    {
      "cell_type": "code",
      "metadata": {
        "id": "pEfD1ZfLBXTr"
      },
      "source": [
        "def its_palindrom(row):\n",
        "  return row == row[::-1]\n",
        "\n",
        "assert its_palindrom(\"010\") == True\n",
        "assert its_palindrom(\"0110\") == True\n",
        "assert its_palindrom(\"1010\") == False\n",
        "assert its_palindrom(\"0111101\") == False\n",
        "assert its_palindrom(\"malayalam\") == True\n",
        "assert its_palindrom(\"geeks\") == False\n",
        "\n",
        "\n",
        "def generate_sequence():\n",
        "  lst = []\n",
        "  need_len = 9\n",
        "  for i in range(512):\n",
        "    binary = bin(i)[2:]\n",
        "    n = len(binary)\n",
        "    number = \"0\"*(need_len - n) + binary\n",
        "    lst.append(number)\n",
        "  return lst\n",
        "\n",
        "lst = generate_sequence()\n",
        "assert len(lst) == 2**9"
      ],
      "execution_count": null,
      "outputs": []
    },
    {
      "cell_type": "code",
      "metadata": {
        "colab": {
          "base_uri": "https://localhost:8080/"
        },
        "id": "V73qlMGICzQ8",
        "outputId": "dd515d84-ba8b-4a32-a5ad-1af21f501e88"
      },
      "source": [
        "count = 0\n",
        "\n",
        "for number in lst:\n",
        "  if its_palindrom(number):\n",
        "    count += 1\n",
        "\n",
        "print(count)\n",
        "print(\"Probability: 1/16\")"
      ],
      "execution_count": null,
      "outputs": [
        {
          "output_type": "stream",
          "text": [
            "32\n",
            "Probability: 1/16\n"
          ],
          "name": "stdout"
        }
      ]
    },
    {
      "cell_type": "markdown",
      "metadata": {
        "id": "66ADFIvD_4wQ"
      },
      "source": [
        "## 3\n",
        "\n",
        "Некоторая международная олимпиада проводится в два тура.\n",
        "\n",
        "Среди участников треть русских студентов, треть американских студентов, треть китайских студентов.\n",
        "\n",
        "В каждом туре студенты из Америки получают целочисленный результат от 51 до 80 баллов равновероятно, из Китая от 71 до 80 равновероятно, из России от 1 до 100 равновероятно.\n",
        "\n",
        "Результаты в разных турах независимы друг от друга.\n",
        "\n",
        "Участник X набрал на первом контесте 78 баллов, найдите ожидаемое количество баллов у него во втором туре.\n",
        "\n",
        "Формат ответа - несократимая дробь p/q."
      ]
    },
    {
      "cell_type": "code",
      "metadata": {
        "id": "sAbXeysXAI2w"
      },
      "source": [
        ""
      ],
      "execution_count": null,
      "outputs": []
    },
    {
      "cell_type": "markdown",
      "metadata": {
        "id": "JgxbubpwFlOC"
      },
      "source": [
        "## 4\n",
        "\n",
        "Решите систему уравнений\n"
      ]
    },
    {
      "cell_type": "code",
      "metadata": {
        "colab": {
          "base_uri": "https://localhost:8080/"
        },
        "id": "3S117C_iFm2I",
        "outputId": "69747960-f8fc-4218-82a3-41b157efd511"
      },
      "source": [
        "import numpy as np\n",
        "\n",
        "A = np.array([[-9, -1], [7,2]])\n",
        "B = np.array([[1, 2], [3, 5]])\n",
        "\n",
        "np.dot(A, B)"
      ],
      "execution_count": null,
      "outputs": [
        {
          "output_type": "execute_result",
          "data": {
            "text/plain": [
              "array([[-12, -23],\n",
              "       [ 13,  24]])"
            ]
          },
          "metadata": {
            "tags": []
          },
          "execution_count": 140
        }
      ]
    },
    {
      "cell_type": "code",
      "metadata": {
        "colab": {
          "base_uri": "https://localhost:8080/"
        },
        "id": "fhGbZbROKNOG",
        "outputId": "e621b886-9245-4fee-b9de-62609bd95034"
      },
      "source": [
        "np.dot(B, A)"
      ],
      "execution_count": null,
      "outputs": [
        {
          "output_type": "execute_result",
          "data": {
            "text/plain": [
              "array([[5, 3],\n",
              "       [8, 7]])"
            ]
          },
          "metadata": {
            "tags": []
          },
          "execution_count": 141
        }
      ]
    },
    {
      "cell_type": "code",
      "metadata": {
        "colab": {
          "base_uri": "https://localhost:8080/"
        },
        "id": "FNLOoTuAM2lm",
        "outputId": "f49cfbe5-19d3-4ca0-c73d-d0051c9072d8"
      },
      "source": [
        "B"
      ],
      "execution_count": null,
      "outputs": [
        {
          "output_type": "execute_result",
          "data": {
            "text/plain": [
              "array([[1, 2],\n",
              "       [3, 5]])"
            ]
          },
          "metadata": {
            "tags": []
          },
          "execution_count": 142
        }
      ]
    },
    {
      "cell_type": "code",
      "metadata": {
        "id": "hFg3-m1DLeHI"
      },
      "source": [
        "lst_y = []\n",
        "\n",
        "for i in range(-100, 101):\n",
        "  for j in range(-100, 101):\n",
        "    if ((-12*i - 23*j) == i) and ((13*i + 24*j) == j):\n",
        "      lst_y.append((i,j))"
      ],
      "execution_count": null,
      "outputs": []
    },
    {
      "cell_type": "code",
      "metadata": {
        "colab": {
          "base_uri": "https://localhost:8080/"
        },
        "id": "qW4RkaRmMXzf",
        "outputId": "277cee37-bc6d-485f-a541-6aad2fe0804d"
      },
      "source": [
        "lst_y"
      ],
      "execution_count": null,
      "outputs": [
        {
          "output_type": "execute_result",
          "data": {
            "text/plain": [
              "[(-92, 52),\n",
              " (-69, 39),\n",
              " (-46, 26),\n",
              " (-23, 13),\n",
              " (0, 0),\n",
              " (23, -13),\n",
              " (46, -26),\n",
              " (69, -39),\n",
              " (92, -52)]"
            ]
          },
          "metadata": {
            "tags": []
          },
          "execution_count": 27
        }
      ]
    },
    {
      "cell_type": "code",
      "metadata": {
        "id": "Yk_fuSH1MY4O"
      },
      "source": [
        "lst_x = []\n",
        "\n",
        "for i in range(1, 101):\n",
        "  for j in range(-100, 101):\n",
        "    if (-3*j/4 == i):\n",
        "      lst_x.append([i,j])"
      ],
      "execution_count": null,
      "outputs": []
    },
    {
      "cell_type": "code",
      "metadata": {
        "colab": {
          "base_uri": "https://localhost:8080/"
        },
        "id": "cEUyNMTmaBFs",
        "outputId": "647337ae-8d84-4e0f-c852-3aaed5b128b1"
      },
      "source": [
        "lst_x"
      ],
      "execution_count": null,
      "outputs": [
        {
          "output_type": "execute_result",
          "data": {
            "text/plain": [
              "[[3, -4],\n",
              " [6, -8],\n",
              " [9, -12],\n",
              " [12, -16],\n",
              " [15, -20],\n",
              " [18, -24],\n",
              " [21, -28],\n",
              " [24, -32],\n",
              " [27, -36],\n",
              " [30, -40],\n",
              " [33, -44],\n",
              " [36, -48],\n",
              " [39, -52],\n",
              " [42, -56],\n",
              " [45, -60],\n",
              " [48, -64],\n",
              " [51, -68],\n",
              " [54, -72],\n",
              " [57, -76],\n",
              " [60, -80],\n",
              " [63, -84],\n",
              " [66, -88],\n",
              " [69, -92],\n",
              " [72, -96],\n",
              " [75, -100]]"
            ]
          },
          "metadata": {
            "tags": []
          },
          "execution_count": 170
        }
      ]
    },
    {
      "cell_type": "code",
      "metadata": {
        "id": "CxEAMsaiVF65"
      },
      "source": [
        "def modul(lst):\n",
        "  return sqrt(lst[0]**2 + lst[1] ** 2)"
      ],
      "execution_count": null,
      "outputs": []
    },
    {
      "cell_type": "code",
      "metadata": {
        "id": "NfWKcPIIMr5Z"
      },
      "source": [
        "for i in lst_x:\n",
        "  if modul(i) == 1:\n",
        "    print(i)"
      ],
      "execution_count": null,
      "outputs": []
    },
    {
      "cell_type": "code",
      "metadata": {
        "colab": {
          "base_uri": "https://localhost:8080/"
        },
        "id": "zcWGPOTHMszX",
        "outputId": "a1121ffb-35f7-433f-a5c5-128fd99b4817"
      },
      "source": [
        "3**2 + (-4)**2"
      ],
      "execution_count": null,
      "outputs": [
        {
          "output_type": "execute_result",
          "data": {
            "text/plain": [
              "25"
            ]
          },
          "metadata": {
            "tags": []
          },
          "execution_count": 168
        }
      ]
    },
    {
      "cell_type": "markdown",
      "metadata": {
        "id": "3JvEBXS2q6yN"
      },
      "source": [
        "## 5\n"
      ]
    },
    {
      "cell_type": "code",
      "metadata": {
        "colab": {
          "base_uri": "https://localhost:8080/"
        },
        "id": "G_kLp1gZq-UO",
        "outputId": "9653c1e5-9577-4ec8-b580-62210960ce36"
      },
      "source": [
        "\"aaabababb\" < \"aabaaabbb\""
      ],
      "execution_count": null,
      "outputs": [
        {
          "output_type": "execute_result",
          "data": {
            "text/plain": [
              "True"
            ]
          },
          "metadata": {
            "tags": []
          },
          "execution_count": 79
        }
      ]
    },
    {
      "cell_type": "markdown",
      "metadata": {
        "id": "J6pwhVssONle"
      },
      "source": [
        "## 6\n",
        "\n",
        "В инопланетном алфавите всего три буквы - \n",
        "a\n",
        ",\n",
        "b\n",
        ",\n",
        "c\n",
        ", а словом считается любая последовательность букв.\n",
        "Ученые, изучающие инопланетный язык, считают, что:\n",
        "\n",
        "* После буквы \n",
        "a\n",
        " равновероятно идет любая из трех букв. Буква \n",
        "a\n",
        " не может быть последней.\n",
        "* После буквы \n",
        "b\n",
        " в половине случаев идет буква \n",
        "c\n",
        ", а в половине случаев это последняя буква.\n",
        "* После буквы \n",
        "c\n",
        " равновероятно идет буква \n",
        "a\n",
        ", \n",
        "b\n",
        " или эта буква последняя.\n",
        "Найдите, в какой доле слов, начинающихся на  \n",
        "a\n",
        ", по мнению ученых, есть хотя бы 10 букв и 10-я буква — это \n",
        "a\n",
        ".\n",
        "Формат ответа - несократимая дробь \n",
        "p\n",
        "∕\n",
        "q\n",
        ".\n",
        "\n"
      ]
    },
    {
      "cell_type": "code",
      "metadata": {
        "id": "0qs3Q3gMOP5_"
      },
      "source": [
        "import random\n",
        "\n",
        "\n",
        "lens = []\n",
        "for j in range(1000):\n",
        "  lst = []\n",
        "  count = 0\n",
        "  for i in range(100000):\n",
        "    row = \"a\"\n",
        "    while True:\n",
        "      if row[-1] == \"a\":\n",
        "        next_letter = random.choice([\"a\", \"b\", \"c\"])\n",
        "        row = row + next_letter\n",
        "      elif row[-1] == \"b\":\n",
        "        next_letter = random.choice([\"c\", \"S\"])\n",
        "        row = row + next_letter\n",
        "      elif row[-1] == \"c\":\n",
        "        next_letter = random.choice([\"a\", \"b\", \"S\"])\n",
        "        row = row + next_letter\n",
        "      elif row[-1] == \"S\":\n",
        "        break\n",
        "    if len(row) > 10 and row[10] == \"a\":\n",
        "      lst.append(row)\n",
        "    count += 1\n",
        "  lens.append([len(lst), count])"
      ],
      "execution_count": null,
      "outputs": []
    },
    {
      "cell_type": "code",
      "metadata": {
        "colab": {
          "base_uri": "https://localhost:8080/"
        },
        "id": "RA9RSFfPQGAN",
        "outputId": "528f5bb7-cbd0-48cf-f5cd-6b1c7cfa6cc5"
      },
      "source": [
        "len(lens)"
      ],
      "execution_count": null,
      "outputs": [
        {
          "output_type": "execute_result",
          "data": {
            "text/plain": [
              "1000"
            ]
          },
          "metadata": {
            "tags": []
          },
          "execution_count": 75
        }
      ]
    },
    {
      "cell_type": "code",
      "metadata": {
        "colab": {
          "base_uri": "https://localhost:8080/"
        },
        "id": "9fnrpLWlflP0",
        "outputId": "1a8a759d-3b11-4305-c0f2-c8af0c8e9547"
      },
      "source": [
        "lens[0]"
      ],
      "execution_count": null,
      "outputs": [
        {
          "output_type": "execute_result",
          "data": {
            "text/plain": [
              "[1611, 100000]"
            ]
          },
          "metadata": {
            "tags": []
          },
          "execution_count": 76
        }
      ]
    },
    {
      "cell_type": "code",
      "metadata": {
        "colab": {
          "base_uri": "https://localhost:8080/"
        },
        "id": "gKtDbaKSQHC9",
        "outputId": "7efc4705-19a2-4f21-f587-f5679f53acf1"
      },
      "source": [
        "mean  = 0\n",
        "\n",
        "for i in range(len(lens)):\n",
        "  mean += lens[i][0]\n",
        "\n",
        "mean /= len(lens)\n",
        "mean\n",
        "\n"
      ],
      "execution_count": null,
      "outputs": [
        {
          "output_type": "execute_result",
          "data": {
            "text/plain": [
              "1637.742"
            ]
          },
          "metadata": {
            "tags": []
          },
          "execution_count": 78
        }
      ]
    },
    {
      "cell_type": "markdown",
      "metadata": {
        "id": "kCfmc6QbX8du"
      },
      "source": [
        "## 8\n",
        "Какое количество операций сложения будет произведено при исполнении следующего кода:"
      ]
    },
    {
      "cell_type": "code",
      "metadata": {
        "id": "hljJm7-XVqaM"
      },
      "source": [
        "def g(n): \n",
        "  \n",
        "  if n < 1: \n",
        "    return 1 \n",
        "  g.invocations += 1\n",
        "  return f(n-1)+f(n-1) \n",
        " \n",
        "def f(n): \n",
        "  \n",
        "  if n < 2: \n",
        "    return 1 \n",
        "  f.invocations += 1\n",
        "  return g(n-2)+g(n-2)+g(n-2) \n",
        "\n",
        "g.invocations = 0\n",
        "f.invocations = 0\n"
      ],
      "execution_count": null,
      "outputs": []
    },
    {
      "cell_type": "code",
      "metadata": {
        "colab": {
          "base_uri": "https://localhost:8080/"
        },
        "id": "2UY6VDQYXGBX",
        "outputId": "64ab9537-8dee-49d6-a88d-258d0e702605"
      },
      "source": [
        "f(30)"
      ],
      "execution_count": null,
      "outputs": [
        {
          "output_type": "execute_result",
          "data": {
            "text/plain": [
              "60466176"
            ]
          },
          "metadata": {
            "tags": []
          },
          "execution_count": 59
        }
      ]
    },
    {
      "cell_type": "code",
      "metadata": {
        "colab": {
          "base_uri": "https://localhost:8080/"
        },
        "id": "2r-LCQUcXH5L",
        "outputId": "3b3856f6-4a65-42fc-d188-3c9d8e976349"
      },
      "source": [
        "g.invocations"
      ],
      "execution_count": null,
      "outputs": [
        {
          "output_type": "execute_result",
          "data": {
            "text/plain": [
              "36279705"
            ]
          },
          "metadata": {
            "tags": []
          },
          "execution_count": 61
        }
      ]
    },
    {
      "cell_type": "code",
      "metadata": {
        "colab": {
          "base_uri": "https://localhost:8080/"
        },
        "id": "-_g4yU7yXbhf",
        "outputId": "890d5d03-126d-4a98-a7a1-0729534e2473"
      },
      "source": [
        "f.invocations"
      ],
      "execution_count": null,
      "outputs": [
        {
          "output_type": "execute_result",
          "data": {
            "text/plain": [
              "12093235"
            ]
          },
          "metadata": {
            "tags": []
          },
          "execution_count": 62
        }
      ]
    },
    {
      "cell_type": "code",
      "metadata": {
        "colab": {
          "base_uri": "https://localhost:8080/"
        },
        "id": "0klTElnWXcq9",
        "outputId": "6115c77b-74ef-4e1f-ddc2-808e24257f73"
      },
      "source": [
        "36279705+12093235*2"
      ],
      "execution_count": null,
      "outputs": [
        {
          "output_type": "execute_result",
          "data": {
            "text/plain": [
              "60466175"
            ]
          },
          "metadata": {
            "tags": []
          },
          "execution_count": 60
        }
      ]
    },
    {
      "cell_type": "code",
      "metadata": {
        "id": "CAnDJSN9Xi13"
      },
      "source": [
        ""
      ],
      "execution_count": null,
      "outputs": []
    },
    {
      "cell_type": "markdown",
      "metadata": {
        "id": "mJBACsQXu_AL"
      },
      "source": [
        "## 15"
      ]
    },
    {
      "cell_type": "code",
      "metadata": {
        "id": "StvTY4QOvAV-"
      },
      "source": [
        "from math import log\n",
        "def f(x, y):\n",
        "  return log(x) + log(y) + log(y - 3*x + 0.0001) + log(8*x - y + 0.0001)\n"
      ],
      "execution_count": null,
      "outputs": []
    },
    {
      "cell_type": "code",
      "metadata": {
        "id": "5evLYhsDvb1R"
      },
      "source": [
        "max_d = {\"max\": [(0, 0), 0]}\n",
        "\n",
        "for i in range(1, 1000):\n",
        "  for j in range(3*i, 8*i+1):\n",
        "    value = f(i, j)\n",
        "\n",
        "    if value > max_d[\"max\"][1]:\n",
        "      max_d[\"max\"] = [(i, j), 0]\n",
        "    elif value == max_d[\"max\"][1]:\n",
        "      max_d[\"max\"][1] += 1\n"
      ],
      "execution_count": null,
      "outputs": []
    },
    {
      "cell_type": "code",
      "metadata": {
        "colab": {
          "base_uri": "https://localhost:8080/"
        },
        "id": "uEJD1zgMwrsL",
        "outputId": "6f1f2c92-0a76-4749-a6c0-f47c99e2af5c"
      },
      "source": [
        "max_d"
      ],
      "execution_count": null,
      "outputs": [
        {
          "output_type": "execute_result",
          "data": {
            "text/plain": [
              "{'max': [(999, 7992), 0]}"
            ]
          },
          "metadata": {
            "tags": []
          },
          "execution_count": 182
        }
      ]
    },
    {
      "cell_type": "markdown",
      "metadata": {
        "id": "-kvbXQ8zv94P"
      },
      "source": [
        "## 16"
      ]
    },
    {
      "cell_type": "code",
      "metadata": {
        "colab": {
          "base_uri": "https://localhost:8080/"
        },
        "id": "IqgQUpfvv-zk",
        "outputId": "bb7624de-4379-43b0-9551-810514c06c5f"
      },
      "source": [
        "import numpy as np\n",
        "from sklearn.linear_model import LinearRegression\n",
        "\n",
        "x = np.arange(0, 10**3).reshape(-1, 1)\n",
        "y = x / 2\n",
        "\n",
        "model = LinearRegression()\n",
        "model.fit(x, y)\n",
        "\n",
        "model.coef_"
      ],
      "execution_count": null,
      "outputs": [
        {
          "output_type": "execute_result",
          "data": {
            "text/plain": [
              "array([[0.5]])"
            ]
          },
          "metadata": {
            "tags": []
          },
          "execution_count": 2
        }
      ]
    },
    {
      "cell_type": "code",
      "metadata": {
        "id": "4xm59Buy0qnP"
      },
      "source": [
        ""
      ],
      "execution_count": null,
      "outputs": []
    },
    {
      "cell_type": "markdown",
      "metadata": {
        "id": "qZWJ-vXr3TBj"
      },
      "source": [
        "## 17\n"
      ]
    },
    {
      "cell_type": "markdown",
      "metadata": {
        "id": "oSJmpM3-M-JX"
      },
      "source": [
        ""
      ]
    },
    {
      "cell_type": "code",
      "metadata": {
        "colab": {
          "base_uri": "https://localhost:8080/"
        },
        "id": "osWvUGz83Uu6",
        "outputId": "c937630a-bb0a-41a2-da33-28ed565b9500"
      },
      "source": [
        "import numpy as np\n",
        "from sklearn.neighbors import KNeighborsClassifier\n",
        "\n",
        "x = np.array([[0,0],\n",
        "              [0, 0.5],\n",
        "              [0.5, 0],\n",
        "              [1, 0],\n",
        "              [0.5, 0.5],\n",
        "              [0.5, 1],\n",
        "              [0, 1],\n",
        "              [0.5, 1],\n",
        "              [1, 1]])\n",
        "y = np.array([0, 0, 0, 0, 1, 1, 1, 1, 1])\n",
        "\n",
        "model = KNeighborsClassifier(3)\n",
        "\n",
        "model.fit(x, y)"
      ],
      "execution_count": null,
      "outputs": [
        {
          "output_type": "execute_result",
          "data": {
            "text/plain": [
              "KNeighborsClassifier(algorithm='auto', leaf_size=30, metric='minkowski',\n",
              "                     metric_params=None, n_jobs=None, n_neighbors=3, p=2,\n",
              "                     weights='uniform')"
            ]
          },
          "metadata": {
            "tags": []
          },
          "execution_count": 3
        }
      ]
    },
    {
      "cell_type": "code",
      "metadata": {
        "colab": {
          "base_uri": "https://localhost:8080/",
          "height": 281
        },
        "id": "XBEwVMBM4VsZ",
        "outputId": "b281b789-63d4-4a71-c425-54b1fa00d06e"
      },
      "source": [
        "import numpy as np\n",
        "import matplotlib.pyplot as plt\n",
        "from matplotlib.colors import ListedColormap\n",
        "from sklearn import neighbors, datasets\n",
        "\n",
        "n_neighbors = 3\n",
        "\n",
        "# import some data to play with\n",
        "X = x\n",
        "\n",
        "h = .01  # step size in the mesh\n",
        "\n",
        "# Create color maps\n",
        "cmap_light = ListedColormap(['orange', 'cyan', 'cornflowerblue'])\n",
        "cmap_bold = ListedColormap(['darkorange', 'c', 'darkblue'])\n",
        "\n",
        "\n",
        "# we create an instance of Neighbours Classifier and fit the data.\n",
        "clf = neighbors.KNeighborsClassifier(n_neighbors, weights='uniform')\n",
        "clf.fit(X, y)\n",
        "\n",
        "# Plot the decision boundary. For that, we will assign a color to each\n",
        "# point in the mesh [x_min, x_max]x[y_min, y_max].\n",
        "x_min, x_max = X[:, 0].min(), X[:, 0].max() + 0.0000001\n",
        "y_min, y_max = X[:, 1].min(), X[:, 1].max() + 0.0000001\n",
        "xx, yy = np.meshgrid(np.arange(x_min, x_max, h),\n",
        "                         np.arange(y_min, y_max, h))\n",
        "Z = clf.predict(np.c_[xx.ravel(), yy.ravel()])\n",
        "\n",
        "# Put the result into a color plot\n",
        "Z = Z.reshape(xx.shape)\n",
        "plt.figure()\n",
        "plt.pcolormesh(xx, yy, Z, cmap=cmap_light)\n",
        "\n",
        "# Plot also the training points\n",
        "plt.scatter(X[:, 0], X[:, 1], c=y, cmap=cmap_bold,\n",
        "                edgecolor='k', s=20)\n",
        "plt.xlim(xx.min(), xx.max())\n",
        "plt.ylim(yy.min(), yy.max())\n",
        "plt.title(\"2-Class classification (k = %i, weights = '%s')\"\n",
        "              % (n_neighbors, weights))\n",
        "\n",
        "plt.show()"
      ],
      "execution_count": null,
      "outputs": [
        {
          "output_type": "display_data",
          "data": {
            "image/png": "[encoded data removed]",
            "text/plain": [
              "<Figure size 432x288 with 1 Axes>"
            ]
          },
          "metadata": {
            "tags": [],
            "needs_background": "light"
          }
        }
      ]
    },
    {
      "cell_type": "code",
      "metadata": {
        "colab": {
          "base_uri": "https://localhost:8080/"
        },
        "id": "f1HzMX-B61R3",
        "outputId": "6dcef751-1224-4595-a1f6-799577215ed4"
      },
      "source": [
        "xx"
      ],
      "execution_count": null,
      "outputs": [
        {
          "output_type": "execute_result",
          "data": {
            "text/plain": [
              "array([[0.   , 0.001, 0.002, ..., 0.998, 0.999, 1.   ],\n",
              "       [0.   , 0.001, 0.002, ..., 0.998, 0.999, 1.   ],\n",
              "       [0.   , 0.001, 0.002, ..., 0.998, 0.999, 1.   ],\n",
              "       ...,\n",
              "       [0.   , 0.001, 0.002, ..., 0.998, 0.999, 1.   ],\n",
              "       [0.   , 0.001, 0.002, ..., 0.998, 0.999, 1.   ],\n",
              "       [0.   , 0.001, 0.002, ..., 0.998, 0.999, 1.   ]])"
            ]
          },
          "metadata": {
            "tags": []
          },
          "execution_count": 84
        }
      ]
    },
    {
      "cell_type": "code",
      "metadata": {
        "colab": {
          "base_uri": "https://localhost:8080/"
        },
        "id": "0HDkX4ym-hps",
        "outputId": "a624f1e0-9ed8-40c4-f8d0-bc49da97e2e5"
      },
      "source": [
        "yy"
      ],
      "execution_count": null,
      "outputs": [
        {
          "output_type": "execute_result",
          "data": {
            "text/plain": [
              "array([[0.   , 0.   , 0.   , ..., 0.   , 0.   , 0.   ],\n",
              "       [0.001, 0.001, 0.001, ..., 0.001, 0.001, 0.001],\n",
              "       [0.002, 0.002, 0.002, ..., 0.002, 0.002, 0.002],\n",
              "       ...,\n",
              "       [0.998, 0.998, 0.998, ..., 0.998, 0.998, 0.998],\n",
              "       [0.999, 0.999, 0.999, ..., 0.999, 0.999, 0.999],\n",
              "       [1.   , 1.   , 1.   , ..., 1.   , 1.   , 1.   ]])"
            ]
          },
          "metadata": {
            "tags": []
          },
          "execution_count": 85
        }
      ]
    },
    {
      "cell_type": "code",
      "metadata": {
        "colab": {
          "base_uri": "https://localhost:8080/"
        },
        "id": "18n7GypV5r9P",
        "outputId": "c86ba6f4-50a9-479d-d0ef-0b59cf45c7ec"
      },
      "source": [
        "Z.sum()"
      ],
      "execution_count": null,
      "outputs": [
        {
          "output_type": "execute_result",
          "data": {
            "text/plain": [
              "5331"
            ]
          },
          "metadata": {
            "tags": []
          },
          "execution_count": 107
        }
      ]
    },
    {
      "cell_type": "code",
      "metadata": {
        "colab": {
          "base_uri": "https://localhost:8080/"
        },
        "id": "ZY4goavt7PCW",
        "outputId": "71630ab2-a8fc-400c-93c1-acc434f1c26c"
      },
      "source": [
        "Z.shape"
      ],
      "execution_count": null,
      "outputs": [
        {
          "output_type": "execute_result",
          "data": {
            "text/plain": [
              "(101, 101)"
            ]
          },
          "metadata": {
            "tags": []
          },
          "execution_count": 108
        }
      ]
    },
    {
      "cell_type": "code",
      "metadata": {
        "colab": {
          "base_uri": "https://localhost:8080/"
        },
        "id": "eKxtOo4o7qit",
        "outputId": "a3a613d6-f5c0-4525-d182-dea653d728aa"
      },
      "source": [
        "r = Z.reshape(-1, 1)\n",
        "r.shape"
      ],
      "execution_count": null,
      "outputs": [
        {
          "output_type": "execute_result",
          "data": {
            "text/plain": [
              "(10201, 1)"
            ]
          },
          "metadata": {
            "tags": []
          },
          "execution_count": 109
        }
      ]
    },
    {
      "cell_type": "code",
      "metadata": {
        "colab": {
          "base_uri": "https://localhost:8080/"
        },
        "id": "YF9BHiKu75hh",
        "outputId": "7c538cb4-1339-4072-f64e-4fdfc0179fe9"
      },
      "source": [
        "5168/10000"
      ],
      "execution_count": null,
      "outputs": [
        {
          "output_type": "execute_result",
          "data": {
            "text/plain": [
              "0.5168"
            ]
          },
          "metadata": {
            "tags": []
          },
          "execution_count": 30
        }
      ]
    },
    {
      "cell_type": "code",
      "metadata": {
        "colab": {
          "base_uri": "https://localhost:8080/"
        },
        "id": "5zh9VN3E9Bft",
        "outputId": "4b4378dc-d130-4c16-8c71-edbc5b0674a6"
      },
      "source": [
        "44/ 100"
      ],
      "execution_count": null,
      "outputs": [
        {
          "output_type": "execute_result",
          "data": {
            "text/plain": [
              "0.44"
            ]
          },
          "metadata": {
            "tags": []
          },
          "execution_count": 89
        }
      ]
    },
    {
      "cell_type": "code",
      "metadata": {
        "colab": {
          "base_uri": "https://localhost:8080/"
        },
        "id": "Vy1UDF7W9DNJ",
        "outputId": "10294d3e-0a86-43cb-a6bc-51ccd0beac72"
      },
      "source": [
        "525210/1000000"
      ],
      "execution_count": null,
      "outputs": [
        {
          "output_type": "execute_result",
          "data": {
            "text/plain": [
              "0.52521"
            ]
          },
          "metadata": {
            "tags": []
          },
          "execution_count": 42
        }
      ]
    },
    {
      "cell_type": "code",
      "metadata": {
        "colab": {
          "base_uri": "https://localhost:8080/"
        },
        "id": "h4t99nOx-b7r",
        "outputId": "9f7cca74-44bb-45aa-982d-71b607d3e581"
      },
      "source": [
        "20874/40000"
      ],
      "execution_count": null,
      "outputs": [
        {
          "output_type": "execute_result",
          "data": {
            "text/plain": [
              "0.52185"
            ]
          },
          "metadata": {
            "tags": []
          },
          "execution_count": 90
        }
      ]
    },
    {
      "cell_type": "code",
      "metadata": {
        "colab": {
          "base_uri": "https://localhost:8080/"
        },
        "id": "fPHEVuKK-c95",
        "outputId": "70522215-877a-4f08-9c74-6c7609592758"
      },
      "source": [
        "61/121"
      ],
      "execution_count": null,
      "outputs": [
        {
          "output_type": "execute_result",
          "data": {
            "text/plain": [
              "0.5041322314049587"
            ]
          },
          "metadata": {
            "tags": []
          },
          "execution_count": 91
        }
      ]
    },
    {
      "cell_type": "code",
      "metadata": {
        "colab": {
          "base_uri": "https://localhost:8080/"
        },
        "id": "2-puhPSN_RXo",
        "outputId": "ca5df200-0448-4946-ebfe-452a4b5323e6"
      },
      "source": [
        "5331/10201"
      ],
      "execution_count": null,
      "outputs": [
        {
          "output_type": "execute_result",
          "data": {
            "text/plain": [
              "0.5225958239388295"
            ]
          },
          "metadata": {
            "tags": []
          },
          "execution_count": 92
        }
      ]
    },
    {
      "cell_type": "code",
      "metadata": {
        "colab": {
          "base_uri": "https://localhost:8080/"
        },
        "id": "Df8V1dw0Atdt",
        "outputId": "c24ad813-9f2e-41e2-b4ef-bacc250f2080"
      },
      "source": [
        "526835/1002001"
      ],
      "execution_count": null,
      "outputs": [
        {
          "output_type": "execute_result",
          "data": {
            "text/plain": [
              "0.5257829084002911"
            ]
          },
          "metadata": {
            "tags": []
          },
          "execution_count": 93
        }
      ]
    },
    {
      "cell_type": "code",
      "metadata": {
        "colab": {
          "base_uri": "https://localhost:8080/"
        },
        "id": "YQZQkk8QB3q3",
        "outputId": "f7236525-6fbf-4f9d-cb22-ad19090ea066"
      },
      "source": [
        "21199/40401"
      ],
      "execution_count": null,
      "outputs": [
        {
          "output_type": "execute_result",
          "data": {
            "text/plain": [
              "0.5247147347837925"
            ]
          },
          "metadata": {
            "tags": []
          },
          "execution_count": 94
        }
      ]
    },
    {
      "cell_type": "code",
      "metadata": {
        "colab": {
          "base_uri": "https://localhost:8080/"
        },
        "id": "6OVx4TYNB6Z6",
        "outputId": "d0061754-e66f-4563-c949-13fc20fdbebf"
      },
      "source": [
        "clf.predict(x)"
      ],
      "execution_count": null,
      "outputs": [
        {
          "output_type": "execute_result",
          "data": {
            "text/plain": [
              "array([0, 0, 0, 0, 0, 1, 1, 1, 1])"
            ]
          },
          "metadata": {
            "tags": []
          },
          "execution_count": 96
        }
      ]
    },
    {
      "cell_type": "code",
      "metadata": {
        "id": "c-g29KG-GM6o"
      },
      "source": [
        ""
      ],
      "execution_count": null,
      "outputs": []
    },
    {
      "cell_type": "markdown",
      "metadata": {
        "id": "kCCnxfDv3mml"
      },
      "source": [
        "## 20"
      ]
    },
    {
      "cell_type": "code",
      "metadata": {
        "id": "Hpf8FhWh3png"
      },
      "source": [
        "row = \"D\"*5+\"U\"+\"L\"+\"U\" + \"L\" + \"U\"+\"L\"+\"U\"+\"L\"*3 + \"U\"*4 + \"R\" + \"U\"*5 + \"L\" + \"U\"*4 + \"R\"*5 + \"D\"*4"
      ],
      "execution_count": null,
      "outputs": []
    },
    {
      "cell_type": "code",
      "metadata": {
        "colab": {
          "base_uri": "https://localhost:8080/"
        },
        "id": "WBOPIno24PcZ",
        "outputId": "dd8224ad-596a-48e2-b286-13c7915533c1"
      },
      "source": [
        "len(row)"
      ],
      "execution_count": null,
      "outputs": [
        {
          "output_type": "execute_result",
          "data": {
            "text/plain": [
              "39"
            ]
          },
          "metadata": {
            "tags": []
          },
          "execution_count": 186
        }
      ]
    },
    {
      "cell_type": "code",
      "metadata": {
        "colab": {
          "base_uri": "https://localhost:8080/",
          "height": 35
        },
        "id": "nVDJ5WAm4SjB",
        "outputId": "50c63206-f687-45e8-8a76-83ce388bef76"
      },
      "source": [
        "row"
      ],
      "execution_count": null,
      "outputs": [
        {
          "output_type": "execute_result",
          "data": {
            "application/vnd.google.colaboratory.intrinsic+json": {
              "type": "string"
            },
            "text/plain": [
              "'DDDDDULULULULLLUUUURUUUUULUUUURRRRRDDDD'"
            ]
          },
          "metadata": {
            "tags": []
          },
          "execution_count": 187
        }
      ]
    },
    {
      "cell_type": "markdown",
      "metadata": {
        "id": "c5fu6SGCUCKy"
      },
      "source": [
        "## 21"
      ]
    },
    {
      "cell_type": "code",
      "metadata": {
        "colab": {
          "base_uri": "https://localhost:8080/"
        },
        "id": "CP37669QUEXG",
        "outputId": "910a1d1d-a442-4fdb-9e2b-81c21bacc824"
      },
      "source": [
        "n = int(input())\n",
        "row = list(map(int, input().split(' ')))\n",
        "\n",
        "mx = max(row)\n",
        "mn = min(row)\n",
        "for i in range(mn, mx+1):\n",
        "  count = 0\n",
        "  for j in row:\n",
        "    if i <= j:\n",
        "      count += 1\n",
        "  if i == count:\n",
        "    break\n",
        "print(i)"
      ],
      "execution_count": null,
      "outputs": [
        {
          "output_type": "stream",
          "text": [
            "2\n",
            "2 2\n",
            "2\n"
          ],
          "name": "stdout"
        }
      ]
    },
    {
      "cell_type": "markdown",
      "metadata": {
        "id": "jOAzJiSn65Sr"
      },
      "source": [
        "## 23"
      ]
    },
    {
      "cell_type": "code",
      "metadata": {
        "colab": {
          "base_uri": "https://localhost:8080/"
        },
        "id": "mFw_p9EF67L2",
        "outputId": "6cb27ca8-3aec-4ed6-edec-877c74e2b4f6"
      },
      "source": [
        "n = int(input())\n",
        "\n",
        "class1 = []\n",
        "class2 = []\n",
        "\n",
        "min_x, max_x, min_y, max_y = 100000, 0, 100000, 0\n",
        "\n",
        "for i in range(n):\n",
        "  row = list(map(int, input().split(' ')))\n",
        "  if row[2] == 1:\n",
        "    class1.append((row[0], row[1]))\n",
        "    if row[0] > max_x:\n",
        "      max_x = row[0]\n",
        "    if row[1] > max_y:\n",
        "      max_y = row[1]\n",
        "  else:\n",
        "    class2.append((row[0], row[1]))"
      ],
      "execution_count": null,
      "outputs": [
        {
          "output_type": "stream",
          "text": [
            "7\n",
            "1 1 2\n",
            "2 2 2\n",
            "3 3 2\n",
            "4 4 2\n",
            "5 5 2\n",
            "6 6 2\n",
            "1 2 1\n"
          ],
          "name": "stdout"
        }
      ]
    },
    {
      "cell_type": "code",
      "metadata": {
        "id": "LGEY9VUI7N7w",
        "colab": {
          "base_uri": "https://localhost:8080/"
        },
        "outputId": "24928b8a-3309-42dd-8d8b-ae4df05467a5"
      },
      "source": [
        "sol = []\n",
        "n = len(class2)\n",
        "for i in range(1, max_x+1):\n",
        "  for z in range(1, max_y+1):\n",
        "\n",
        "    count = 0\n",
        "    rule2 = 0\n",
        "    j = 0\n",
        "\n",
        "    while count < 5 and j < n:\n",
        "      if class2[j][0] < i and class2[j][1] < z:\n",
        "        count += 1\n",
        "      j += 1\n",
        "\n",
        "    if count == 5:\n",
        "      continue\n",
        "    \n",
        "    \n",
        "    for tp in class1:\n",
        "      if tp[0] <= i and tp[1] <= z:\n",
        "        rule2 += 1\n",
        "    sol.append([i, z, rule2])\n",
        "\n",
        "sort = sorted(sol, key=lambda x: x[2], reverse=True)\n",
        "print(sort[0][0], sort[0][1])"
      ],
      "execution_count": null,
      "outputs": [
        {
          "output_type": "stream",
          "text": [
            "1 2\n"
          ],
          "name": "stdout"
        }
      ]
    },
    {
      "cell_type": "code",
      "metadata": {
        "colab": {
          "base_uri": "https://localhost:8080/"
        },
        "id": "CvILBYc-NwXJ",
        "outputId": "21f8f0d2-91d6-4a8d-d9f9-83b9659b972c"
      },
      "source": [
        "import random\n",
        "n = int(input())\n",
        "\n",
        "min_x, max_x, min_y, max_y = 100000, 0, 100000, 0\n",
        "\n",
        "for i in range(n):\n",
        "  row = list(map(int, input().split(' ')))\n",
        "  if row[2] == 1:\n",
        "    if row[0] > max_x:\n",
        "      max_x = row[0]\n",
        "    if row[0] < min_x:\n",
        "      min_x = row[0]\n",
        "    if row[1] > max_y:\n",
        "      max_y = row[1]\n",
        "    if row[1] < min_y:\n",
        "      min_y = row[1]\n",
        "print(random.choice(range(min_x, max_x + 1, 1)), random.choice(range(min_y, max_y + 1, 1)))"
      ],
      "execution_count": null,
      "outputs": [
        {
          "output_type": "stream",
          "text": [
            "3\n",
            "1 1 2\n",
            "2 2 1\n",
            "3 3 1\n",
            "2 2\n"
          ],
          "name": "stdout"
        }
      ]
    },
    {
      "cell_type": "code",
      "metadata": {
        "colab": {
          "base_uri": "https://localhost:8080/"
        },
        "id": "Si3ol1zdYeX4",
        "outputId": "d368574d-45e4-428b-e90d-d7ee7640d2c0"
      },
      "source": [
        "min_x"
      ],
      "execution_count": null,
      "outputs": [
        {
          "output_type": "execute_result",
          "data": {
            "text/plain": [
              "100000"
            ]
          },
          "metadata": {
            "tags": []
          },
          "execution_count": 96
        }
      ]
    },
    {
      "cell_type": "code",
      "metadata": {
        "colab": {
          "base_uri": "https://localhost:8080/",
          "height": 282
        },
        "id": "71aY03pUOXN8",
        "outputId": "a4e88e85-0aaa-423c-ba4d-454a78aafbf7"
      },
      "source": [
        "print(random.choice(range(min_x, max_x, 1)), random.choice(range(min_y, max_y, 1)))"
      ],
      "execution_count": null,
      "outputs": [
        {
          "output_type": "error",
          "ename": "AttributeError",
          "evalue": "ignored",
          "traceback": [
            "\u001b[0;31m---------------------------------------------------------------------------\u001b[0m",
            "\u001b[0;31mAttributeError\u001b[0m                            Traceback (most recent call last)",
            "\u001b[0;32m<ipython-input-85-f423de222dee>\u001b[0m in \u001b[0;36m<module>\u001b[0;34m()\u001b[0m\n\u001b[0;32m----> 1\u001b[0;31m \u001b[0mprint\u001b[0m\u001b[0;34m(\u001b[0m\u001b[0mrandom\u001b[0m\u001b[0;34m.\u001b[0m\u001b[0mchoice\u001b[0m\u001b[0;34m(\u001b[0m\u001b[0mrange\u001b[0m\u001b[0;34m(\u001b[0m\u001b[0mmin_x\u001b[0m\u001b[0;34m,\u001b[0m \u001b[0mmax_x\u001b[0m\u001b[0;34m,\u001b[0m \u001b[0;36m1\u001b[0m\u001b[0;34m)\u001b[0m\u001b[0;34m)\u001b[0m\u001b[0;34m,\u001b[0m \u001b[0mrandom\u001b[0m\u001b[0;34m.\u001b[0m\u001b[0mchoice\u001b[0m\u001b[0;34m(\u001b[0m\u001b[0mrange\u001b[0m\u001b[0;34m(\u001b[0m\u001b[0mmin_y\u001b[0m\u001b[0;34m,\u001b[0m \u001b[0mmax_y\u001b[0m\u001b[0;34m,\u001b[0m \u001b[0;36m1\u001b[0m\u001b[0;34m)\u001b[0m\u001b[0;34m)\u001b[0m\u001b[0;34m)\u001b[0m\u001b[0;34m\u001b[0m\u001b[0;34m\u001b[0m\u001b[0m\n\u001b[0m",
            "\u001b[0;32m/usr/local/lib/python3.6/dist-packages/pandas/core/generic.py\u001b[0m in \u001b[0;36m__getattr__\u001b[0;34m(self, name)\u001b[0m\n\u001b[1;32m   5137\u001b[0m             \u001b[0;32mif\u001b[0m \u001b[0mself\u001b[0m\u001b[0;34m.\u001b[0m\u001b[0m_info_axis\u001b[0m\u001b[0;34m.\u001b[0m\u001b[0m_can_hold_identifiers_and_holds_name\u001b[0m\u001b[0;34m(\u001b[0m\u001b[0mname\u001b[0m\u001b[0;34m)\u001b[0m\u001b[0;34m:\u001b[0m\u001b[0;34m\u001b[0m\u001b[0;34m\u001b[0m\u001b[0m\n\u001b[1;32m   5138\u001b[0m                 \u001b[0;32mreturn\u001b[0m \u001b[0mself\u001b[0m\u001b[0;34m[\u001b[0m\u001b[0mname\u001b[0m\u001b[0;34m]\u001b[0m\u001b[0;34m\u001b[0m\u001b[0;34m\u001b[0m\u001b[0m\n\u001b[0;32m-> 5139\u001b[0;31m             \u001b[0;32mreturn\u001b[0m \u001b[0mobject\u001b[0m\u001b[0;34m.\u001b[0m\u001b[0m__getattribute__\u001b[0m\u001b[0;34m(\u001b[0m\u001b[0mself\u001b[0m\u001b[0;34m,\u001b[0m \u001b[0mname\u001b[0m\u001b[0;34m)\u001b[0m\u001b[0;34m\u001b[0m\u001b[0;34m\u001b[0m\u001b[0m\n\u001b[0m\u001b[1;32m   5140\u001b[0m \u001b[0;34m\u001b[0m\u001b[0m\n\u001b[1;32m   5141\u001b[0m     \u001b[0;32mdef\u001b[0m \u001b[0m__setattr__\u001b[0m\u001b[0;34m(\u001b[0m\u001b[0mself\u001b[0m\u001b[0;34m,\u001b[0m \u001b[0mname\u001b[0m\u001b[0;34m:\u001b[0m \u001b[0mstr\u001b[0m\u001b[0;34m,\u001b[0m \u001b[0mvalue\u001b[0m\u001b[0;34m)\u001b[0m \u001b[0;34m->\u001b[0m \u001b[0;32mNone\u001b[0m\u001b[0;34m:\u001b[0m\u001b[0;34m\u001b[0m\u001b[0;34m\u001b[0m\u001b[0m\n",
            "\u001b[0;31mAttributeError\u001b[0m: 'DataFrame' object has no attribute 'choice'"
          ]
        }
      ]
    },
    {
      "cell_type": "markdown",
      "metadata": {
        "id": "5B6pJO_jM_NQ"
      },
      "source": [
        "## 24"
      ]
    },
    {
      "cell_type": "code",
      "metadata": {
        "colab": {
          "base_uri": "https://localhost:8080/"
        },
        "id": "cfsHrkyANAt-",
        "outputId": "7602216c-d8c5-4ae0-f2ba-75cb02050deb"
      },
      "source": [
        "from google.colab import drive\n",
        "import os\n",
        "\n",
        "drive.mount('drive')"
      ],
      "execution_count": null,
      "outputs": [
        {
          "output_type": "stream",
          "text": [
            "Drive already mounted at drive; to attempt to forcibly remount, call drive.mount(\"drive\", force_remount=True).\n"
          ],
          "name": "stdout"
        }
      ]
    },
    {
      "cell_type": "code",
      "metadata": {
        "id": "qFXVIalWNae6"
      },
      "source": [
        "import pandas as pd\n",
        "import numpy as np\n",
        "\n",
        "from sklearn.linear_model import LinearRegression\n",
        "from sklearn.model_selection import train_test_split\n",
        "from sklearn.metrics import mean_absolute_error"
      ],
      "execution_count": null,
      "outputs": []
    },
    {
      "cell_type": "code",
      "metadata": {
        "id": "hfqi-9ACNMzS"
      },
      "source": [
        "path = \"drive/MyDrive/iprofi/\"\n",
        "\n",
        "train = pd.read_csv(os.path.join(path, \"train.csv\"))\n",
        "test = pd.read_csv(os.path.join(path, \"test.csv\"))\n",
        "sub = pd.read_csv(os.path.join(path, \"submission.csv\"))"
      ],
      "execution_count": null,
      "outputs": []
    },
    {
      "cell_type": "code",
      "metadata": {
        "id": "UakP6_Q_Gd6w"
      },
      "source": [
        "def linear_sum(df):\n",
        "  for i in range(1, 6):\n",
        "    for j in range(i, 6):\n",
        "      x_name = 'x' + str(i)\n",
        "      y_name = 'x' + str(j)\n",
        "      col_name = x_name + '+' + y_name\n",
        "      df[col_name] = df[x_name] + df[y_name]\n",
        "  return df\n",
        " \n",
        "def difference(df):\n",
        "  cols = ['x1', 'x2', 'x3', 'x4', 'x5']\n",
        "  for i in cols:\n",
        "    for j in cols:\n",
        "      if i != j:\n",
        "        col_name = i + '-' + j\n",
        "        df[col_name] = df[i] - df[j]\n",
        "  return df\n",
        " \n",
        "def mult(df):\n",
        "  cols = ['x1', 'x2', 'x3', 'x4', 'x5']\n",
        "  for i in cols:\n",
        "    for j in cols:\n",
        "      col_name = i + '*' + j\n",
        "      df[col_name] = df[i] * df[j]\n",
        "  return df\n",
        " \n",
        "def division(df):\n",
        "  cols = ['x1', 'x2', 'x3', 'x4', 'x5']\n",
        "  for i in cols:\n",
        "    for j in cols:\n",
        "      if i != j:\n",
        "        col_name = i + '//' + j\n",
        "        df[col_name] = df[i] // df[j]\n",
        "        df[col_name] = df[col_name].replace(np.inf, 0)\n",
        "        df[col_name] = df[col_name].replace(np.nan, 0)\n",
        "  return df\n",
        " \n",
        "def power(df, p=2):\n",
        "  cols = ['x1', 'x2', 'x3', 'x4', 'x5']\n",
        "  for i in cols:\n",
        "    col_name = i + '^{}'.format(p)\n",
        "    df[col_name] = df[i].pow(p)\n",
        "  return df\n",
        " \n",
        "def square_root(df):\n",
        "  cols = ['x1', 'x2', 'x3', 'x4', 'x5']\n",
        "  for i in cols:\n",
        "    col_name = \"sqrt({})\".format(i)\n",
        "    df[col_name] = np.sqrt(df[i])\n",
        "  return df\n",
        " \n",
        "def logarithm2(df):\n",
        "  cols = ['x1', 'x2', 'x3', 'x4', 'x5']\n",
        "  for i in cols:\n",
        "    col_name = \"log2({})\".format(i)\n",
        "    df[col_name] = np.log2(df[i] + 0.00001)\n",
        "  return df\n",
        " \n",
        "def logarithm(df):\n",
        "  cols = ['x1', 'x2', 'x3', 'x4', 'x5']\n",
        "  for i in cols:\n",
        "    col_name = \"log({})\".format(i)\n",
        "    df[col_name] = np.log(df[i] + 0.00001)\n",
        "  return df"
      ],
      "execution_count": null,
      "outputs": []
    },
    {
      "cell_type": "code",
      "metadata": {
        "id": "pMjtI8dkHDAB"
      },
      "source": [
        "# raw train 1792970\n",
        "# train = linear_sum(train) 1793402\n",
        "# train = difference(train) 1792340.1492052334\n",
        "# train = division(train) 1786490.3674103993\n",
        "# train = logarithm2(train) 1454738.2748127398\n",
        "# train = logarithm(train) 1454738.2748127398\n",
        "\n",
        "\n",
        "train = mult(train) # 322674.82535735384\n",
        "\n",
        "train = square_root(train) # 1219003.420233454\n",
        "# train = power(train, 2) # 595338.5033575778\n",
        "train = power(train, 3) # 500600.22150563076\n",
        "train = power(train, 4) # 550463.7451649683\n",
        "train = power(train, 5) # 634077.7139022425\n",
        "\n"
      ],
      "execution_count": null,
      "outputs": []
    },
    {
      "cell_type": "code",
      "metadata": {
        "colab": {
          "base_uri": "https://localhost:8080/",
          "height": 439
        },
        "id": "FI4rKC4dF5Fz",
        "outputId": "5e0cd3cc-7070-42af-d851-2c67c884c388"
      },
      "source": [
        "train"
      ],
      "execution_count": null,
      "outputs": [
        {
          "output_type": "execute_result",
          "data": {
            "text/html": [
              "<div>\n",
              "<style scoped>\n",
              "    .dataframe tbody tr th:only-of-type {\n",
              "        vertical-align: middle;\n",
              "    }\n",
              "\n",
              "    .dataframe tbody tr th {\n",
              "        vertical-align: top;\n",
              "    }\n",
              "\n",
              "    .dataframe thead th {\n",
              "        text-align: right;\n",
              "    }\n",
              "</style>\n",
              "<table border=\"1\" class=\"dataframe\">\n",
              "  <thead>\n",
              "    <tr style=\"text-align: right;\">\n",
              "      <th></th>\n",
              "      <th>id</th>\n",
              "      <th>x1</th>\n",
              "      <th>x2</th>\n",
              "      <th>x3</th>\n",
              "      <th>x4</th>\n",
              "      <th>x5</th>\n",
              "      <th>y</th>\n",
              "      <th>x1*x1</th>\n",
              "      <th>x1*x2</th>\n",
              "      <th>x1*x3</th>\n",
              "      <th>x1*x4</th>\n",
              "      <th>x1*x5</th>\n",
              "      <th>x2*x1</th>\n",
              "      <th>x2*x2</th>\n",
              "      <th>x2*x3</th>\n",
              "      <th>x2*x4</th>\n",
              "      <th>x2*x5</th>\n",
              "      <th>x3*x1</th>\n",
              "      <th>x3*x2</th>\n",
              "      <th>x3*x3</th>\n",
              "      <th>x3*x4</th>\n",
              "      <th>x3*x5</th>\n",
              "      <th>x4*x1</th>\n",
              "      <th>x4*x2</th>\n",
              "      <th>x4*x3</th>\n",
              "      <th>x4*x4</th>\n",
              "      <th>x4*x5</th>\n",
              "      <th>x5*x1</th>\n",
              "      <th>x5*x2</th>\n",
              "      <th>x5*x3</th>\n",
              "      <th>x5*x4</th>\n",
              "      <th>x5*x5</th>\n",
              "      <th>sqrt(x1)</th>\n",
              "      <th>sqrt(x2)</th>\n",
              "      <th>sqrt(x3)</th>\n",
              "      <th>sqrt(x4)</th>\n",
              "      <th>sqrt(x5)</th>\n",
              "      <th>x1^3</th>\n",
              "      <th>x2^3</th>\n",
              "      <th>x3^3</th>\n",
              "      <th>x4^3</th>\n",
              "      <th>x5^3</th>\n",
              "      <th>x1^4</th>\n",
              "      <th>x2^4</th>\n",
              "      <th>x3^4</th>\n",
              "      <th>x4^4</th>\n",
              "      <th>x5^4</th>\n",
              "      <th>x1^5</th>\n",
              "      <th>x2^5</th>\n",
              "      <th>x3^5</th>\n",
              "      <th>x4^5</th>\n",
              "      <th>x5^5</th>\n",
              "    </tr>\n",
              "  </thead>\n",
              "  <tbody>\n",
              "    <tr>\n",
              "      <th>0</th>\n",
              "      <td>0</td>\n",
              "      <td>1</td>\n",
              "      <td>9</td>\n",
              "      <td>8</td>\n",
              "      <td>2</td>\n",
              "      <td>6</td>\n",
              "      <td>332.773904</td>\n",
              "      <td>1</td>\n",
              "      <td>9</td>\n",
              "      <td>8</td>\n",
              "      <td>2</td>\n",
              "      <td>6</td>\n",
              "      <td>9</td>\n",
              "      <td>81</td>\n",
              "      <td>72</td>\n",
              "      <td>18</td>\n",
              "      <td>54</td>\n",
              "      <td>8</td>\n",
              "      <td>72</td>\n",
              "      <td>64</td>\n",
              "      <td>16</td>\n",
              "      <td>48</td>\n",
              "      <td>2</td>\n",
              "      <td>18</td>\n",
              "      <td>16</td>\n",
              "      <td>4</td>\n",
              "      <td>12</td>\n",
              "      <td>6</td>\n",
              "      <td>54</td>\n",
              "      <td>48</td>\n",
              "      <td>12</td>\n",
              "      <td>36</td>\n",
              "      <td>1.000000</td>\n",
              "      <td>3.000000</td>\n",
              "      <td>2.828427</td>\n",
              "      <td>1.414214</td>\n",
              "      <td>2.449490</td>\n",
              "      <td>1</td>\n",
              "      <td>729</td>\n",
              "      <td>512</td>\n",
              "      <td>8</td>\n",
              "      <td>216</td>\n",
              "      <td>1</td>\n",
              "      <td>6561</td>\n",
              "      <td>4096</td>\n",
              "      <td>16</td>\n",
              "      <td>1296</td>\n",
              "      <td>1</td>\n",
              "      <td>59049</td>\n",
              "      <td>32768</td>\n",
              "      <td>32</td>\n",
              "      <td>7776</td>\n",
              "    </tr>\n",
              "    <tr>\n",
              "      <th>1</th>\n",
              "      <td>1</td>\n",
              "      <td>0</td>\n",
              "      <td>8</td>\n",
              "      <td>0</td>\n",
              "      <td>2</td>\n",
              "      <td>7</td>\n",
              "      <td>298.091343</td>\n",
              "      <td>0</td>\n",
              "      <td>0</td>\n",
              "      <td>0</td>\n",
              "      <td>0</td>\n",
              "      <td>0</td>\n",
              "      <td>0</td>\n",
              "      <td>64</td>\n",
              "      <td>0</td>\n",
              "      <td>16</td>\n",
              "      <td>56</td>\n",
              "      <td>0</td>\n",
              "      <td>0</td>\n",
              "      <td>0</td>\n",
              "      <td>0</td>\n",
              "      <td>0</td>\n",
              "      <td>0</td>\n",
              "      <td>16</td>\n",
              "      <td>0</td>\n",
              "      <td>4</td>\n",
              "      <td>14</td>\n",
              "      <td>0</td>\n",
              "      <td>56</td>\n",
              "      <td>0</td>\n",
              "      <td>14</td>\n",
              "      <td>49</td>\n",
              "      <td>0.000000</td>\n",
              "      <td>2.828427</td>\n",
              "      <td>0.000000</td>\n",
              "      <td>1.414214</td>\n",
              "      <td>2.645751</td>\n",
              "      <td>0</td>\n",
              "      <td>512</td>\n",
              "      <td>0</td>\n",
              "      <td>8</td>\n",
              "      <td>343</td>\n",
              "      <td>0</td>\n",
              "      <td>4096</td>\n",
              "      <td>0</td>\n",
              "      <td>16</td>\n",
              "      <td>2401</td>\n",
              "      <td>0</td>\n",
              "      <td>32768</td>\n",
              "      <td>0</td>\n",
              "      <td>32</td>\n",
              "      <td>16807</td>\n",
              "    </tr>\n",
              "    <tr>\n",
              "      <th>2</th>\n",
              "      <td>2</td>\n",
              "      <td>9</td>\n",
              "      <td>1</td>\n",
              "      <td>1</td>\n",
              "      <td>4</td>\n",
              "      <td>2</td>\n",
              "      <td>761.100225</td>\n",
              "      <td>81</td>\n",
              "      <td>9</td>\n",
              "      <td>9</td>\n",
              "      <td>36</td>\n",
              "      <td>18</td>\n",
              "      <td>9</td>\n",
              "      <td>1</td>\n",
              "      <td>1</td>\n",
              "      <td>4</td>\n",
              "      <td>2</td>\n",
              "      <td>9</td>\n",
              "      <td>1</td>\n",
              "      <td>1</td>\n",
              "      <td>4</td>\n",
              "      <td>2</td>\n",
              "      <td>36</td>\n",
              "      <td>4</td>\n",
              "      <td>4</td>\n",
              "      <td>16</td>\n",
              "      <td>8</td>\n",
              "      <td>18</td>\n",
              "      <td>2</td>\n",
              "      <td>2</td>\n",
              "      <td>8</td>\n",
              "      <td>4</td>\n",
              "      <td>3.000000</td>\n",
              "      <td>1.000000</td>\n",
              "      <td>1.000000</td>\n",
              "      <td>2.000000</td>\n",
              "      <td>1.414214</td>\n",
              "      <td>729</td>\n",
              "      <td>1</td>\n",
              "      <td>1</td>\n",
              "      <td>64</td>\n",
              "      <td>8</td>\n",
              "      <td>6561</td>\n",
              "      <td>1</td>\n",
              "      <td>1</td>\n",
              "      <td>256</td>\n",
              "      <td>16</td>\n",
              "      <td>59049</td>\n",
              "      <td>1</td>\n",
              "      <td>1</td>\n",
              "      <td>1024</td>\n",
              "      <td>32</td>\n",
              "    </tr>\n",
              "    <tr>\n",
              "      <th>3</th>\n",
              "      <td>3</td>\n",
              "      <td>7</td>\n",
              "      <td>9</td>\n",
              "      <td>2</td>\n",
              "      <td>8</td>\n",
              "      <td>6</td>\n",
              "      <td>686.106507</td>\n",
              "      <td>49</td>\n",
              "      <td>63</td>\n",
              "      <td>14</td>\n",
              "      <td>56</td>\n",
              "      <td>42</td>\n",
              "      <td>63</td>\n",
              "      <td>81</td>\n",
              "      <td>18</td>\n",
              "      <td>72</td>\n",
              "      <td>54</td>\n",
              "      <td>14</td>\n",
              "      <td>18</td>\n",
              "      <td>4</td>\n",
              "      <td>16</td>\n",
              "      <td>12</td>\n",
              "      <td>56</td>\n",
              "      <td>72</td>\n",
              "      <td>16</td>\n",
              "      <td>64</td>\n",
              "      <td>48</td>\n",
              "      <td>42</td>\n",
              "      <td>54</td>\n",
              "      <td>12</td>\n",
              "      <td>48</td>\n",
              "      <td>36</td>\n",
              "      <td>2.645751</td>\n",
              "      <td>3.000000</td>\n",
              "      <td>1.414214</td>\n",
              "      <td>2.828427</td>\n",
              "      <td>2.449490</td>\n",
              "      <td>343</td>\n",
              "      <td>729</td>\n",
              "      <td>8</td>\n",
              "      <td>512</td>\n",
              "      <td>216</td>\n",
              "      <td>2401</td>\n",
              "      <td>6561</td>\n",
              "      <td>16</td>\n",
              "      <td>4096</td>\n",
              "      <td>1296</td>\n",
              "      <td>16807</td>\n",
              "      <td>59049</td>\n",
              "      <td>32</td>\n",
              "      <td>32768</td>\n",
              "      <td>7776</td>\n",
              "    </tr>\n",
              "    <tr>\n",
              "      <th>4</th>\n",
              "      <td>4</td>\n",
              "      <td>2</td>\n",
              "      <td>0</td>\n",
              "      <td>0</td>\n",
              "      <td>1</td>\n",
              "      <td>0</td>\n",
              "      <td>13.357220</td>\n",
              "      <td>4</td>\n",
              "      <td>0</td>\n",
              "      <td>0</td>\n",
              "      <td>2</td>\n",
              "      <td>0</td>\n",
              "      <td>0</td>\n",
              "      <td>0</td>\n",
              "      <td>0</td>\n",
              "      <td>0</td>\n",
              "      <td>0</td>\n",
              "      <td>0</td>\n",
              "      <td>0</td>\n",
              "      <td>0</td>\n",
              "      <td>0</td>\n",
              "      <td>0</td>\n",
              "      <td>2</td>\n",
              "      <td>0</td>\n",
              "      <td>0</td>\n",
              "      <td>1</td>\n",
              "      <td>0</td>\n",
              "      <td>0</td>\n",
              "      <td>0</td>\n",
              "      <td>0</td>\n",
              "      <td>0</td>\n",
              "      <td>0</td>\n",
              "      <td>1.414214</td>\n",
              "      <td>0.000000</td>\n",
              "      <td>0.000000</td>\n",
              "      <td>1.000000</td>\n",
              "      <td>0.000000</td>\n",
              "      <td>8</td>\n",
              "      <td>0</td>\n",
              "      <td>0</td>\n",
              "      <td>1</td>\n",
              "      <td>0</td>\n",
              "      <td>16</td>\n",
              "      <td>0</td>\n",
              "      <td>0</td>\n",
              "      <td>1</td>\n",
              "      <td>0</td>\n",
              "      <td>32</td>\n",
              "      <td>0</td>\n",
              "      <td>0</td>\n",
              "      <td>1</td>\n",
              "      <td>0</td>\n",
              "    </tr>\n",
              "    <tr>\n",
              "      <th>...</th>\n",
              "      <td>...</td>\n",
              "      <td>...</td>\n",
              "      <td>...</td>\n",
              "      <td>...</td>\n",
              "      <td>...</td>\n",
              "      <td>...</td>\n",
              "      <td>...</td>\n",
              "      <td>...</td>\n",
              "      <td>...</td>\n",
              "      <td>...</td>\n",
              "      <td>...</td>\n",
              "      <td>...</td>\n",
              "      <td>...</td>\n",
              "      <td>...</td>\n",
              "      <td>...</td>\n",
              "      <td>...</td>\n",
              "      <td>...</td>\n",
              "      <td>...</td>\n",
              "      <td>...</td>\n",
              "      <td>...</td>\n",
              "      <td>...</td>\n",
              "      <td>...</td>\n",
              "      <td>...</td>\n",
              "      <td>...</td>\n",
              "      <td>...</td>\n",
              "      <td>...</td>\n",
              "      <td>...</td>\n",
              "      <td>...</td>\n",
              "      <td>...</td>\n",
              "      <td>...</td>\n",
              "      <td>...</td>\n",
              "      <td>...</td>\n",
              "      <td>...</td>\n",
              "      <td>...</td>\n",
              "      <td>...</td>\n",
              "      <td>...</td>\n",
              "      <td>...</td>\n",
              "      <td>...</td>\n",
              "      <td>...</td>\n",
              "      <td>...</td>\n",
              "      <td>...</td>\n",
              "      <td>...</td>\n",
              "      <td>...</td>\n",
              "      <td>...</td>\n",
              "      <td>...</td>\n",
              "      <td>...</td>\n",
              "      <td>...</td>\n",
              "      <td>...</td>\n",
              "      <td>...</td>\n",
              "      <td>...</td>\n",
              "      <td>...</td>\n",
              "      <td>...</td>\n",
              "    </tr>\n",
              "    <tr>\n",
              "      <th>79995</th>\n",
              "      <td>79995</td>\n",
              "      <td>6</td>\n",
              "      <td>4</td>\n",
              "      <td>1</td>\n",
              "      <td>1</td>\n",
              "      <td>4</td>\n",
              "      <td>304.940199</td>\n",
              "      <td>36</td>\n",
              "      <td>24</td>\n",
              "      <td>6</td>\n",
              "      <td>6</td>\n",
              "      <td>24</td>\n",
              "      <td>24</td>\n",
              "      <td>16</td>\n",
              "      <td>4</td>\n",
              "      <td>4</td>\n",
              "      <td>16</td>\n",
              "      <td>6</td>\n",
              "      <td>4</td>\n",
              "      <td>1</td>\n",
              "      <td>1</td>\n",
              "      <td>4</td>\n",
              "      <td>6</td>\n",
              "      <td>4</td>\n",
              "      <td>1</td>\n",
              "      <td>1</td>\n",
              "      <td>4</td>\n",
              "      <td>24</td>\n",
              "      <td>16</td>\n",
              "      <td>4</td>\n",
              "      <td>4</td>\n",
              "      <td>16</td>\n",
              "      <td>2.449490</td>\n",
              "      <td>2.000000</td>\n",
              "      <td>1.000000</td>\n",
              "      <td>1.000000</td>\n",
              "      <td>2.000000</td>\n",
              "      <td>216</td>\n",
              "      <td>64</td>\n",
              "      <td>1</td>\n",
              "      <td>1</td>\n",
              "      <td>64</td>\n",
              "      <td>1296</td>\n",
              "      <td>256</td>\n",
              "      <td>1</td>\n",
              "      <td>1</td>\n",
              "      <td>256</td>\n",
              "      <td>7776</td>\n",
              "      <td>1024</td>\n",
              "      <td>1</td>\n",
              "      <td>1</td>\n",
              "      <td>1024</td>\n",
              "    </tr>\n",
              "    <tr>\n",
              "      <th>79996</th>\n",
              "      <td>79996</td>\n",
              "      <td>7</td>\n",
              "      <td>8</td>\n",
              "      <td>9</td>\n",
              "      <td>1</td>\n",
              "      <td>4</td>\n",
              "      <td>567.954361</td>\n",
              "      <td>49</td>\n",
              "      <td>56</td>\n",
              "      <td>63</td>\n",
              "      <td>7</td>\n",
              "      <td>28</td>\n",
              "      <td>56</td>\n",
              "      <td>64</td>\n",
              "      <td>72</td>\n",
              "      <td>8</td>\n",
              "      <td>32</td>\n",
              "      <td>63</td>\n",
              "      <td>72</td>\n",
              "      <td>81</td>\n",
              "      <td>9</td>\n",
              "      <td>36</td>\n",
              "      <td>7</td>\n",
              "      <td>8</td>\n",
              "      <td>9</td>\n",
              "      <td>1</td>\n",
              "      <td>4</td>\n",
              "      <td>28</td>\n",
              "      <td>32</td>\n",
              "      <td>36</td>\n",
              "      <td>4</td>\n",
              "      <td>16</td>\n",
              "      <td>2.645751</td>\n",
              "      <td>2.828427</td>\n",
              "      <td>3.000000</td>\n",
              "      <td>1.000000</td>\n",
              "      <td>2.000000</td>\n",
              "      <td>343</td>\n",
              "      <td>512</td>\n",
              "      <td>729</td>\n",
              "      <td>1</td>\n",
              "      <td>64</td>\n",
              "      <td>2401</td>\n",
              "      <td>4096</td>\n",
              "      <td>6561</td>\n",
              "      <td>1</td>\n",
              "      <td>256</td>\n",
              "      <td>16807</td>\n",
              "      <td>32768</td>\n",
              "      <td>59049</td>\n",
              "      <td>1</td>\n",
              "      <td>1024</td>\n",
              "    </tr>\n",
              "    <tr>\n",
              "      <th>79997</th>\n",
              "      <td>79997</td>\n",
              "      <td>6</td>\n",
              "      <td>5</td>\n",
              "      <td>0</td>\n",
              "      <td>8</td>\n",
              "      <td>1</td>\n",
              "      <td>301.367582</td>\n",
              "      <td>36</td>\n",
              "      <td>30</td>\n",
              "      <td>0</td>\n",
              "      <td>48</td>\n",
              "      <td>6</td>\n",
              "      <td>30</td>\n",
              "      <td>25</td>\n",
              "      <td>0</td>\n",
              "      <td>40</td>\n",
              "      <td>5</td>\n",
              "      <td>0</td>\n",
              "      <td>0</td>\n",
              "      <td>0</td>\n",
              "      <td>0</td>\n",
              "      <td>0</td>\n",
              "      <td>48</td>\n",
              "      <td>40</td>\n",
              "      <td>0</td>\n",
              "      <td>64</td>\n",
              "      <td>8</td>\n",
              "      <td>6</td>\n",
              "      <td>5</td>\n",
              "      <td>0</td>\n",
              "      <td>8</td>\n",
              "      <td>1</td>\n",
              "      <td>2.449490</td>\n",
              "      <td>2.236068</td>\n",
              "      <td>0.000000</td>\n",
              "      <td>2.828427</td>\n",
              "      <td>1.000000</td>\n",
              "      <td>216</td>\n",
              "      <td>125</td>\n",
              "      <td>0</td>\n",
              "      <td>512</td>\n",
              "      <td>1</td>\n",
              "      <td>1296</td>\n",
              "      <td>625</td>\n",
              "      <td>0</td>\n",
              "      <td>4096</td>\n",
              "      <td>1</td>\n",
              "      <td>7776</td>\n",
              "      <td>3125</td>\n",
              "      <td>0</td>\n",
              "      <td>32768</td>\n",
              "      <td>1</td>\n",
              "    </tr>\n",
              "    <tr>\n",
              "      <th>79998</th>\n",
              "      <td>79998</td>\n",
              "      <td>4</td>\n",
              "      <td>8</td>\n",
              "      <td>0</td>\n",
              "      <td>7</td>\n",
              "      <td>2</td>\n",
              "      <td>227.354170</td>\n",
              "      <td>16</td>\n",
              "      <td>32</td>\n",
              "      <td>0</td>\n",
              "      <td>28</td>\n",
              "      <td>8</td>\n",
              "      <td>32</td>\n",
              "      <td>64</td>\n",
              "      <td>0</td>\n",
              "      <td>56</td>\n",
              "      <td>16</td>\n",
              "      <td>0</td>\n",
              "      <td>0</td>\n",
              "      <td>0</td>\n",
              "      <td>0</td>\n",
              "      <td>0</td>\n",
              "      <td>28</td>\n",
              "      <td>56</td>\n",
              "      <td>0</td>\n",
              "      <td>49</td>\n",
              "      <td>14</td>\n",
              "      <td>8</td>\n",
              "      <td>16</td>\n",
              "      <td>0</td>\n",
              "      <td>14</td>\n",
              "      <td>4</td>\n",
              "      <td>2.000000</td>\n",
              "      <td>2.828427</td>\n",
              "      <td>0.000000</td>\n",
              "      <td>2.645751</td>\n",
              "      <td>1.414214</td>\n",
              "      <td>64</td>\n",
              "      <td>512</td>\n",
              "      <td>0</td>\n",
              "      <td>343</td>\n",
              "      <td>8</td>\n",
              "      <td>256</td>\n",
              "      <td>4096</td>\n",
              "      <td>0</td>\n",
              "      <td>2401</td>\n",
              "      <td>16</td>\n",
              "      <td>1024</td>\n",
              "      <td>32768</td>\n",
              "      <td>0</td>\n",
              "      <td>16807</td>\n",
              "      <td>32</td>\n",
              "    </tr>\n",
              "    <tr>\n",
              "      <th>79999</th>\n",
              "      <td>79999</td>\n",
              "      <td>0</td>\n",
              "      <td>8</td>\n",
              "      <td>3</td>\n",
              "      <td>9</td>\n",
              "      <td>6</td>\n",
              "      <td>310.713898</td>\n",
              "      <td>0</td>\n",
              "      <td>0</td>\n",
              "      <td>0</td>\n",
              "      <td>0</td>\n",
              "      <td>0</td>\n",
              "      <td>0</td>\n",
              "      <td>64</td>\n",
              "      <td>24</td>\n",
              "      <td>72</td>\n",
              "      <td>48</td>\n",
              "      <td>0</td>\n",
              "      <td>24</td>\n",
              "      <td>9</td>\n",
              "      <td>27</td>\n",
              "      <td>18</td>\n",
              "      <td>0</td>\n",
              "      <td>72</td>\n",
              "      <td>27</td>\n",
              "      <td>81</td>\n",
              "      <td>54</td>\n",
              "      <td>0</td>\n",
              "      <td>48</td>\n",
              "      <td>18</td>\n",
              "      <td>54</td>\n",
              "      <td>36</td>\n",
              "      <td>0.000000</td>\n",
              "      <td>2.828427</td>\n",
              "      <td>1.732051</td>\n",
              "      <td>3.000000</td>\n",
              "      <td>2.449490</td>\n",
              "      <td>0</td>\n",
              "      <td>512</td>\n",
              "      <td>27</td>\n",
              "      <td>729</td>\n",
              "      <td>216</td>\n",
              "      <td>0</td>\n",
              "      <td>4096</td>\n",
              "      <td>81</td>\n",
              "      <td>6561</td>\n",
              "      <td>1296</td>\n",
              "      <td>0</td>\n",
              "      <td>32768</td>\n",
              "      <td>243</td>\n",
              "      <td>59049</td>\n",
              "      <td>7776</td>\n",
              "    </tr>\n",
              "  </tbody>\n",
              "</table>\n",
              "<p>80000 rows × 52 columns</p>\n",
              "</div>"
            ],
            "text/plain": [
              "          id  x1  x2  x3  x4  x5  ...  x5^4   x1^5   x2^5   x3^5   x4^5   x5^5\n",
              "0          0   1   9   8   2   6  ...  1296      1  59049  32768     32   7776\n",
              "1          1   0   8   0   2   7  ...  2401      0  32768      0     32  16807\n",
              "2          2   9   1   1   4   2  ...    16  59049      1      1   1024     32\n",
              "3          3   7   9   2   8   6  ...  1296  16807  59049     32  32768   7776\n",
              "4          4   2   0   0   1   0  ...     0     32      0      0      1      0\n",
              "...      ...  ..  ..  ..  ..  ..  ...   ...    ...    ...    ...    ...    ...\n",
              "79995  79995   6   4   1   1   4  ...   256   7776   1024      1      1   1024\n",
              "79996  79996   7   8   9   1   4  ...   256  16807  32768  59049      1   1024\n",
              "79997  79997   6   5   0   8   1  ...     1   7776   3125      0  32768      1\n",
              "79998  79998   4   8   0   7   2  ...    16   1024  32768      0  16807     32\n",
              "79999  79999   0   8   3   9   6  ...  1296      0  32768    243  59049   7776\n",
              "\n",
              "[80000 rows x 52 columns]"
            ]
          },
          "metadata": {
            "tags": []
          },
          "execution_count": 307
        }
      ]
    },
    {
      "cell_type": "code",
      "metadata": {
        "colab": {
          "base_uri": "https://localhost:8080/"
        },
        "id": "lAMz2qJCN_Ke",
        "outputId": "707cf684-807a-4c41-9829-1a506b05c928"
      },
      "source": [
        "x_train, x_test, y_train, y_test = train_test_split(train.drop(['id', 'y'], axis=1), train['y'],\n",
        "                                                    test_size=0.25, random_state=42)\n",
        "\n",
        "model = LinearRegression()\n",
        "model.fit(x_train, y_train)\n",
        "predictions = model.predict(x_test)\n",
        "\n",
        "np.sum(np.abs(predictions - y_test))"
      ],
      "execution_count": null,
      "outputs": [
        {
          "output_type": "execute_result",
          "data": {
            "text/plain": [
              "4991.156072215762"
            ]
          },
          "metadata": {
            "tags": []
          },
          "execution_count": 308
        }
      ]
    },
    {
      "cell_type": "code",
      "metadata": {
        "id": "l7Zbg0-WO4bv"
      },
      "source": [
        "test = mult(test) # 322674.82535735384\n",
        "\n",
        "test = square_root(test) # 1219003.420233454\n",
        "# train = power(train, 2) # 595338.5033575778\n",
        "test = power(test, 3) # 500600.22150563076\n",
        "test = power(test, 4) # 550463.7451649683\n",
        "test = power(test, 5) # 634077.7139022425\n",
        "\n",
        "model_final = LinearRegression()\n",
        "model_final.fit(train.drop(['id', 'y'], axis=1), train['y'])\n",
        "predictions = model_final.predict(test.drop(['id'], axis=1))"
      ],
      "execution_count": null,
      "outputs": []
    },
    {
      "cell_type": "code",
      "metadata": {
        "id": "DfTNPuA9Ppvf"
      },
      "source": [
        "sub['y'] = predictions\n",
        "sub.to_csv('result.csv', index=False)"
      ],
      "execution_count": null,
      "outputs": []
    },
    {
      "cell_type": "code",
      "metadata": {
        "colab": {
          "base_uri": "https://localhost:8080/",
          "height": 419
        },
        "id": "Yyk-rTwWPzGv",
        "outputId": "9d1599bc-e939-4096-e230-58778d559f3a"
      },
      "source": [
        "t = pd.read_csv('result.csv')\n",
        "t"
      ],
      "execution_count": null,
      "outputs": [
        {
          "output_type": "execute_result",
          "data": {
            "text/html": [
              "<div>\n",
              "<style scoped>\n",
              "    .dataframe tbody tr th:only-of-type {\n",
              "        vertical-align: middle;\n",
              "    }\n",
              "\n",
              "    .dataframe tbody tr th {\n",
              "        vertical-align: top;\n",
              "    }\n",
              "\n",
              "    .dataframe thead th {\n",
              "        text-align: right;\n",
              "    }\n",
              "</style>\n",
              "<table border=\"1\" class=\"dataframe\">\n",
              "  <thead>\n",
              "    <tr style=\"text-align: right;\">\n",
              "      <th></th>\n",
              "      <th>id</th>\n",
              "      <th>y</th>\n",
              "    </tr>\n",
              "  </thead>\n",
              "  <tbody>\n",
              "    <tr>\n",
              "      <th>0</th>\n",
              "      <td>0</td>\n",
              "      <td>43.493677</td>\n",
              "    </tr>\n",
              "    <tr>\n",
              "      <th>1</th>\n",
              "      <td>1</td>\n",
              "      <td>605.515449</td>\n",
              "    </tr>\n",
              "    <tr>\n",
              "      <th>2</th>\n",
              "      <td>2</td>\n",
              "      <td>90.503991</td>\n",
              "    </tr>\n",
              "    <tr>\n",
              "      <th>3</th>\n",
              "      <td>3</td>\n",
              "      <td>142.496942</td>\n",
              "    </tr>\n",
              "    <tr>\n",
              "      <th>4</th>\n",
              "      <td>4</td>\n",
              "      <td>42.484318</td>\n",
              "    </tr>\n",
              "    <tr>\n",
              "      <th>...</th>\n",
              "      <td>...</td>\n",
              "      <td>...</td>\n",
              "    </tr>\n",
              "    <tr>\n",
              "      <th>19995</th>\n",
              "      <td>19995</td>\n",
              "      <td>90.511679</td>\n",
              "    </tr>\n",
              "    <tr>\n",
              "      <th>19996</th>\n",
              "      <td>19996</td>\n",
              "      <td>17.492739</td>\n",
              "    </tr>\n",
              "    <tr>\n",
              "      <th>19997</th>\n",
              "      <td>19997</td>\n",
              "      <td>88.504482</td>\n",
              "    </tr>\n",
              "    <tr>\n",
              "      <th>19998</th>\n",
              "      <td>19998</td>\n",
              "      <td>199.493555</td>\n",
              "    </tr>\n",
              "    <tr>\n",
              "      <th>19999</th>\n",
              "      <td>19999</td>\n",
              "      <td>500.504983</td>\n",
              "    </tr>\n",
              "  </tbody>\n",
              "</table>\n",
              "<p>20000 rows × 2 columns</p>\n",
              "</div>"
            ],
            "text/plain": [
              "          id           y\n",
              "0          0   43.493677\n",
              "1          1  605.515449\n",
              "2          2   90.503991\n",
              "3          3  142.496942\n",
              "4          4   42.484318\n",
              "...      ...         ...\n",
              "19995  19995   90.511679\n",
              "19996  19996   17.492739\n",
              "19997  19997   88.504482\n",
              "19998  19998  199.493555\n",
              "19999  19999  500.504983\n",
              "\n",
              "[20000 rows x 2 columns]"
            ]
          },
          "metadata": {
            "tags": []
          },
          "execution_count": 312
        }
      ]
    },
    {
      "cell_type": "code",
      "metadata": {
        "colab": {
          "base_uri": "https://localhost:8080/",
          "height": 419
        },
        "id": "WG8OjdaAP3Ge",
        "outputId": "853fc5d9-8ac2-4fda-a5c6-e9ea0d0b25a8"
      },
      "source": [
        "sub"
      ],
      "execution_count": null,
      "outputs": [
        {
          "output_type": "execute_result",
          "data": {
            "text/html": [
              "<div>\n",
              "<style scoped>\n",
              "    .dataframe tbody tr th:only-of-type {\n",
              "        vertical-align: middle;\n",
              "    }\n",
              "\n",
              "    .dataframe tbody tr th {\n",
              "        vertical-align: top;\n",
              "    }\n",
              "\n",
              "    .dataframe thead th {\n",
              "        text-align: right;\n",
              "    }\n",
              "</style>\n",
              "<table border=\"1\" class=\"dataframe\">\n",
              "  <thead>\n",
              "    <tr style=\"text-align: right;\">\n",
              "      <th></th>\n",
              "      <th>id</th>\n",
              "      <th>y</th>\n",
              "    </tr>\n",
              "  </thead>\n",
              "  <tbody>\n",
              "    <tr>\n",
              "      <th>0</th>\n",
              "      <td>0</td>\n",
              "      <td>0</td>\n",
              "    </tr>\n",
              "    <tr>\n",
              "      <th>1</th>\n",
              "      <td>1</td>\n",
              "      <td>0</td>\n",
              "    </tr>\n",
              "    <tr>\n",
              "      <th>2</th>\n",
              "      <td>2</td>\n",
              "      <td>0</td>\n",
              "    </tr>\n",
              "    <tr>\n",
              "      <th>3</th>\n",
              "      <td>3</td>\n",
              "      <td>0</td>\n",
              "    </tr>\n",
              "    <tr>\n",
              "      <th>4</th>\n",
              "      <td>4</td>\n",
              "      <td>0</td>\n",
              "    </tr>\n",
              "    <tr>\n",
              "      <th>...</th>\n",
              "      <td>...</td>\n",
              "      <td>...</td>\n",
              "    </tr>\n",
              "    <tr>\n",
              "      <th>19995</th>\n",
              "      <td>19995</td>\n",
              "      <td>0</td>\n",
              "    </tr>\n",
              "    <tr>\n",
              "      <th>19996</th>\n",
              "      <td>19996</td>\n",
              "      <td>0</td>\n",
              "    </tr>\n",
              "    <tr>\n",
              "      <th>19997</th>\n",
              "      <td>19997</td>\n",
              "      <td>0</td>\n",
              "    </tr>\n",
              "    <tr>\n",
              "      <th>19998</th>\n",
              "      <td>19998</td>\n",
              "      <td>0</td>\n",
              "    </tr>\n",
              "    <tr>\n",
              "      <th>19999</th>\n",
              "      <td>19999</td>\n",
              "      <td>0</td>\n",
              "    </tr>\n",
              "  </tbody>\n",
              "</table>\n",
              "<p>20000 rows × 2 columns</p>\n",
              "</div>"
            ],
            "text/plain": [
              "          id  y\n",
              "0          0  0\n",
              "1          1  0\n",
              "2          2  0\n",
              "3          3  0\n",
              "4          4  0\n",
              "...      ... ..\n",
              "19995  19995  0\n",
              "19996  19996  0\n",
              "19997  19997  0\n",
              "19998  19998  0\n",
              "19999  19999  0\n",
              "\n",
              "[20000 rows x 2 columns]"
            ]
          },
          "metadata": {
            "tags": []
          },
          "execution_count": 134
        }
      ]
    },
    {
      "cell_type": "code",
      "metadata": {
        "id": "NkBSVSfpQ9ow"
      },
      "source": [
        ""
      ],
      "execution_count": null,
      "outputs": []
    },
    {
      "cell_type": "markdown",
      "metadata": {
        "id": "qdiB_XtCPhAp"
      },
      "source": [
        "# 25\n"
      ]
    },
    {
      "cell_type": "code",
      "metadata": {
        "colab": {
          "base_uri": "https://localhost:8080/"
        },
        "id": "ziprGzxMPiou",
        "outputId": "361c4e31-26f6-43c4-9bff-342bdfe34edd"
      },
      "source": [
        "import tensorflow as tf\n",
        "from tensorflow import keras\n",
        "import numpy as np\n",
        "import pandas as pd\n",
        "from tensorflow.keras.callbacks import ModelCheckpoint\n",
        "from tensorflow.keras.models import Model\n",
        "from tensorflow.keras.layers import Flatten, Dense\n",
        "from sklearn.model_selection import train_test_split\n",
        "\n",
        "\n",
        "from google.colab import drive \n",
        "import os\n",
        "drive.mount('drive')"
      ],
      "execution_count": null,
      "outputs": [
        {
          "output_type": "stream",
          "text": [
            "Drive already mounted at drive; to attempt to forcibly remount, call drive.mount(\"drive\", force_remount=True).\n"
          ],
          "name": "stdout"
        }
      ]
    },
    {
      "cell_type": "code",
      "metadata": {
        "id": "DbjrK9m1epXJ"
      },
      "source": [
        "path = \"drive/MyDrive/iprofi\"\n",
        "train_path = os.path.join(path, \"train\")\n",
        "test_path = os.path.join(path, \"test\")\n",
        "train_path = os.path.join(train_path, \"train\")\n",
        "test_path = os.path.join(test_path, \"test\")\n",
        "\n",
        "hard_train = os.path.join(train_path, \"hard\")\n",
        "normal_train = os.path.join(train_path, \"normal\")\n",
        "random = os.path.join(train_path, \"random\")\n",
        "simple = os.path.join(train_path, \"simple\")\n",
        "\n",
        "hard_test = os.path.join(test_path, \"hard\")\n",
        "normal_test = os.path.join(test_path, \"normal\")\n",
        "random_test = os.path.join(test_path, \"random\")\n",
        "simple_test = os.path.join(test_path, \"simple\")"
      ],
      "execution_count": null,
      "outputs": []
    },
    {
      "cell_type": "code",
      "metadata": {
        "id": "_gxBw-_Ul-6t"
      },
      "source": [
        "IMAGE_SIZE = [240,310,3]\n",
        "\n",
        "def load(path):\n",
        "  images = []\n",
        "  for image in os.listdir(path):\n",
        "    \n",
        "    if image.endswith(\".png\"):\n",
        "      image_path = os.path.join(path, image)\n",
        "\n",
        "      image = tf.keras.preprocessing.image.load_img(image_path, target_size=IMAGE_SIZE)\n",
        "      input_arr = keras.preprocessing.image.img_to_array(image)\n",
        "      images.append(input_arr)\n",
        "  input_arr = np.array(images)\n",
        "  return input_arr"
      ],
      "execution_count": null,
      "outputs": []
    },
    {
      "cell_type": "code",
      "metadata": {
        "id": "iszkTr_NqOrM"
      },
      "source": [
        "\n",
        "vgg = keras.applications.VGG16(input_shape = IMAGE_SIZE, weights = 'imagenet', include_top = False)  \n",
        "# this will exclude the initial layers from training phase as there are already been trained.\n",
        "for layer in vgg.layers:\n",
        "    layer.trainable = False\n",
        "\n",
        "x = Flatten()(vgg.output)\n",
        "# x = Dense(64, activation = 'relu')(x)  \n",
        "x = Dense(1, activation=\"relu\")(x)\n",
        "model = Model(inputs = vgg.input, outputs = x)\n",
        "\n",
        "model.compile(loss=tf.keras.metrics.mean_squared_error,\n",
        "              optimizer=\"rmsprop\",\n",
        "              metrics=[tf.keras.metrics.RootMeanSquaredError(name='rmse')])"
      ],
      "execution_count": null,
      "outputs": []
    },
    {
      "cell_type": "markdown",
      "metadata": {
        "id": "W6XX6Ngq4-Bt"
      },
      "source": [
        "### simple"
      ]
    },
    {
      "cell_type": "code",
      "metadata": {
        "id": "SU9pe7vs5Sm6"
      },
      "source": [
        "lst = []\n",
        "for i in range(1000):\n",
        "  numb = str(i)\n",
        "  name = \"0\"*(5 - len(numb)) + numb + \".png\"\n",
        "  if name not in os.listdir(simple_train):\n",
        "    lst.append(i)"
      ],
      "execution_count": null,
      "outputs": []
    },
    {
      "cell_type": "code",
      "metadata": {
        "id": "Ojm-W2aopWh2"
      },
      "source": [
        "simple_df = pd.read_csv(os.path.join(simple, \"simple.csv\"))\n",
        "\n",
        "simple_df.drop(lst, axis=0, inplace=True)\n",
        "\n",
        "x = load(simple)\n",
        "y = simple_df['NumCircles'].values\n",
        "\n",
        "x_train, x_test, y_train, y_test = train_test_split(x, y, random_state=42, test_size=0.2, shuffle=False)"
      ],
      "execution_count": null,
      "outputs": []
    },
    {
      "cell_type": "code",
      "metadata": {
        "colab": {
          "base_uri": "https://localhost:8080/"
        },
        "id": "_PMyroK0r8v0",
        "outputId": "5b3022b3-d3e1-4964-ac5f-8687c799b77c"
      },
      "source": [
        "x_train = x_train / 255.\n",
        "x_test = x_test / 255.\n",
        "\n",
        "mcp_save = ModelCheckpoint('mdl_wts.hdf5', save_best_only=True, monitor='val_loss', mode='min')\n",
        "\n",
        "model.fit(x_train, y_train, batch_size=32, epochs=10, callbacks=[mcp_save], validation_data=(x_test, y_test))\n",
        "\n",
        "model.load_weights(filepath = 'mdl_wts.hdf5')"
      ],
      "execution_count": null,
      "outputs": [
        {
          "output_type": "stream",
          "text": [
            "Epoch 1/10\n",
            "25/25 [==============================] - 6s 243ms/step - loss: 163.0035 - rmse: 12.7673 - val_loss: 46.7929 - val_rmse: 6.8405\n",
            "Epoch 2/10\n",
            "25/25 [==============================] - 6s 243ms/step - loss: 28.2607 - rmse: 5.3161 - val_loss: 14.0056 - val_rmse: 3.7424\n",
            "Epoch 3/10\n",
            "25/25 [==============================] - 6s 243ms/step - loss: 15.9551 - rmse: 3.9944 - val_loss: 15.6572 - val_rmse: 3.9569\n",
            "Epoch 4/10\n",
            "25/25 [==============================] - 6s 246ms/step - loss: 10.8521 - rmse: 3.2943 - val_loss: 17.3570 - val_rmse: 4.1662\n",
            "Epoch 5/10\n",
            "25/25 [==============================] - 6s 251ms/step - loss: 10.1458 - rmse: 3.1853 - val_loss: 6.6496 - val_rmse: 2.5787\n",
            "Epoch 6/10\n",
            "25/25 [==============================] - 6s 247ms/step - loss: 7.7546 - rmse: 2.7847 - val_loss: 5.8323 - val_rmse: 2.4150\n",
            "Epoch 7/10\n",
            "25/25 [==============================] - 6s 238ms/step - loss: 8.6455 - rmse: 2.9403 - val_loss: 6.8507 - val_rmse: 2.6174\n",
            "Epoch 8/10\n",
            "25/25 [==============================] - 6s 239ms/step - loss: 7.2250 - rmse: 2.6879 - val_loss: 5.0001 - val_rmse: 2.2361\n",
            "Epoch 9/10\n",
            "25/25 [==============================] - 6s 233ms/step - loss: 6.4427 - rmse: 2.5382 - val_loss: 10.6456 - val_rmse: 3.2628\n",
            "Epoch 10/10\n",
            "25/25 [==============================] - 6s 231ms/step - loss: 6.1649 - rmse: 2.4829 - val_loss: 10.1427 - val_rmse: 3.1848\n"
          ],
          "name": "stdout"
        },
        {
          "output_type": "execute_result",
          "data": {
            "text/plain": [
              "<tensorflow.python.keras.callbacks.History at 0x7f02617279e8>"
            ]
          },
          "metadata": {
            "tags": []
          },
          "execution_count": 46
        }
      ]
    },
    {
      "cell_type": "code",
      "metadata": {
        "id": "42m7T-ZDtOvd"
      },
      "source": [
        "test = load(simple_test)\n",
        "test = test / 255."
      ],
      "execution_count": null,
      "outputs": []
    },
    {
      "cell_type": "code",
      "metadata": {
        "id": "khkQBg2QxqEJ"
      },
      "source": [
        "predictions = model.predict(test)"
      ],
      "execution_count": null,
      "outputs": []
    },
    {
      "cell_type": "code",
      "metadata": {
        "id": "3ND8p6khy9YF"
      },
      "source": [
        "pred = np.array(predictions, dtype=np.int32)"
      ],
      "execution_count": null,
      "outputs": []
    },
    {
      "cell_type": "code",
      "metadata": {
        "id": "CWl1A4xF1MdV"
      },
      "source": [
        "simple_sub = pd.DataFrame(np.arange(500), np.zeros(500))\n",
        "simple_sub.reset_index(inplace=True)\n",
        "simple_sub.columns = ['NumCircles', 'pic']\n",
        "simple_sub = simple_sub[['pic', 'NumCircles']]\n",
        "simple_sub['NumCircles'].iloc[0] = pred[0]\n",
        "simple_sub['NumCircles'].iloc[1] = pred[1]\n",
        "simple_sub['NumCircles'].iloc[3:] = pred.reshape(-1)[2:]\n",
        "simple_sub.iloc[2] = int(pred.mean())"
      ],
      "execution_count": null,
      "outputs": []
    },
    {
      "cell_type": "code",
      "metadata": {
        "id": "bLGllpxq1rdI"
      },
      "source": [
        "simple_sub.to_csv('simple_sub.csv', index=False)"
      ],
      "execution_count": null,
      "outputs": []
    },
    {
      "cell_type": "markdown",
      "metadata": {
        "id": "KNbWn3_55BEc"
      },
      "source": [
        "### normal"
      ]
    },
    {
      "cell_type": "code",
      "metadata": {
        "id": "1Ua9WB0i5acX"
      },
      "source": [
        "lst = []\n",
        "for i in range(1000):\n",
        "  numb = str(i)\n",
        "  name = \"0\"*(5 - len(numb)) + numb + \".png\"\n",
        "  if name not in os.listdir(normal_train):\n",
        "    lst.append(i)"
      ],
      "execution_count": null,
      "outputs": []
    },
    {
      "cell_type": "code",
      "metadata": {
        "id": "AGStpOKW4Bb4"
      },
      "source": [
        "normal_df = pd.read_csv(os.path.join(normal_train, \"normal.csv\"))\n",
        "normal_df.drop(lst, axis=0, inplace=True)\n",
        "\n",
        "x = load(normal_train)\n",
        "y = normal_df['NumCircles'].values\n",
        "\n",
        "x_train, x_test, y_train, y_test = train_test_split(x, y, random_state=42, test_size=0.2, shuffle=False)"
      ],
      "execution_count": null,
      "outputs": []
    },
    {
      "cell_type": "code",
      "metadata": {
        "colab": {
          "base_uri": "https://localhost:8080/"
        },
        "id": "Q0Nmg5wh51eJ",
        "outputId": "74da0daa-7073-4e10-a229-d1616b589db0"
      },
      "source": [
        "x_train = x_train / 255.\n",
        "x_test = x_test / 255.\n",
        "\n",
        "mcp_save = ModelCheckpoint('mdl_wts.hdf5', save_best_only=True, monitor='val_loss', mode='min')\n",
        "\n",
        "model.fit(x_train, y_train, batch_size=32, epochs=10, callbacks=[mcp_save], validation_data=(x_test, y_test))\n",
        "\n",
        "model.load_weights(filepath = 'mdl_wts.hdf5')"
      ],
      "execution_count": null,
      "outputs": [
        {
          "output_type": "stream",
          "text": [
            "Epoch 1/10\n",
            "25/25 [==============================] - 9s 368ms/step - loss: 228.8013 - rmse: 15.1262 - val_loss: 94.3474 - val_rmse: 9.7133\n",
            "Epoch 2/10\n",
            "25/25 [==============================] - 7s 281ms/step - loss: 60.1109 - rmse: 7.7531 - val_loss: 38.9373 - val_rmse: 6.2400\n",
            "Epoch 3/10\n",
            "25/25 [==============================] - 7s 275ms/step - loss: 27.9502 - rmse: 5.2868 - val_loss: 22.0081 - val_rmse: 4.6913\n",
            "Epoch 4/10\n",
            "25/25 [==============================] - 7s 266ms/step - loss: 18.2876 - rmse: 4.2764 - val_loss: 17.8737 - val_rmse: 4.2277\n",
            "Epoch 5/10\n",
            "25/25 [==============================] - 7s 262ms/step - loss: 15.2171 - rmse: 3.9009 - val_loss: 17.1232 - val_rmse: 4.1380\n",
            "Epoch 6/10\n",
            "25/25 [==============================] - 6s 258ms/step - loss: 12.9336 - rmse: 3.5963 - val_loss: 12.0656 - val_rmse: 3.4736\n",
            "Epoch 7/10\n",
            "25/25 [==============================] - 6s 256ms/step - loss: 10.7978 - rmse: 3.2860 - val_loss: 10.9968 - val_rmse: 3.3161\n",
            "Epoch 8/10\n",
            "25/25 [==============================] - 6s 257ms/step - loss: 10.0563 - rmse: 3.1712 - val_loss: 10.4335 - val_rmse: 3.2301\n",
            "Epoch 9/10\n",
            "25/25 [==============================] - 6s 252ms/step - loss: 11.2606 - rmse: 3.3557 - val_loss: 14.3901 - val_rmse: 3.7934\n",
            "Epoch 10/10\n",
            "25/25 [==============================] - 6s 253ms/step - loss: 9.0124 - rmse: 3.0021 - val_loss: 13.9124 - val_rmse: 3.7299\n"
          ],
          "name": "stdout"
        }
      ]
    },
    {
      "cell_type": "code",
      "metadata": {
        "id": "Dkxve-RU54dg"
      },
      "source": [
        "test = load(normal_test)\n",
        "test = test / 255."
      ],
      "execution_count": null,
      "outputs": []
    },
    {
      "cell_type": "code",
      "metadata": {
        "id": "yBGhNA3h56m8"
      },
      "source": [
        "predictions = model.predict(test)\n",
        "pred = np.array(predictions, dtype=np.int32)"
      ],
      "execution_count": null,
      "outputs": []
    },
    {
      "cell_type": "code",
      "metadata": {
        "id": "J5v-Cr-57F6K"
      },
      "source": [
        "normal_sub = pd.DataFrame(np.arange(500), np.zeros(500))\n",
        "normal_sub.reset_index(inplace=True)\n",
        "normal_sub.columns = ['NumCircles', 'pic']\n",
        "normal_sub = normal_sub[['pic', 'NumCircles']]\n",
        "pred = pred.reshape(-1)\n",
        "mn = int(pred.mean())\n",
        "normal_sub['NumCircles'] = pred\n",
        "normal_sub.to_csv('normal_sub.csv', index=False)"
      ],
      "execution_count": null,
      "outputs": []
    },
    {
      "cell_type": "code",
      "metadata": {
        "colab": {
          "base_uri": "https://localhost:8080/",
          "height": 419
        },
        "id": "9_npCfXV-kFL",
        "outputId": "88b070b2-6dda-47be-b525-ff2ba0854abd"
      },
      "source": [
        "t = pd.read_csv('normal_sub.csv')\n",
        "t"
      ],
      "execution_count": null,
      "outputs": [
        {
          "output_type": "execute_result",
          "data": {
            "text/html": [
              "<div>\n",
              "<style scoped>\n",
              "    .dataframe tbody tr th:only-of-type {\n",
              "        vertical-align: middle;\n",
              "    }\n",
              "\n",
              "    .dataframe tbody tr th {\n",
              "        vertical-align: top;\n",
              "    }\n",
              "\n",
              "    .dataframe thead th {\n",
              "        text-align: right;\n",
              "    }\n",
              "</style>\n",
              "<table border=\"1\" class=\"dataframe\">\n",
              "  <thead>\n",
              "    <tr style=\"text-align: right;\">\n",
              "      <th></th>\n",
              "      <th>pic</th>\n",
              "      <th>NumCircles</th>\n",
              "    </tr>\n",
              "  </thead>\n",
              "  <tbody>\n",
              "    <tr>\n",
              "      <th>0</th>\n",
              "      <td>0</td>\n",
              "      <td>24</td>\n",
              "    </tr>\n",
              "    <tr>\n",
              "      <th>1</th>\n",
              "      <td>1</td>\n",
              "      <td>42</td>\n",
              "    </tr>\n",
              "    <tr>\n",
              "      <th>2</th>\n",
              "      <td>2</td>\n",
              "      <td>46</td>\n",
              "    </tr>\n",
              "    <tr>\n",
              "      <th>3</th>\n",
              "      <td>3</td>\n",
              "      <td>40</td>\n",
              "    </tr>\n",
              "    <tr>\n",
              "      <th>4</th>\n",
              "      <td>4</td>\n",
              "      <td>48</td>\n",
              "    </tr>\n",
              "    <tr>\n",
              "      <th>...</th>\n",
              "      <td>...</td>\n",
              "      <td>...</td>\n",
              "    </tr>\n",
              "    <tr>\n",
              "      <th>495</th>\n",
              "      <td>495</td>\n",
              "      <td>49</td>\n",
              "    </tr>\n",
              "    <tr>\n",
              "      <th>496</th>\n",
              "      <td>496</td>\n",
              "      <td>27</td>\n",
              "    </tr>\n",
              "    <tr>\n",
              "      <th>497</th>\n",
              "      <td>497</td>\n",
              "      <td>33</td>\n",
              "    </tr>\n",
              "    <tr>\n",
              "      <th>498</th>\n",
              "      <td>498</td>\n",
              "      <td>47</td>\n",
              "    </tr>\n",
              "    <tr>\n",
              "      <th>499</th>\n",
              "      <td>499</td>\n",
              "      <td>32</td>\n",
              "    </tr>\n",
              "  </tbody>\n",
              "</table>\n",
              "<p>500 rows × 2 columns</p>\n",
              "</div>"
            ],
            "text/plain": [
              "     pic  NumCircles\n",
              "0      0          24\n",
              "1      1          42\n",
              "2      2          46\n",
              "3      3          40\n",
              "4      4          48\n",
              "..   ...         ...\n",
              "495  495          49\n",
              "496  496          27\n",
              "497  497          33\n",
              "498  498          47\n",
              "499  499          32\n",
              "\n",
              "[500 rows x 2 columns]"
            ]
          },
          "metadata": {
            "tags": []
          },
          "execution_count": 35
        }
      ]
    },
    {
      "cell_type": "markdown",
      "metadata": {
        "id": "PmgTTjHY-zQt"
      },
      "source": [
        "### hard"
      ]
    },
    {
      "cell_type": "code",
      "metadata": {
        "colab": {
          "base_uri": "https://localhost:8080/"
        },
        "id": "lU90_X8E92X8",
        "outputId": "22f58908-e776-4ef3-f5fb-6d034c5806e0"
      },
      "source": [
        "lst = []\n",
        "for i in range(1000):\n",
        "  numb = str(i)\n",
        "  name = \"0\"*(5 - len(numb)) + numb + \".png\"\n",
        "  if name not in os.listdir(hard_train):\n",
        "    lst.append(i)\n",
        "lst"
      ],
      "execution_count": null,
      "outputs": [
        {
          "output_type": "execute_result",
          "data": {
            "text/plain": [
              "[223, 400, 719, 796]"
            ]
          },
          "metadata": {
            "tags": []
          },
          "execution_count": 7
        }
      ]
    },
    {
      "cell_type": "code",
      "metadata": {
        "id": "WEWjbm9-8QYp"
      },
      "source": [
        "hard_df = pd.read_csv(os.path.join(hard_train, \"hard.csv\"))\n",
        "hard_df.drop(lst, axis=0, inplace=True)\n",
        "\n",
        "x = load(hard_train)\n",
        "y = hard_df['NumCircles'].values\n",
        "\n",
        "x_train, x_test, y_train, y_test = train_test_split(x, y, random_state=42, test_size=0.2, shuffle=False)"
      ],
      "execution_count": null,
      "outputs": []
    },
    {
      "cell_type": "code",
      "metadata": {
        "colab": {
          "base_uri": "https://localhost:8080/"
        },
        "id": "enIkPTFH_AoD",
        "outputId": "d72f67bd-06ed-4e53-8870-515ec6d48c3a"
      },
      "source": [
        "x_train = x_train / 255.\n",
        "x_test = x_test / 255.\n",
        "\n",
        "mcp_save = ModelCheckpoint('mdl_wts.hdf5', save_best_only=True, monitor='val_loss', mode='min')\n",
        "\n",
        "model.fit(x_train, y_train, batch_size=32, epochs=10, callbacks=[mcp_save], validation_data=(x_test, y_test))\n",
        "\n",
        "model.load_weights(filepath = 'mdl_wts.hdf5')"
      ],
      "execution_count": null,
      "outputs": [
        {
          "output_type": "stream",
          "text": [
            "Epoch 1/10\n",
            "25/25 [==============================] - 7s 293ms/step - loss: 320.0171 - rmse: 17.8890 - val_loss: 117.5546 - val_rmse: 10.8423\n",
            "Epoch 2/10\n",
            "25/25 [==============================] - 5s 216ms/step - loss: 73.8534 - rmse: 8.5938 - val_loss: 33.0442 - val_rmse: 5.7484\n",
            "Epoch 3/10\n",
            "25/25 [==============================] - 5s 216ms/step - loss: 22.4942 - rmse: 4.7428 - val_loss: 16.6035 - val_rmse: 4.0747\n",
            "Epoch 4/10\n",
            "25/25 [==============================] - 5s 218ms/step - loss: 14.0478 - rmse: 3.7480 - val_loss: 15.1864 - val_rmse: 3.8970\n",
            "Epoch 5/10\n",
            "25/25 [==============================] - 5s 217ms/step - loss: 12.2419 - rmse: 3.4988 - val_loss: 11.2975 - val_rmse: 3.3612\n",
            "Epoch 6/10\n",
            "25/25 [==============================] - 5s 216ms/step - loss: 10.0124 - rmse: 3.1642 - val_loss: 15.9397 - val_rmse: 3.9925\n",
            "Epoch 7/10\n",
            "25/25 [==============================] - 5s 216ms/step - loss: 9.5296 - rmse: 3.0870 - val_loss: 13.8846 - val_rmse: 3.7262\n",
            "Epoch 8/10\n",
            "25/25 [==============================] - 5s 219ms/step - loss: 8.7922 - rmse: 2.9652 - val_loss: 10.7949 - val_rmse: 3.2856\n",
            "Epoch 9/10\n",
            "25/25 [==============================] - 5s 217ms/step - loss: 7.9072 - rmse: 2.8120 - val_loss: 13.0847 - val_rmse: 3.6173\n",
            "Epoch 10/10\n",
            "25/25 [==============================] - 6s 221ms/step - loss: 6.6172 - rmse: 2.5724 - val_loss: 7.5659 - val_rmse: 2.7506\n"
          ],
          "name": "stdout"
        }
      ]
    },
    {
      "cell_type": "code",
      "metadata": {
        "colab": {
          "base_uri": "https://localhost:8080/"
        },
        "id": "HlOndqwM_Ak3",
        "outputId": "b37f858c-5cc0-465f-b77e-5eaf88cb4eef"
      },
      "source": [
        "lst = []\n",
        "for i in range(500):\n",
        "  numb = str(i)\n",
        "  name = \"0\"*(5 - len(numb)) + numb + \".png\"\n",
        "  if name not in os.listdir(hard_test):\n",
        "    lst.append(i)\n",
        "lst"
      ],
      "execution_count": null,
      "outputs": [
        {
          "output_type": "execute_result",
          "data": {
            "text/plain": [
              "[476]"
            ]
          },
          "metadata": {
            "tags": []
          },
          "execution_count": 10
        }
      ]
    },
    {
      "cell_type": "code",
      "metadata": {
        "id": "qNevGk5C_Ahr"
      },
      "source": [
        "test = load(hard_test)\n",
        "test = test / 255."
      ],
      "execution_count": null,
      "outputs": []
    },
    {
      "cell_type": "code",
      "metadata": {
        "id": "9NhiF8wH_KgI"
      },
      "source": [
        "predictions = model.predict(test)\n",
        "pred = np.array(predictions, dtype=np.int32)"
      ],
      "execution_count": null,
      "outputs": []
    },
    {
      "cell_type": "code",
      "metadata": {
        "colab": {
          "base_uri": "https://localhost:8080/"
        },
        "id": "fbUj_5GO_Kn1",
        "outputId": "cde96fed-10b9-49f5-bd0d-419316900fc0"
      },
      "source": [
        "hard_sub = pd.DataFrame(np.arange(500), np.zeros(500))\n",
        "hard_sub.reset_index(inplace=True)\n",
        "hard_sub.columns = ['NumCircles', 'pic']\n",
        "hard_sub = hard_sub[['pic', 'NumCircles']]\n",
        "pred = pred.reshape(-1)\n",
        "mn = int(pred.mean())\n",
        "hard_sub['NumCircles'].iloc[:476] = pred[:476]\n",
        "hard_sub['NumCircles'].iloc[476] = mn\n",
        "hard_sub['NumCircles'].iloc[477:] = pred[476:]\n",
        "hard_sub.to_csv('hard_sub.csv', index=False)"
      ],
      "execution_count": null,
      "outputs": [
        {
          "output_type": "stream",
          "text": [
            "/usr/local/lib/python3.6/dist-packages/pandas/core/indexing.py:670: SettingWithCopyWarning: \n",
            "A value is trying to be set on a copy of a slice from a DataFrame\n",
            "\n",
            "See the caveats in the documentation: https://pandas.pydata.org/pandas-docs/stable/user_guide/indexing.html#returning-a-view-versus-a-copy\n",
            "  iloc._setitem_with_indexer(indexer, value)\n"
          ],
          "name": "stderr"
        }
      ]
    },
    {
      "cell_type": "code",
      "metadata": {
        "colab": {
          "base_uri": "https://localhost:8080/",
          "height": 419
        },
        "id": "KDeCE_tW_KvT",
        "outputId": "b11a9923-70e6-473a-ac65-c4a1e8968970"
      },
      "source": [
        "t = pd.read_csv('hard_sub.csv')\n",
        "t"
      ],
      "execution_count": null,
      "outputs": [
        {
          "output_type": "execute_result",
          "data": {
            "text/html": [
              "<div>\n",
              "<style scoped>\n",
              "    .dataframe tbody tr th:only-of-type {\n",
              "        vertical-align: middle;\n",
              "    }\n",
              "\n",
              "    .dataframe tbody tr th {\n",
              "        vertical-align: top;\n",
              "    }\n",
              "\n",
              "    .dataframe thead th {\n",
              "        text-align: right;\n",
              "    }\n",
              "</style>\n",
              "<table border=\"1\" class=\"dataframe\">\n",
              "  <thead>\n",
              "    <tr style=\"text-align: right;\">\n",
              "      <th></th>\n",
              "      <th>pic</th>\n",
              "      <th>NumCircles</th>\n",
              "    </tr>\n",
              "  </thead>\n",
              "  <tbody>\n",
              "    <tr>\n",
              "      <th>0</th>\n",
              "      <td>0</td>\n",
              "      <td>37</td>\n",
              "    </tr>\n",
              "    <tr>\n",
              "      <th>1</th>\n",
              "      <td>1</td>\n",
              "      <td>52</td>\n",
              "    </tr>\n",
              "    <tr>\n",
              "      <th>2</th>\n",
              "      <td>2</td>\n",
              "      <td>37</td>\n",
              "    </tr>\n",
              "    <tr>\n",
              "      <th>3</th>\n",
              "      <td>3</td>\n",
              "      <td>53</td>\n",
              "    </tr>\n",
              "    <tr>\n",
              "      <th>4</th>\n",
              "      <td>4</td>\n",
              "      <td>43</td>\n",
              "    </tr>\n",
              "    <tr>\n",
              "      <th>...</th>\n",
              "      <td>...</td>\n",
              "      <td>...</td>\n",
              "    </tr>\n",
              "    <tr>\n",
              "      <th>495</th>\n",
              "      <td>495</td>\n",
              "      <td>24</td>\n",
              "    </tr>\n",
              "    <tr>\n",
              "      <th>496</th>\n",
              "      <td>496</td>\n",
              "      <td>27</td>\n",
              "    </tr>\n",
              "    <tr>\n",
              "      <th>497</th>\n",
              "      <td>497</td>\n",
              "      <td>39</td>\n",
              "    </tr>\n",
              "    <tr>\n",
              "      <th>498</th>\n",
              "      <td>498</td>\n",
              "      <td>24</td>\n",
              "    </tr>\n",
              "    <tr>\n",
              "      <th>499</th>\n",
              "      <td>499</td>\n",
              "      <td>34</td>\n",
              "    </tr>\n",
              "  </tbody>\n",
              "</table>\n",
              "<p>500 rows × 2 columns</p>\n",
              "</div>"
            ],
            "text/plain": [
              "     pic  NumCircles\n",
              "0      0          37\n",
              "1      1          52\n",
              "2      2          37\n",
              "3      3          53\n",
              "4      4          43\n",
              "..   ...         ...\n",
              "495  495          24\n",
              "496  496          27\n",
              "497  497          39\n",
              "498  498          24\n",
              "499  499          34\n",
              "\n",
              "[500 rows x 2 columns]"
            ]
          },
          "metadata": {
            "tags": []
          },
          "execution_count": 17
        }
      ]
    },
    {
      "cell_type": "markdown",
      "metadata": {
        "id": "wsPCZWvNC0JG"
      },
      "source": [
        "### random"
      ]
    },
    {
      "cell_type": "code",
      "metadata": {
        "colab": {
          "base_uri": "https://localhost:8080/"
        },
        "id": "qH6NPVEHCuKd",
        "outputId": "0b83ae4b-1461-4fab-e265-22e12d838428"
      },
      "source": [
        "lst = []\n",
        "for i in range(1000):\n",
        "  numb = str(i)\n",
        "  name = \"0\"*(5 - len(numb)) + numb + \".png\"\n",
        "  if name not in os.listdir(random):\n",
        "    lst.append(i)\n",
        "lst"
      ],
      "execution_count": null,
      "outputs": [
        {
          "output_type": "execute_result",
          "data": {
            "text/plain": [
              "[516]"
            ]
          },
          "metadata": {
            "tags": []
          },
          "execution_count": 20
        }
      ]
    },
    {
      "cell_type": "code",
      "metadata": {
        "id": "ZV4YTDCeC51b"
      },
      "source": [
        "random_df = pd.read_csv(os.path.join(random, \"random.csv\"))\n",
        "random_df.drop(lst, axis=0, inplace=True)\n",
        "\n",
        "x = load(random)\n",
        "y = random_df['NumCircles'].values\n",
        "\n",
        "x_train, x_test, y_train, y_test = train_test_split(x, y, random_state=42, test_size=0.2, shuffle=False)"
      ],
      "execution_count": null,
      "outputs": []
    },
    {
      "cell_type": "code",
      "metadata": {
        "colab": {
          "base_uri": "https://localhost:8080/"
        },
        "id": "dYQjh1rJC6Ck",
        "outputId": "95d8511d-83a1-4255-e29e-cadb3388bf24"
      },
      "source": [
        "x_train = x_train / 255.\n",
        "x_test = x_test / 255.\n",
        "\n",
        "mcp_save = ModelCheckpoint('mdl_wts.hdf5', save_best_only=True, monitor='val_loss', mode='min')\n",
        "\n",
        "model.fit(x_train, y_train, batch_size=32, epochs=10, callbacks=[mcp_save], validation_data=(x_test, y_test))\n",
        "\n",
        "model.load_weights(filepath = 'mdl_wts.hdf5')"
      ],
      "execution_count": null,
      "outputs": [
        {
          "output_type": "stream",
          "text": [
            "Epoch 1/10\n",
            "25/25 [==============================] - 8s 317ms/step - loss: 99.7671 - rmse: 9.9883 - val_loss: 48.7504 - val_rmse: 6.9822\n",
            "Epoch 2/10\n",
            "25/25 [==============================] - 6s 256ms/step - loss: 44.1633 - rmse: 6.6456 - val_loss: 38.1297 - val_rmse: 6.1749\n",
            "Epoch 3/10\n",
            "25/25 [==============================] - 6s 257ms/step - loss: 34.0991 - rmse: 5.8394 - val_loss: 37.4831 - val_rmse: 6.1223\n",
            "Epoch 4/10\n",
            "25/25 [==============================] - 6s 254ms/step - loss: 28.7455 - rmse: 5.3615 - val_loss: 31.4415 - val_rmse: 5.6073\n",
            "Epoch 5/10\n",
            "25/25 [==============================] - 6s 246ms/step - loss: 25.1156 - rmse: 5.0115 - val_loss: 30.5907 - val_rmse: 5.5309\n",
            "Epoch 6/10\n",
            "25/25 [==============================] - 6s 240ms/step - loss: 20.7832 - rmse: 4.5589 - val_loss: 32.9061 - val_rmse: 5.7364\n",
            "Epoch 7/10\n",
            "25/25 [==============================] - 6s 241ms/step - loss: 20.2437 - rmse: 4.4993 - val_loss: 29.2183 - val_rmse: 5.4054\n",
            "Epoch 8/10\n",
            "25/25 [==============================] - 6s 239ms/step - loss: 17.5620 - rmse: 4.1907 - val_loss: 27.6040 - val_rmse: 5.2540\n",
            "Epoch 9/10\n",
            "25/25 [==============================] - 6s 235ms/step - loss: 17.0259 - rmse: 4.1263 - val_loss: 28.0574 - val_rmse: 5.2969\n",
            "Epoch 10/10\n",
            "25/25 [==============================] - 6s 235ms/step - loss: 14.8279 - rmse: 3.8507 - val_loss: 27.9913 - val_rmse: 5.2907\n"
          ],
          "name": "stdout"
        }
      ]
    },
    {
      "cell_type": "code",
      "metadata": {
        "colab": {
          "base_uri": "https://localhost:8080/"
        },
        "id": "IPuDxnlUC5_w",
        "outputId": "8e68b9f5-eed0-43e6-b1c3-a43a9588fa6f"
      },
      "source": [
        "lst = []\n",
        "for i in range(500):\n",
        "  numb = str(i)\n",
        "  name = \"0\"*(5 - len(numb)) + numb + \".png\"\n",
        "  if name not in os.listdir(random_test):\n",
        "    lst.append(i)\n",
        "lst"
      ],
      "execution_count": null,
      "outputs": [
        {
          "output_type": "execute_result",
          "data": {
            "text/plain": [
              "[216, 248, 394]"
            ]
          },
          "metadata": {
            "tags": []
          },
          "execution_count": 23
        }
      ]
    },
    {
      "cell_type": "code",
      "metadata": {
        "id": "dMDaXHxcC583"
      },
      "source": [
        "test = load(random_test)\n",
        "test = test / 255."
      ],
      "execution_count": null,
      "outputs": []
    },
    {
      "cell_type": "code",
      "metadata": {
        "id": "nyta4xqcDMfL"
      },
      "source": [
        "predictions = model.predict(test)\n",
        "pred = np.array(predictions, dtype=np.int32)"
      ],
      "execution_count": null,
      "outputs": []
    },
    {
      "cell_type": "code",
      "metadata": {
        "colab": {
          "base_uri": "https://localhost:8080/"
        },
        "id": "7uW3cBkYDMqP",
        "outputId": "00f9c102-01e8-4da6-f0fc-54cf81e79b47"
      },
      "source": [
        "random_sub = pd.DataFrame(np.arange(500), np.zeros(500))\n",
        "random_sub.reset_index(inplace=True)\n",
        "random_sub.columns = ['NumCircles', 'pic']\n",
        "random_sub = random_sub[['pic', 'NumCircles']]\n",
        "pred = pred.reshape(-1)\n",
        "mn = int(pred.mean())\n",
        "random_sub['NumCircles'].iloc[:216] = pred[:216]\n",
        "random_sub['NumCircles'].iloc[216] = mn\n",
        "random_sub['NumCircles'].iloc[217:248] = pred[216:247]\n",
        "random_sub['NumCircles'].iloc[248] = mn\n",
        "random_sub['NumCircles'].iloc[249:394] = pred[247:392]\n",
        "random_sub['NumCircles'].iloc[394] = mn\n",
        "random_sub['NumCircles'].iloc[395:] = pred[392:]\n",
        "random_sub.to_csv('random_sub.csv', index=False)"
      ],
      "execution_count": null,
      "outputs": [
        {
          "output_type": "stream",
          "text": [
            "/usr/local/lib/python3.6/dist-packages/pandas/core/indexing.py:670: SettingWithCopyWarning: \n",
            "A value is trying to be set on a copy of a slice from a DataFrame\n",
            "\n",
            "See the caveats in the documentation: https://pandas.pydata.org/pandas-docs/stable/user_guide/indexing.html#returning-a-view-versus-a-copy\n",
            "  iloc._setitem_with_indexer(indexer, value)\n"
          ],
          "name": "stderr"
        }
      ]
    },
    {
      "cell_type": "code",
      "metadata": {
        "colab": {
          "base_uri": "https://localhost:8080/",
          "height": 419
        },
        "id": "rsNGRCrqDM0v",
        "outputId": "dea32b6c-54af-4c95-8f09-f5f71af63ad5"
      },
      "source": [
        "t = pd.read_csv('random_sub.csv')\n",
        "t"
      ],
      "execution_count": null,
      "outputs": [
        {
          "output_type": "execute_result",
          "data": {
            "text/html": [
              "<div>\n",
              "<style scoped>\n",
              "    .dataframe tbody tr th:only-of-type {\n",
              "        vertical-align: middle;\n",
              "    }\n",
              "\n",
              "    .dataframe tbody tr th {\n",
              "        vertical-align: top;\n",
              "    }\n",
              "\n",
              "    .dataframe thead th {\n",
              "        text-align: right;\n",
              "    }\n",
              "</style>\n",
              "<table border=\"1\" class=\"dataframe\">\n",
              "  <thead>\n",
              "    <tr style=\"text-align: right;\">\n",
              "      <th></th>\n",
              "      <th>pic</th>\n",
              "      <th>NumCircles</th>\n",
              "    </tr>\n",
              "  </thead>\n",
              "  <tbody>\n",
              "    <tr>\n",
              "      <th>0</th>\n",
              "      <td>0</td>\n",
              "      <td>32</td>\n",
              "    </tr>\n",
              "    <tr>\n",
              "      <th>1</th>\n",
              "      <td>1</td>\n",
              "      <td>57</td>\n",
              "    </tr>\n",
              "    <tr>\n",
              "      <th>2</th>\n",
              "      <td>2</td>\n",
              "      <td>21</td>\n",
              "    </tr>\n",
              "    <tr>\n",
              "      <th>3</th>\n",
              "      <td>3</td>\n",
              "      <td>46</td>\n",
              "    </tr>\n",
              "    <tr>\n",
              "      <th>4</th>\n",
              "      <td>4</td>\n",
              "      <td>54</td>\n",
              "    </tr>\n",
              "    <tr>\n",
              "      <th>...</th>\n",
              "      <td>...</td>\n",
              "      <td>...</td>\n",
              "    </tr>\n",
              "    <tr>\n",
              "      <th>495</th>\n",
              "      <td>495</td>\n",
              "      <td>48</td>\n",
              "    </tr>\n",
              "    <tr>\n",
              "      <th>496</th>\n",
              "      <td>496</td>\n",
              "      <td>30</td>\n",
              "    </tr>\n",
              "    <tr>\n",
              "      <th>497</th>\n",
              "      <td>497</td>\n",
              "      <td>30</td>\n",
              "    </tr>\n",
              "    <tr>\n",
              "      <th>498</th>\n",
              "      <td>498</td>\n",
              "      <td>17</td>\n",
              "    </tr>\n",
              "    <tr>\n",
              "      <th>499</th>\n",
              "      <td>499</td>\n",
              "      <td>52</td>\n",
              "    </tr>\n",
              "  </tbody>\n",
              "</table>\n",
              "<p>500 rows × 2 columns</p>\n",
              "</div>"
            ],
            "text/plain": [
              "     pic  NumCircles\n",
              "0      0          32\n",
              "1      1          57\n",
              "2      2          21\n",
              "3      3          46\n",
              "4      4          54\n",
              "..   ...         ...\n",
              "495  495          48\n",
              "496  496          30\n",
              "497  497          30\n",
              "498  498          17\n",
              "499  499          52\n",
              "\n",
              "[500 rows x 2 columns]"
            ]
          },
          "metadata": {
            "tags": []
          },
          "execution_count": 33
        }
      ]
    },
    {
      "cell_type": "markdown",
      "metadata": {
        "id": "-DlQKHpXG3dP"
      },
      "source": [
        "### final_result"
      ]
    },
    {
      "cell_type": "code",
      "metadata": {
        "id": "iO1KaLDtGEWl"
      },
      "source": [
        "simple = pd.read_csv('simple_sub.csv')\n",
        "normal = pd.read_csv('normal_sub.csv')\n",
        "hard = pd.read_csv('hard_sub.csv')\n",
        "random = pd.read_csv('random_sub.csv')"
      ],
      "execution_count": null,
      "outputs": []
    },
    {
      "cell_type": "code",
      "metadata": {
        "id": "HzwoAiz0HKoB"
      },
      "source": [
        "simple.drop(['pic'], axis=1, inplace=True)\n",
        "simple.reset_index(inplace=True)\n",
        "simple.columns = ['pic', 'NumCircles']"
      ],
      "execution_count": null,
      "outputs": []
    },
    {
      "cell_type": "code",
      "metadata": {
        "colab": {
          "base_uri": "https://localhost:8080/",
          "height": 419
        },
        "id": "S3fdDpCfHO0P",
        "outputId": "e90af499-7b6a-4d2e-895c-7b8eaf119f98"
      },
      "source": [
        "simple"
      ],
      "execution_count": null,
      "outputs": [
        {
          "output_type": "execute_result",
          "data": {
            "text/html": [
              "<div>\n",
              "<style scoped>\n",
              "    .dataframe tbody tr th:only-of-type {\n",
              "        vertical-align: middle;\n",
              "    }\n",
              "\n",
              "    .dataframe tbody tr th {\n",
              "        vertical-align: top;\n",
              "    }\n",
              "\n",
              "    .dataframe thead th {\n",
              "        text-align: right;\n",
              "    }\n",
              "</style>\n",
              "<table border=\"1\" class=\"dataframe\">\n",
              "  <thead>\n",
              "    <tr style=\"text-align: right;\">\n",
              "      <th></th>\n",
              "      <th>pic</th>\n",
              "      <th>NumCircles</th>\n",
              "    </tr>\n",
              "  </thead>\n",
              "  <tbody>\n",
              "    <tr>\n",
              "      <th>0</th>\n",
              "      <td>0</td>\n",
              "      <td>45.0</td>\n",
              "    </tr>\n",
              "    <tr>\n",
              "      <th>1</th>\n",
              "      <td>1</td>\n",
              "      <td>29.0</td>\n",
              "    </tr>\n",
              "    <tr>\n",
              "      <th>2</th>\n",
              "      <td>2</td>\n",
              "      <td>29.0</td>\n",
              "    </tr>\n",
              "    <tr>\n",
              "      <th>3</th>\n",
              "      <td>3</td>\n",
              "      <td>9.0</td>\n",
              "    </tr>\n",
              "    <tr>\n",
              "      <th>4</th>\n",
              "      <td>4</td>\n",
              "      <td>38.0</td>\n",
              "    </tr>\n",
              "    <tr>\n",
              "      <th>...</th>\n",
              "      <td>...</td>\n",
              "      <td>...</td>\n",
              "    </tr>\n",
              "    <tr>\n",
              "      <th>495</th>\n",
              "      <td>495</td>\n",
              "      <td>34.0</td>\n",
              "    </tr>\n",
              "    <tr>\n",
              "      <th>496</th>\n",
              "      <td>496</td>\n",
              "      <td>26.0</td>\n",
              "    </tr>\n",
              "    <tr>\n",
              "      <th>497</th>\n",
              "      <td>497</td>\n",
              "      <td>37.0</td>\n",
              "    </tr>\n",
              "    <tr>\n",
              "      <th>498</th>\n",
              "      <td>498</td>\n",
              "      <td>17.0</td>\n",
              "    </tr>\n",
              "    <tr>\n",
              "      <th>499</th>\n",
              "      <td>499</td>\n",
              "      <td>32.0</td>\n",
              "    </tr>\n",
              "  </tbody>\n",
              "</table>\n",
              "<p>500 rows × 2 columns</p>\n",
              "</div>"
            ],
            "text/plain": [
              "     pic  NumCircles\n",
              "0      0        45.0\n",
              "1      1        29.0\n",
              "2      2        29.0\n",
              "3      3         9.0\n",
              "4      4        38.0\n",
              "..   ...         ...\n",
              "495  495        34.0\n",
              "496  496        26.0\n",
              "497  497        37.0\n",
              "498  498        17.0\n",
              "499  499        32.0\n",
              "\n",
              "[500 rows x 2 columns]"
            ]
          },
          "metadata": {
            "tags": []
          },
          "execution_count": 46
        }
      ]
    },
    {
      "cell_type": "code",
      "metadata": {
        "id": "96ChWktXHwz6"
      },
      "source": [
        "with open('final_submit.csv', 'w') as f:\n",
        "  f.writelines('simple\\n')\n",
        "  for i in range(simple.shape[0]):\n",
        "    f.writelines(str(int(simple.iloc[i]['pic'])) + \" \" + str(int(simple.iloc[i]['NumCircles'])) + \"\\n\")\n",
        "\n",
        "  f.writelines('normal\\n')\n",
        "  for i in range(normal.shape[0]):\n",
        "    f.writelines(str(int(normal.iloc[i]['pic'])) + \" \" + str(int(normal.iloc[i]['NumCircles'])) + \"\\n\")\n",
        "\n",
        "  f.writelines('hard\\n')\n",
        "  for i in range(hard.shape[0]):\n",
        "    f.writelines(str(int(hard.iloc[i]['pic'])) + \" \" + str(int(hard.iloc[i]['NumCircles'])) + \"\\n\")\n",
        "\n",
        "  f.writelines('random\\n')\n",
        "  for i in range(random.shape[0]):\n",
        "    f.writelines(str(int(random.iloc[i]['pic'])) + \" \" + str(int(random.iloc[i]['NumCircles'])) + \"\\n\")"
      ],
      "execution_count": null,
      "outputs": []
    },
    {
      "cell_type": "code",
      "metadata": {
        "colab": {
          "base_uri": "https://localhost:8080/"
        },
        "id": "l45OY979IcIx",
        "outputId": "e09cbb0d-6c6d-4189-e707-ed89115bfa70"
      },
      "source": [
        "for i in range(simple.shape[0]):\n",
        "  print(simple.iloc[i]['pic'], simple.iloc[i]['NumCircles'])"
      ],
      "execution_count": null,
      "outputs": [
        {
          "output_type": "stream",
          "text": [
            "0.0 45.0\n",
            "1.0 29.0\n",
            "2.0 29.0\n",
            "3.0 9.0\n",
            "4.0 38.0\n",
            "5.0 13.0\n",
            "6.0 20.0\n",
            "7.0 25.0\n",
            "8.0 39.0\n",
            "9.0 26.0\n",
            "10.0 38.0\n",
            "11.0 34.0\n",
            "12.0 30.0\n",
            "13.0 19.0\n",
            "14.0 13.0\n",
            "15.0 18.0\n",
            "16.0 21.0\n",
            "17.0 21.0\n",
            "18.0 31.0\n",
            "19.0 10.0\n",
            "20.0 39.0\n",
            "21.0 34.0\n",
            "22.0 26.0\n",
            "23.0 29.0\n",
            "24.0 26.0\n",
            "25.0 42.0\n",
            "26.0 11.0\n",
            "27.0 18.0\n",
            "28.0 37.0\n",
            "29.0 13.0\n",
            "30.0 33.0\n",
            "31.0 29.0\n",
            "32.0 36.0\n",
            "33.0 40.0\n",
            "34.0 30.0\n",
            "35.0 34.0\n",
            "36.0 38.0\n",
            "37.0 14.0\n",
            "38.0 40.0\n",
            "39.0 22.0\n",
            "40.0 42.0\n",
            "41.0 26.0\n",
            "42.0 43.0\n",
            "43.0 13.0\n",
            "44.0 32.0\n",
            "45.0 18.0\n",
            "46.0 39.0\n",
            "47.0 10.0\n",
            "48.0 37.0\n",
            "49.0 18.0\n",
            "50.0 45.0\n",
            "51.0 41.0\n",
            "52.0 18.0\n",
            "53.0 26.0\n",
            "54.0 23.0\n",
            "55.0 21.0\n",
            "56.0 24.0\n",
            "57.0 44.0\n",
            "58.0 29.0\n",
            "59.0 21.0\n",
            "60.0 25.0\n",
            "61.0 35.0\n",
            "62.0 42.0\n",
            "63.0 20.0\n",
            "64.0 38.0\n",
            "65.0 41.0\n",
            "66.0 38.0\n",
            "67.0 17.0\n",
            "68.0 26.0\n",
            "69.0 14.0\n",
            "70.0 38.0\n",
            "71.0 26.0\n",
            "72.0 34.0\n",
            "73.0 41.0\n",
            "74.0 9.0\n",
            "75.0 21.0\n",
            "76.0 11.0\n",
            "77.0 42.0\n",
            "78.0 17.0\n",
            "79.0 42.0\n",
            "80.0 12.0\n",
            "81.0 25.0\n",
            "82.0 38.0\n",
            "83.0 44.0\n",
            "84.0 21.0\n",
            "85.0 39.0\n",
            "86.0 24.0\n",
            "87.0 43.0\n",
            "88.0 33.0\n",
            "89.0 42.0\n",
            "90.0 21.0\n",
            "91.0 25.0\n",
            "92.0 27.0\n",
            "93.0 37.0\n",
            "94.0 39.0\n",
            "95.0 43.0\n",
            "96.0 39.0\n",
            "97.0 11.0\n",
            "98.0 42.0\n",
            "99.0 25.0\n",
            "100.0 39.0\n",
            "101.0 38.0\n",
            "102.0 38.0\n",
            "103.0 31.0\n",
            "104.0 36.0\n",
            "105.0 41.0\n",
            "106.0 38.0\n",
            "107.0 43.0\n",
            "108.0 42.0\n",
            "109.0 21.0\n",
            "110.0 30.0\n",
            "111.0 35.0\n",
            "112.0 42.0\n",
            "113.0 45.0\n",
            "114.0 28.0\n",
            "115.0 40.0\n",
            "116.0 32.0\n",
            "117.0 44.0\n",
            "118.0 25.0\n",
            "119.0 17.0\n",
            "120.0 11.0\n",
            "121.0 27.0\n",
            "122.0 42.0\n",
            "123.0 29.0\n",
            "124.0 10.0\n",
            "125.0 19.0\n",
            "126.0 42.0\n",
            "127.0 39.0\n",
            "128.0 38.0\n",
            "129.0 22.0\n",
            "130.0 10.0\n",
            "131.0 39.0\n",
            "132.0 14.0\n",
            "133.0 44.0\n",
            "134.0 35.0\n",
            "135.0 35.0\n",
            "136.0 41.0\n",
            "137.0 14.0\n",
            "138.0 18.0\n",
            "139.0 35.0\n",
            "140.0 39.0\n",
            "141.0 29.0\n",
            "142.0 41.0\n",
            "143.0 41.0\n",
            "144.0 15.0\n",
            "145.0 36.0\n",
            "146.0 22.0\n",
            "147.0 18.0\n",
            "148.0 20.0\n",
            "149.0 39.0\n",
            "150.0 37.0\n",
            "151.0 18.0\n",
            "152.0 42.0\n",
            "153.0 27.0\n",
            "154.0 32.0\n",
            "155.0 45.0\n",
            "156.0 41.0\n",
            "157.0 39.0\n",
            "158.0 42.0\n",
            "159.0 36.0\n",
            "160.0 33.0\n",
            "161.0 36.0\n",
            "162.0 22.0\n",
            "163.0 30.0\n",
            "164.0 35.0\n",
            "165.0 17.0\n",
            "166.0 19.0\n",
            "167.0 42.0\n",
            "168.0 18.0\n",
            "169.0 17.0\n",
            "170.0 24.0\n",
            "171.0 44.0\n",
            "172.0 41.0\n",
            "173.0 29.0\n",
            "174.0 16.0\n",
            "175.0 19.0\n",
            "176.0 43.0\n",
            "177.0 32.0\n",
            "178.0 14.0\n",
            "179.0 42.0\n",
            "180.0 16.0\n",
            "181.0 29.0\n",
            "182.0 11.0\n",
            "183.0 22.0\n",
            "184.0 11.0\n",
            "185.0 17.0\n",
            "186.0 23.0\n",
            "187.0 42.0\n",
            "188.0 43.0\n",
            "189.0 38.0\n",
            "190.0 41.0\n",
            "191.0 37.0\n",
            "192.0 13.0\n",
            "193.0 40.0\n",
            "194.0 16.0\n",
            "195.0 14.0\n",
            "196.0 29.0\n",
            "197.0 31.0\n",
            "198.0 24.0\n",
            "199.0 15.0\n",
            "200.0 36.0\n",
            "201.0 44.0\n",
            "202.0 34.0\n",
            "203.0 39.0\n",
            "204.0 37.0\n",
            "205.0 13.0\n",
            "206.0 33.0\n",
            "207.0 36.0\n",
            "208.0 31.0\n",
            "209.0 29.0\n",
            "210.0 42.0\n",
            "211.0 14.0\n",
            "212.0 32.0\n",
            "213.0 40.0\n",
            "214.0 32.0\n",
            "215.0 43.0\n",
            "216.0 29.0\n",
            "217.0 19.0\n",
            "218.0 23.0\n",
            "219.0 45.0\n",
            "220.0 25.0\n",
            "221.0 33.0\n",
            "222.0 11.0\n",
            "223.0 15.0\n",
            "224.0 18.0\n",
            "225.0 40.0\n",
            "226.0 24.0\n",
            "227.0 11.0\n",
            "228.0 43.0\n",
            "229.0 45.0\n",
            "230.0 16.0\n",
            "231.0 32.0\n",
            "232.0 15.0\n",
            "233.0 20.0\n",
            "234.0 22.0\n",
            "235.0 35.0\n",
            "236.0 37.0\n",
            "237.0 29.0\n",
            "238.0 43.0\n",
            "239.0 38.0\n",
            "240.0 39.0\n",
            "241.0 38.0\n",
            "242.0 27.0\n",
            "243.0 10.0\n",
            "244.0 40.0\n",
            "245.0 38.0\n",
            "246.0 46.0\n",
            "247.0 39.0\n",
            "248.0 38.0\n",
            "249.0 34.0\n",
            "250.0 38.0\n",
            "251.0 12.0\n",
            "252.0 32.0\n",
            "253.0 38.0\n",
            "254.0 21.0\n",
            "255.0 36.0\n",
            "256.0 42.0\n",
            "257.0 42.0\n",
            "258.0 28.0\n",
            "259.0 37.0\n",
            "260.0 15.0\n",
            "261.0 33.0\n",
            "262.0 37.0\n",
            "263.0 33.0\n",
            "264.0 15.0\n",
            "265.0 30.0\n",
            "266.0 42.0\n",
            "267.0 16.0\n",
            "268.0 36.0\n",
            "269.0 14.0\n",
            "270.0 37.0\n",
            "271.0 37.0\n",
            "272.0 24.0\n",
            "273.0 25.0\n",
            "274.0 24.0\n",
            "275.0 11.0\n",
            "276.0 38.0\n",
            "277.0 40.0\n",
            "278.0 38.0\n",
            "279.0 44.0\n",
            "280.0 40.0\n",
            "281.0 44.0\n",
            "282.0 21.0\n",
            "283.0 23.0\n",
            "284.0 46.0\n",
            "285.0 20.0\n",
            "286.0 40.0\n",
            "287.0 45.0\n",
            "288.0 39.0\n",
            "289.0 27.0\n",
            "290.0 20.0\n",
            "291.0 15.0\n",
            "292.0 14.0\n",
            "293.0 45.0\n",
            "294.0 40.0\n",
            "295.0 16.0\n",
            "296.0 23.0\n",
            "297.0 12.0\n",
            "298.0 43.0\n",
            "299.0 30.0\n",
            "300.0 36.0\n",
            "301.0 22.0\n",
            "302.0 36.0\n",
            "303.0 20.0\n",
            "304.0 33.0\n",
            "305.0 35.0\n",
            "306.0 42.0\n",
            "307.0 43.0\n",
            "308.0 19.0\n",
            "309.0 38.0\n",
            "310.0 38.0\n",
            "311.0 28.0\n",
            "312.0 27.0\n",
            "313.0 30.0\n",
            "314.0 32.0\n",
            "315.0 37.0\n",
            "316.0 17.0\n",
            "317.0 45.0\n",
            "318.0 18.0\n",
            "319.0 41.0\n",
            "320.0 38.0\n",
            "321.0 16.0\n",
            "322.0 42.0\n",
            "323.0 22.0\n",
            "324.0 14.0\n",
            "325.0 15.0\n",
            "326.0 32.0\n",
            "327.0 43.0\n",
            "328.0 37.0\n",
            "329.0 39.0\n",
            "330.0 20.0\n",
            "331.0 20.0\n",
            "332.0 13.0\n",
            "333.0 31.0\n",
            "334.0 24.0\n",
            "335.0 43.0\n",
            "336.0 34.0\n",
            "337.0 30.0\n",
            "338.0 35.0\n",
            "339.0 38.0\n",
            "340.0 13.0\n",
            "341.0 45.0\n",
            "342.0 31.0\n",
            "343.0 37.0\n",
            "344.0 27.0\n",
            "345.0 20.0\n",
            "346.0 41.0\n",
            "347.0 19.0\n",
            "348.0 43.0\n",
            "349.0 27.0\n",
            "350.0 42.0\n",
            "351.0 20.0\n",
            "352.0 45.0\n",
            "353.0 44.0\n",
            "354.0 19.0\n",
            "355.0 16.0\n",
            "356.0 34.0\n",
            "357.0 24.0\n",
            "358.0 17.0\n",
            "359.0 35.0\n",
            "360.0 25.0\n",
            "361.0 32.0\n",
            "362.0 34.0\n",
            "363.0 32.0\n",
            "364.0 19.0\n",
            "365.0 32.0\n",
            "366.0 43.0\n",
            "367.0 26.0\n",
            "368.0 14.0\n",
            "369.0 30.0\n",
            "370.0 47.0\n",
            "371.0 34.0\n",
            "372.0 41.0\n",
            "373.0 35.0\n",
            "374.0 30.0\n",
            "375.0 28.0\n",
            "376.0 20.0\n",
            "377.0 20.0\n",
            "378.0 34.0\n",
            "379.0 37.0\n",
            "380.0 34.0\n",
            "381.0 9.0\n",
            "382.0 13.0\n",
            "383.0 40.0\n",
            "384.0 38.0\n",
            "385.0 41.0\n",
            "386.0 25.0\n",
            "387.0 35.0\n",
            "388.0 14.0\n",
            "389.0 26.0\n",
            "390.0 44.0\n",
            "391.0 12.0\n",
            "392.0 38.0\n",
            "393.0 29.0\n",
            "394.0 34.0\n",
            "395.0 42.0\n",
            "396.0 39.0\n",
            "397.0 31.0\n",
            "398.0 39.0\n",
            "399.0 15.0\n",
            "400.0 30.0\n",
            "401.0 28.0\n",
            "402.0 13.0\n",
            "403.0 31.0\n",
            "404.0 30.0\n",
            "405.0 39.0\n",
            "406.0 21.0\n",
            "407.0 15.0\n",
            "408.0 14.0\n",
            "409.0 14.0\n",
            "410.0 30.0\n",
            "411.0 41.0\n",
            "412.0 42.0\n",
            "413.0 25.0\n",
            "414.0 13.0\n",
            "415.0 41.0\n",
            "416.0 23.0\n",
            "417.0 27.0\n",
            "418.0 33.0\n",
            "419.0 35.0\n",
            "420.0 11.0\n",
            "421.0 35.0\n",
            "422.0 19.0\n",
            "423.0 42.0\n",
            "424.0 32.0\n",
            "425.0 13.0\n",
            "426.0 38.0\n",
            "427.0 16.0\n",
            "428.0 25.0\n",
            "429.0 11.0\n",
            "430.0 38.0\n",
            "431.0 26.0\n",
            "432.0 14.0\n",
            "433.0 34.0\n",
            "434.0 34.0\n",
            "435.0 42.0\n",
            "436.0 36.0\n",
            "437.0 16.0\n",
            "438.0 16.0\n",
            "439.0 43.0\n",
            "440.0 28.0\n",
            "441.0 45.0\n",
            "442.0 14.0\n",
            "443.0 37.0\n",
            "444.0 16.0\n",
            "445.0 35.0\n",
            "446.0 26.0\n",
            "447.0 44.0\n",
            "448.0 33.0\n",
            "449.0 13.0\n",
            "450.0 24.0\n",
            "451.0 21.0\n",
            "452.0 40.0\n",
            "453.0 32.0\n",
            "454.0 33.0\n",
            "455.0 41.0\n",
            "456.0 25.0\n",
            "457.0 15.0\n",
            "458.0 12.0\n",
            "459.0 25.0\n",
            "460.0 34.0\n",
            "461.0 42.0\n",
            "462.0 36.0\n",
            "463.0 15.0\n",
            "464.0 37.0\n",
            "465.0 29.0\n",
            "466.0 37.0\n",
            "467.0 18.0\n",
            "468.0 31.0\n",
            "469.0 40.0\n",
            "470.0 38.0\n",
            "471.0 37.0\n",
            "472.0 39.0\n",
            "473.0 35.0\n",
            "474.0 44.0\n",
            "475.0 34.0\n",
            "476.0 42.0\n",
            "477.0 32.0\n",
            "478.0 15.0\n",
            "479.0 15.0\n",
            "480.0 39.0\n",
            "481.0 28.0\n",
            "482.0 31.0\n",
            "483.0 42.0\n",
            "484.0 16.0\n",
            "485.0 9.0\n",
            "486.0 50.0\n",
            "487.0 35.0\n",
            "488.0 16.0\n",
            "489.0 37.0\n",
            "490.0 39.0\n",
            "491.0 37.0\n",
            "492.0 37.0\n",
            "493.0 11.0\n",
            "494.0 36.0\n",
            "495.0 34.0\n",
            "496.0 26.0\n",
            "497.0 37.0\n",
            "498.0 17.0\n",
            "499.0 32.0\n"
          ],
          "name": "stdout"
        }
      ]
    },
    {
      "cell_type": "code",
      "metadata": {
        "id": "Pqg2WVY9IoXc"
      },
      "source": [
        ""
      ],
      "execution_count": null,
      "outputs": []
    }
  ]
}