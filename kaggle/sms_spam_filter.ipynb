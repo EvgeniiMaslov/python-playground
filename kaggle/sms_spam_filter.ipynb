{
 "cells": [
  {
   "cell_type": "code",
   "execution_count": 75,
   "metadata": {},
   "outputs": [],
   "source": [
    "import pandas as pd\n",
    "import numpy as np\n",
    "\n",
    "from sklearn.feature_extraction.text import CountVectorizer, TfidfVectorizer\n",
    "from sklearn.linear_model import LogisticRegression\n",
    "from sklearn.naive_bayes import MultinomialNB\n",
    "from sklearn.model_selection import cross_val_score"
   ]
  },
  {
   "cell_type": "markdown",
   "metadata": {},
   "source": [
    "Считайте датасет в Python (можете сразу грузить все в память, выборка небольшая), выясните, что используется в качестве разделителей и как проставляются метки классов.\n",
    "\n",
    "Подготовьте для дальнейшей работы два списка: список текстов в порядке их следования в датасете и список соответствующих им меток классов. В качестве метки класса используйте 1 для спама и 0 для \"не спама\"."
   ]
  },
  {
   "cell_type": "code",
   "execution_count": 35,
   "metadata": {},
   "outputs": [
    {
     "name": "stdout",
     "output_type": "stream",
     "text": [
      "Ham count: 4827 \n",
      "Spam count: 747\n"
     ]
    }
   ],
   "source": [
    "filename = 'smsspamcollection/SMSSpamCollection.txt'\n",
    "\n",
    "\n",
    "\n",
    "with codecs.open(filename, \"r\", \"utf_8_sig\" ) as file:\n",
    "    text = file.readlines()\n",
    "\n",
    "y = []\n",
    "X = []\n",
    "for line in text:\n",
    "    line_target, line_features = line.split('\\t')\n",
    "    X.append(line_features.strip('\\n'))\n",
    "    y.append(line_target)\n",
    "    \n",
    "n_uniques = {}\n",
    "for label in y:\n",
    "    count = n_uniques.get(label, 0)\n",
    "    n_uniques[label] = count + 1\n",
    "    \n",
    "print(\"Ham count: {} \\nSpam count: {}\".format(n_uniques['ham'], n_uniques['spam']))\n",
    "\n",
    "y = list(map(lambda x: 1 if x == 'spam' else 0, y))"
   ]
  },
  {
   "cell_type": "markdown",
   "metadata": {},
   "source": [
    "Используя sklearn.feature_extraction.text.CountVectorizer со стандартными настройками, получите из списка текстов матрицу признаков X.\n",
    "\n",
    "Оцените качество классификации текстов с помощью LogisticRegression() с параметрами по умолчанию, используя sklearn.cross_validation.cross_val_score и посчитав среднее арифметическое качества на отдельных fold'ах. Установите random_state=2. Параметр cv задайте равным 10. В качестве метрики качества используйте f1-меру. Получившееся качество - один из ответов, которые потребуются при сдаче задания. Ответ округлить до 1 знака после запятой."
   ]
  },
  {
   "cell_type": "code",
   "execution_count": 53,
   "metadata": {},
   "outputs": [],
   "source": [
    "vectorizer = CountVectorizer()\n",
    "X_vec = vectorizer.fit_transform(X).toarray()\n",
    "\n",
    "log_model = LogisticRegression(random_state=2)\n",
    "score = cross_val_score(log_model, X_vec, y, cv=10, scoring=\"f1\").mean()\n",
    "\n",
    "print('Cross validation score: {}'.format(score))"
   ]
  },
  {
   "cell_type": "code",
   "execution_count": null,
   "metadata": {},
   "outputs": [],
   "source": [
    "with open('answer1.txt', 'w') as file:\n",
    "    file.write(str(round(score, 1)))"
   ]
  },
  {
   "cell_type": "markdown",
   "metadata": {},
   "source": [
    "А теперь обучите классификатор на всей выборке и спрогнозируйте с его помощью класс для следующих сообщений:\n",
    "\n",
    "\"FreeMsg: Txt: CALL to No: 86888 & claim your reward of 3 hours talk time to use from your phone now! Subscribe6GB\"\n",
    "\n",
    "\"FreeMsg: Txt: claim your reward of 3 hours talk time\"\n",
    "\n",
    "\"Have you visited the last lecture on physics?\"\n",
    "\n",
    "\"Have you visited the last lecture on physics? Just buy this book and you will have all materials! Only 99$\"\n",
    "\n",
    "\"Only 99$\"\n",
    "\n",
    "Прогнозы классификатора (0 - не спам, 1 - спам), записанные через пробел, будут ответом в одном из вопросов ниже."
   ]
  },
  {
   "cell_type": "code",
   "execution_count": 67,
   "metadata": {},
   "outputs": [],
   "source": [
    "log_model = LogisticRegression(random_state=42)\n",
    "log_model.fit(X_vec, y)\n",
    "\n",
    "X_test = [\"FreeMsg: Txt: CALL to No: 86888 & claim your reward of 3 hours talk time to use from your phone now! Subscribe6GB\",\n",
    "          \"FreeMsg: Txt: claim your reward of 3 hours talk time\",\n",
    "          \"Have you visited the last lecture on physics?\",\n",
    "          \"Have you visited the last lecture on physics? Just buy this book and you will have all materials! Only 99$\",\n",
    "          \"Only 99$\"]\n",
    "\n",
    "X_test_vec = vectorizer.transform(X_test).toarray()\n",
    "predictions = log_model.predict(X_test_vec)\n",
    "\n",
    "print('Classificator predictions: {}'.predict(predictions))"
   ]
  },
  {
   "cell_type": "code",
   "execution_count": 69,
   "metadata": {},
   "outputs": [],
   "source": [
    "with open('answer2.txt', 'w') as file:\n",
    "    file.write(' '.join(str(pred) for pred in predictions))"
   ]
  },
  {
   "cell_type": "markdown",
   "metadata": {},
   "source": [
    "Задайте в CountVectorizer параметр ngram_range=(2,2), затем ngram_range=(3,3), затем ngram_range=(1,3). Во всех трех случаях измерьте получившееся в кросс-валидации значение f1-меры, округлите до второго знака после точки, и выпишете результаты через пробел в том же порядке. В данном эксперименте мы пробовали добавлять в признаки n-граммы для разных диапазонов n - только биграммы, только триграммы, и, наконец, все вместе - униграммы, биграммы и триграммы. Обратите внимание, что статистики по биграммам и триграммам намного меньше, поэтому классификатор только на них работает хуже. В то же время это не ухудшает результат сколько-нибудь существенно, если добавлять их вместе с униграммами, т.к. за счет регуляризации линейный классификатор не склонен сильно переобучаться на этих признаках.\n"
   ]
  },
  {
   "cell_type": "code",
   "execution_count": 70,
   "metadata": {},
   "outputs": [
    {
     "name": "stdout",
     "output_type": "stream",
     "text": [
      "Wall time: 9min 4s\n"
     ]
    }
   ],
   "source": [
    "%%time\n",
    "vectorizers = [CountVectorizer(ngram_range=(2,2)),\n",
    "               CountVectorizer(ngram_range=(3,3)),\n",
    "               CountVectorizer(ngram_range=(1,3))]\n",
    "\n",
    "model = LogisticRegression()\n",
    "scores = []\n",
    "for vec in vectorizers:\n",
    "    X_vec_ngram = vec.fit_transform(X).toarray()\n",
    "    scores.append(cross_val_score(model, X_vec_ngram, y, cv=10, scoring='f1').mean())"
   ]
  },
  {
   "cell_type": "code",
   "execution_count": 72,
   "metadata": {},
   "outputs": [],
   "source": [
    "with open('answer3.txt', 'w') as file:\n",
    "    file.write(' '.join(str(round(score, 2)) for score in scores))"
   ]
  },
  {
   "cell_type": "markdown",
   "metadata": {},
   "source": [
    "Повторите аналогичный п.7 эксперимент, используя вместо логистической регрессии MultinomialNB(). Обратите внимание, насколько сильнее (по сравнению с линейным классификатором) наивный Байес страдает от нехватки статистики по биграммам и триграммам.\n",
    "\n",
    "По какой-то причине обучение наивного байесовского классификатора через Pipeline происходит с ошибкой. Чтобы получить правильный ответ, отдельно посчитайте частоты слов и обучите классификатор."
   ]
  },
  {
   "cell_type": "code",
   "execution_count": 74,
   "metadata": {},
   "outputs": [
    {
     "name": "stdout",
     "output_type": "stream",
     "text": [
      "Wall time: 5min 15s\n"
     ]
    }
   ],
   "source": [
    "%%time\n",
    "vectorizers = [CountVectorizer(ngram_range=(2,2)),\n",
    "               CountVectorizer(ngram_range=(3,3)),\n",
    "               CountVectorizer(ngram_range=(1,3))]\n",
    "\n",
    "model = MultinomialNB()\n",
    "scores = []\n",
    "for vec in vectorizers:\n",
    "    X_vec_ngram = vec.fit_transform(X).toarray()\n",
    "    scores.append(cross_val_score(model, X_vec_ngram, y, cv=10, scoring='f1').mean())"
   ]
  },
  {
   "cell_type": "code",
   "execution_count": 76,
   "metadata": {},
   "outputs": [],
   "source": [
    "with open('answer4.txt', 'w') as file:\n",
    "    file.write(' '.join(str(round(score, 2)) for score in scores))"
   ]
  },
  {
   "cell_type": "markdown",
   "metadata": {},
   "source": [
    "Попробуйте использовать в логистической регрессии в качестве признаков Tf*idf из TfidfVectorizer на униграммах. Повысилось или понизилось качество на кросс-валидации по сравнению с CountVectorizer на униграммах? (напишите в файле с ответом 1, если повысилось, -1, если понизилось, и 0, если изменилось не более чем на 0.01). Обратите внимание, что результат перехода к tf*idf не всегда будет таким - если вы наблюдаете какое-то явление на одном датасете, не надо сразу же его обобщать на любые данные."
   ]
  },
  {
   "cell_type": "code",
   "execution_count": 77,
   "metadata": {},
   "outputs": [
    {
     "name": "stdout",
     "output_type": "stream",
     "text": [
      "Cross validation score: 0.8528304419417478\n"
     ]
    }
   ],
   "source": [
    "vectorizer = TfidfVectorizer()\n",
    "X_vec = vectorizer.fit_transform(X).toarray()\n",
    "\n",
    "log_model = LogisticRegression(random_state=2)\n",
    "score = cross_val_score(log_model, X_vec, y, cv=10, scoring=\"f1\").mean()\n",
    "\n",
    "print('Cross validation score: {}'.format(score))"
   ]
  },
  {
   "cell_type": "code",
   "execution_count": null,
   "metadata": {},
   "outputs": [],
   "source": [
    "with open('answer5.txt', 'w') as file:\n",
    "    file.write(str(round(score, 1)))"
   ]
  }
 ],
 "metadata": {
  "kernelspec": {
   "display_name": "Python 3",
   "language": "python",
   "name": "python3"
  },
  "language_info": {
   "codemirror_mode": {
    "name": "ipython",
    "version": 3
   },
   "file_extension": ".py",
   "mimetype": "text/x-python",
   "name": "python",
   "nbconvert_exporter": "python",
   "pygments_lexer": "ipython3",
   "version": "3.7.7"
  }
 },
 "nbformat": 4,
 "nbformat_minor": 4
}
