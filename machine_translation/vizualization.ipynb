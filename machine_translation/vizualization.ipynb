{
 "cells": [
  {
   "cell_type": "code",
   "execution_count": 7,
   "id": "tracked-longitude",
   "metadata": {},
   "outputs": [],
   "source": [
    "import pandas as pd\n",
    "import numpy as np\n",
    "import os\n",
    "\n",
    "from src.config import CFG\n"
   ]
  },
  {
   "cell_type": "code",
   "execution_count": 18,
   "id": "extreme-hybrid",
   "metadata": {},
   "outputs": [],
   "source": [
    "train_fn = os.path.join(CFG.data_path, 'train_losses.npy')\n",
    "valid_fn = os.path.join(CFG.data_path, 'val_losses.npy')"
   ]
  },
  {
   "cell_type": "code",
   "execution_count": 19,
   "id": "diagnostic-anchor",
   "metadata": {},
   "outputs": [],
   "source": [
    "with open(train_fn, 'rb') as file:\n",
    "    train = np.load(file)\n",
    "    \n",
    "with open(valid_fn, 'rb') as file:\n",
    "    valid = np.load(file)"
   ]
  },
  {
   "cell_type": "code",
   "execution_count": 21,
   "id": "recent-hygiene",
   "metadata": {},
   "outputs": [
    {
     "data": {
      "text/plain": [
       "array([4.62367196, 3.46207903, 2.82979375, 2.41517896, 2.13367008])"
      ]
     },
     "execution_count": 21,
     "metadata": {},
     "output_type": "execute_result"
    }
   ],
   "source": [
    "train"
   ]
  },
  {
   "cell_type": "code",
   "execution_count": null,
   "id": "discrete-render",
   "metadata": {},
   "outputs": [],
   "source": []
  }
 ],
 "metadata": {
  "kernelspec": {
   "display_name": "Python 3",
   "language": "python",
   "name": "python3"
  },
  "language_info": {
   "codemirror_mode": {
    "name": "ipython",
    "version": 3
   },
   "file_extension": ".py",
   "mimetype": "text/x-python",
   "name": "python",
   "nbconvert_exporter": "python",
   "pygments_lexer": "ipython3",
   "version": "3.8.5"
  }
 },
 "nbformat": 4,
 "nbformat_minor": 5
}
