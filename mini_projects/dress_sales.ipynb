{
 "cells": [
  {
   "cell_type": "markdown",
   "metadata": {
    "id": "bjBkC4zzJ_Gi"
   },
   "source": [
    "#**Лабораторная работа № 2**\n",
    "##Тема: **Классификация** \n",
    "\n",
    "15.Датасет DRESSES_ATTRIBUTE_SALES\n",
    "\n",
    "Задание:\n",
    "1. Загрузить указанный датасет, содержащий сведения о моделях платьев.\n",
    "2. Построить модель, которая прогнозирует рекомендацию к покупке платья (столбец \n",
    "«Recommendation») на основании данных о свойствах платья. Для оценки качества модели \n",
    "использовать метрику Accuracy.\n",
    "3. Описать выводы и обосновать основные решения (выбор типа модели, гиперпараметров)"
   ]
  },
  {
   "cell_type": "code",
   "execution_count": 90,
   "metadata": {
    "id": "DeM9GCxPDdiQ"
   },
   "outputs": [],
   "source": [
    "import pandas as pd\n",
    "import numpy as np\n",
    "import seaborn as sns\n",
    "import matplotlib.pyplot as plt\n",
    "%matplotlib inline\n",
    "from mpl_toolkits.mplot3d import Axes3D\n",
    "from sklearn.model_selection import train_test_split\n",
    "from sklearn.metrics import confusion_matrix\n",
    "from sklearn.model_selection import cross_val_score\n",
    "from sklearn.metrics import accuracy_score\n",
    "from sklearn.model_selection import GridSearchCV\n",
    "from sklearn.tree import DecisionTreeClassifier\n",
    "from sklearn.ensemble import RandomForestClassifier\n",
    "from sklearn.tree import export_graphviz\n",
    "\n",
    "from category_encoders.target_encoder import TargetEncoder\n",
    "\n",
    "import matplotlib.pyplot as plt\n",
    "import seaborn as sns"
   ]
  },
  {
   "cell_type": "code",
   "execution_count": 234,
   "metadata": {
    "id": "v1C73POiLIcU"
   },
   "outputs": [],
   "source": [
    "data = pd.read_csv(r'dress_sales.csv')"
   ]
  },
  {
   "cell_type": "code",
   "execution_count": 235,
   "metadata": {
    "colab": {
     "base_uri": "https://localhost:8080/",
     "height": 419
    },
    "id": "O-nHbnEELq9O",
    "outputId": "2c33a6e4-de21-47a7-f0b3-b7eec0207726"
   },
   "outputs": [
    {
     "data": {
      "text/html": [
       "<div>\n",
       "<style scoped>\n",
       "    .dataframe tbody tr th:only-of-type {\n",
       "        vertical-align: middle;\n",
       "    }\n",
       "\n",
       "    .dataframe tbody tr th {\n",
       "        vertical-align: top;\n",
       "    }\n",
       "\n",
       "    .dataframe thead th {\n",
       "        text-align: right;\n",
       "    }\n",
       "</style>\n",
       "<table border=\"1\" class=\"dataframe\">\n",
       "  <thead>\n",
       "    <tr style=\"text-align: right;\">\n",
       "      <th></th>\n",
       "      <th>Dress_ID</th>\n",
       "      <th>Style</th>\n",
       "      <th>Price</th>\n",
       "      <th>Rating</th>\n",
       "      <th>Size</th>\n",
       "      <th>Season</th>\n",
       "      <th>NeckLine</th>\n",
       "      <th>SleeveLength</th>\n",
       "      <th>waiseline</th>\n",
       "      <th>Material</th>\n",
       "      <th>FabricType</th>\n",
       "      <th>Decoration</th>\n",
       "      <th>Pattern Type</th>\n",
       "      <th>Recommendation</th>\n",
       "    </tr>\n",
       "  </thead>\n",
       "  <tbody>\n",
       "    <tr>\n",
       "      <th>0</th>\n",
       "      <td>1006032852</td>\n",
       "      <td>Sexy</td>\n",
       "      <td>Low</td>\n",
       "      <td>4.6</td>\n",
       "      <td>M</td>\n",
       "      <td>Summer</td>\n",
       "      <td>o-neck</td>\n",
       "      <td>sleevless</td>\n",
       "      <td>empire</td>\n",
       "      <td>NaN</td>\n",
       "      <td>chiffon</td>\n",
       "      <td>ruffles</td>\n",
       "      <td>animal</td>\n",
       "      <td>1</td>\n",
       "    </tr>\n",
       "    <tr>\n",
       "      <th>1</th>\n",
       "      <td>1212192089</td>\n",
       "      <td>Casual</td>\n",
       "      <td>Low</td>\n",
       "      <td>0.0</td>\n",
       "      <td>L</td>\n",
       "      <td>Summer</td>\n",
       "      <td>o-neck</td>\n",
       "      <td>Petal</td>\n",
       "      <td>natural</td>\n",
       "      <td>microfiber</td>\n",
       "      <td>NaN</td>\n",
       "      <td>ruffles</td>\n",
       "      <td>animal</td>\n",
       "      <td>0</td>\n",
       "    </tr>\n",
       "    <tr>\n",
       "      <th>2</th>\n",
       "      <td>1190380701</td>\n",
       "      <td>vintage</td>\n",
       "      <td>High</td>\n",
       "      <td>0.0</td>\n",
       "      <td>L</td>\n",
       "      <td>Automn</td>\n",
       "      <td>o-neck</td>\n",
       "      <td>full</td>\n",
       "      <td>natural</td>\n",
       "      <td>polyster</td>\n",
       "      <td>NaN</td>\n",
       "      <td>NaN</td>\n",
       "      <td>print</td>\n",
       "      <td>0</td>\n",
       "    </tr>\n",
       "    <tr>\n",
       "      <th>3</th>\n",
       "      <td>966005983</td>\n",
       "      <td>Brief</td>\n",
       "      <td>Average</td>\n",
       "      <td>4.6</td>\n",
       "      <td>L</td>\n",
       "      <td>Spring</td>\n",
       "      <td>o-neck</td>\n",
       "      <td>full</td>\n",
       "      <td>natural</td>\n",
       "      <td>silk</td>\n",
       "      <td>chiffon</td>\n",
       "      <td>embroidary</td>\n",
       "      <td>print</td>\n",
       "      <td>1</td>\n",
       "    </tr>\n",
       "    <tr>\n",
       "      <th>4</th>\n",
       "      <td>876339541</td>\n",
       "      <td>cute</td>\n",
       "      <td>Low</td>\n",
       "      <td>4.5</td>\n",
       "      <td>M</td>\n",
       "      <td>Summer</td>\n",
       "      <td>o-neck</td>\n",
       "      <td>butterfly</td>\n",
       "      <td>natural</td>\n",
       "      <td>chiffonfabric</td>\n",
       "      <td>chiffon</td>\n",
       "      <td>bow</td>\n",
       "      <td>dot</td>\n",
       "      <td>0</td>\n",
       "    </tr>\n",
       "  </tbody>\n",
       "</table>\n",
       "</div>"
      ],
      "text/plain": [
       "     Dress_ID    Style    Price  Rating Size  Season NeckLine SleeveLength  \\\n",
       "0  1006032852     Sexy      Low     4.6    M  Summer   o-neck    sleevless   \n",
       "1  1212192089   Casual      Low     0.0    L  Summer   o-neck        Petal   \n",
       "2  1190380701  vintage     High     0.0    L  Automn   o-neck         full   \n",
       "3   966005983    Brief  Average     4.6    L  Spring   o-neck         full   \n",
       "4   876339541     cute      Low     4.5    M  Summer   o-neck    butterfly   \n",
       "\n",
       "  waiseline       Material FabricType  Decoration Pattern Type  Recommendation  \n",
       "0    empire            NaN    chiffon     ruffles       animal               1  \n",
       "1   natural     microfiber        NaN     ruffles       animal               0  \n",
       "2   natural       polyster        NaN         NaN        print               0  \n",
       "3   natural           silk    chiffon  embroidary        print               1  \n",
       "4   natural  chiffonfabric    chiffon         bow          dot               0  "
      ]
     },
     "execution_count": 235,
     "metadata": {},
     "output_type": "execute_result"
    }
   ],
   "source": [
    "data.head()"
   ]
  },
  {
   "cell_type": "markdown",
   "metadata": {},
   "source": [
    "## Fix categorical features"
   ]
  },
  {
   "cell_type": "code",
   "execution_count": 236,
   "metadata": {},
   "outputs": [],
   "source": [
    "def low(sen):\n",
    "    try:\n",
    "        return sen.lower()\n",
    "    except:\n",
    "        return np.nan"
   ]
  },
  {
   "cell_type": "code",
   "execution_count": 237,
   "metadata": {},
   "outputs": [
    {
     "name": "stdout",
     "output_type": "stream",
     "text": [
      "Unique Style values before processing: ['Sexy' 'Casual' 'vintage' 'Brief' 'cute' 'bohemian' 'Novelty' 'Flare'\n",
      " 'party' 'sexy' 'work' 'OL' 'fashion']\n",
      "Unique Style values after processing: ['sexy' 'casual' 'vintage' 'brief' 'cute' 'bohemian' 'novelty' 'flare'\n",
      " 'party' 'work' 'ol' 'fashion']\n"
     ]
    }
   ],
   "source": [
    "print(f'Unique Style values before processing: {data.Style.unique()}')\n",
    "\n",
    "data['Style'] = data['Style'].apply(low)\n",
    "\n",
    "print(f'Unique Style values after processing: {data.Style.unique()}')"
   ]
  },
  {
   "cell_type": "code",
   "execution_count": 238,
   "metadata": {},
   "outputs": [
    {
     "name": "stdout",
     "output_type": "stream",
     "text": [
      "Unique Price values before processing: ['Low' 'High' 'Average' 'Medium' 'very-high' 'low' 'high' nan]\n",
      "Unique Price values after processing: ['low' 'high' 'average' 'medium' 'very-high' nan]\n"
     ]
    }
   ],
   "source": [
    "print(f'Unique Price values before processing: {data.Price.unique()}')\n",
    "\n",
    "data['Price'] = data['Price'].apply(low)\n",
    "\n",
    "print(f'Unique Price values after processing: {data.Price.unique()}')"
   ]
  },
  {
   "cell_type": "code",
   "execution_count": 239,
   "metadata": {},
   "outputs": [
    {
     "name": "stdout",
     "output_type": "stream",
     "text": [
      "Unique Size values before processing: ['M' 'L' 'XL' 'free' 'S' 'small' 's']\n",
      "Unique Size values after processing: ['m' 'l' 'xl' 'free' 's']\n"
     ]
    }
   ],
   "source": [
    "print(f'Unique Size values before processing: {data.Size.unique()}')\n",
    "\n",
    "size_fix = {'M':'M',\n",
    "            'L':'L',\n",
    "            'XL':'XL',\n",
    "            'free':'free',\n",
    "            'S':'S',\n",
    "            'small':'S',\n",
    "            's':'S'}\n",
    "\n",
    "data['Size'] = data['Size'].map(size_fix)\n",
    "data['Size'] = data['Size'].apply(low)\n",
    "\n",
    "print(f'Unique Size values after processing: {data.Size.unique()}')"
   ]
  },
  {
   "cell_type": "code",
   "execution_count": 240,
   "metadata": {},
   "outputs": [
    {
     "name": "stdout",
     "output_type": "stream",
     "text": [
      "Unique Price values before processing: ['Summer' 'Automn' 'Spring' 'Winter' 'spring' 'winter' nan 'summer'\n",
      " 'Autumn']\n",
      "Unique Price values after processing: ['summer' 'autumn' 'spring' 'winter' nan]\n"
     ]
    }
   ],
   "source": [
    "print(f'Unique Price values before processing: {data.Season.unique()}')\n",
    "\n",
    "data['Season'] = data['Season'].apply(low)\n",
    "data['Season'] = data['Season'].replace('automn', 'autumn')\n",
    "\n",
    "print(f'Unique Price values after processing: {data.Season.unique()}')"
   ]
  },
  {
   "cell_type": "code",
   "execution_count": 241,
   "metadata": {},
   "outputs": [],
   "source": [
    "data['NeckLine'] = data['NeckLine'].apply(low)"
   ]
  },
  {
   "cell_type": "code",
   "execution_count": 242,
   "metadata": {},
   "outputs": [
    {
     "name": "stdout",
     "output_type": "stream",
     "text": [
      "Unique SleeveLength values before processing: ['sleevless' 'Petal' 'full' 'butterfly' 'short' 'threequarter'\n",
      " 'halfsleeve' 'cap-sleeves' 'turndowncollor' 'threequater' 'capsleeves'\n",
      " 'sleeveless' 'sleeevless' 'half' 'urndowncollor' 'thressqatar' nan\n",
      " 'sleveless']\n",
      "Unique SleeveLength values after processing: ['sleveless' 'petal' 'full' 'butterfly' 'short' 'threequarter'\n",
      " 'halfsleeve' 'capsleeves' 'turndowncollor' 'threequater' 'urndowncollor'\n",
      " 'thressqatar' nan]\n"
     ]
    }
   ],
   "source": [
    "print(f'Unique SleeveLength values before processing: {data.SleeveLength.unique()}')\n",
    "\n",
    "data['SleeveLength'] = data['SleeveLength'].replace('half', 'halfsleeve')\n",
    "data['SleeveLength'] = data['SleeveLength'].replace('sleevless', 'sleveless')\n",
    "data['SleeveLength'] = data['SleeveLength'].replace('sleeevless', 'sleveless')\n",
    "data['SleeveLength'] = data['SleeveLength'].replace('sleeveless', 'sleveless')\n",
    "# data['SleeveLength'] = data['SleeveLength'].replace('urndowncollor', 'turndowncollor')\n",
    "# data['SleeveLength'] = data['SleeveLength'].replace('thressqatar', 'threequarter')\n",
    "data['SleeveLength'] = data['SleeveLength'].replace('cap-sleeves', 'capsleeves')\n",
    "\n",
    "data['SleeveLength'] = data['SleeveLength'].apply(low)\n",
    "\n",
    "print(f'Unique SleeveLength values after processing: {data.SleeveLength.unique()}')"
   ]
  },
  {
   "cell_type": "code",
   "execution_count": 243,
   "metadata": {},
   "outputs": [
    {
     "name": "stdout",
     "output_type": "stream",
     "text": [
      "Unique FabricType values before processing: ['chiffon' nan 'broadcloth' 'jersey' 'other' 'batik' 'satin' 'flannael'\n",
      " 'worsted' 'woolen' 'poplin' 'dobby' 'knitting' 'flannel' 'tulle' 'sattin'\n",
      " 'organza' 'lace' 'Corduroy' 'wollen' 'knitted' 'shiffon' 'terry']\n",
      "Unique FabricType values before processing: ['shiffon' nan 'broadcloth' 'jersey' 'other' 'batik' 'satin' 'flannel'\n",
      " 'worsted' 'wollen' 'poplin' 'dobby' 'knitted' 'tulle' 'sattin' 'organza'\n",
      " 'lace' 'corduroy' 'terry']\n"
     ]
    }
   ],
   "source": [
    "print(f'Unique FabricType values before processing: {data.FabricType.unique()}')\n",
    "\n",
    "data['FabricType'] = data['FabricType'].replace('flannael', 'flannel')\n",
    "data['FabricType'] = data['FabricType'].replace('woolen', 'wollen')\n",
    "data['FabricType'] = data['FabricType'].replace('knitting', 'knitted')\n",
    "data['FabricType'] = data['FabricType'].replace('chiffon', 'shiffon')\n",
    "data['FabricType'] = data['FabricType'].apply(low)\n",
    "\n",
    "print(f'Unique FabricType values before processing: {data.FabricType.unique()}')"
   ]
  },
  {
   "cell_type": "code",
   "execution_count": 244,
   "metadata": {},
   "outputs": [],
   "source": [
    "data = data.drop_duplicates(subset='Dress_ID')"
   ]
  },
  {
   "cell_type": "code",
   "execution_count": 245,
   "metadata": {},
   "outputs": [
    {
     "data": {
      "text/html": [
       "<div>\n",
       "<style scoped>\n",
       "    .dataframe tbody tr th:only-of-type {\n",
       "        vertical-align: middle;\n",
       "    }\n",
       "\n",
       "    .dataframe tbody tr th {\n",
       "        vertical-align: top;\n",
       "    }\n",
       "\n",
       "    .dataframe thead th {\n",
       "        text-align: right;\n",
       "    }\n",
       "</style>\n",
       "<table border=\"1\" class=\"dataframe\">\n",
       "  <thead>\n",
       "    <tr style=\"text-align: right;\">\n",
       "      <th></th>\n",
       "      <th>Dress_ID</th>\n",
       "      <th>29/8/2013</th>\n",
       "      <th>31/8/2013</th>\n",
       "      <th>2/9/2013</th>\n",
       "      <th>4/9/2013</th>\n",
       "      <th>6/9/2013</th>\n",
       "      <th>8/9/2013</th>\n",
       "      <th>10/9/2013</th>\n",
       "      <th>12/9/2013</th>\n",
       "      <th>14/9/2013</th>\n",
       "      <th>...</th>\n",
       "      <th>24/9/2013</th>\n",
       "      <th>26/9/2013</th>\n",
       "      <th>28/9/2013</th>\n",
       "      <th>30/9/2013</th>\n",
       "      <th>2/10/2013</th>\n",
       "      <th>4/10/2013</th>\n",
       "      <th>6/10/2013</th>\n",
       "      <th>8/10/2010</th>\n",
       "      <th>10/10/2013</th>\n",
       "      <th>12/10/2013</th>\n",
       "    </tr>\n",
       "  </thead>\n",
       "  <tbody>\n",
       "    <tr>\n",
       "      <th>0</th>\n",
       "      <td>1006032852</td>\n",
       "      <td>2114</td>\n",
       "      <td>2274</td>\n",
       "      <td>2491</td>\n",
       "      <td>2660</td>\n",
       "      <td>2727</td>\n",
       "      <td>2887</td>\n",
       "      <td>2930</td>\n",
       "      <td>3119</td>\n",
       "      <td>3204</td>\n",
       "      <td>...</td>\n",
       "      <td>3554</td>\n",
       "      <td>3624.0</td>\n",
       "      <td>3706</td>\n",
       "      <td>3746.0</td>\n",
       "      <td>3795.0</td>\n",
       "      <td>3832.0</td>\n",
       "      <td>3897</td>\n",
       "      <td>3923.0</td>\n",
       "      <td>3985.0</td>\n",
       "      <td>4048</td>\n",
       "    </tr>\n",
       "    <tr>\n",
       "      <th>1</th>\n",
       "      <td>1212192089</td>\n",
       "      <td>151</td>\n",
       "      <td>275</td>\n",
       "      <td>570</td>\n",
       "      <td>750</td>\n",
       "      <td>813</td>\n",
       "      <td>1066</td>\n",
       "      <td>1164</td>\n",
       "      <td>1558</td>\n",
       "      <td>1756</td>\n",
       "      <td>...</td>\n",
       "      <td>2710</td>\n",
       "      <td>2942.0</td>\n",
       "      <td>3258</td>\n",
       "      <td>3354.0</td>\n",
       "      <td>3475.0</td>\n",
       "      <td>3654.0</td>\n",
       "      <td>3911</td>\n",
       "      <td>4024.0</td>\n",
       "      <td>4125.0</td>\n",
       "      <td>4277</td>\n",
       "    </tr>\n",
       "    <tr>\n",
       "      <th>2</th>\n",
       "      <td>1190380701</td>\n",
       "      <td>6</td>\n",
       "      <td>7</td>\n",
       "      <td>7</td>\n",
       "      <td>7</td>\n",
       "      <td>8</td>\n",
       "      <td>8</td>\n",
       "      <td>9</td>\n",
       "      <td>10</td>\n",
       "      <td>10</td>\n",
       "      <td>...</td>\n",
       "      <td>11</td>\n",
       "      <td>11.0</td>\n",
       "      <td>11</td>\n",
       "      <td>11.0</td>\n",
       "      <td>11.0</td>\n",
       "      <td>11.0</td>\n",
       "      <td>11</td>\n",
       "      <td>11.0</td>\n",
       "      <td>11.0</td>\n",
       "      <td>11</td>\n",
       "    </tr>\n",
       "    <tr>\n",
       "      <th>3</th>\n",
       "      <td>966005983</td>\n",
       "      <td>1005</td>\n",
       "      <td>1128</td>\n",
       "      <td>1326</td>\n",
       "      <td>1455</td>\n",
       "      <td>1507</td>\n",
       "      <td>1621</td>\n",
       "      <td>1637</td>\n",
       "      <td>1723</td>\n",
       "      <td>1746</td>\n",
       "      <td>...</td>\n",
       "      <td>1878</td>\n",
       "      <td>1892.0</td>\n",
       "      <td>1914</td>\n",
       "      <td>1924.0</td>\n",
       "      <td>1929.0</td>\n",
       "      <td>1941.0</td>\n",
       "      <td>1952</td>\n",
       "      <td>1955.0</td>\n",
       "      <td>1959.0</td>\n",
       "      <td>1963</td>\n",
       "    </tr>\n",
       "    <tr>\n",
       "      <th>4</th>\n",
       "      <td>876339541</td>\n",
       "      <td>996</td>\n",
       "      <td>1175</td>\n",
       "      <td>1304</td>\n",
       "      <td>1396</td>\n",
       "      <td>1432</td>\n",
       "      <td>1559</td>\n",
       "      <td>1570</td>\n",
       "      <td>1638</td>\n",
       "      <td>1655</td>\n",
       "      <td>...</td>\n",
       "      <td>2032</td>\n",
       "      <td>2156.0</td>\n",
       "      <td>2252</td>\n",
       "      <td>2312.0</td>\n",
       "      <td>2387.0</td>\n",
       "      <td>2459.0</td>\n",
       "      <td>2544</td>\n",
       "      <td>2614.0</td>\n",
       "      <td>2693.0</td>\n",
       "      <td>2736</td>\n",
       "    </tr>\n",
       "  </tbody>\n",
       "</table>\n",
       "<p>5 rows × 24 columns</p>\n",
       "</div>"
      ],
      "text/plain": [
       "     Dress_ID  29/8/2013  31/8/2013  2/9/2013  4/9/2013  6/9/2013  8/9/2013  \\\n",
       "0  1006032852       2114       2274      2491      2660      2727      2887   \n",
       "1  1212192089        151        275       570       750       813      1066   \n",
       "2  1190380701          6          7         7         7         8         8   \n",
       "3   966005983       1005       1128      1326      1455      1507      1621   \n",
       "4   876339541        996       1175      1304      1396      1432      1559   \n",
       "\n",
       "   10/9/2013 12/9/2013 14/9/2013  ... 24/9/2013 26/9/2013 28/9/2013 30/9/2013  \\\n",
       "0       2930      3119      3204  ...      3554    3624.0      3706    3746.0   \n",
       "1       1164      1558      1756  ...      2710    2942.0      3258    3354.0   \n",
       "2          9        10        10  ...        11      11.0        11      11.0   \n",
       "3       1637      1723      1746  ...      1878    1892.0      1914    1924.0   \n",
       "4       1570      1638      1655  ...      2032    2156.0      2252    2312.0   \n",
       "\n",
       "   2/10/2013  4/10/2013  6/10/2013  8/10/2010  10/10/2013  12/10/2013  \n",
       "0     3795.0     3832.0       3897     3923.0      3985.0        4048  \n",
       "1     3475.0     3654.0       3911     4024.0      4125.0        4277  \n",
       "2       11.0       11.0         11       11.0        11.0          11  \n",
       "3     1929.0     1941.0       1952     1955.0      1959.0        1963  \n",
       "4     2387.0     2459.0       2544     2614.0      2693.0        2736  \n",
       "\n",
       "[5 rows x 24 columns]"
      ]
     },
     "execution_count": 245,
     "metadata": {},
     "output_type": "execute_result"
    }
   ],
   "source": [
    "cnts = pd.read_csv('counts.csv')\n",
    "cnts.head()"
   ]
  },
  {
   "cell_type": "code",
   "execution_count": 246,
   "metadata": {},
   "outputs": [
    {
     "data": {
      "text/plain": [
       "0      1.006089e+09\n",
       "1      1.212233e+09\n",
       "2      1.190381e+09\n",
       "3      9.660350e+08\n",
       "4      8.763732e+08\n",
       "           ...     \n",
       "495    7.133979e+08\n",
       "496    7.225776e+08\n",
       "497    5.328829e+08\n",
       "498    6.554685e+08\n",
       "499    9.199397e+08\n",
       "Length: 500, dtype: float64"
      ]
     },
     "execution_count": 246,
     "metadata": {},
     "output_type": "execute_result"
    }
   ],
   "source": [
    "cnts.sum(axis=1)"
   ]
  },
  {
   "cell_type": "code",
   "execution_count": 247,
   "metadata": {},
   "outputs": [],
   "source": [
    "cnts = cnts.drop(263)\n",
    "\n",
    "cnts['12/9/2013'] = cnts['12/9/2013'].astype('int32')\n",
    "cnts['14/9/2013'] = cnts['14/9/2013'].astype('int32')\n",
    "cnts['16/9/2013'] = cnts['16/9/2013'].astype('int32')\n",
    "cnts['18/9/2013'] = cnts['18/9/2013'].astype('int32')\n",
    "cnts['20/9/2013'] = cnts['20/9/2013'].astype('int32')\n",
    "cnts['22/9/2013'] = cnts['22/9/2013'].replace('Orders', 0).astype('int32')"
   ]
  },
  {
   "cell_type": "code",
   "execution_count": 248,
   "metadata": {},
   "outputs": [
    {
     "name": "stdout",
     "output_type": "stream",
     "text": [
      "<class 'pandas.core.frame.DataFrame'>\n",
      "Int64Index: 499 entries, 0 to 499\n",
      "Data columns (total 24 columns):\n",
      " #   Column      Non-Null Count  Dtype  \n",
      "---  ------      --------------  -----  \n",
      " 0   Dress_ID    499 non-null    int64  \n",
      " 1   29/8/2013   499 non-null    int64  \n",
      " 2   31/8/2013   499 non-null    int64  \n",
      " 3   2/9/2013    499 non-null    int64  \n",
      " 4   4/9/2013    499 non-null    int64  \n",
      " 5   6/9/2013    499 non-null    int64  \n",
      " 6   8/9/2013    499 non-null    int64  \n",
      " 7   10/9/2013   499 non-null    int64  \n",
      " 8   12/9/2013   499 non-null    int32  \n",
      " 9   14/9/2013   499 non-null    int32  \n",
      " 10  16/9/2013   499 non-null    int32  \n",
      " 11  18/9/2013   499 non-null    int32  \n",
      " 12  20/9/2013   499 non-null    int32  \n",
      " 13  22/9/2013   499 non-null    int32  \n",
      " 14  24/9/2013   499 non-null    int64  \n",
      " 15  26/9/2013   263 non-null    float64\n",
      " 16  28/9/2013   499 non-null    int64  \n",
      " 17  30/9/2013   227 non-null    float64\n",
      " 18  2/10/2013   225 non-null    float64\n",
      " 19  4/10/2013   226 non-null    float64\n",
      " 20  6/10/2013   499 non-null    int64  \n",
      " 21  8/10/2010   229 non-null    float64\n",
      " 22  10/10/2013  229 non-null    float64\n",
      " 23  12/10/2013  499 non-null    int64  \n",
      "dtypes: float64(6), int32(6), int64(12)\n",
      "memory usage: 85.8 KB\n"
     ]
    }
   ],
   "source": [
    "cnts.info()"
   ]
  },
  {
   "cell_type": "code",
   "execution_count": 249,
   "metadata": {},
   "outputs": [],
   "source": [
    "cnts['diff'] = cnts['12/10/2013'] - cnts['29/8/2013']"
   ]
  },
  {
   "cell_type": "code",
   "execution_count": 250,
   "metadata": {},
   "outputs": [
    {
     "data": {
      "text/html": [
       "<div>\n",
       "<style scoped>\n",
       "    .dataframe tbody tr th:only-of-type {\n",
       "        vertical-align: middle;\n",
       "    }\n",
       "\n",
       "    .dataframe tbody tr th {\n",
       "        vertical-align: top;\n",
       "    }\n",
       "\n",
       "    .dataframe thead th {\n",
       "        text-align: right;\n",
       "    }\n",
       "</style>\n",
       "<table border=\"1\" class=\"dataframe\">\n",
       "  <thead>\n",
       "    <tr style=\"text-align: right;\">\n",
       "      <th></th>\n",
       "      <th>Dress_ID</th>\n",
       "      <th>Style</th>\n",
       "      <th>Price</th>\n",
       "      <th>Rating</th>\n",
       "      <th>Size</th>\n",
       "      <th>Season</th>\n",
       "      <th>NeckLine</th>\n",
       "      <th>SleeveLength</th>\n",
       "      <th>waiseline</th>\n",
       "      <th>Material</th>\n",
       "      <th>FabricType</th>\n",
       "      <th>Decoration</th>\n",
       "      <th>Pattern Type</th>\n",
       "      <th>Recommendation</th>\n",
       "      <th>12/10/2013</th>\n",
       "      <th>diff</th>\n",
       "    </tr>\n",
       "  </thead>\n",
       "  <tbody>\n",
       "    <tr>\n",
       "      <th>0</th>\n",
       "      <td>1006032852</td>\n",
       "      <td>sexy</td>\n",
       "      <td>low</td>\n",
       "      <td>4.6</td>\n",
       "      <td>m</td>\n",
       "      <td>summer</td>\n",
       "      <td>o-neck</td>\n",
       "      <td>sleveless</td>\n",
       "      <td>empire</td>\n",
       "      <td>NaN</td>\n",
       "      <td>shiffon</td>\n",
       "      <td>ruffles</td>\n",
       "      <td>animal</td>\n",
       "      <td>1</td>\n",
       "      <td>4048</td>\n",
       "      <td>1934</td>\n",
       "    </tr>\n",
       "    <tr>\n",
       "      <th>1</th>\n",
       "      <td>1212192089</td>\n",
       "      <td>casual</td>\n",
       "      <td>low</td>\n",
       "      <td>0.0</td>\n",
       "      <td>l</td>\n",
       "      <td>summer</td>\n",
       "      <td>o-neck</td>\n",
       "      <td>petal</td>\n",
       "      <td>natural</td>\n",
       "      <td>microfiber</td>\n",
       "      <td>NaN</td>\n",
       "      <td>ruffles</td>\n",
       "      <td>animal</td>\n",
       "      <td>0</td>\n",
       "      <td>4277</td>\n",
       "      <td>4126</td>\n",
       "    </tr>\n",
       "    <tr>\n",
       "      <th>2</th>\n",
       "      <td>1190380701</td>\n",
       "      <td>vintage</td>\n",
       "      <td>high</td>\n",
       "      <td>0.0</td>\n",
       "      <td>l</td>\n",
       "      <td>autumn</td>\n",
       "      <td>o-neck</td>\n",
       "      <td>full</td>\n",
       "      <td>natural</td>\n",
       "      <td>polyster</td>\n",
       "      <td>NaN</td>\n",
       "      <td>NaN</td>\n",
       "      <td>print</td>\n",
       "      <td>0</td>\n",
       "      <td>11</td>\n",
       "      <td>5</td>\n",
       "    </tr>\n",
       "    <tr>\n",
       "      <th>3</th>\n",
       "      <td>966005983</td>\n",
       "      <td>brief</td>\n",
       "      <td>average</td>\n",
       "      <td>4.6</td>\n",
       "      <td>l</td>\n",
       "      <td>spring</td>\n",
       "      <td>o-neck</td>\n",
       "      <td>full</td>\n",
       "      <td>natural</td>\n",
       "      <td>silk</td>\n",
       "      <td>shiffon</td>\n",
       "      <td>embroidary</td>\n",
       "      <td>print</td>\n",
       "      <td>1</td>\n",
       "      <td>1963</td>\n",
       "      <td>958</td>\n",
       "    </tr>\n",
       "    <tr>\n",
       "      <th>4</th>\n",
       "      <td>876339541</td>\n",
       "      <td>cute</td>\n",
       "      <td>low</td>\n",
       "      <td>4.5</td>\n",
       "      <td>m</td>\n",
       "      <td>summer</td>\n",
       "      <td>o-neck</td>\n",
       "      <td>butterfly</td>\n",
       "      <td>natural</td>\n",
       "      <td>chiffonfabric</td>\n",
       "      <td>shiffon</td>\n",
       "      <td>bow</td>\n",
       "      <td>dot</td>\n",
       "      <td>0</td>\n",
       "      <td>2736</td>\n",
       "      <td>1740</td>\n",
       "    </tr>\n",
       "    <tr>\n",
       "      <th>...</th>\n",
       "      <td>...</td>\n",
       "      <td>...</td>\n",
       "      <td>...</td>\n",
       "      <td>...</td>\n",
       "      <td>...</td>\n",
       "      <td>...</td>\n",
       "      <td>...</td>\n",
       "      <td>...</td>\n",
       "      <td>...</td>\n",
       "      <td>...</td>\n",
       "      <td>...</td>\n",
       "      <td>...</td>\n",
       "      <td>...</td>\n",
       "      <td>...</td>\n",
       "      <td>...</td>\n",
       "      <td>...</td>\n",
       "    </tr>\n",
       "    <tr>\n",
       "      <th>494</th>\n",
       "      <td>990559192</td>\n",
       "      <td>brief</td>\n",
       "      <td>average</td>\n",
       "      <td>4.7</td>\n",
       "      <td>m</td>\n",
       "      <td>winter</td>\n",
       "      <td>o-neck</td>\n",
       "      <td>halfsleeve</td>\n",
       "      <td>natural</td>\n",
       "      <td>acrylic</td>\n",
       "      <td>shiffon</td>\n",
       "      <td>NaN</td>\n",
       "      <td>striped</td>\n",
       "      <td>0</td>\n",
       "      <td>77</td>\n",
       "      <td>77</td>\n",
       "    </tr>\n",
       "    <tr>\n",
       "      <th>495</th>\n",
       "      <td>713391965</td>\n",
       "      <td>casual</td>\n",
       "      <td>low</td>\n",
       "      <td>4.7</td>\n",
       "      <td>m</td>\n",
       "      <td>spring</td>\n",
       "      <td>o-neck</td>\n",
       "      <td>full</td>\n",
       "      <td>natural</td>\n",
       "      <td>polyster</td>\n",
       "      <td>NaN</td>\n",
       "      <td>NaN</td>\n",
       "      <td>solid</td>\n",
       "      <td>1</td>\n",
       "      <td>285</td>\n",
       "      <td>285</td>\n",
       "    </tr>\n",
       "    <tr>\n",
       "      <th>496</th>\n",
       "      <td>532874347</td>\n",
       "      <td>casual</td>\n",
       "      <td>average</td>\n",
       "      <td>4.7</td>\n",
       "      <td>m</td>\n",
       "      <td>summer</td>\n",
       "      <td>v-neck</td>\n",
       "      <td>full</td>\n",
       "      <td>empire</td>\n",
       "      <td>cotton</td>\n",
       "      <td>NaN</td>\n",
       "      <td>lace</td>\n",
       "      <td>solid</td>\n",
       "      <td>1</td>\n",
       "      <td>520</td>\n",
       "      <td>520</td>\n",
       "    </tr>\n",
       "    <tr>\n",
       "      <th>497</th>\n",
       "      <td>655464934</td>\n",
       "      <td>casual</td>\n",
       "      <td>average</td>\n",
       "      <td>4.6</td>\n",
       "      <td>l</td>\n",
       "      <td>winter</td>\n",
       "      <td>boat-neck</td>\n",
       "      <td>sleveless</td>\n",
       "      <td>empire</td>\n",
       "      <td>silk</td>\n",
       "      <td>broadcloth</td>\n",
       "      <td>applique</td>\n",
       "      <td>print</td>\n",
       "      <td>1</td>\n",
       "      <td>248</td>\n",
       "      <td>248</td>\n",
       "    </tr>\n",
       "    <tr>\n",
       "      <th>498</th>\n",
       "      <td>919930954</td>\n",
       "      <td>casual</td>\n",
       "      <td>low</td>\n",
       "      <td>4.4</td>\n",
       "      <td>free</td>\n",
       "      <td>summer</td>\n",
       "      <td>v-neck</td>\n",
       "      <td>short</td>\n",
       "      <td>empire</td>\n",
       "      <td>cotton</td>\n",
       "      <td>corduroy</td>\n",
       "      <td>lace</td>\n",
       "      <td>solid</td>\n",
       "      <td>0</td>\n",
       "      <td>680</td>\n",
       "      <td>680</td>\n",
       "    </tr>\n",
       "  </tbody>\n",
       "</table>\n",
       "<p>499 rows × 16 columns</p>\n",
       "</div>"
      ],
      "text/plain": [
       "       Dress_ID    Style    Price  Rating  Size  Season   NeckLine  \\\n",
       "0    1006032852     sexy      low     4.6     m  summer     o-neck   \n",
       "1    1212192089   casual      low     0.0     l  summer     o-neck   \n",
       "2    1190380701  vintage     high     0.0     l  autumn     o-neck   \n",
       "3     966005983    brief  average     4.6     l  spring     o-neck   \n",
       "4     876339541     cute      low     4.5     m  summer     o-neck   \n",
       "..          ...      ...      ...     ...   ...     ...        ...   \n",
       "494   990559192    brief  average     4.7     m  winter     o-neck   \n",
       "495   713391965   casual      low     4.7     m  spring     o-neck   \n",
       "496   532874347   casual  average     4.7     m  summer     v-neck   \n",
       "497   655464934   casual  average     4.6     l  winter  boat-neck   \n",
       "498   919930954   casual      low     4.4  free  summer     v-neck   \n",
       "\n",
       "    SleeveLength waiseline       Material  FabricType  Decoration  \\\n",
       "0      sleveless    empire            NaN     shiffon     ruffles   \n",
       "1          petal   natural     microfiber         NaN     ruffles   \n",
       "2           full   natural       polyster         NaN         NaN   \n",
       "3           full   natural           silk     shiffon  embroidary   \n",
       "4      butterfly   natural  chiffonfabric     shiffon         bow   \n",
       "..           ...       ...            ...         ...         ...   \n",
       "494   halfsleeve   natural        acrylic     shiffon         NaN   \n",
       "495         full   natural       polyster         NaN         NaN   \n",
       "496         full    empire         cotton         NaN        lace   \n",
       "497    sleveless    empire           silk  broadcloth    applique   \n",
       "498        short    empire         cotton    corduroy        lace   \n",
       "\n",
       "    Pattern Type  Recommendation  12/10/2013  diff  \n",
       "0         animal               1        4048  1934  \n",
       "1         animal               0        4277  4126  \n",
       "2          print               0          11     5  \n",
       "3          print               1        1963   958  \n",
       "4            dot               0        2736  1740  \n",
       "..           ...             ...         ...   ...  \n",
       "494      striped               0          77    77  \n",
       "495        solid               1         285   285  \n",
       "496        solid               1         520   520  \n",
       "497        print               1         248   248  \n",
       "498        solid               0         680   680  \n",
       "\n",
       "[499 rows x 16 columns]"
      ]
     },
     "execution_count": 250,
     "metadata": {},
     "output_type": "execute_result"
    }
   ],
   "source": [
    "data = pd.merge(data, cnts[['Dress_ID', '12/10/2013', 'diff']], how='right', on='Dress_ID')\n",
    "data"
   ]
  },
  {
   "cell_type": "code",
   "execution_count": 251,
   "metadata": {
    "id": "xyfLB5yJMaYj"
   },
   "outputs": [
    {
     "name": "stderr",
     "output_type": "stream",
     "text": [
      "C:\\Users\\sqrte\\anaconda3\\envs\\ml_base\\lib\\site-packages\\category_encoders\\utils.py:21: FutureWarning: is_categorical is deprecated and will be removed in a future version.  Use is_categorical_dtype instead\n",
      "  elif pd.api.types.is_categorical(cols):\n"
     ]
    }
   ],
   "source": [
    "X = data.drop([\"Recommendation\", 'Dress_ID'],axis = 1)\n",
    "y = data[\"Recommendation\"]\n",
    "\n",
    "categorical_features = ['Style', 'Price', 'Size', 'Season', 'NeckLine', 'SleeveLength',\n",
    "                       'waiseline', 'Material',\n",
    "                        'FabricType', 'Decoration',\n",
    "                        'Pattern Type']\n",
    "\n",
    "encoder = TargetEncoder()\n",
    "X[categorical_features] = encoder.fit_transform(X[categorical_features], y)\n",
    "\n",
    "\n",
    "#X = pd.get_dummies(X)\n",
    "x_train, x_test, y_train, y_test = train_test_split(X, y, test_size=0.2, random_state=1)"
   ]
  },
  {
   "cell_type": "code",
   "execution_count": 252,
   "metadata": {},
   "outputs": [],
   "source": [
    "x_train = x_train.fillna(0)\n",
    "x_test = x_test.fillna(0)"
   ]
  },
  {
   "cell_type": "markdown",
   "metadata": {},
   "source": [
    "## Default params"
   ]
  },
  {
   "cell_type": "code",
   "execution_count": 253,
   "metadata": {},
   "outputs": [
    {
     "name": "stdout",
     "output_type": "stream",
     "text": [
      "Tree accuracy: 0.6167721518987342\n",
      "Forest accuracy: 0.659240506329114\n"
     ]
    }
   ],
   "source": [
    "tree = DecisionTreeClassifier(random_state=1)\n",
    "forest = RandomForestClassifier(random_state=1)\n",
    "\n",
    "print(f'Tree accuracy: {cross_val_score(tree, x_train, y_train, cv=5).mean()}')\n",
    "print(f'Forest accuracy: {cross_val_score(forest, x_train, y_train, cv=5).mean()}')"
   ]
  },
  {
   "cell_type": "markdown",
   "metadata": {},
   "source": [
    "## GridSearch"
   ]
  },
  {
   "cell_type": "code",
   "execution_count": 254,
   "metadata": {},
   "outputs": [],
   "source": [
    "def param_search(model, params, X_train, y_train, cv=5):\n",
    "    grid = GridSearchCV(model, params, cv=cv)\n",
    "    \n",
    "    grid.fit(X_train, y_train)\n",
    "    \n",
    "    print('Значение гиперпараметра наилучшего классификатора: ', grid.best_params_,\n",
    "          '\\nТочность классификатора: ', grid.best_score_)\n",
    "    \n",
    "    return grid.best_params_, grid.best_estimator_\n",
    "\n",
    "def conf_matrix(y, y_hat):\n",
    "    \n",
    "    mat = confusion_matrix(y, y_hat)\n",
    "\n",
    "    plt.figure(4, figsize=(6, 8))\n",
    "    sns.heatmap(mat.T, square=True, annot=True, fmt='d', cbar=False,\n",
    "                xticklabels=[\"Recommend\",\"Not Recommend\"], yticklabels=[\"Recommend\",\"Not Recommend\"])\n",
    "    plt.xlabel('true label')\n",
    "    plt.ylabel('predicted label')\n",
    "    \n",
    "    return 0"
   ]
  },
  {
   "cell_type": "code",
   "execution_count": 255,
   "metadata": {
    "id": "M2yWFeuPpxGd"
   },
   "outputs": [],
   "source": [
    "dtc_params = {'criterion' : ['gini', 'entropy'],\n",
    "              'min_samples_split' : [2,3,4,5,10],\n",
    "              'min_samples_leaf' : [1,2,3,4,5,10],\n",
    "              'max_depth' : [None,3,5,10]}\n",
    "rfc_params = {'n_estimators' : [2,5,10,100],\n",
    "              'criterion' : ['gini', 'entropy'],\n",
    "              'min_samples_split' : [2,3,4,5,10],\n",
    "              'min_samples_leaf' : [1,2,3,4,5,10],\n",
    "              'max_depth' : [None,3,5,10]}"
   ]
  },
  {
   "cell_type": "code",
   "execution_count": 256,
   "metadata": {
    "id": "dFs2sJTJp83B"
   },
   "outputs": [],
   "source": [
    "tree = DecisionTreeClassifier(random_state=1)\n",
    "forest = RandomForestClassifier(random_state=1)"
   ]
  },
  {
   "cell_type": "code",
   "execution_count": 257,
   "metadata": {
    "colab": {
     "base_uri": "https://localhost:8080/"
    },
    "id": "UcMyX2OsqB47",
    "outputId": "b0397c16-a54d-4791-bf38-b27b56021030"
   },
   "outputs": [
    {
     "name": "stdout",
     "output_type": "stream",
     "text": [
      "Значение гиперпараметра наилучшего классификатора:  {'criterion': 'gini', 'max_depth': 10, 'min_samples_leaf': 2, 'min_samples_split': 10} \n",
      "Точность классификатора:  0.6768037974683544\n"
     ]
    },
    {
     "data": {
      "text/plain": [
       "0"
      ]
     },
     "execution_count": 257,
     "metadata": {},
     "output_type": "execute_result"
    },
    {
     "data": {
      "image/png": "[encoded data removed]",
      "text/plain": [
       "<Figure size 432x576 with 1 Axes>"
      ]
     },
     "metadata": {
      "needs_background": "light"
     },
     "output_type": "display_data"
    }
   ],
   "source": [
    "params, best_tree = param_search(tree, dtc_params, x_train, y_train)\n",
    "predictions = best_tree.predict(x_test)\n",
    "conf_matrix(y_test, predictions)"
   ]
  },
  {
   "cell_type": "code",
   "execution_count": null,
   "metadata": {},
   "outputs": [],
   "source": [
    "params, best_tree = param_search(forest, rfc_params, x_train, y_train)\n",
    "predictions = best_tree.predict(x_test)\n",
    "conf_matrix(y_test, predictions)"
   ]
  },
  {
   "cell_type": "markdown",
   "metadata": {},
   "source": [
    "## Preprocessing"
   ]
  },
  {
   "cell_type": "code",
   "execution_count": 27,
   "metadata": {
    "id": "G_SIeOOAtcKT"
   },
   "outputs": [],
   "source": [
    "data_prep = data.copy()\n",
    "\n",
    "data_prep.drop(labels=[\"FabricType\"], axis=\"columns\", inplace=True)\n",
    "data_prep.drop(labels=[\"Decoration\"], axis=\"columns\", inplace=True)\n",
    "\n",
    "values = {\"Price\": \"average\",\n",
    "          \"Season\": \"summer\",\n",
    "          \"NeckLine\": \"o-neck\",\n",
    "          \"SleeveLength\": \"sleveless\",\n",
    "          \"waiseline\":\"natural\",\n",
    "          \"Material\":\"cotton\",\n",
    "          \"Pattern Type\":\"solid\"}\n",
    "data_prep.fillna(value=values,inplace=True)\n",
    "\n",
    "\n",
    "X_prep = data_prep.drop([\"Recommendation\", 'Dress_ID'],axis = 1)\n",
    "y_prep = data_prep[\"Recommendation\"]\n",
    "X_prep = pd.get_dummies(X_prep)\n",
    "\n",
    "\n",
    "x_train_prep, x_test_prep, y_train_prep, y_test_prep = train_test_split(X_prep, y_prep, test_size=0.2, random_state=1)"
   ]
  },
  {
   "cell_type": "code",
   "execution_count": 29,
   "metadata": {},
   "outputs": [],
   "source": [
    "tree = DecisionTreeClassifier(random_state=1)\n",
    "forest = RandomForestClassifier(random_state=1)"
   ]
  },
  {
   "cell_type": "code",
   "execution_count": 22,
   "metadata": {},
   "outputs": [
    {
     "name": "stdout",
     "output_type": "stream",
     "text": [
      "Значение гиперпараметра наилучшего классификатора:  {'criterion': 'entropy', 'max_depth': 3, 'min_samples_leaf': 5, 'min_samples_split': 2} \n",
      "Точность классификатора:  0.6225\n"
     ]
    },
    {
     "data": {
      "text/plain": [
       "0"
      ]
     },
     "execution_count": 22,
     "metadata": {},
     "output_type": "execute_result"
    },
    {
     "data": {
      "image/png": "[encoded data removed]",
      "text/plain": [
       "<Figure size 432x576 with 1 Axes>"
      ]
     },
     "metadata": {
      "needs_background": "light"
     },
     "output_type": "display_data"
    }
   ],
   "source": [
    "params, best_tree = param_search(tree, dtc_params, x_train_prep, y_train_prep)\n",
    "predictions = best_tree.predict(x_test_prep)\n",
    "conf_matrix(y_test_prep, predictions)"
   ]
  },
  {
   "cell_type": "code",
   "execution_count": 30,
   "metadata": {},
   "outputs": [
    {
     "name": "stdout",
     "output_type": "stream",
     "text": [
      "Значение гиперпараметра наилучшего классификатора:  {'criterion': 'gini', 'max_depth': None, 'min_samples_leaf': 1, 'min_samples_split': 10, 'n_estimators': 100} \n",
      "Точность классификатора:  0.6525000000000001\n"
     ]
    },
    {
     "data": {
      "text/plain": [
       "0"
      ]
     },
     "execution_count": 30,
     "metadata": {},
     "output_type": "execute_result"
    },
    {
     "data": {
      "image/png": "[encoded data removed]",
      "text/plain": [
       "<Figure size 432x576 with 1 Axes>"
      ]
     },
     "metadata": {
      "needs_background": "light"
     },
     "output_type": "display_data"
    }
   ],
   "source": [
    "params, best_tree = param_search(forest, rfc_params, x_train_prep, y_train_prep)\n",
    "predictions = best_tree.predict(x_test_prep)\n",
    "conf_matrix(y_test_prep, predictions)"
   ]
  },
  {
   "cell_type": "code",
   "execution_count": null,
   "metadata": {},
   "outputs": [],
   "source": []
  }
 ],
 "metadata": {
  "colab": {
   "collapsed_sections": [],
   "name": "Data Mining. 2 лаба. Севостьянов",
   "provenance": [],
   "toc_visible": true
  },
  "kernelspec": {
   "display_name": "Python 3",
   "language": "python",
   "name": "python3"
  },
  "language_info": {
   "codemirror_mode": {
    "name": "ipython",
    "version": 3
   },
   "file_extension": ".py",
   "mimetype": "text/x-python",
   "name": "python",
   "nbconvert_exporter": "python",
   "pygments_lexer": "ipython3",
   "version": "3.7.9"
  }
 },
 "nbformat": 4,
 "nbformat_minor": 1
}
