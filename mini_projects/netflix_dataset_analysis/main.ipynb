{
 "cells": [
  {
   "cell_type": "code",
   "execution_count": 1,
   "metadata": {},
   "outputs": [],
   "source": [
    "import os\n",
    "import numpy as np\n",
    "import pandas as pd\n",
    "\n",
    "import matplotlib.pyplot as plt\n",
    "\n",
    "import seaborn as sns\n",
    "sns.set_palette('vlag')"
   ]
  },
  {
   "cell_type": "code",
   "execution_count": 2,
   "metadata": {},
   "outputs": [
    {
     "name": "stdout",
     "output_type": "stream",
     "text": [
      "Number of Netflix films and TV series: 7787\n"
     ]
    }
   ],
   "source": [
    "df = pd.read_csv('data/netflix_titles.csv')\n",
    "\n",
    "unique_shows = df.shape[0] - df.duplicated(subset=['show_id']).sum()\n",
    "print(f'Number of Netflix films and TV series: {unique_shows}')"
   ]
  },
  {
   "cell_type": "code",
   "execution_count": 5,
   "metadata": {},
   "outputs": [
    {
     "data": {
      "text/html": [
       "<div>\n",
       "<style scoped>\n",
       "    .dataframe tbody tr th:only-of-type {\n",
       "        vertical-align: middle;\n",
       "    }\n",
       "\n",
       "    .dataframe tbody tr th {\n",
       "        vertical-align: top;\n",
       "    }\n",
       "\n",
       "    .dataframe thead th {\n",
       "        text-align: right;\n",
       "    }\n",
       "</style>\n",
       "<table border=\"1\" class=\"dataframe\">\n",
       "  <thead>\n",
       "    <tr style=\"text-align: right;\">\n",
       "      <th></th>\n",
       "      <th>show_id</th>\n",
       "      <th>type</th>\n",
       "      <th>title</th>\n",
       "      <th>director</th>\n",
       "      <th>cast</th>\n",
       "      <th>country</th>\n",
       "      <th>date_added</th>\n",
       "      <th>release_year</th>\n",
       "      <th>rating</th>\n",
       "      <th>duration</th>\n",
       "      <th>listed_in</th>\n",
       "      <th>description</th>\n",
       "    </tr>\n",
       "  </thead>\n",
       "  <tbody>\n",
       "    <tr>\n",
       "      <th>0</th>\n",
       "      <td>s1</td>\n",
       "      <td>TV Show</td>\n",
       "      <td>3%</td>\n",
       "      <td>NaN</td>\n",
       "      <td>João Miguel, Bianca Comparato, Michel Gomes, R...</td>\n",
       "      <td>Brazil</td>\n",
       "      <td>August 14, 2020</td>\n",
       "      <td>2020</td>\n",
       "      <td>TV-MA</td>\n",
       "      <td>4 Seasons</td>\n",
       "      <td>International TV Shows, TV Dramas, TV Sci-Fi &amp;...</td>\n",
       "      <td>In a future where the elite inhabit an island ...</td>\n",
       "    </tr>\n",
       "    <tr>\n",
       "      <th>1</th>\n",
       "      <td>s2</td>\n",
       "      <td>Movie</td>\n",
       "      <td>7:19</td>\n",
       "      <td>Jorge Michel Grau</td>\n",
       "      <td>Demián Bichir, Héctor Bonilla, Oscar Serrano, ...</td>\n",
       "      <td>Mexico</td>\n",
       "      <td>December 23, 2016</td>\n",
       "      <td>2016</td>\n",
       "      <td>TV-MA</td>\n",
       "      <td>93 min</td>\n",
       "      <td>Dramas, International Movies</td>\n",
       "      <td>After a devastating earthquake hits Mexico Cit...</td>\n",
       "    </tr>\n",
       "    <tr>\n",
       "      <th>2</th>\n",
       "      <td>s3</td>\n",
       "      <td>Movie</td>\n",
       "      <td>23:59</td>\n",
       "      <td>Gilbert Chan</td>\n",
       "      <td>Tedd Chan, Stella Chung, Henley Hii, Lawrence ...</td>\n",
       "      <td>Singapore</td>\n",
       "      <td>December 20, 2018</td>\n",
       "      <td>2011</td>\n",
       "      <td>R</td>\n",
       "      <td>78 min</td>\n",
       "      <td>Horror Movies, International Movies</td>\n",
       "      <td>When an army recruit is found dead, his fellow...</td>\n",
       "    </tr>\n",
       "    <tr>\n",
       "      <th>3</th>\n",
       "      <td>s4</td>\n",
       "      <td>Movie</td>\n",
       "      <td>9</td>\n",
       "      <td>Shane Acker</td>\n",
       "      <td>Elijah Wood, John C. Reilly, Jennifer Connelly...</td>\n",
       "      <td>United States</td>\n",
       "      <td>November 16, 2017</td>\n",
       "      <td>2009</td>\n",
       "      <td>PG-13</td>\n",
       "      <td>80 min</td>\n",
       "      <td>Action &amp; Adventure, Independent Movies, Sci-Fi...</td>\n",
       "      <td>In a postapocalyptic world, rag-doll robots hi...</td>\n",
       "    </tr>\n",
       "    <tr>\n",
       "      <th>4</th>\n",
       "      <td>s5</td>\n",
       "      <td>Movie</td>\n",
       "      <td>21</td>\n",
       "      <td>Robert Luketic</td>\n",
       "      <td>Jim Sturgess, Kevin Spacey, Kate Bosworth, Aar...</td>\n",
       "      <td>United States</td>\n",
       "      <td>January 1, 2020</td>\n",
       "      <td>2008</td>\n",
       "      <td>PG-13</td>\n",
       "      <td>123 min</td>\n",
       "      <td>Dramas</td>\n",
       "      <td>A brilliant group of students become card-coun...</td>\n",
       "    </tr>\n",
       "  </tbody>\n",
       "</table>\n",
       "</div>"
      ],
      "text/plain": [
       "  show_id     type  title           director  \\\n",
       "0      s1  TV Show     3%                NaN   \n",
       "1      s2    Movie   7:19  Jorge Michel Grau   \n",
       "2      s3    Movie  23:59       Gilbert Chan   \n",
       "3      s4    Movie      9        Shane Acker   \n",
       "4      s5    Movie     21     Robert Luketic   \n",
       "\n",
       "                                                cast        country  \\\n",
       "0  João Miguel, Bianca Comparato, Michel Gomes, R...         Brazil   \n",
       "1  Demián Bichir, Héctor Bonilla, Oscar Serrano, ...         Mexico   \n",
       "2  Tedd Chan, Stella Chung, Henley Hii, Lawrence ...      Singapore   \n",
       "3  Elijah Wood, John C. Reilly, Jennifer Connelly...  United States   \n",
       "4  Jim Sturgess, Kevin Spacey, Kate Bosworth, Aar...  United States   \n",
       "\n",
       "          date_added  release_year rating   duration  \\\n",
       "0    August 14, 2020          2020  TV-MA  4 Seasons   \n",
       "1  December 23, 2016          2016  TV-MA     93 min   \n",
       "2  December 20, 2018          2011      R     78 min   \n",
       "3  November 16, 2017          2009  PG-13     80 min   \n",
       "4    January 1, 2020          2008  PG-13    123 min   \n",
       "\n",
       "                                           listed_in  \\\n",
       "0  International TV Shows, TV Dramas, TV Sci-Fi &...   \n",
       "1                       Dramas, International Movies   \n",
       "2                Horror Movies, International Movies   \n",
       "3  Action & Adventure, Independent Movies, Sci-Fi...   \n",
       "4                                             Dramas   \n",
       "\n",
       "                                         description  \n",
       "0  In a future where the elite inhabit an island ...  \n",
       "1  After a devastating earthquake hits Mexico Cit...  \n",
       "2  When an army recruit is found dead, his fellow...  \n",
       "3  In a postapocalyptic world, rag-doll robots hi...  \n",
       "4  A brilliant group of students become card-coun...  "
      ]
     },
     "execution_count": 5,
     "metadata": {},
     "output_type": "execute_result"
    }
   ],
   "source": [
    "df.head()"
   ]
  },
  {
   "cell_type": "code",
   "execution_count": 80,
   "metadata": {},
   "outputs": [
    {
     "name": "stdout",
     "output_type": "stream",
     "text": [
      "<class 'pandas.core.frame.DataFrame'>\n",
      "RangeIndex: 7787 entries, 0 to 7786\n",
      "Data columns (total 13 columns):\n",
      " #   Column               Non-Null Count  Dtype  \n",
      "---  ------               --------------  -----  \n",
      " 0   show_id              7787 non-null   object \n",
      " 1   type                 7787 non-null   object \n",
      " 2   title                7787 non-null   object \n",
      " 3   director             5398 non-null   object \n",
      " 4   cast                 7069 non-null   object \n",
      " 5   country              7280 non-null   object \n",
      " 6   date_added           7777 non-null   object \n",
      " 7   release_year         7787 non-null   int64  \n",
      " 8   rating               7780 non-null   object \n",
      " 9   duration             7787 non-null   object \n",
      " 10  listed_in            7787 non-null   object \n",
      " 11  description          7787 non-null   object \n",
      " 12  number_of_directors  5398 non-null   float64\n",
      "dtypes: float64(1), int64(1), object(11)\n",
      "memory usage: 791.0+ KB\n"
     ]
    }
   ],
   "source": [
    "df.info()"
   ]
  },
  {
   "cell_type": "markdown",
   "metadata": {},
   "source": [
    "## Helpful functions"
   ]
  },
  {
   "cell_type": "code",
   "execution_count": 104,
   "metadata": {},
   "outputs": [],
   "source": [
    "def get_column2show_data(column):\n",
    "    \n",
    "    show_cnt = {}\n",
    "    row_idx = {}\n",
    "\n",
    "    subset = df.dropna(subset=[column])\n",
    "\n",
    "    for cols, row_index in zip(subset[column].values, subset.index):\n",
    "        for col in cols.split(','):\n",
    "            col = col.strip()\n",
    "            n_shows = show_cnt.get(col, 0)\n",
    "            show_cnt[col] = n_shows+1\n",
    "\n",
    "            idxs = row_idx.get(col, [])\n",
    "            idxs.append(row_index)\n",
    "            row_idx[col] = idxs\n",
    "    \n",
    "    show_cnt = sorted(show_cnt.items(), reverse=True, key=lambda item: item[1])\n",
    "    \n",
    "    return show_cnt, row_idx"
   ]
  },
  {
   "cell_type": "code",
   "execution_count": 105,
   "metadata": {},
   "outputs": [],
   "source": [
    "def get_person_genres(person, person2row_idx):\n",
    "    person_shows = person2row_idx[person]\n",
    "    genre_count = {}\n",
    "    for genres in df.iloc[person_shows].listed_in:\n",
    "        for genre in genres.split(','):\n",
    "            gnr = genre.strip()\n",
    "            count = genre_count.get(gnr, 0)\n",
    "            genre_count[gnr] = count+1\n",
    "            \n",
    "    genre_count = sorted(genre_count.items(), reverse=True, key=lambda item: item[1])\n",
    "    \n",
    "    return genre_count"
   ]
  },
  {
   "cell_type": "markdown",
   "metadata": {},
   "source": [
    "## Show type"
   ]
  },
  {
   "cell_type": "markdown",
   "metadata": {},
   "source": [
    "### Number of movies and TV Shows"
   ]
  },
  {
   "cell_type": "code",
   "execution_count": 43,
   "metadata": {},
   "outputs": [
    {
     "data": {
      "image/png": "[encoded data removed]",
      "text/plain": [
       "<Figure size 720x432 with 1 Axes>"
      ]
     },
     "metadata": {
      "needs_background": "light"
     },
     "output_type": "display_data"
    }
   ],
   "source": [
    "value_cnt = df.type.value_counts()\n",
    "\n",
    "plt.figure(figsize=(10, 6))\n",
    "ax = sns.countplot(data=df, x='type', order=value_cnt.index)\n",
    "plt.title('Number of Movies vs TV Show')\n",
    "\n",
    "for cat, count in zip(ax.patches, value_cnt.values):\n",
    "    ax.annotate(f'Count: {count}, frequency: {round(count/df.shape[0], 2)}', (cat.get_x()+0.15, cat.get_height()+50))"
   ]
  },
  {
   "cell_type": "code",
   "execution_count": 106,
   "metadata": {},
   "outputs": [
    {
     "name": "stdout",
     "output_type": "stream",
     "text": [
      "Movie common genres: [('International Movies', 2437), ('Dramas', 2106), ('Comedies', 1471), ('Documentaries', 786), ('Action & Adventure', 721), ('Independent Movies', 673), ('Children & Family Movies', 532), ('Romantic Movies', 531), ('Thrillers', 491), ('Stand-Up Comedy', 329), ('Music & Musicals', 321), ('Horror Movies', 312), ('Sci-Fi & Fantasy', 218), ('Sports Movies', 196), ('Classic Movies', 103), ('LGBTQ Movies', 90), ('Cult Movies', 59), ('Faith & Spirituality', 57), ('Anime Features', 57), ('Movies', 56)]\n",
      "\n",
      "TV Show common genres: [('International TV Shows', 1199), ('TV Dramas', 704), ('TV Comedies', 525), ('Crime TV Shows', 427), (\"Kids' TV\", 414), ('Docuseries', 353), ('Romantic TV Shows', 333), ('British TV Shows', 232), ('Reality TV', 222), ('Korean TV Shows', 150), ('TV Action & Adventure', 150), ('Anime Series', 148), ('Spanish-Language TV Shows', 147), ('TV Mysteries', 90), ('Science & Nature TV', 85), ('TV Sci-Fi & Fantasy', 76), ('TV Horror', 69), ('Teen TV Shows', 60), ('Stand-Up Comedy & Talk Shows', 52), ('TV Thrillers', 50), ('Classic & Cult TV', 27), ('TV Shows', 12)]\n",
      "\n"
     ]
    }
   ],
   "source": [
    "show_types = ['Movie', 'TV Show']\n",
    "show2row_idx = {show_type:df[df['type'] == show_type].index for show_type in show_types}\n",
    "\n",
    "for show_type in show_types:\n",
    "    print(f'{show_type} common genres: {get_person_genres(show_type, show2row_idx)}\\n')"
   ]
  },
  {
   "cell_type": "markdown",
   "metadata": {},
   "source": [
    "## Directors column"
   ]
  },
  {
   "cell_type": "markdown",
   "metadata": {},
   "source": [
    "### Directors (teams) with the most shows"
   ]
  },
  {
   "cell_type": "code",
   "execution_count": 7,
   "metadata": {},
   "outputs": [
    {
     "name": "stdout",
     "output_type": "stream",
     "text": [
      "Number of directors: 4049\n"
     ]
    },
    {
     "data": {
      "text/html": [
       "<div>\n",
       "<style scoped>\n",
       "    .dataframe tbody tr th:only-of-type {\n",
       "        vertical-align: middle;\n",
       "    }\n",
       "\n",
       "    .dataframe tbody tr th {\n",
       "        vertical-align: top;\n",
       "    }\n",
       "\n",
       "    .dataframe thead th {\n",
       "        text-align: right;\n",
       "    }\n",
       "</style>\n",
       "<table border=\"1\" class=\"dataframe\">\n",
       "  <thead>\n",
       "    <tr style=\"text-align: right;\">\n",
       "      <th></th>\n",
       "      <th>director</th>\n",
       "      <th>number_of_shows</th>\n",
       "    </tr>\n",
       "  </thead>\n",
       "  <tbody>\n",
       "    <tr>\n",
       "      <th>3078</th>\n",
       "      <td>Raúl Campos, Jan Suter</td>\n",
       "      <td>18</td>\n",
       "    </tr>\n",
       "    <tr>\n",
       "      <th>2321</th>\n",
       "      <td>Marcus Raboy</td>\n",
       "      <td>16</td>\n",
       "    </tr>\n",
       "    <tr>\n",
       "      <th>1607</th>\n",
       "      <td>Jay Karas</td>\n",
       "      <td>14</td>\n",
       "    </tr>\n",
       "    <tr>\n",
       "      <th>624</th>\n",
       "      <td>Cathy Garcia-Molina</td>\n",
       "      <td>13</td>\n",
       "    </tr>\n",
       "    <tr>\n",
       "      <th>2388</th>\n",
       "      <td>Martin Scorsese</td>\n",
       "      <td>12</td>\n",
       "    </tr>\n",
       "    <tr>\n",
       "      <th>1604</th>\n",
       "      <td>Jay Chapman</td>\n",
       "      <td>12</td>\n",
       "    </tr>\n",
       "    <tr>\n",
       "      <th>4007</th>\n",
       "      <td>Youssef Chahine</td>\n",
       "      <td>12</td>\n",
       "    </tr>\n",
       "    <tr>\n",
       "      <th>3599</th>\n",
       "      <td>Steven Spielberg</td>\n",
       "      <td>10</td>\n",
       "    </tr>\n",
       "    <tr>\n",
       "      <th>875</th>\n",
       "      <td>David Dhawan</td>\n",
       "      <td>9</td>\n",
       "    </tr>\n",
       "    <tr>\n",
       "      <th>3262</th>\n",
       "      <td>Ryan Polito</td>\n",
       "      <td>8</td>\n",
       "    </tr>\n",
       "  </tbody>\n",
       "</table>\n",
       "</div>"
      ],
      "text/plain": [
       "                    director  number_of_shows\n",
       "3078  Raúl Campos, Jan Suter               18\n",
       "2321            Marcus Raboy               16\n",
       "1607               Jay Karas               14\n",
       "624      Cathy Garcia-Molina               13\n",
       "2388         Martin Scorsese               12\n",
       "1604             Jay Chapman               12\n",
       "4007         Youssef Chahine               12\n",
       "3599        Steven Spielberg               10\n",
       "875             David Dhawan                9\n",
       "3262             Ryan Polito                8"
      ]
     },
     "execution_count": 7,
     "metadata": {},
     "output_type": "execute_result"
    }
   ],
   "source": [
    "n_directors = df.dropna(subset=['director']).director.nunique()\n",
    "print(f'Number of directors: {n_directors}')\n",
    "\n",
    "directors = df.groupby(by='director').agg({'show_id':'count'})\n",
    "directors = directors.reset_index()\n",
    "directors.columns = ['director', 'number_of_shows']\n",
    "directors = directors.sort_values('number_of_shows', ascending=False)\n",
    "\n",
    "directors.head(10)"
   ]
  },
  {
   "cell_type": "markdown",
   "metadata": {},
   "source": [
    "### Directors (person) with the most shows"
   ]
  },
  {
   "cell_type": "code",
   "execution_count": 89,
   "metadata": {},
   "outputs": [],
   "source": [
    "director2show_cnt, director2row_idx = get_column2show_data('director')\n",
    "\n",
    "sorted_directors = pd.DataFrame(sorted(director2show_cnt.items(), reverse=True, key=lambda item: item[1]))\n",
    "sorted_directors.columns = ['directors', 'number_of_shows']"
   ]
  },
  {
   "cell_type": "code",
   "execution_count": 90,
   "metadata": {},
   "outputs": [
    {
     "data": {
      "text/html": [
       "<div>\n",
       "<style scoped>\n",
       "    .dataframe tbody tr th:only-of-type {\n",
       "        vertical-align: middle;\n",
       "    }\n",
       "\n",
       "    .dataframe tbody tr th {\n",
       "        vertical-align: top;\n",
       "    }\n",
       "\n",
       "    .dataframe thead th {\n",
       "        text-align: right;\n",
       "    }\n",
       "</style>\n",
       "<table border=\"1\" class=\"dataframe\">\n",
       "  <thead>\n",
       "    <tr style=\"text-align: right;\">\n",
       "      <th></th>\n",
       "      <th>directors</th>\n",
       "      <th>number_of_shows</th>\n",
       "    </tr>\n",
       "  </thead>\n",
       "  <tbody>\n",
       "    <tr>\n",
       "      <th>0</th>\n",
       "      <td>Jan Suter</td>\n",
       "      <td>21</td>\n",
       "    </tr>\n",
       "    <tr>\n",
       "      <th>1</th>\n",
       "      <td>Raúl Campos</td>\n",
       "      <td>19</td>\n",
       "    </tr>\n",
       "    <tr>\n",
       "      <th>2</th>\n",
       "      <td>Marcus Raboy</td>\n",
       "      <td>16</td>\n",
       "    </tr>\n",
       "    <tr>\n",
       "      <th>3</th>\n",
       "      <td>Jay Karas</td>\n",
       "      <td>15</td>\n",
       "    </tr>\n",
       "    <tr>\n",
       "      <th>4</th>\n",
       "      <td>Cathy Garcia-Molina</td>\n",
       "      <td>13</td>\n",
       "    </tr>\n",
       "    <tr>\n",
       "      <th>5</th>\n",
       "      <td>Youssef Chahine</td>\n",
       "      <td>12</td>\n",
       "    </tr>\n",
       "    <tr>\n",
       "      <th>6</th>\n",
       "      <td>Martin Scorsese</td>\n",
       "      <td>12</td>\n",
       "    </tr>\n",
       "    <tr>\n",
       "      <th>7</th>\n",
       "      <td>Jay Chapman</td>\n",
       "      <td>12</td>\n",
       "    </tr>\n",
       "    <tr>\n",
       "      <th>8</th>\n",
       "      <td>Steven Spielberg</td>\n",
       "      <td>10</td>\n",
       "    </tr>\n",
       "    <tr>\n",
       "      <th>9</th>\n",
       "      <td>Shannon Hartman</td>\n",
       "      <td>9</td>\n",
       "    </tr>\n",
       "  </tbody>\n",
       "</table>\n",
       "</div>"
      ],
      "text/plain": [
       "             directors  number_of_shows\n",
       "0            Jan Suter               21\n",
       "1          Raúl Campos               19\n",
       "2         Marcus Raboy               16\n",
       "3            Jay Karas               15\n",
       "4  Cathy Garcia-Molina               13\n",
       "5      Youssef Chahine               12\n",
       "6      Martin Scorsese               12\n",
       "7          Jay Chapman               12\n",
       "8     Steven Spielberg               10\n",
       "9      Shannon Hartman                9"
      ]
     },
     "execution_count": 90,
     "metadata": {},
     "output_type": "execute_result"
    }
   ],
   "source": [
    "sorted_directors.head(10)"
   ]
  },
  {
   "cell_type": "markdown",
   "metadata": {},
   "source": [
    "### Common show genres for director"
   ]
  },
  {
   "cell_type": "code",
   "execution_count": 101,
   "metadata": {},
   "outputs": [
    {
     "name": "stdout",
     "output_type": "stream",
     "text": [
      "Jan Suter common genres: {'Stand-Up Comedy': 21}\n",
      "\n",
      "Raúl Campos common genres: {'Stand-Up Comedy': 19}\n",
      "\n",
      "Marcus Raboy common genres: {'Stand-Up Comedy': 15, 'Stand-Up Comedy & Talk Shows': 1, 'TV Comedies': 1}\n",
      "\n",
      "Jay Karas common genres: {'Stand-Up Comedy': 14, 'Children & Family Movies': 1, 'Comedies': 1, 'Sports Movies': 1}\n",
      "\n",
      "Cathy Garcia-Molina common genres: {'Dramas': 9, 'International Movies': 13, 'Romantic Movies': 8, 'Comedies': 7}\n",
      "\n",
      "Youssef Chahine common genres: {'Classic Movies': 8, 'Dramas': 12, 'International Movies': 11, 'Action & Adventure': 1, 'Romantic Movies': 1}\n",
      "\n",
      "Martin Scorsese common genres: {'Classic Movies': 6, 'Comedies': 1, 'Dramas': 10, 'Children & Family Movies': 1, 'Independent Movies': 2, 'Documentaries': 2, 'Music & Musicals': 2, 'Sports Movies': 1, 'Thrillers': 2}\n",
      "\n",
      "Jay Chapman common genres: {'Stand-Up Comedy': 12}\n",
      "\n",
      "Steven Spielberg common genres: {'Dramas': 4, 'Children & Family Movies': 6, 'Action & Adventure': 4, 'Sci-Fi & Fantasy': 1, 'Classic Movies': 4}\n",
      "\n",
      "Shannon Hartman common genres: {'Stand-Up Comedy': 9}\n",
      "\n"
     ]
    }
   ],
   "source": [
    "directors = sorted_directors.head(10).directors\n",
    "for director in directors:\n",
    "    print(f'{director} common genres: {get_person_genres(director, director2row_idx)}\\n')"
   ]
  },
  {
   "cell_type": "markdown",
   "metadata": {},
   "source": [
    "### Number of directors per show"
   ]
  },
  {
   "cell_type": "code",
   "execution_count": 59,
   "metadata": {},
   "outputs": [],
   "source": [
    "def number_of_directors(directors):\n",
    "    try:\n",
    "        return len(directors.split(','))\n",
    "    except:\n",
    "        return np.nan\n",
    "\n",
    "df['number_of_directors'] = df['director'].apply(number_of_directors)"
   ]
  },
  {
   "cell_type": "code",
   "execution_count": 68,
   "metadata": {},
   "outputs": [
    {
     "name": "stdout",
     "output_type": "stream",
     "text": [
      "Number of shows with unknow director: 2389\n"
     ]
    },
    {
     "data": {
      "image/png": "[encoded data removed]",
      "text/plain": [
       "<Figure size 720x432 with 1 Axes>"
      ]
     },
     "metadata": {
      "needs_background": "light"
     },
     "output_type": "display_data"
    }
   ],
   "source": [
    "print(f'Number of shows with unknow director: {df.number_of_directors.isna().sum()}')\n",
    "\n",
    "directors_cnt = df.dropna(subset=['number_of_directors']).number_of_directors.value_counts()\n",
    "\n",
    "plt.figure(figsize=(10, 6))\n",
    "ax = sns.countplot(data=df, x='number_of_directors', order=directors_cnt.index)\n",
    "plt.title('Number of directors per show')\n",
    "\n",
    "for cat, count in zip(ax.patches, directors_cnt.values):\n",
    "    ax.annotate(count, (cat.get_x()+0.15, cat.get_height()+50))"
   ]
  },
  {
   "cell_type": "markdown",
   "metadata": {},
   "source": [
    "## Cast column"
   ]
  },
  {
   "cell_type": "markdown",
   "metadata": {},
   "source": [
    "### Actors who starred in the most shows"
   ]
  },
  {
   "cell_type": "code",
   "execution_count": 93,
   "metadata": {},
   "outputs": [],
   "source": [
    "actor2show_cnt, actor2row_idx = get_column2show_data('cast')\n",
    "\n",
    "sorted_actors = pd.DataFrame(sorted(actor2show_cnt.items(), reverse=True, key=lambda item: item[1]))\n",
    "sorted_actors.columns = ['actor', 'number_of_shows']"
   ]
  },
  {
   "cell_type": "code",
   "execution_count": 94,
   "metadata": {},
   "outputs": [
    {
     "data": {
      "text/html": [
       "<div>\n",
       "<style scoped>\n",
       "    .dataframe tbody tr th:only-of-type {\n",
       "        vertical-align: middle;\n",
       "    }\n",
       "\n",
       "    .dataframe tbody tr th {\n",
       "        vertical-align: top;\n",
       "    }\n",
       "\n",
       "    .dataframe thead th {\n",
       "        text-align: right;\n",
       "    }\n",
       "</style>\n",
       "<table border=\"1\" class=\"dataframe\">\n",
       "  <thead>\n",
       "    <tr style=\"text-align: right;\">\n",
       "      <th></th>\n",
       "      <th>actor</th>\n",
       "      <th>number_of_shows</th>\n",
       "    </tr>\n",
       "  </thead>\n",
       "  <tbody>\n",
       "    <tr>\n",
       "      <th>0</th>\n",
       "      <td>Anupam Kher</td>\n",
       "      <td>42</td>\n",
       "    </tr>\n",
       "    <tr>\n",
       "      <th>1</th>\n",
       "      <td>Shah Rukh Khan</td>\n",
       "      <td>35</td>\n",
       "    </tr>\n",
       "    <tr>\n",
       "      <th>2</th>\n",
       "      <td>Naseeruddin Shah</td>\n",
       "      <td>30</td>\n",
       "    </tr>\n",
       "    <tr>\n",
       "      <th>3</th>\n",
       "      <td>Om Puri</td>\n",
       "      <td>30</td>\n",
       "    </tr>\n",
       "    <tr>\n",
       "      <th>4</th>\n",
       "      <td>Takahiro Sakurai</td>\n",
       "      <td>29</td>\n",
       "    </tr>\n",
       "    <tr>\n",
       "      <th>5</th>\n",
       "      <td>Akshay Kumar</td>\n",
       "      <td>29</td>\n",
       "    </tr>\n",
       "    <tr>\n",
       "      <th>6</th>\n",
       "      <td>Boman Irani</td>\n",
       "      <td>27</td>\n",
       "    </tr>\n",
       "    <tr>\n",
       "      <th>7</th>\n",
       "      <td>Amitabh Bachchan</td>\n",
       "      <td>27</td>\n",
       "    </tr>\n",
       "    <tr>\n",
       "      <th>8</th>\n",
       "      <td>Paresh Rawal</td>\n",
       "      <td>27</td>\n",
       "    </tr>\n",
       "    <tr>\n",
       "      <th>9</th>\n",
       "      <td>Yuki Kaji</td>\n",
       "      <td>27</td>\n",
       "    </tr>\n",
       "  </tbody>\n",
       "</table>\n",
       "</div>"
      ],
      "text/plain": [
       "              actor  number_of_shows\n",
       "0       Anupam Kher               42\n",
       "1    Shah Rukh Khan               35\n",
       "2  Naseeruddin Shah               30\n",
       "3           Om Puri               30\n",
       "4  Takahiro Sakurai               29\n",
       "5      Akshay Kumar               29\n",
       "6       Boman Irani               27\n",
       "7  Amitabh Bachchan               27\n",
       "8      Paresh Rawal               27\n",
       "9         Yuki Kaji               27"
      ]
     },
     "execution_count": 94,
     "metadata": {},
     "output_type": "execute_result"
    }
   ],
   "source": [
    "sorted_actors.head(10)"
   ]
  },
  {
   "cell_type": "markdown",
   "metadata": {},
   "source": [
    "### Common show genres for actor"
   ]
  },
  {
   "cell_type": "code",
   "execution_count": 100,
   "metadata": {},
   "outputs": [
    {
     "name": "stdout",
     "output_type": "stream",
     "text": [
      "Anupam Kher common genres: {'Dramas': 28, 'Action & Adventure': 12, 'International Movies': 37, 'Comedies': 19, 'Romantic Movies': 7, 'Music & Musicals': 5, 'Thrillers': 2, 'Classic Movies': 1, 'Sci-Fi & Fantasy': 1, 'Independent Movies': 2, 'Crime TV Shows': 1, 'International TV Shows': 1, 'TV Comedies': 1, 'Children & Family Movies': 1} \n",
      "\n",
      "Shah Rukh Khan common genres: {'Action & Adventure': 11, 'Dramas': 28, 'International Movies': 32, 'Romantic Movies': 7, 'Comedies': 16, 'Sci-Fi & Fantasy': 1, 'Music & Musicals': 3, 'Thrillers': 1} \n",
      "\n",
      "Naseeruddin Shah common genres: {'Dramas': 26, 'International Movies': 25, 'Thrillers': 4, 'Action & Adventure': 3, 'Independent Movies': 9, 'Romantic Movies': 2, 'Comedies': 12, 'Sci-Fi & Fantasy': 1, 'Children & Family Movies': 2, 'Music & Musicals': 1, 'Documentaries': 1} \n",
      "\n",
      "Om Puri common genres: {'Children & Family Movies': 1, 'Comedies': 10, 'International Movies': 27, 'Dramas': 19, 'Faith & Spirituality': 1, 'Cult Movies': 1, 'Action & Adventure': 7, 'Music & Musicals': 5, 'Thrillers': 1, 'Romantic Movies': 2, 'Independent Movies': 3, 'Sci-Fi & Fantasy': 1} \n",
      "\n",
      "Takahiro Sakurai common genres: {'Anime Series': 21, 'International TV Shows': 18, 'Teen TV Shows': 5, 'Action & Adventure': 6, 'Anime Features': 7, 'International Movies': 6, 'Romantic Movies': 1, 'TV Shows': 1, 'Crime TV Shows': 1, 'TV Thrillers': 1, \"Kids' TV\": 1} \n",
      "\n",
      "Akshay Kumar common genres: {'Children & Family Movies': 1, 'Comedies': 14, 'International Movies': 27, 'Music & Musicals': 7, 'Romantic Movies': 8, 'Dramas': 15, 'Thrillers': 2, 'Action & Adventure': 7, 'Sports Movies': 1} \n",
      "\n",
      "Boman Irani common genres: {'Comedies': 15, 'Dramas': 14, 'International Movies': 24, 'Romantic Movies': 2, 'Action & Adventure': 9, 'Horror Movies': 1, 'Thrillers': 2, 'Music & Musicals': 3, 'Sports Movies': 2} \n",
      "\n",
      "Amitabh Bachchan common genres: {'Dramas': 20, 'International Movies': 22, 'Action & Adventure': 11, 'Classic Movies': 3, 'Comedies': 7, 'Thrillers': 4, 'Romantic Movies': 3, 'Music & Musicals': 2, 'Cult Movies': 2} \n",
      "\n",
      "Paresh Rawal common genres: {'International Movies': 25, 'Music & Musicals': 4, 'Romantic Movies': 3, 'Action & Adventure': 5, 'Comedies': 17, 'Cult Movies': 1, 'Dramas': 17, 'Thrillers': 2, 'Sports Movies': 1, 'Independent Movies': 1} \n",
      "\n",
      "Yuki Kaji common genres: {'Anime Series': 16, 'International TV Shows': 16, 'Crime TV Shows': 4, 'Action & Adventure': 9, 'Anime Features': 10, 'International Movies': 7, 'Romantic Movies': 1, 'Horror Movies': 1, 'TV Shows': 1, 'Teen TV Shows': 1, 'Children & Family Movies': 1, 'Romantic TV Shows': 2} \n",
      "\n"
     ]
    }
   ],
   "source": [
    "actors = sorted_actors.head(10).actor\n",
    "for actor in actors:\n",
    "    print(f'{actor} common genres: {get_person_genres(actor, actor2row_idx)} \\n')"
   ]
  },
  {
   "cell_type": "code",
   "execution_count": null,
   "metadata": {},
   "outputs": [],
   "source": []
  }
 ],
 "metadata": {
  "kernelspec": {
   "display_name": "Python 3",
   "language": "python",
   "name": "python3"
  },
  "language_info": {
   "codemirror_mode": {
    "name": "ipython",
    "version": 3
   },
   "file_extension": ".py",
   "mimetype": "text/x-python",
   "name": "python",
   "nbconvert_exporter": "python",
   "pygments_lexer": "ipython3",
   "version": "3.7.9"
  }
 },
 "nbformat": 4,
 "nbformat_minor": 4
}
