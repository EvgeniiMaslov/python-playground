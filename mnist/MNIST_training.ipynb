{
  "nbformat": 4,
  "nbformat_minor": 0,
  "metadata": {
    "colab": {
      "name": "MNIST_training.ipynb",
      "provenance": [],
      "collapsed_sections": []
    },
    "kernelspec": {
      "name": "python3",
      "display_name": "Python 3"
    },
    "accelerator": "GPU"
  },
  "cells": [
    {
      "cell_type": "code",
      "metadata": {
        "id": "z8taQra4IQTg",
        "colab_type": "code",
        "colab": {}
      },
      "source": [
        "import tensorflow as tf\n",
        "import numpy as np\n",
        "from tensorflow.keras.layers import Dense, Conv2D, Flatten, MaxPooling2D"
      ],
      "execution_count": null,
      "outputs": []
    },
    {
      "cell_type": "code",
      "metadata": {
        "id": "9nKU0ArSIjkw",
        "colab_type": "code",
        "colab": {
          "base_uri": "https://localhost:8080/",
          "height": 86
        },
        "outputId": "13dbc2d1-309e-446d-e432-6d42c126d6ce"
      },
      "source": [
        "(x_train, y_train), (x_test, y_test) = tf.keras.datasets.mnist.load_data()\n",
        "print(x_train[0].shape)\n",
        "# Rescale the images from [0,255] to the [0.0,1.0] range.\n",
        "x_train, x_test = x_train[..., np.newaxis]/255.0, x_test[..., np.newaxis]/255.0\n",
        "print(x_train[0].shape)\n",
        "x_val, y_val = x_train[:10000], y_train[:10000]\n",
        "x_train, y_train = x_train[10000:], y_train[10000:]\n",
        "print(\"Number of original training examples:\", len(x_train))\n",
        "print(\"Number of original test examples:\", len(x_test))\n"
      ],
      "execution_count": null,
      "outputs": [
        {
          "output_type": "stream",
          "text": [
            "(28, 28)\n",
            "(28, 28, 1)\n",
            "Number of original training examples: 50000\n",
            "Number of original test examples: 10000\n"
          ],
          "name": "stdout"
        }
      ]
    },
    {
      "cell_type": "code",
      "metadata": {
        "id": "VHk_JyI9I3M0",
        "colab_type": "code",
        "colab": {}
      },
      "source": [
        "model = tf.keras.models.Sequential([\n",
        "                                    Conv2D(64, 3, (1,1), input_shape=(28,28, 1), activation='relu'),\n",
        "                                    MaxPooling2D((2,2)),\n",
        "                                    Conv2D(128, 3, (1, 1), activation='relu'),\n",
        "                                    Flatten(),\n",
        "                                    Dense(10, activation='softmax')\n",
        "])"
      ],
      "execution_count": null,
      "outputs": []
    },
    {
      "cell_type": "code",
      "metadata": {
        "id": "OBtS87dcJHH0",
        "colab_type": "code",
        "colab": {}
      },
      "source": [
        "model.compile(optimizer='rmsprop', loss='sparse_categorical_crossentropy', metrics=['accuracy'])"
      ],
      "execution_count": null,
      "outputs": []
    },
    {
      "cell_type": "code",
      "metadata": {
        "id": "tpNrsJq1MKe6",
        "colab_type": "code",
        "colab": {
          "base_uri": "https://localhost:8080/",
          "height": 384
        },
        "outputId": "6f6c6822-6a04-4bb0-ac70-805564bb1075"
      },
      "source": [
        "history = model.fit(x_train, y_train, batch_size=32, epochs=10, validation_data=(x_val, y_val))"
      ],
      "execution_count": null,
      "outputs": [
        {
          "output_type": "stream",
          "text": [
            "Epoch 1/10\n",
            "1563/1563 [==============================] - 13s 8ms/step - loss: 0.1179 - accuracy: 0.9641 - val_loss: 0.0610 - val_accuracy: 0.9832\n",
            "Epoch 2/10\n",
            "1563/1563 [==============================] - 13s 8ms/step - loss: 0.0439 - accuracy: 0.9868 - val_loss: 0.0560 - val_accuracy: 0.9849\n",
            "Epoch 3/10\n",
            "1563/1563 [==============================] - 13s 8ms/step - loss: 0.0351 - accuracy: 0.9896 - val_loss: 0.0481 - val_accuracy: 0.9854\n",
            "Epoch 4/10\n",
            "1563/1563 [==============================] - 13s 8ms/step - loss: 0.0301 - accuracy: 0.9916 - val_loss: 0.0559 - val_accuracy: 0.9868\n",
            "Epoch 5/10\n",
            "1563/1563 [==============================] - 13s 8ms/step - loss: 0.0263 - accuracy: 0.9919 - val_loss: 0.0561 - val_accuracy: 0.9842\n",
            "Epoch 6/10\n",
            "1563/1563 [==============================] - 13s 8ms/step - loss: 0.0243 - accuracy: 0.9928 - val_loss: 0.0515 - val_accuracy: 0.9885\n",
            "Epoch 7/10\n",
            "1563/1563 [==============================] - 13s 8ms/step - loss: 0.0226 - accuracy: 0.9932 - val_loss: 0.0477 - val_accuracy: 0.9884\n",
            "Epoch 8/10\n",
            "1563/1563 [==============================] - 13s 8ms/step - loss: 0.0200 - accuracy: 0.9944 - val_loss: 0.0552 - val_accuracy: 0.9889\n",
            "Epoch 9/10\n",
            "1563/1563 [==============================] - 13s 8ms/step - loss: 0.0196 - accuracy: 0.9947 - val_loss: 0.0651 - val_accuracy: 0.9852\n",
            "Epoch 10/10\n",
            "1563/1563 [==============================] - 13s 8ms/step - loss: 0.0177 - accuracy: 0.9951 - val_loss: 0.0672 - val_accuracy: 0.9838\n"
          ],
          "name": "stdout"
        }
      ]
    },
    {
      "cell_type": "code",
      "metadata": {
        "id": "_I1u63b6YH6R",
        "colab_type": "code",
        "colab": {
          "base_uri": "https://localhost:8080/",
          "height": 69
        },
        "outputId": "ab8ac47f-89dd-4363-ef6b-294b15734203"
      },
      "source": [
        "model.predict(x_test[0].reshape(1, 28, 28, 1))"
      ],
      "execution_count": null,
      "outputs": [
        {
          "output_type": "execute_result",
          "data": {
            "text/plain": [
              "array([[2.1053671e-11, 5.8722700e-14, 4.9010715e-09, 1.7142218e-08,\n",
              "        2.9209138e-13, 1.5675905e-14, 2.5008891e-20, 1.0000000e+00,\n",
              "        3.6577334e-09, 9.2877250e-10]], dtype=float32)"
            ]
          },
          "metadata": {
            "tags": []
          },
          "execution_count": 13
        }
      ]
    },
    {
      "cell_type": "code",
      "metadata": {
        "id": "wkkbDzu0kVSo",
        "colab_type": "code",
        "colab": {}
      },
      "source": [
        ""
      ],
      "execution_count": null,
      "outputs": []
    }
  ]
}