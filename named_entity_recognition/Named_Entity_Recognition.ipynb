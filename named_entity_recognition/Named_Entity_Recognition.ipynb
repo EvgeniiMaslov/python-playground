{
 "cells": [
  {
   "cell_type": "markdown",
   "metadata": {},
   "source": [
    "#### Importing libraries"
   ]
  },
  {
   "cell_type": "code",
   "execution_count": 42,
   "metadata": {},
   "outputs": [],
   "source": [
    "import os\n",
    "import numpy as np\n",
    "import pandas as pd\n",
    "\n",
    "import csv\n",
    "from collections import Counter"
   ]
  },
  {
   "cell_type": "markdown",
   "metadata": {
    "id": "syyGj3Gbggiu"
   },
   "source": [
    "#### Getting the data\n",
    "\n",
    "For\n",
    "this task, the Groningen Meaning Bank (GMB) data set will be used. This dataset is\n",
    "not considered a gold standard. This means that this data set is built using automatic\n",
    "tagging software, followed by human raters updating subsets of the data. \n",
    "\n",
    "The following named entities are tagged in\n",
    "this corpus:\n",
    "* geo = Geographical entity\n",
    "* org = Organization\n",
    "* per = Person\n",
    "* gpe = Geopolitical entity\n",
    "* tim = Time indicator\n",
    "* art = Artifact\n",
    "* eve = Event\n",
    "* nat = Natural phenomenon\n",
    "\n",
    "\n",
    "To download dataset:"
   ]
  },
  {
   "cell_type": "code",
   "execution_count": 1,
   "metadata": {
    "colab": {
     "base_uri": "https://localhost:8080/"
    },
    "id": "vltKv7LmgcLf",
    "outputId": "7c7669fc-52ed-491e-da03-9b793f577339",
    "scrolled": true
   },
   "outputs": [
    {
     "name": "stdout",
     "output_type": "stream",
     "text": [
      "--2021-05-13 11:36:30--  https://gmb.let.rug.nl/releases/gmb-2.2.0.zip\n",
      "Resolving gmb.let.rug.nl (gmb.let.rug.nl)... 129.125.2.210\n",
      "Connecting to gmb.let.rug.nl (gmb.let.rug.nl)|129.125.2.210|:443... connected.\n",
      "HTTP request sent, awaiting response... 200 OK\n",
      "Length: 841163535 (802M) [application/zip]\n",
      "Saving to: ‘gmb-2.2.0.zip’\n",
      "\n",
      "gmb-2.2.0.zip         0%[                    ]   6.18M   249KB/s    eta 59m 43s^C\n",
      "Archive:  gmb-2.2.0.zip\n",
      "  End-of-central-directory signature not found.  Either this file is not\n",
      "  a zipfile, or it constitutes one disk of a multi-part archive.  In the\n",
      "  latter case the central directory and zipfile comment will be found on\n",
      "  the last disk(s) of this archive.\n",
      "unzip:  cannot find zipfile directory in one of gmb-2.2.0.zip or\n",
      "        gmb-2.2.0.zip.zip, and cannot find gmb-2.2.0.zip.ZIP, period.\n"
     ]
    }
   ],
   "source": [
    "!wget https://gmb.let.rug.nl/releases/gmb-2.2.0.zip\n",
    "!unzip gmb-2.2.0.zip"
   ]
  },
  {
   "cell_type": "markdown",
   "metadata": {},
   "source": [
    "#### Looking at data\n",
    "\n",
    "We will be using only\n",
    "files named en.tags in various subdirectories. These files are tab-separated files with\n",
    "each word of a sentence in a row. "
   ]
  },
  {
   "cell_type": "code",
   "execution_count": 6,
   "metadata": {
    "id": "RurZtvHqhBUi"
   },
   "outputs": [],
   "source": [
    "data_path = 'gmb-2.2.0'\n",
    "output_fn = 'gmb-2.2.0/cleaned.csv'"
   ]
  },
  {
   "cell_type": "code",
   "execution_count": 8,
   "metadata": {
    "id": "tJM-U3CRggJK"
   },
   "outputs": [],
   "source": [
    "def get_filenames_by_extension(data_path, extension):\n",
    "    fnames = []\n",
    "    \n",
    "    for root, dirs, files in os.walk(data_path):\n",
    "        for filename in files:\n",
    "            if filename.endswith(extension):\n",
    "                file_path = os.path.join(root, filename)\n",
    "                fnames.append(file_path)\n",
    "                \n",
    "    return fnames"
   ]
  },
  {
   "cell_type": "code",
   "execution_count": 11,
   "metadata": {},
   "outputs": [
    {
     "name": "stdout",
     "output_type": "stream",
     "text": [
      "Length of tags:  10000\n"
     ]
    }
   ],
   "source": [
    "tags = get_filenames_by_extension(data_path, '.tags')\n",
    "\n",
    "print('Length of tags: ', len(tags))"
   ]
  },
  {
   "cell_type": "markdown",
   "metadata": {},
   "source": [
    "A few processing steps need to happen. Each file has a number of sentences, with\n",
    "each words in a row. The entire sentence as a sequence and the corresponding\n",
    "sequence of NER tags need to be fed in as inputs while training the model. As\n",
    "mentioned above, the NER tags also need to be simplified to the top-level entities\n",
    "only. Secondly, the NER tags need to be converted to the IOB format."
   ]
  },
  {
   "cell_type": "code",
   "execution_count": 87,
   "metadata": {},
   "outputs": [],
   "source": [
    "def strip_ner_subcat(tag):\n",
    "    # NER tags are of form {cat}-{subcat}\n",
    "    # eg tim-dow. We only want first part\n",
    "    return tag.split(\"-\")[0]\n",
    "\n",
    "def iob_format(ners):\n",
    "    # converts IO tags into IOB format\n",
    "    # input is a sequence of IO NER tokens\n",
    "    # convert this: O, PERSON, PERSON, O, O, LOCATION, O\n",
    "    # into: O, B-PERSON, I-PERSON, O, O, B-LOCATION, O\n",
    "    iob_tokens = []\n",
    "    for idx, token in enumerate(ners):\n",
    "        if token != 'O': # !other\n",
    "            if idx == 0:\n",
    "                token = \"B-\" + token #start of sentence\n",
    "            elif ners[idx-1] == token:\n",
    "                token = \"I-\" + token # continues\n",
    "            else:\n",
    "                token = \"B-\" + token\n",
    "        iob_tokens.append(token)\n",
    "        iob_tags[token] += 1\n",
    "    return iob_tokens\n",
    "\n",
    "def process_data(tags):\n",
    "    total_sentences = 0\n",
    "    outfiles = []\n",
    "    rows = []\n",
    "    for idx, file in enumerate(tags):\n",
    "        with open(file, 'rb') as content:\n",
    "            data = content.read().decode('utf-8').strip()\n",
    "            sentences = data.split(\"\\n\\n\")\n",
    "\n",
    "            total_sentences += len(sentences)\n",
    "\n",
    "            for sentence in sentences:\n",
    "                toks = sentence.split('\\n')\n",
    "                words, pos, ner = [], [], []\n",
    "\n",
    "                for tok in toks:\n",
    "                    t = tok.split(\"\\t\")\n",
    "                    words.append(t[0])\n",
    "                    pos.append(t[1])\n",
    "                    ner_tags[t[3]] += 1\n",
    "                    ner.append(strip_ner_subcat(t[3]))\n",
    "                rows.append([\" \".join(words), \" \".join(iob_format(ner)), \" \".join(pos)])\n",
    "    return rows"
   ]
  },
  {
   "cell_type": "code",
   "execution_count": 88,
   "metadata": {},
   "outputs": [],
   "source": [
    "ner_tags = Counter()\n",
    "iob_tags = Counter()"
   ]
  },
  {
   "cell_type": "code",
   "execution_count": 96,
   "metadata": {},
   "outputs": [],
   "source": [
    "data = process_data(tags)\n",
    "df = pd.DataFrame(data)\n",
    "df.columns = ['text', 'label', 'pos']\n",
    "df.to_csv(os.path.join(data_path, 'dataset.csv'), index=False)"
   ]
  },
  {
   "cell_type": "code",
   "execution_count": 97,
   "metadata": {},
   "outputs": [
    {
     "data": {
      "text/html": [
       "<div>\n",
       "<style scoped>\n",
       "    .dataframe tbody tr th:only-of-type {\n",
       "        vertical-align: middle;\n",
       "    }\n",
       "\n",
       "    .dataframe tbody tr th {\n",
       "        vertical-align: top;\n",
       "    }\n",
       "\n",
       "    .dataframe thead th {\n",
       "        text-align: right;\n",
       "    }\n",
       "</style>\n",
       "<table border=\"1\" class=\"dataframe\">\n",
       "  <thead>\n",
       "    <tr style=\"text-align: right;\">\n",
       "      <th></th>\n",
       "      <th>text</th>\n",
       "      <th>label</th>\n",
       "      <th>pos</th>\n",
       "    </tr>\n",
       "  </thead>\n",
       "  <tbody>\n",
       "    <tr>\n",
       "      <th>0</th>\n",
       "      <td>Thousands of demonstrators have marched throug...</td>\n",
       "      <td>O O O O O O B-geo O O O O O B-geo O O O O O B-...</td>\n",
       "      <td>NNS IN NNS VBP VBN IN NNP TO VB DT NN IN NNP C...</td>\n",
       "    </tr>\n",
       "    <tr>\n",
       "      <th>1</th>\n",
       "      <td>Families of soldiers killed in the conflict jo...</td>\n",
       "      <td>O O O O O O O O O O O O O O O O O O B-per O O ...</td>\n",
       "      <td>NNS IN NNS VBN IN DT NN VBD DT NNS WP VBD NNS ...</td>\n",
       "    </tr>\n",
       "    <tr>\n",
       "      <th>2</th>\n",
       "      <td>They marched from the Houses of Parliament to ...</td>\n",
       "      <td>O O O O O O O O O O O B-geo I-geo O</td>\n",
       "      <td>PRP VBD IN DT NNS IN NN TO DT NN IN NNP NNP .</td>\n",
       "    </tr>\n",
       "    <tr>\n",
       "      <th>3</th>\n",
       "      <td>Police put the number of marchers at 10,000 wh...</td>\n",
       "      <td>O O O O O O O O O O O O O O O</td>\n",
       "      <td>NNS VBD DT NN IN NNS IN CD IN NNS VBD PRP VBD ...</td>\n",
       "    </tr>\n",
       "    <tr>\n",
       "      <th>4</th>\n",
       "      <td>The protest comes on the eve of the annual con...</td>\n",
       "      <td>O O O O O O O O O O O B-geo O O B-org I-org O ...</td>\n",
       "      <td>DT NN VBZ IN DT NN IN DT JJ NN IN NNP POS VBG ...</td>\n",
       "    </tr>\n",
       "    <tr>\n",
       "      <th>...</th>\n",
       "      <td>...</td>\n",
       "      <td>...</td>\n",
       "      <td>...</td>\n",
       "    </tr>\n",
       "    <tr>\n",
       "      <th>62005</th>\n",
       "      <td>At last the Goatherd threw a stone , and break...</td>\n",
       "      <td>O O O B-tim O O O O O O O O O O O O O O O O O O</td>\n",
       "      <td>IN JJ DT NNP VBD DT NN , CC VBG PRP$ NN , VBD ...</td>\n",
       "    </tr>\n",
       "    <tr>\n",
       "      <th>62006</th>\n",
       "      <td>The Goat replied , \" Why , you silly fellow , ...</td>\n",
       "      <td>O O O O O O O O O O O O O O O O O O O O O</td>\n",
       "      <td>DT NNP VBD , LQU WRB , PRP JJ NN , DT NN MD VB...</td>\n",
       "    </tr>\n",
       "    <tr>\n",
       "      <th>62007</th>\n",
       "      <td>Do not attempt to hide things which can not be...</td>\n",
       "      <td>O O O O O O O O O O O O</td>\n",
       "      <td>VBP RB VB TO VB NNS WDT MD RB VB JJ .</td>\n",
       "    </tr>\n",
       "    <tr>\n",
       "      <th>62008</th>\n",
       "      <td>A Sunday School teacher asked her class why Jo...</td>\n",
       "      <td>O B-tim I-tim O O O O O B-per O B-per O B-per ...</td>\n",
       "      <td>DT NNP NNP NN VBD PRP$ NN WRB NNP CC NNP VBD N...</td>\n",
       "    </tr>\n",
       "    <tr>\n",
       "      <th>62009</th>\n",
       "      <td>A small child replied , \" They could n't get a...</td>\n",
       "      <td>O O O O O O O O O O O O O O</td>\n",
       "      <td>DT JJ NN VBD , LQU PRP MD RB VB DT NN . RQU</td>\n",
       "    </tr>\n",
       "  </tbody>\n",
       "</table>\n",
       "<p>62010 rows × 3 columns</p>\n",
       "</div>"
      ],
      "text/plain": [
       "                                                    text  \\\n",
       "0      Thousands of demonstrators have marched throug...   \n",
       "1      Families of soldiers killed in the conflict jo...   \n",
       "2      They marched from the Houses of Parliament to ...   \n",
       "3      Police put the number of marchers at 10,000 wh...   \n",
       "4      The protest comes on the eve of the annual con...   \n",
       "...                                                  ...   \n",
       "62005  At last the Goatherd threw a stone , and break...   \n",
       "62006  The Goat replied , \" Why , you silly fellow , ...   \n",
       "62007  Do not attempt to hide things which can not be...   \n",
       "62008  A Sunday School teacher asked her class why Jo...   \n",
       "62009  A small child replied , \" They could n't get a...   \n",
       "\n",
       "                                                   label  \\\n",
       "0      O O O O O O B-geo O O O O O B-geo O O O O O B-...   \n",
       "1      O O O O O O O O O O O O O O O O O O B-per O O ...   \n",
       "2                    O O O O O O O O O O O B-geo I-geo O   \n",
       "3                          O O O O O O O O O O O O O O O   \n",
       "4      O O O O O O O O O O O B-geo O O B-org I-org O ...   \n",
       "...                                                  ...   \n",
       "62005    O O O B-tim O O O O O O O O O O O O O O O O O O   \n",
       "62006          O O O O O O O O O O O O O O O O O O O O O   \n",
       "62007                            O O O O O O O O O O O O   \n",
       "62008  O B-tim I-tim O O O O O B-per O B-per O B-per ...   \n",
       "62009                        O O O O O O O O O O O O O O   \n",
       "\n",
       "                                                     pos  \n",
       "0      NNS IN NNS VBP VBN IN NNP TO VB DT NN IN NNP C...  \n",
       "1      NNS IN NNS VBN IN DT NN VBD DT NNS WP VBD NNS ...  \n",
       "2          PRP VBD IN DT NNS IN NN TO DT NN IN NNP NNP .  \n",
       "3      NNS VBD DT NN IN NNS IN CD IN NNS VBD PRP VBD ...  \n",
       "4      DT NN VBZ IN DT NN IN DT JJ NN IN NNP POS VBG ...  \n",
       "...                                                  ...  \n",
       "62005  IN JJ DT NNP VBD DT NN , CC VBG PRP$ NN , VBD ...  \n",
       "62006  DT NNP VBD , LQU WRB , PRP JJ NN , DT NN MD VB...  \n",
       "62007              VBP RB VB TO VB NNS WDT MD RB VB JJ .  \n",
       "62008  DT NNP NNP NN VBD PRP$ NN WRB NNP CC NNP VBD N...  \n",
       "62009        DT JJ NN VBD , LQU PRP MD RB VB DT NN . RQU  \n",
       "\n",
       "[62010 rows x 3 columns]"
      ]
     },
     "execution_count": 97,
     "metadata": {},
     "output_type": "execute_result"
    }
   ],
   "source": [
    "df"
   ]
  },
  {
   "cell_type": "code",
   "execution_count": null,
   "metadata": {},
   "outputs": [],
   "source": []
  }
 ],
 "metadata": {
  "colab": {
   "collapsed_sections": [],
   "name": "Named Entity Recognition.ipynb",
   "provenance": []
  },
  "kernelspec": {
   "display_name": "Python 3",
   "language": "python",
   "name": "python3"
  },
  "language_info": {
   "codemirror_mode": {
    "name": "ipython",
    "version": 3
   },
   "file_extension": ".py",
   "mimetype": "text/x-python",
   "name": "python",
   "nbconvert_exporter": "python",
   "pygments_lexer": "ipython3",
   "version": "3.8.5"
  }
 },
 "nbformat": 4,
 "nbformat_minor": 1
}
