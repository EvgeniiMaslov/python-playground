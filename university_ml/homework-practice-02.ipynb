{
 "cells": [
  {
   "cell_type": "markdown",
   "metadata": {},
   "source": [
    "# Машинное обучение, ФКН ВШЭ\n",
    "\n",
    "## Практическое задание 2. Exploratory Data Analysis и линейная регрессия\n",
    "\n",
    "### Общая информация\n",
    "Дата выдачи: 17.09.2019\n",
    "\n",
    "Мягкий дедлайн: 23:59MSK 29.09.2019 (за каждый день просрочки снимается 2 балла)\n",
    "\n",
    "Жесткий дедлайн: 23:59MSK 02.10.2019"
   ]
  },
  {
   "cell_type": "markdown",
   "metadata": {},
   "source": [
    "### О задании\n",
    "В этом задании мы попытаемся научиться анализировать данные и выделять из них полезные признаки. Мы также научимся пользоваться `seaborn` и `sklearn`, а также привыкнем к основным понятиям машинного обучения.\n",
    "\n",
    "### Оценивание и штрафы\n",
    "Каждая из задач имеет определенную «стоимость» (указана в скобках около задачи). Максимально допустимая оценка за работу — 10 баллов. Проверяющий имеет право снизить оценку за неэффективную реализацию или неопрятные графики.\n",
    "\n",
    "**Обратите внимание**, что в каждом разделе домашнего задания есть оцениваниемые задачи и есть вопросы. Вопросы дополняют задачи и направлены на то, чтобы проинтерпретировать или обосновать происходящее. Код без интерпретации не имеет смысла, поэтому отвечать на вопросы обязательно — за отсутствие ответов мы будем снижать баллы за задачи. Если вы ответите на вопросы, но не напишете корректный код к соответствующим оцениваемым задачам, то баллы за такое выставлены не будут.\n",
    "\n",
    "Сдавать задание после указанного срока сдачи нельзя. При выставлении неполного балла за задание в связи с наличием ошибок на усмотрение проверяющего предусмотрена возможность исправить работу на указанных в ответном письме условиях.\n",
    "\n",
    "Задание выполняется самостоятельно. «Похожие» решения считаются плагиатом и все задействованные студенты (в том числе те, у кого списали) не могут получить за него больше 0 баллов (подробнее о плагиате см. на странице курса). Если вы нашли решение какого-то из заданий (или его часть) в открытом источнике, необходимо указать ссылку на этот источник в отдельном блоке в конце вашей работы (скорее всего вы будете не единственным, кто это нашел, поэтому чтобы исключить подозрение в плагиате, необходима ссылка на источник).\n",
    "\n",
    "### Формат сдачи\n",
    "Задания сдаются через систему Anytask. Инвайт можно найти на странице курса. Присылать необходимо ноутбук с выполненным заданием. \n",
    "\n",
    "Для удобства проверки самостоятельно посчитайте свою максимальную оценку (исходя из набора решенных задач) и укажите ниже.\n",
    "\n",
    "Оценка: xx."
   ]
  },
  {
   "cell_type": "markdown",
   "metadata": {},
   "source": [
    "<strong style=\"color: red\">Внимание!</strong> В этом ноутбуке используется библиотека `ipyleaflet`. Чтобы ее установить так, чтобы она работала, нужно совершить 2 простых шага:"
   ]
  },
  {
   "cell_type": "code",
   "execution_count": null,
   "metadata": {},
   "outputs": [],
   "source": [
    "%%cmd\n",
    "pip3 install ipyleaflet\n",
    "jupyter nbextension enable --py --sys-prefix ipyleaflet"
   ]
  },
  {
   "cell_type": "markdown",
   "metadata": {},
   "source": [
    "После этого перезапустите сессию (не `Restart Kernel`, а нажмите `Ctrl+C` в терминале, где вы запускали ноутбук, и запустите заново). Лучше это сделать сразу, чтобы потом не пришлось прерывать сессию и терять промежуточные результаты работы. Если все сделано правильно, вы должны увидеть карту Москвы, выполнив ячейку ниже:"
   ]
  },
  {
   "cell_type": "code",
   "execution_count": 1,
   "metadata": {},
   "outputs": [
    {
     "data": {
      "application/vnd.jupyter.widget-view+json": {
       "model_id": "daf462adae2a42e1a2bdb2714ec11909",
       "version_major": 2,
       "version_minor": 0
      },
      "text/plain": [
       "Map(center=[55.75222, 37.61556], controls=(ZoomControl(options=['position', 'zoom_in_text', 'zoom_in_title', '…"
      ]
     },
     "metadata": {},
     "output_type": "display_data"
    }
   ],
   "source": [
    "from ipyleaflet import Map, basemaps\n",
    "Map(center=(55.7522200, 37.6155600), zoom=10, basemap=basemaps.Esri.NatGeoWorldMap)"
   ]
  },
  {
   "cell_type": "code",
   "execution_count": 4,
   "metadata": {},
   "outputs": [],
   "source": [
    "import pandas as pd\n",
    "import numpy as np\n",
    "import matplotlib.pyplot as plt\n",
    "import seaborn as sns\n",
    "import os\n",
    "%matplotlib inline\n",
    "\n",
    "sns.set(style=\"darkgrid\")"
   ]
  },
  {
   "cell_type": "markdown",
   "metadata": {},
   "source": [
    "## Часть 0. Подготовка (1 балл)"
   ]
  },
  {
   "cell_type": "markdown",
   "metadata": {},
   "source": [
    "**Задание 1 (1 балл)**. Мы будем работать с данными из соревнования [New York City Taxi Trip Duration](https://www.kaggle.com/c/nyc-taxi-trip-duration/overview), в котором нужно было предсказать длительность поездки на такси. Скачайте обучающую выборку из этого соревнования и загрузите ее:"
   ]
  },
  {
   "cell_type": "code",
   "execution_count": 6,
   "metadata": {},
   "outputs": [],
   "source": [
    "#╰( ͡° ͜ʖ ͡° )つ──☆*:・ﾟ\n",
    "import os\n",
    "from zipfile import ZipFile\n",
    "file = ZipFile('data/nyc-taxi-trip-duration.zip')\n",
    "path = 'data/practice2/'\n",
    "file.extractall(path)"
   ]
  },
  {
   "cell_type": "code",
   "execution_count": 7,
   "metadata": {},
   "outputs": [],
   "source": [
    "\n",
    "ls = os.listdir(path)\n",
    "for archive in ls:\n",
    "    if archive.endswith('.zip'):\n",
    "        file = ZipFile(os.path.join(path, archive))\n",
    "        file.extractall(path)"
   ]
  },
  {
   "cell_type": "code",
   "execution_count": 8,
   "metadata": {},
   "outputs": [
    {
     "data": {
      "text/plain": [
       "['.ipynb_checkpoints',\n",
       " 'homework-practice-02.ipynb',\n",
       " 'sample_submission.csv',\n",
       " 'sample_submission.zip',\n",
       " 'test.csv',\n",
       " 'test.zip',\n",
       " 'train.csv',\n",
       " 'train.zip',\n",
       " 'x_test_buf.csv',\n",
       " 'x_train_buf.csv',\n",
       " 'x_val_buf.csv']"
      ]
     },
     "execution_count": 8,
     "metadata": {},
     "output_type": "execute_result"
    }
   ],
   "source": [
    "os.listdir('data/practice2/')"
   ]
  },
  {
   "cell_type": "code",
   "execution_count": 9,
   "metadata": {},
   "outputs": [
    {
     "data": {
      "text/html": [
       "<div>\n",
       "<style scoped>\n",
       "    .dataframe tbody tr th:only-of-type {\n",
       "        vertical-align: middle;\n",
       "    }\n",
       "\n",
       "    .dataframe tbody tr th {\n",
       "        vertical-align: top;\n",
       "    }\n",
       "\n",
       "    .dataframe thead th {\n",
       "        text-align: right;\n",
       "    }\n",
       "</style>\n",
       "<table border=\"1\" class=\"dataframe\">\n",
       "  <thead>\n",
       "    <tr style=\"text-align: right;\">\n",
       "      <th></th>\n",
       "      <th>id</th>\n",
       "      <th>vendor_id</th>\n",
       "      <th>pickup_datetime</th>\n",
       "      <th>dropoff_datetime</th>\n",
       "      <th>passenger_count</th>\n",
       "      <th>pickup_longitude</th>\n",
       "      <th>pickup_latitude</th>\n",
       "      <th>dropoff_longitude</th>\n",
       "      <th>dropoff_latitude</th>\n",
       "      <th>store_and_fwd_flag</th>\n",
       "      <th>trip_duration</th>\n",
       "    </tr>\n",
       "  </thead>\n",
       "  <tbody>\n",
       "    <tr>\n",
       "      <th>0</th>\n",
       "      <td>id2875421</td>\n",
       "      <td>2</td>\n",
       "      <td>2016-03-14 17:24:55</td>\n",
       "      <td>2016-03-14 17:32:30</td>\n",
       "      <td>1</td>\n",
       "      <td>-73.982155</td>\n",
       "      <td>40.767937</td>\n",
       "      <td>-73.964630</td>\n",
       "      <td>40.765602</td>\n",
       "      <td>N</td>\n",
       "      <td>455</td>\n",
       "    </tr>\n",
       "    <tr>\n",
       "      <th>1</th>\n",
       "      <td>id2377394</td>\n",
       "      <td>1</td>\n",
       "      <td>2016-06-12 00:43:35</td>\n",
       "      <td>2016-06-12 00:54:38</td>\n",
       "      <td>1</td>\n",
       "      <td>-73.980415</td>\n",
       "      <td>40.738564</td>\n",
       "      <td>-73.999481</td>\n",
       "      <td>40.731152</td>\n",
       "      <td>N</td>\n",
       "      <td>663</td>\n",
       "    </tr>\n",
       "    <tr>\n",
       "      <th>2</th>\n",
       "      <td>id3858529</td>\n",
       "      <td>2</td>\n",
       "      <td>2016-01-19 11:35:24</td>\n",
       "      <td>2016-01-19 12:10:48</td>\n",
       "      <td>1</td>\n",
       "      <td>-73.979027</td>\n",
       "      <td>40.763939</td>\n",
       "      <td>-74.005333</td>\n",
       "      <td>40.710087</td>\n",
       "      <td>N</td>\n",
       "      <td>2124</td>\n",
       "    </tr>\n",
       "    <tr>\n",
       "      <th>3</th>\n",
       "      <td>id3504673</td>\n",
       "      <td>2</td>\n",
       "      <td>2016-04-06 19:32:31</td>\n",
       "      <td>2016-04-06 19:39:40</td>\n",
       "      <td>1</td>\n",
       "      <td>-74.010040</td>\n",
       "      <td>40.719971</td>\n",
       "      <td>-74.012268</td>\n",
       "      <td>40.706718</td>\n",
       "      <td>N</td>\n",
       "      <td>429</td>\n",
       "    </tr>\n",
       "    <tr>\n",
       "      <th>4</th>\n",
       "      <td>id2181028</td>\n",
       "      <td>2</td>\n",
       "      <td>2016-03-26 13:30:55</td>\n",
       "      <td>2016-03-26 13:38:10</td>\n",
       "      <td>1</td>\n",
       "      <td>-73.973053</td>\n",
       "      <td>40.793209</td>\n",
       "      <td>-73.972923</td>\n",
       "      <td>40.782520</td>\n",
       "      <td>N</td>\n",
       "      <td>435</td>\n",
       "    </tr>\n",
       "  </tbody>\n",
       "</table>\n",
       "</div>"
      ],
      "text/plain": [
       "          id  vendor_id      pickup_datetime     dropoff_datetime  \\\n",
       "0  id2875421          2  2016-03-14 17:24:55  2016-03-14 17:32:30   \n",
       "1  id2377394          1  2016-06-12 00:43:35  2016-06-12 00:54:38   \n",
       "2  id3858529          2  2016-01-19 11:35:24  2016-01-19 12:10:48   \n",
       "3  id3504673          2  2016-04-06 19:32:31  2016-04-06 19:39:40   \n",
       "4  id2181028          2  2016-03-26 13:30:55  2016-03-26 13:38:10   \n",
       "\n",
       "   passenger_count  pickup_longitude  pickup_latitude  dropoff_longitude  \\\n",
       "0                1        -73.982155        40.767937         -73.964630   \n",
       "1                1        -73.980415        40.738564         -73.999481   \n",
       "2                1        -73.979027        40.763939         -74.005333   \n",
       "3                1        -74.010040        40.719971         -74.012268   \n",
       "4                1        -73.973053        40.793209         -73.972923   \n",
       "\n",
       "   dropoff_latitude store_and_fwd_flag  trip_duration  \n",
       "0         40.765602                  N            455  \n",
       "1         40.731152                  N            663  \n",
       "2         40.710087                  N           2124  \n",
       "3         40.706718                  N            429  \n",
       "4         40.782520                  N            435  "
      ]
     },
     "execution_count": 9,
     "metadata": {},
     "output_type": "execute_result"
    }
   ],
   "source": [
    "train = pd.read_csv(os.path.join(path, 'train.csv'))\n",
    "test = pd.read_csv(os.path.join(path, 'test.csv'))\n",
    "submission = pd.read_csv(os.path.join(path, 'sample_submission.csv'))\n",
    "train.head()"
   ]
  },
  {
   "cell_type": "markdown",
   "metadata": {},
   "source": [
    "Обратите внимание на колонки `pickup_datetime` и `dropoff_datetime`. `dropoff_datetime` был добавлена организаторами только в обучающую выборку, то есть использовать эту колонку нельзя, давайте удалим ее. В `pickup_datetime` записаны дата и время начала поездки. Чтобы с ней было удобно работать, давайте преобразуем даты в `datetime`-объекты"
   ]
  },
  {
   "cell_type": "code",
   "execution_count": 10,
   "metadata": {},
   "outputs": [],
   "source": [
    "#╰( ͡° ͜ʖ ͡° )つ──☆*:・ﾟ\n",
    "train.drop(['dropoff_datetime'], axis=1, inplace=True)\n",
    "train['pickup_datetime'] = pd.to_datetime(train['pickup_datetime'])"
   ]
  },
  {
   "cell_type": "code",
   "execution_count": 11,
   "metadata": {},
   "outputs": [
    {
     "name": "stdout",
     "output_type": "stream",
     "text": [
      "<class 'pandas.core.frame.DataFrame'>\n",
      "RangeIndex: 1458644 entries, 0 to 1458643\n",
      "Data columns (total 10 columns):\n",
      " #   Column              Non-Null Count    Dtype         \n",
      "---  ------              --------------    -----         \n",
      " 0   id                  1458644 non-null  object        \n",
      " 1   vendor_id           1458644 non-null  int64         \n",
      " 2   pickup_datetime     1458644 non-null  datetime64[ns]\n",
      " 3   passenger_count     1458644 non-null  int64         \n",
      " 4   pickup_longitude    1458644 non-null  float64       \n",
      " 5   pickup_latitude     1458644 non-null  float64       \n",
      " 6   dropoff_longitude   1458644 non-null  float64       \n",
      " 7   dropoff_latitude    1458644 non-null  float64       \n",
      " 8   store_and_fwd_flag  1458644 non-null  object        \n",
      " 9   trip_duration       1458644 non-null  int64         \n",
      "dtypes: datetime64[ns](1), float64(4), int64(3), object(2)\n",
      "memory usage: 111.3+ MB\n"
     ]
    }
   ],
   "source": [
    "train.info()"
   ]
  },
  {
   "cell_type": "markdown",
   "metadata": {},
   "source": [
    "В колонке `trip_duration` записано целевое значение, которое мы хотим предсказывать. Разбейте выборку на обучающую и тестовую в отношении 7:3."
   ]
  },
  {
   "cell_type": "code",
   "execution_count": 12,
   "metadata": {},
   "outputs": [],
   "source": [
    "#╰( ͡° ͜ʖ ͡° )つ──☆*:・ﾟ\n",
    "from sklearn.model_selection import train_test_split\n",
    "x_train, x_test = train_test_split(train, test_size=0.3, random_state=42)"
   ]
  },
  {
   "cell_type": "code",
   "execution_count": 13,
   "metadata": {},
   "outputs": [
    {
     "name": "stdout",
     "output_type": "stream",
     "text": [
      "Размер всей выборки: (1458644, 10)\n",
      "Размер обучающей выборки: (1021050, 10)\n",
      "Размер валидационной выборки: (437594, 10)\n"
     ]
    }
   ],
   "source": [
    "print('Размер всей выборки: {}'.format(train.shape))\n",
    "print('Размер обучающей выборки: {}'.format(x_train.shape))\n",
    "print('Размер валидационной выборки: {}'.format(x_test.shape))"
   ]
  },
  {
   "cell_type": "markdown",
   "metadata": {},
   "source": [
    "Давайте посмотрим на распределение таргета в обучающей выборке. Для этого нарисуйте его гистограмму:"
   ]
  },
  {
   "cell_type": "code",
   "execution_count": 14,
   "metadata": {},
   "outputs": [
    {
     "data": {
      "text/plain": [
       "array([ 844, 1001, 1048, ..., 1285,  389, 1570], dtype=int64)"
      ]
     },
     "execution_count": 14,
     "metadata": {},
     "output_type": "execute_result"
    }
   ],
   "source": [
    "x_train['trip_duration'].values"
   ]
  },
  {
   "cell_type": "code",
   "execution_count": 15,
   "metadata": {},
   "outputs": [
    {
     "data": {
      "text/plain": [
       "(array([42., 27., 17.,  7.,  2.,  2.,  0.,  2.,  0.,  1.]),\n",
       " array([ 129.,  558.,  987., 1416., 1845., 2274., 2703., 3132., 3561.,\n",
       "        3990., 4419.]),\n",
       " <a list of 10 Patch objects>)"
      ]
     },
     "execution_count": 15,
     "metadata": {},
     "output_type": "execute_result"
    },
    {
     "data": {
      "image/png": "[encoded data removed]",
      "text/plain": [
       "<Figure size 432x288 with 1 Axes>"
      ]
     },
     "metadata": {},
     "output_type": "display_data"
    }
   ],
   "source": [
    "#╰( ͡° ͜ʖ ͡° )つ──☆*:・ﾟ\n",
    "plt.hist(x_train['trip_duration'].sample(100), bins=10)"
   ]
  },
  {
   "cell_type": "markdown",
   "metadata": {},
   "source": [
    "**Вопрос**: Что можно сказать о целевой переменной по гистограмме её значений?"
   ]
  },
  {
   "cell_type": "markdown",
   "metadata": {},
   "source": [
    "В соревновании в качестве метрики качества использовалось RMSLE:\n",
    "$$\\text{RMSLE}(X, y, a) = \\sqrt{\\frac{1}{\\ell}\\sum_{i=1}^{\\ell} \\big(\\log{(y_i + 1)} - \\log{(a(x_i) + 1)}\\big)^2}$$\n",
    "\n",
    "**Вопрос**: Как вы думаете, почему авторы соревнования выбрали именно RMSLE, а не RMSE?"
   ]
  },
  {
   "cell_type": "markdown",
   "metadata": {},
   "source": [
    "На семинаре мы рассматривали несколько моделей линейной регрессии в `sklearn`, но каждая из них оптимизировала среднеквадратичную ошибку (MSE), а не RMSLE. Давайте проделаем следующий трюк: будем предсказывать не целевую переменную, а ее *логарифм*. Обозначим $\\hat{y}_i = \\log{(y_i + 1)}$ — модифицированный таргет, а $\\hat{a}(x_i)$ — предсказание модели, которая обучалась на $\\hat{y}_i$, то есть логарифм таргета. Чтобы предсказать исходное значение, мы можем просто взять экспоненту от нашего предсказания: $a(x_i) = \\exp(\\hat{a}(x_i)) - 1$.\n",
    "\n",
    "**Вопрос**: Покажите, что оптимизация RMSLE для модели $a$ эквивалентна оптимизации MSE для модели $\\hat{a}$.\n",
    "\n",
    "**Доказательство**: ╰( ͡° ͜ʖ ͡° )つ──☆*:・ﾟ\n",
    "\n",
    "Итак, мы смогли свести задачу оптимизации RMSLE к задаче оптимизации MSE, которую мы умеем решать! Кроме того, у логарифмирования таргета есть еще одно полезное свойство. Чтобы его увидеть, добавьте к нашим выборкам колонки `log_trip_duration` (воспользуйтесь `np.log1p`) и нарисуйте гистограмму модифицированного таргета по обучающей выборке:"
   ]
  },
  {
   "cell_type": "code",
   "execution_count": 16,
   "metadata": {},
   "outputs": [
    {
     "name": "stderr",
     "output_type": "stream",
     "text": [
      "C:\\Users\\sqrte\\anaconda3\\envs\\tf\\lib\\site-packages\\ipykernel_launcher.py:2: SettingWithCopyWarning: \n",
      "A value is trying to be set on a copy of a slice from a DataFrame.\n",
      "Try using .loc[row_indexer,col_indexer] = value instead\n",
      "\n",
      "See the caveats in the documentation: https://pandas.pydata.org/pandas-docs/stable/user_guide/indexing.html#returning-a-view-versus-a-copy\n",
      "  \n",
      "C:\\Users\\sqrte\\anaconda3\\envs\\tf\\lib\\site-packages\\ipykernel_launcher.py:3: SettingWithCopyWarning: \n",
      "A value is trying to be set on a copy of a slice from a DataFrame.\n",
      "Try using .loc[row_indexer,col_indexer] = value instead\n",
      "\n",
      "See the caveats in the documentation: https://pandas.pydata.org/pandas-docs/stable/user_guide/indexing.html#returning-a-view-versus-a-copy\n",
      "  This is separate from the ipykernel package so we can avoid doing imports until\n"
     ]
    },
    {
     "data": {
      "text/plain": [
       "(array([2.6000e+01, 0.0000e+00, 1.1700e+02, 0.0000e+00, 2.2600e+02,\n",
       "        0.0000e+00, 2.3700e+02, 2.1300e+02, 1.3500e+02, 1.6300e+02,\n",
       "        1.4000e+02, 2.8800e+02, 1.2200e+02, 2.2700e+02, 3.1500e+02,\n",
       "        1.8300e+02, 3.6500e+02, 2.9100e+02, 3.4400e+02, 4.1800e+02,\n",
       "        4.0700e+02, 5.5400e+02, 6.5700e+02, 1.0040e+03, 1.2010e+03,\n",
       "        1.9820e+03, 3.0000e+03, 4.1300e+03, 6.1460e+03, 9.0250e+03,\n",
       "        1.3322e+04, 1.8592e+04, 2.4728e+04, 3.1481e+04, 4.1056e+04,\n",
       "        4.8330e+04, 5.7716e+04, 6.5446e+04, 7.2292e+04, 7.7696e+04,\n",
       "        7.8795e+04, 7.8858e+04, 7.5427e+04, 6.8153e+04, 5.9690e+04,\n",
       "        4.9629e+04, 3.8924e+04, 2.9116e+04, 2.0450e+04, 1.4315e+04,\n",
       "        9.6730e+03, 6.2020e+03, 3.8610e+03, 2.1920e+03, 1.0720e+03,\n",
       "        4.1900e+02, 1.3600e+02, 6.0000e+01, 2.4000e+01, 1.5000e+01,\n",
       "        1.1000e+01, 6.0000e+00, 3.0000e+00, 3.0000e+00, 9.0000e+00,\n",
       "        9.0000e+00, 1.2000e+01, 1.0000e+01, 1.5000e+01, 9.0000e+00,\n",
       "        4.0000e+00, 1.3000e+01, 1.4000e+01, 1.4700e+02, 1.1950e+03,\n",
       "        0.0000e+00, 0.0000e+00, 0.0000e+00, 0.0000e+00, 0.0000e+00,\n",
       "        0.0000e+00, 0.0000e+00, 0.0000e+00, 0.0000e+00, 0.0000e+00,\n",
       "        0.0000e+00, 0.0000e+00, 0.0000e+00, 0.0000e+00, 0.0000e+00,\n",
       "        0.0000e+00, 0.0000e+00, 0.0000e+00, 0.0000e+00, 0.0000e+00,\n",
       "        1.0000e+00, 2.0000e+00, 0.0000e+00, 0.0000e+00, 1.0000e+00]),\n",
       " array([ 0.69314718,  0.83697326,  0.98079933,  1.12462541,  1.26845149,\n",
       "         1.41227757,  1.55610364,  1.69992972,  1.8437558 ,  1.98758188,\n",
       "         2.13140795,  2.27523403,  2.41906011,  2.56288618,  2.70671226,\n",
       "         2.85053834,  2.99436442,  3.13819049,  3.28201657,  3.42584265,\n",
       "         3.56966872,  3.7134948 ,  3.85732088,  4.00114696,  4.14497303,\n",
       "         4.28879911,  4.43262519,  4.57645126,  4.72027734,  4.86410342,\n",
       "         5.0079295 ,  5.15175557,  5.29558165,  5.43940773,  5.58323381,\n",
       "         5.72705988,  5.87088596,  6.01471204,  6.15853811,  6.30236419,\n",
       "         6.44619027,  6.59001635,  6.73384242,  6.8776685 ,  7.02149458,\n",
       "         7.16532065,  7.30914673,  7.45297281,  7.59679889,  7.74062496,\n",
       "         7.88445104,  8.02827712,  8.17210319,  8.31592927,  8.45975535,\n",
       "         8.60358143,  8.7474075 ,  8.89123358,  9.03505966,  9.17888573,\n",
       "         9.32271181,  9.46653789,  9.61036397,  9.75419004,  9.89801612,\n",
       "        10.0418422 , 10.18566828, 10.32949435, 10.47332043, 10.61714651,\n",
       "        10.76097258, 10.90479866, 11.04862474, 11.19245082, 11.33627689,\n",
       "        11.48010297, 11.62392905, 11.76775512, 11.9115812 , 12.05540728,\n",
       "        12.19923336, 12.34305943, 12.48688551, 12.63071159, 12.77453766,\n",
       "        12.91836374, 13.06218982, 13.2060159 , 13.34984197, 13.49366805,\n",
       "        13.63749413, 13.7813202 , 13.92514628, 14.06897236, 14.21279844,\n",
       "        14.35662451, 14.50045059, 14.64427667, 14.78810275, 14.93192882,\n",
       "        15.0757549 ]),\n",
       " <a list of 100 Patch objects>)"
      ]
     },
     "execution_count": 16,
     "metadata": {},
     "output_type": "execute_result"
    },
    {
     "data": {
      "image/png": "[encoded data removed]",
      "text/plain": [
       "<Figure size 432x288 with 1 Axes>"
      ]
     },
     "metadata": {},
     "output_type": "display_data"
    }
   ],
   "source": [
    "#╰( ͡° ͜ʖ ͡° )つ──☆*:・ﾟ\n",
    "x_train['log_trip_duration'] = np.log1p(x_train.trip_duration)\n",
    "x_test['log_trip_duration'] = np.log1p(x_test.trip_duration)\n",
    "plt.hist(x_train['log_trip_duration'].values, bins=100)"
   ]
  },
  {
   "cell_type": "markdown",
   "metadata": {},
   "source": [
    "Чтобы иметь некоторую точку отсчета, давайте посчитаем значение метрики при наилучшем константном предсказании:"
   ]
  },
  {
   "cell_type": "code",
   "execution_count": 17,
   "metadata": {},
   "outputs": [
    {
     "name": "stdout",
     "output_type": "stream",
     "text": [
      "Test MSE([0,1,1], [0, 0, 0]): 0.6666666666666666\n"
     ]
    }
   ],
   "source": [
    "#╰( ͡° ͜ʖ ͡° )つ──☆*:・ﾟ\n",
    "def MSE(y, y_hat):\n",
    "    return np.sum(np.square(np.array(y) - np.array(y_hat))) / len(y)\n",
    "\n",
    "print('Test MSE([0,1,1], [0, 0, 0]): {}'.format(MSE([0,1,1], [0, 0, 0])))"
   ]
  },
  {
   "cell_type": "code",
   "execution_count": 18,
   "metadata": {},
   "outputs": [
    {
     "name": "stdout",
     "output_type": "stream",
     "text": [
      "При среднем значении: 0.6337320188891266\n",
      "При медиане: 0.6347064265485545\n"
     ]
    }
   ],
   "source": [
    "print('При среднем значении: {}'.format(MSE(x_train.log_trip_duration.values, x_train['log_trip_duration'].mean())))\n",
    "print('При медиане: {}'.format(MSE(x_train.log_trip_duration.values, x_train['log_trip_duration'].median())))"
   ]
  },
  {
   "cell_type": "markdown",
   "metadata": {},
   "source": [
    "## Часть 1. Изучаем `pickup_datetime` (2 балла)\n",
    "\n",
    "**Задание 2 (0.25 баллов)**. Для начала давайте посмотрим, сколько всего было поездок в каждый из дней. Постройте график зависимости количества поездок от дня в году (например, можно воспользоваться `sns.countplot`):"
   ]
  },
  {
   "cell_type": "code",
   "execution_count": 19,
   "metadata": {},
   "outputs": [
    {
     "name": "stderr",
     "output_type": "stream",
     "text": [
      "C:\\Users\\sqrte\\anaconda3\\envs\\tf\\lib\\site-packages\\ipykernel_launcher.py:1: SettingWithCopyWarning: \n",
      "A value is trying to be set on a copy of a slice from a DataFrame.\n",
      "Try using .loc[row_indexer,col_indexer] = value instead\n",
      "\n",
      "See the caveats in the documentation: https://pandas.pydata.org/pandas-docs/stable/user_guide/indexing.html#returning-a-view-versus-a-copy\n",
      "  \"\"\"Entry point for launching an IPython kernel.\n",
      "C:\\Users\\sqrte\\anaconda3\\envs\\tf\\lib\\site-packages\\ipykernel_launcher.py:2: SettingWithCopyWarning: \n",
      "A value is trying to be set on a copy of a slice from a DataFrame.\n",
      "Try using .loc[row_indexer,col_indexer] = value instead\n",
      "\n",
      "See the caveats in the documentation: https://pandas.pydata.org/pandas-docs/stable/user_guide/indexing.html#returning-a-view-versus-a-copy\n",
      "  \n",
      "C:\\Users\\sqrte\\anaconda3\\envs\\tf\\lib\\site-packages\\ipykernel_launcher.py:3: SettingWithCopyWarning: \n",
      "A value is trying to be set on a copy of a slice from a DataFrame.\n",
      "Try using .loc[row_indexer,col_indexer] = value instead\n",
      "\n",
      "See the caveats in the documentation: https://pandas.pydata.org/pandas-docs/stable/user_guide/indexing.html#returning-a-view-versus-a-copy\n",
      "  This is separate from the ipykernel package so we can avoid doing imports until\n",
      "C:\\Users\\sqrte\\anaconda3\\envs\\tf\\lib\\site-packages\\ipykernel_launcher.py:4: SettingWithCopyWarning: \n",
      "A value is trying to be set on a copy of a slice from a DataFrame.\n",
      "Try using .loc[row_indexer,col_indexer] = value instead\n",
      "\n",
      "See the caveats in the documentation: https://pandas.pydata.org/pandas-docs/stable/user_guide/indexing.html#returning-a-view-versus-a-copy\n",
      "  after removing the cwd from sys.path.\n",
      "C:\\Users\\sqrte\\anaconda3\\envs\\tf\\lib\\site-packages\\ipykernel_launcher.py:5: SettingWithCopyWarning: \n",
      "A value is trying to be set on a copy of a slice from a DataFrame.\n",
      "Try using .loc[row_indexer,col_indexer] = value instead\n",
      "\n",
      "See the caveats in the documentation: https://pandas.pydata.org/pandas-docs/stable/user_guide/indexing.html#returning-a-view-versus-a-copy\n",
      "  \"\"\"\n",
      "C:\\Users\\sqrte\\anaconda3\\envs\\tf\\lib\\site-packages\\ipykernel_launcher.py:7: SettingWithCopyWarning: \n",
      "A value is trying to be set on a copy of a slice from a DataFrame.\n",
      "Try using .loc[row_indexer,col_indexer] = value instead\n",
      "\n",
      "See the caveats in the documentation: https://pandas.pydata.org/pandas-docs/stable/user_guide/indexing.html#returning-a-view-versus-a-copy\n",
      "  import sys\n",
      "C:\\Users\\sqrte\\anaconda3\\envs\\tf\\lib\\site-packages\\ipykernel_launcher.py:8: SettingWithCopyWarning: \n",
      "A value is trying to be set on a copy of a slice from a DataFrame.\n",
      "Try using .loc[row_indexer,col_indexer] = value instead\n",
      "\n",
      "See the caveats in the documentation: https://pandas.pydata.org/pandas-docs/stable/user_guide/indexing.html#returning-a-view-versus-a-copy\n",
      "  \n",
      "C:\\Users\\sqrte\\anaconda3\\envs\\tf\\lib\\site-packages\\ipykernel_launcher.py:9: SettingWithCopyWarning: \n",
      "A value is trying to be set on a copy of a slice from a DataFrame.\n",
      "Try using .loc[row_indexer,col_indexer] = value instead\n",
      "\n",
      "See the caveats in the documentation: https://pandas.pydata.org/pandas-docs/stable/user_guide/indexing.html#returning-a-view-versus-a-copy\n",
      "  if __name__ == '__main__':\n",
      "C:\\Users\\sqrte\\anaconda3\\envs\\tf\\lib\\site-packages\\ipykernel_launcher.py:10: SettingWithCopyWarning: \n",
      "A value is trying to be set on a copy of a slice from a DataFrame.\n",
      "Try using .loc[row_indexer,col_indexer] = value instead\n",
      "\n",
      "See the caveats in the documentation: https://pandas.pydata.org/pandas-docs/stable/user_guide/indexing.html#returning-a-view-versus-a-copy\n",
      "  # Remove the CWD from sys.path while we load stuff.\n",
      "C:\\Users\\sqrte\\anaconda3\\envs\\tf\\lib\\site-packages\\ipykernel_launcher.py:11: SettingWithCopyWarning: \n",
      "A value is trying to be set on a copy of a slice from a DataFrame.\n",
      "Try using .loc[row_indexer,col_indexer] = value instead\n",
      "\n",
      "See the caveats in the documentation: https://pandas.pydata.org/pandas-docs/stable/user_guide/indexing.html#returning-a-view-versus-a-copy\n",
      "  # This is added back by InteractiveShellApp.init_path()\n"
     ]
    }
   ],
   "source": [
    "x_train['date'] = x_train.pickup_datetime.dt.date\n",
    "x_train['dayofyear'] = x_train.pickup_datetime.dt.dayofyear\n",
    "x_train['dayofweek'] = x_train.pickup_datetime.dt.dayofweek\n",
    "x_train['hour'] = x_train.pickup_datetime.dt.hour\n",
    "x_train['month'] = x_train.pickup_datetime.dt.month\n",
    "\n",
    "x_test['date'] = x_test.pickup_datetime.dt.date\n",
    "x_test['dayofyear'] = x_test.pickup_datetime.dt.dayofyear\n",
    "x_test['dayofweek'] = x_test.pickup_datetime.dt.dayofweek\n",
    "x_test['hour'] = x_test.pickup_datetime.dt.hour\n",
    "x_test['month'] = x_test.pickup_datetime.dt.month"
   ]
  },
  {
   "cell_type": "code",
   "execution_count": 20,
   "metadata": {},
   "outputs": [
    {
     "data": {
      "text/plain": [
       "<matplotlib.axes._subplots.AxesSubplot at 0x1a880a98348>"
      ]
     },
     "execution_count": 20,
     "metadata": {},
     "output_type": "execute_result"
    },
    {
     "data": {
      "image/png": "[encoded data removed]",
      "text/plain": [
       "<Figure size 432x288 with 1 Axes>"
      ]
     },
     "metadata": {},
     "output_type": "display_data"
    }
   ],
   "source": [
    "sns.countplot(x='dayofyear', data=x_train)"
   ]
  },
  {
   "cell_type": "markdown",
   "metadata": {},
   "source": [
    "**Вопрос**: Вы, вероятно, заметили, что на графике есть 2 периода с аномально маленькими количествами поездок. Вычислите, в какие даты происходили эти скачки вниз и найдите информацию о том, что происходило в эти дни в Нью-Йорке.\n",
    "\n",
    "Нарисуйте графики зависимости количества поездок от дня недели и от часов в сутках (воспользуйтесь `sns.relplot`):"
   ]
  },
  {
   "cell_type": "code",
   "execution_count": 21,
   "metadata": {},
   "outputs": [
    {
     "name": "stdout",
     "output_type": "stream",
     "text": [
      "Даты аномалий: 0    2016-01-23\n",
      "1    2016-01-24\n",
      "2    2016-05-30\n",
      "3    2016-01-25\n",
      "Name: date, dtype: object\n"
     ]
    }
   ],
   "source": [
    "#╰( ͡° ͜ʖ ͡° )つ──☆*:・ﾟ\n",
    "day_trip_count = x_train.groupby('dayofyear').agg({'id':'count'}).sort_values('id')\n",
    "day_trip_count.reset_index(inplace=True)\n",
    "\n",
    "day_date = x_train[['dayofyear', 'date']].drop_duplicates()\n",
    "anomaly_days = day_trip_count[:4]\n",
    "anomaly_days = pd.merge(anomaly_days, day_date, on='dayofyear', how='left')\n",
    "\n",
    "print('Даты аномалий: {}'.format(anomaly_days.iloc[:4].date))"
   ]
  },
  {
   "cell_type": "markdown",
   "metadata": {},
   "source": [
    "https://en.wikipedia.org/wiki/January_2016_United_States_blizzard"
   ]
  },
  {
   "cell_type": "code",
   "execution_count": 22,
   "metadata": {},
   "outputs": [
    {
     "data": {
      "text/plain": [
       "<seaborn.axisgrid.FacetGrid at 0x1a880c1c6c8>"
      ]
     },
     "execution_count": 22,
     "metadata": {},
     "output_type": "execute_result"
    },
    {
     "data": {
      "image/png": "[encoded data removed]",
      "text/plain": [
       "<Figure size 411.85x360 with 1 Axes>"
      ]
     },
     "metadata": {},
     "output_type": "display_data"
    }
   ],
   "source": [
    "dayofweek_hour = x_train.groupby(['dayofweek', 'hour']).agg({'id':'count'})\n",
    "dayofweek_hour.reset_index(inplace=True)\n",
    "sns.relplot(data=dayofweek_hour, x='dayofweek', y='id', hue='hour')"
   ]
  },
  {
   "cell_type": "markdown",
   "metadata": {},
   "source": [
    "**Задание 3 (0.5 баллов)**. Нарисуйте на одном графике зависимости количества поездок от часа в сутках для разных месяцев (разные кривые, соответствующие разным месяцам, окрашивайте в разные цвета, воспользуйтесь `hue` в `sns.relplot`). Аналогично нарисуйте зависимости количества поездок от часа в сутках для разных дней недели."
   ]
  },
  {
   "cell_type": "code",
   "execution_count": 23,
   "metadata": {},
   "outputs": [
    {
     "data": {
      "text/plain": [
       "<seaborn.axisgrid.FacetGrid at 0x1a880f1f608>"
      ]
     },
     "execution_count": 23,
     "metadata": {},
     "output_type": "execute_result"
    },
    {
     "data": {
      "image/png": "[encoded data removed]",
      "text/plain": [
       "<Figure size 405.725x360 with 1 Axes>"
      ]
     },
     "metadata": {},
     "output_type": "display_data"
    }
   ],
   "source": [
    "#╰( ͡° ͜ʖ ͡° )つ──☆*:・ﾟ\n",
    "month_hour = x_train.groupby(['month', 'hour']).agg({'id':'count'})\n",
    "month_hour.reset_index(inplace=True)\n",
    "sns.relplot(data=month_hour, x='hour', y='id', hue='month')"
   ]
  },
  {
   "cell_type": "code",
   "execution_count": 24,
   "metadata": {},
   "outputs": [
    {
     "data": {
      "text/plain": [
       "<seaborn.axisgrid.FacetGrid at 0x1a880fb05c8>"
      ]
     },
     "execution_count": 24,
     "metadata": {},
     "output_type": "execute_result"
    },
    {
     "data": {
      "image/png": "[encoded data removed]",
      "text/plain": [
       "<Figure size 426.175x360 with 1 Axes>"
      ]
     },
     "metadata": {},
     "output_type": "display_data"
    }
   ],
   "source": [
    "#╰( ͡° ͜ʖ ͡° )つ──☆*:・ﾟ\n",
    "dayofweek_hour = x_train.groupby(['dayofweek', 'hour']).agg({'id':'count'})\n",
    "dayofweek_hour.reset_index(inplace=True)\n",
    "sns.relplot(data=dayofweek_hour, x='hour', y='id', hue='dayofweek')"
   ]
  },
  {
   "cell_type": "markdown",
   "metadata": {},
   "source": [
    "**Вопрос**: Какие выводы можно сделать, основываясь на графиках выше? Выделяются ли какие-нибудь дни недели? Месяца? Время суток? С чем это связано?\n",
    "\n",
    "**Задание 4 (0.5 баллов)**. По *обучающей выборке* нарисуйте график зависимости среднего логарифма времени поездки от дня недели. Затем сделайте то же самое, но для часа в сутках и дня в году."
   ]
  },
  {
   "cell_type": "code",
   "execution_count": 25,
   "metadata": {},
   "outputs": [
    {
     "data": {
      "image/png": "[encoded data removed]",
      "text/plain": [
       "<Figure size 432x288 with 1 Axes>"
      ]
     },
     "metadata": {},
     "output_type": "display_data"
    },
    {
     "data": {
      "image/png": "[encoded data removed]",
      "text/plain": [
       "<Figure size 432x288 with 1 Axes>"
      ]
     },
     "metadata": {},
     "output_type": "display_data"
    },
    {
     "data": {
      "image/png": "[encoded data removed]",
      "text/plain": [
       "<Figure size 432x288 with 1 Axes>"
      ]
     },
     "metadata": {},
     "output_type": "display_data"
    }
   ],
   "source": [
    "#╰( ͡° ͜ʖ ͡° )つ──☆*:・ﾟ\n",
    "dayofweek = x_train.groupby('dayofweek').agg({'log_trip_duration':'mean'})\n",
    "dayofweek.reset_index(inplace=True)\n",
    "hour = x_train.groupby('hour').agg({'log_trip_duration':'mean'})\n",
    "hour.reset_index(inplace=True)\n",
    "date = x_train.groupby('date').agg({'log_trip_duration':'mean'})\n",
    "date.reset_index(inplace=True)\n",
    "\n",
    "plt.plot(dayofweek.dayofweek, dayofweek.log_trip_duration)\n",
    "plt.title('Логарифм длительности поездки в зависимости от дня недели')\n",
    "plt.show()\n",
    "plt.plot(hour.hour, hour.log_trip_duration)\n",
    "plt.title('Логарифм длительности поездки в зависимости от времени')\n",
    "plt.show()\n",
    "plt.plot(date.date, date.log_trip_duration)\n",
    "plt.title('Логарифм длительности поездки в зависимости от дня года')\n",
    "plt.show()\n"
   ]
  },
  {
   "cell_type": "markdown",
   "metadata": {},
   "source": [
    "**Вопрос**: Похожи ли графики зависимости таргета от дня недели и от часа в сутках на аналогичные графики для количества поездок? Почему? Что происходит со средним таргетом в те два аномальных периода, что мы видели выше? Почему так происходит? Наблюдаете ли вы какой-нибудь тренд на графике зависимости `log_trip_duration` от номера дня в году?"
   ]
  },
  {
   "cell_type": "markdown",
   "metadata": {},
   "source": [
    "Добавьте следующие признаки на основе `pickup_datetime`:\n",
    "1. День недели\n",
    "2. Месяц\n",
    "3. Час\n",
    "4. Является ли период аномальным (два бинарных признака, соответствующие двум аномальным периодам)\n",
    "5. Номер дня в году"
   ]
  },
  {
   "cell_type": "code",
   "execution_count": 26,
   "metadata": {},
   "outputs": [
    {
     "name": "stderr",
     "output_type": "stream",
     "text": [
      "C:\\Users\\sqrte\\anaconda3\\envs\\tf\\lib\\site-packages\\ipykernel_launcher.py:4: SettingWithCopyWarning: \n",
      "A value is trying to be set on a copy of a slice from a DataFrame.\n",
      "Try using .loc[row_indexer,col_indexer] = value instead\n",
      "\n",
      "See the caveats in the documentation: https://pandas.pydata.org/pandas-docs/stable/user_guide/indexing.html#returning-a-view-versus-a-copy\n",
      "  after removing the cwd from sys.path.\n",
      "C:\\Users\\sqrte\\anaconda3\\envs\\tf\\lib\\site-packages\\ipykernel_launcher.py:5: SettingWithCopyWarning: \n",
      "A value is trying to be set on a copy of a slice from a DataFrame.\n",
      "Try using .loc[row_indexer,col_indexer] = value instead\n",
      "\n",
      "See the caveats in the documentation: https://pandas.pydata.org/pandas-docs/stable/user_guide/indexing.html#returning-a-view-versus-a-copy\n",
      "  \"\"\"\n",
      "C:\\Users\\sqrte\\anaconda3\\envs\\tf\\lib\\site-packages\\ipykernel_launcher.py:7: SettingWithCopyWarning: \n",
      "A value is trying to be set on a copy of a slice from a DataFrame.\n",
      "Try using .loc[row_indexer,col_indexer] = value instead\n",
      "\n",
      "See the caveats in the documentation: https://pandas.pydata.org/pandas-docs/stable/user_guide/indexing.html#returning-a-view-versus-a-copy\n",
      "  import sys\n",
      "C:\\Users\\sqrte\\anaconda3\\envs\\tf\\lib\\site-packages\\ipykernel_launcher.py:8: SettingWithCopyWarning: \n",
      "A value is trying to be set on a copy of a slice from a DataFrame.\n",
      "Try using .loc[row_indexer,col_indexer] = value instead\n",
      "\n",
      "See the caveats in the documentation: https://pandas.pydata.org/pandas-docs/stable/user_guide/indexing.html#returning-a-view-versus-a-copy\n",
      "  \n"
     ]
    }
   ],
   "source": [
    "#╰( ͡° ͜ʖ ͡° )つ──☆*:・ﾟ\n",
    "blizzard_days = [23, 24, 25]\n",
    "second_anomaly = [151]\n",
    "x_train['blizzard'] = x_train['dayofyear'].apply(lambda x: 1 if x in blizzard_days else 0)\n",
    "x_train['second_anomaly'] = x_train['dayofyear'].apply(lambda x: 1 if x in second_anomaly else 0)\n",
    "\n",
    "x_test['blizzard'] = x_test['dayofyear'].apply(lambda x: 1 if x in blizzard_days else 0)\n",
    "x_test['second_anomaly'] = x_test['dayofyear'].apply(lambda x: 1 if x in second_anomaly else 0)"
   ]
  },
  {
   "cell_type": "code",
   "execution_count": 27,
   "metadata": {},
   "outputs": [
    {
     "name": "stdout",
     "output_type": "stream",
     "text": [
      "Размер обучающей выборки: (1021050, 18)\n",
      "Размер валидирующей выборки: (437594, 18)\n"
     ]
    }
   ],
   "source": [
    "print('Размер обучающей выборки: {}'.format(x_train.shape))\n",
    "print('Размер валидирующей выборки: {}'.format(x_test.shape))"
   ]
  },
  {
   "cell_type": "markdown",
   "metadata": {},
   "source": [
    "Итак, мы уже создали некоторое количество признаков.\n",
    "\n",
    "**Вопрос**: Какие из признаков стоит рассматривать как категориальные, а какие - как численные? Почему?"
   ]
  },
  {
   "cell_type": "markdown",
   "metadata": {},
   "source": [
    "**Задание 5 (0.75 баллов)**. Обучите `Ridge`-регрессию с параметрами по умолчанию, закодировав все категориальные признаки с помощью `OneHotEncoder`. Численные признаки отмасштабируйте с помощью `StandardScaler`. Используйте только признаки, которые мы выделили в этой части задания."
   ]
  },
  {
   "cell_type": "code",
   "execution_count": 28,
   "metadata": {},
   "outputs": [
    {
     "name": "stderr",
     "output_type": "stream",
     "text": [
      "C:\\Users\\sqrte\\anaconda3\\envs\\tf\\lib\\site-packages\\ipykernel_launcher.py:10: SettingWithCopyWarning: \n",
      "A value is trying to be set on a copy of a slice from a DataFrame.\n",
      "Try using .loc[row_indexer,col_indexer] = value instead\n",
      "\n",
      "See the caveats in the documentation: https://pandas.pydata.org/pandas-docs/stable/user_guide/indexing.html#returning-a-view-versus-a-copy\n",
      "  # Remove the CWD from sys.path while we load stuff.\n",
      "C:\\Users\\sqrte\\anaconda3\\envs\\tf\\lib\\site-packages\\ipykernel_launcher.py:11: SettingWithCopyWarning: \n",
      "A value is trying to be set on a copy of a slice from a DataFrame.\n",
      "Try using .loc[row_indexer,col_indexer] = value instead\n",
      "\n",
      "See the caveats in the documentation: https://pandas.pydata.org/pandas-docs/stable/user_guide/indexing.html#returning-a-view-versus-a-copy\n",
      "  # This is added back by InteractiveShellApp.init_path()\n"
     ]
    },
    {
     "name": "stdout",
     "output_type": "stream",
     "text": [
      "MSE: 0.6224513737743779\n"
     ]
    }
   ],
   "source": [
    "#╰( ͡° ͜ʖ ͡° )つ──☆*:・ﾟ\n",
    "from sklearn.preprocessing import OneHotEncoder, StandardScaler\n",
    "from sklearn.linear_model import Ridge\n",
    "from sklearn.metrics import mean_squared_error\n",
    "\n",
    "features = ['dayofyear', 'blizzard', 'second_anomaly', 'log_trip_duration']\n",
    "categorical = ['dayofweek', 'month', 'hour']\n",
    "\n",
    "for feature in categorical:\n",
    "    x_train[feature] = x_train[feature].astype('category')\n",
    "    x_test[feature] = x_train[feature].astype('category')\n",
    "\n",
    "x_train_dum = pd.concat([x_train[features],\n",
    "                    pd.get_dummies(x_train[categorical])],\n",
    "                   axis=1)\n",
    "\n",
    "x_test_dum = pd.concat([x_train[features],\n",
    "                    pd.get_dummies(x_train[categorical])],\n",
    "                   axis=1)\n",
    "\n",
    "model = Ridge()\n",
    "model.fit(x_train_dum.drop(['log_trip_duration'], axis=1), x_train_dum['log_trip_duration'])\n",
    "predictions = model.predict(x_test_dum.drop(['log_trip_duration'], axis=1))\n",
    "print('MSE: {}'.format(MSE(x_test_dum['log_trip_duration'], predictions)))"
   ]
  },
  {
   "cell_type": "markdown",
   "metadata": {},
   "source": [
    "## Часть 2. Изучаем координаты (3 балла)\n",
    "Мы уже очень хорошо изучили данные о времени начала поездки, давайте теперь посмотрим на информацию о координатах начала и конца поездки. Мы подготовили для вас функцию, которая на карте рисует точки начала или конца поездки. Примеры ее вызова вы найдете ниже. Обратите внимание, что в эту функцию мы передаем лишь небольшой кусочек данных, посколько иначе функция будет работать очень долго"
   ]
  },
  {
   "cell_type": "code",
   "execution_count": 29,
   "metadata": {},
   "outputs": [],
   "source": [
    "from ipyleaflet import Map, Circle, LayerGroup, basemaps"
   ]
  },
  {
   "cell_type": "code",
   "execution_count": 30,
   "metadata": {},
   "outputs": [],
   "source": [
    "def show_circles_on_map(data, latitude_column, longitude_column, color):\n",
    "    \"\"\"\n",
    "    The function draws map with circles on it.\n",
    "    The center of the map is the mean of coordinates passed in data.\n",
    "    \n",
    "    data: DataFrame that contains columns latitude_column and longitude_column\n",
    "    latitude_column: string, the name of column for latitude coordinates\n",
    "    longitude_column: string, the name of column for longitude coordinates\n",
    "    color: string, the color of circles to be drawn\n",
    "    \"\"\"\n",
    "\n",
    "    center = (data[latitude_column].mean(), data[longitude_column].mean())\n",
    "    result_map = Map(center=center, zoom=10, basemap=basemaps.Esri.NatGeoWorldMap)\n",
    "\n",
    "    circles = []\n",
    "    for _, row in data.iterrows():\n",
    "        circles.append(Circle(\n",
    "            location=(row[latitude_column], row[longitude_column]),\n",
    "            fill_color=color,\n",
    "            fill_opacity=0.2,\n",
    "            radius=300,\n",
    "            stroke=False\n",
    "        ))\n",
    "    circles_layer = LayerGroup(layers=circles)\n",
    "    result_map.add_layer(circles_layer)\n",
    "\n",
    "    return result_map"
   ]
  },
  {
   "cell_type": "code",
   "execution_count": 31,
   "metadata": {},
   "outputs": [
    {
     "data": {
      "application/vnd.jupyter.widget-view+json": {
       "model_id": "d0445ab8e6e1487fbf07b49827caee97",
       "version_major": 2,
       "version_minor": 0
      },
      "text/plain": [
       "Map(center=[40.75019676589966, -73.97395014953614], controls=(ZoomControl(options=['position', 'zoom_in_text',…"
      ]
     },
     "metadata": {},
     "output_type": "display_data"
    }
   ],
   "source": [
    "show_circles_on_map(x_train.sample(1000), \"pickup_latitude\", \"pickup_longitude\", \"blue\")"
   ]
  },
  {
   "cell_type": "code",
   "execution_count": 32,
   "metadata": {},
   "outputs": [
    {
     "data": {
      "application/vnd.jupyter.widget-view+json": {
       "model_id": "081096c21b4a41248d1dda6cfeb7d571",
       "version_major": 2,
       "version_minor": 0
      },
      "text/plain": [
       "Map(center=[40.75186999893189, -73.97368565368653], controls=(ZoomControl(options=['position', 'zoom_in_text',…"
      ]
     },
     "metadata": {},
     "output_type": "display_data"
    }
   ],
   "source": [
    "show_circles_on_map(x_train.sample(1000), \"dropoff_latitude\", \"dropoff_longitude\", \"blue\")"
   ]
  },
  {
   "cell_type": "markdown",
   "metadata": {},
   "source": [
    "**Вопрос**: Какие две точки выделяются на карте?"
   ]
  },
  {
   "cell_type": "markdown",
   "metadata": {},
   "source": [
    "**Задание 6 (0.75 балл)**. Как мы все прекрасно помним, $t = s / v_{\\text{ср}}$, поэтому очевидно, что самым сильным признаком будет расстояние, которое необходимо проехать. Мы не можем посчитать точное расстояние, которое необходимо преодолеть такси, но мы можем его оценить, посчитав кратчайшее расстояние между точками начала и конца поездки. Чтобы корректно посчитать расстояние между двумя точками на Земле, можно использовать функцию `haversine`. Посчитайте кратчайшее расстояние для объектов и запишите его в колонку `haversine`:"
   ]
  },
  {
   "cell_type": "code",
   "execution_count": 33,
   "metadata": {},
   "outputs": [
    {
     "name": "stderr",
     "output_type": "stream",
     "text": [
      "C:\\Users\\sqrte\\anaconda3\\envs\\tf\\lib\\site-packages\\pandas\\core\\indexing.py:845: SettingWithCopyWarning: \n",
      "A value is trying to be set on a copy of a slice from a DataFrame.\n",
      "Try using .loc[row_indexer,col_indexer] = value instead\n",
      "\n",
      "See the caveats in the documentation: https://pandas.pydata.org/pandas-docs/stable/user_guide/indexing.html#returning-a-view-versus-a-copy\n",
      "  self.obj[key] = _infer_fill_value(value)\n",
      "C:\\Users\\sqrte\\anaconda3\\envs\\tf\\lib\\site-packages\\pandas\\core\\indexing.py:966: SettingWithCopyWarning: \n",
      "A value is trying to be set on a copy of a slice from a DataFrame.\n",
      "Try using .loc[row_indexer,col_indexer] = value instead\n",
      "\n",
      "See the caveats in the documentation: https://pandas.pydata.org/pandas-docs/stable/user_guide/indexing.html#returning-a-view-versus-a-copy\n",
      "  self.obj[item] = s\n"
     ]
    }
   ],
   "source": [
    "def haversine_distance(pickup_lat, pickup_lng, dropoff_lat, dropoff_lng):\n",
    "    pickup_lat, pickup_lng, dropoff_lat, dropoff_lng = map(np.radians,\n",
    "                                                           (pickup_lat, pickup_lng, dropoff_lat, dropoff_lng))\n",
    "    radius = 6371\n",
    "    lat = dropoff_lat - pickup_lat\n",
    "    lng = dropoff_lng - pickup_lng\n",
    "    d = np.sin(lat * 0.5) ** 2 + np.cos(pickup_lat) * np.cos(dropoff_lat) * np.sin(lng * 0.5) ** 2\n",
    "    h = 2 * radius * np.arcsin(np.sqrt(d))\n",
    "    return h\n",
    "\n",
    "def haversine(pickup_lat, pickup_lng, dropoff_lat, dropoff_lng):\n",
    "    pickup_lat, pickup_lng, dropoff_lat, dropoff_lng = map(np.radians,\n",
    "                                                           (pickup_lat, pickup_lng, dropoff_lat, dropoff_lng))\n",
    "    \n",
    "    pickup = np.concatenate([pickup_lat, pickup_lng], axis=1)\n",
    "    dropoff = np.concatenate([dropoff_lat, dropoff_lng], axis=1)\n",
    "    return haversine_distances([pickup, dropoff])\n",
    "\n",
    "x_train.loc[:, 'haversine_dist'] = haversine_distance(x_train['pickup_latitude'].values,\n",
    "                                                 x_train['pickup_longitude'].values,\n",
    "                                                 x_train['dropoff_latitude'].values,\n",
    "                                                 x_train['dropoff_longitude'].values)\n",
    "x_test.loc[:, 'haversine_dist'] = haversine_distance(x_test['pickup_latitude'].values,\n",
    "                                                 x_test['pickup_longitude'].values,\n",
    "                                                 x_test['dropoff_latitude'].values,\n",
    "                                                 x_test['dropoff_longitude'].values)"
   ]
  },
  {
   "cell_type": "markdown",
   "metadata": {},
   "source": [
    "Так как мы предсказываем логарифм времени поездки и хотим, чтобы наши признаки были линейно зависимы с этой целевой переменной, нам нужно логарифмировать расстояние: $\\log t = \\log s - \\log{v_{\\text{ср}}}$. Запишите логарифм `haversine` в отдельную колонку:"
   ]
  },
  {
   "cell_type": "code",
   "execution_count": 34,
   "metadata": {},
   "outputs": [
    {
     "name": "stderr",
     "output_type": "stream",
     "text": [
      "C:\\Users\\sqrte\\anaconda3\\envs\\tf\\lib\\site-packages\\ipykernel_launcher.py:2: SettingWithCopyWarning: \n",
      "A value is trying to be set on a copy of a slice from a DataFrame.\n",
      "Try using .loc[row_indexer,col_indexer] = value instead\n",
      "\n",
      "See the caveats in the documentation: https://pandas.pydata.org/pandas-docs/stable/user_guide/indexing.html#returning-a-view-versus-a-copy\n",
      "  \n",
      "C:\\Users\\sqrte\\anaconda3\\envs\\tf\\lib\\site-packages\\ipykernel_launcher.py:3: SettingWithCopyWarning: \n",
      "A value is trying to be set on a copy of a slice from a DataFrame.\n",
      "Try using .loc[row_indexer,col_indexer] = value instead\n",
      "\n",
      "See the caveats in the documentation: https://pandas.pydata.org/pandas-docs/stable/user_guide/indexing.html#returning-a-view-versus-a-copy\n",
      "  This is separate from the ipykernel package so we can avoid doing imports until\n"
     ]
    }
   ],
   "source": [
    "#╰( ͡° ͜ʖ ͡° )つ──☆*:・ﾟ\n",
    "x_train['log_haversine'] = np.log(x_train['haversine_dist'].values+ 0.001)\n",
    "x_test['log_haversine'] = np.log(x_test['haversine_dist'].values+ 0.001)"
   ]
  },
  {
   "cell_type": "markdown",
   "metadata": {},
   "source": [
    "Убедимся, что логарифм расстояния лучше коррелирует с нашим таргетом, чем просто расстояние:"
   ]
  },
  {
   "cell_type": "code",
   "execution_count": 35,
   "metadata": {},
   "outputs": [
    {
     "data": {
      "text/plain": [
       "<seaborn.axisgrid.PairGrid at 0x1a884a70048>"
      ]
     },
     "execution_count": 35,
     "metadata": {},
     "output_type": "execute_result"
    },
    {
     "data": {
      "image/png": "[encoded data removed]",
      "text/plain": [
       "<Figure size 540x540 with 12 Axes>"
      ]
     },
     "metadata": {},
     "output_type": "display_data"
    }
   ],
   "source": [
    "#╰( ͡° ͜ʖ ͡° )つ──☆*:・ﾟ\n",
    "corr_df = x_train[['haversine_dist' , 'log_haversine', 'log_trip_duration']]\n",
    "sns.pairplot(corr_df)"
   ]
  },
  {
   "cell_type": "code",
   "execution_count": 36,
   "metadata": {},
   "outputs": [
    {
     "data": {
      "text/html": [
       "<div>\n",
       "<style scoped>\n",
       "    .dataframe tbody tr th:only-of-type {\n",
       "        vertical-align: middle;\n",
       "    }\n",
       "\n",
       "    .dataframe tbody tr th {\n",
       "        vertical-align: top;\n",
       "    }\n",
       "\n",
       "    .dataframe thead th {\n",
       "        text-align: right;\n",
       "    }\n",
       "</style>\n",
       "<table border=\"1\" class=\"dataframe\">\n",
       "  <thead>\n",
       "    <tr style=\"text-align: right;\">\n",
       "      <th></th>\n",
       "      <th>haversine_dist</th>\n",
       "      <th>log_haversine</th>\n",
       "      <th>log_trip_duration</th>\n",
       "    </tr>\n",
       "  </thead>\n",
       "  <tbody>\n",
       "    <tr>\n",
       "      <th>haversine_dist</th>\n",
       "      <td>1.000000</td>\n",
       "      <td>0.677979</td>\n",
       "      <td>0.565406</td>\n",
       "    </tr>\n",
       "    <tr>\n",
       "      <th>log_haversine</th>\n",
       "      <td>0.677979</td>\n",
       "      <td>1.000000</td>\n",
       "      <td>0.723169</td>\n",
       "    </tr>\n",
       "    <tr>\n",
       "      <th>log_trip_duration</th>\n",
       "      <td>0.565406</td>\n",
       "      <td>0.723169</td>\n",
       "      <td>1.000000</td>\n",
       "    </tr>\n",
       "  </tbody>\n",
       "</table>\n",
       "</div>"
      ],
      "text/plain": [
       "                   haversine_dist  log_haversine  log_trip_duration\n",
       "haversine_dist           1.000000       0.677979           0.565406\n",
       "log_haversine            0.677979       1.000000           0.723169\n",
       "log_trip_duration        0.565406       0.723169           1.000000"
      ]
     },
     "execution_count": 36,
     "metadata": {},
     "output_type": "execute_result"
    }
   ],
   "source": [
    "x_train.corr().loc[['haversine_dist' , 'log_haversine', 'log_trip_duration']][['haversine_dist' , 'log_haversine', 'log_trip_duration']]"
   ]
  },
  {
   "cell_type": "markdown",
   "metadata": {},
   "source": [
    "**Задание 7 (0.75 балла)**. Давайте изучим среднюю скорость движения такси. Посчитайте среднюю скорость для каждого объекта обучающей выборки, разделив `haversine` на `trip_duration`, и нарисуйте гистограмму ее распределения"
   ]
  },
  {
   "cell_type": "code",
   "execution_count": 37,
   "metadata": {},
   "outputs": [
    {
     "name": "stderr",
     "output_type": "stream",
     "text": [
      "C:\\Users\\sqrte\\anaconda3\\envs\\tf\\lib\\site-packages\\ipykernel_launcher.py:2: SettingWithCopyWarning: \n",
      "A value is trying to be set on a copy of a slice from a DataFrame.\n",
      "Try using .loc[row_indexer,col_indexer] = value instead\n",
      "\n",
      "See the caveats in the documentation: https://pandas.pydata.org/pandas-docs/stable/user_guide/indexing.html#returning-a-view-versus-a-copy\n",
      "  \n"
     ]
    },
    {
     "data": {
      "text/plain": [
       "(array([ 35., 251., 311., 205.,  95.,  52.,  22.,  14.,   9.,   6.]),\n",
       " array([0.        , 0.00132108, 0.00264217, 0.00396325, 0.00528433,\n",
       "        0.00660542, 0.0079265 , 0.00924758, 0.01056866, 0.01188975,\n",
       "        0.01321083]),\n",
       " <a list of 10 Patch objects>)"
      ]
     },
     "execution_count": 37,
     "metadata": {},
     "output_type": "execute_result"
    },
    {
     "data": {
      "image/png": "[encoded data removed]",
      "text/plain": [
       "<Figure size 432x288 with 1 Axes>"
      ]
     },
     "metadata": {},
     "output_type": "display_data"
    }
   ],
   "source": [
    "#╰( ͡° ͜ʖ ͡° )つ──☆*:・ﾟ\n",
    "x_train['avg_speed'] = x_train['haversine_dist'] / x_train['trip_duration']\n",
    "\n",
    "plt.hist(x_train['avg_speed'].sample(1000))"
   ]
  },
  {
   "cell_type": "markdown",
   "metadata": {},
   "source": [
    "Как можно видеть по гистограмме, для некоторых объектов у нас получились очень больше значения скоростей. Нарисуйте гистограмму по объектам, для которых значение скорости получилось разумным (например, можно не включать рассмотрение объекты, где скорость больше некоторой квантили):"
   ]
  },
  {
   "cell_type": "code",
   "execution_count": 38,
   "metadata": {},
   "outputs": [
    {
     "data": {
      "text/plain": [
       "(array([ 16930.,  61525., 157248., 206360., 183604., 133692.,  89352.,\n",
       "         58446.,  38018.,  24822.]),\n",
       " array([0.        , 0.00081828, 0.00163655, 0.00245483, 0.0032731 ,\n",
       "        0.00409138, 0.00490966, 0.00572793, 0.00654621, 0.00736448,\n",
       "        0.00818276]),\n",
       " <a list of 10 Patch objects>)"
      ]
     },
     "execution_count": 38,
     "metadata": {},
     "output_type": "execute_result"
    },
    {
     "data": {
      "image/png": "[encoded data removed]",
      "text/plain": [
       "<Figure size 432x288 with 1 Axes>"
      ]
     },
     "metadata": {},
     "output_type": "display_data"
    }
   ],
   "source": [
    "#╰( ͡° ͜ʖ ͡° )つ──☆*:・ﾟ\n",
    "quant = x_train['avg_speed'].quantile(0.95)\n",
    "plt.hist(x_train[x_train['avg_speed'] < quant]['avg_speed'].values)"
   ]
  },
  {
   "cell_type": "markdown",
   "metadata": {},
   "source": [
    "Для каждой пары (день недели, час суток) посчитайте медиану скоростей. Нарисуйте с помощью `sns.heatmap` график, где по осям будут дни недели и часы, а в качестве значения функции - медиана скорости"
   ]
  },
  {
   "cell_type": "code",
   "execution_count": 39,
   "metadata": {},
   "outputs": [
    {
     "data": {
      "text/plain": [
       "<matplotlib.axes._subplots.AxesSubplot at 0x1a8ae051c08>"
      ]
     },
     "execution_count": 39,
     "metadata": {},
     "output_type": "execute_result"
    },
    {
     "data": {
      "image/png": "[encoded data removed]",
      "text/plain": [
       "<Figure size 432x288 with 2 Axes>"
      ]
     },
     "metadata": {},
     "output_type": "display_data"
    }
   ],
   "source": [
    "#╰( ͡° ͜ʖ ͡° )つ──☆*:・ﾟ\n",
    "dayofweek_hour_speed = x_train.groupby(['dayofweek', 'hour']).agg({'avg_speed':'median'})\n",
    "dayofweek_hour_speed.reset_index(inplace=True)\n",
    "dayofweek_hour_speed = dayofweek_hour_speed.pivot('dayofweek', 'hour', 'avg_speed')\n",
    "sns.heatmap(dayofweek_hour_speed)"
   ]
  },
  {
   "cell_type": "markdown",
   "metadata": {},
   "source": [
    "Не забудьте удалить колонку со значением скорости из данных!\n",
    "\n",
    "**Вопрос**: Почему значение скорости нельзя использовать во время обучения?"
   ]
  },
  {
   "cell_type": "code",
   "execution_count": 40,
   "metadata": {},
   "outputs": [
    {
     "name": "stderr",
     "output_type": "stream",
     "text": [
      "C:\\Users\\sqrte\\anaconda3\\envs\\tf\\lib\\site-packages\\pandas\\core\\frame.py:3997: SettingWithCopyWarning: \n",
      "A value is trying to be set on a copy of a slice from a DataFrame\n",
      "\n",
      "See the caveats in the documentation: https://pandas.pydata.org/pandas-docs/stable/user_guide/indexing.html#returning-a-view-versus-a-copy\n",
      "  errors=errors,\n"
     ]
    }
   ],
   "source": [
    "#╰( ͡° ͜ʖ ͡° )つ──☆*:・ﾟ\n",
    "x_train.drop(['avg_speed'], axis=1, inplace=True)"
   ]
  },
  {
   "cell_type": "markdown",
   "metadata": {},
   "source": [
    "**Вопрос**: Посмотрите внимательно на график и скажите, в какие моменты времени скорость минимальна; максимальна.\n",
    "\n",
    "Создайте признаки \"поездка совершается в период пробок\" и \"поездка совершается в период свободных дорог\" (естественно, они не должен зависеть от скорости!):\n",
    "\n",
    "https://www.tomtom.com/en_gb/traffic-index/new-york-traffic/"
   ]
  },
  {
   "cell_type": "code",
   "execution_count": 41,
   "metadata": {},
   "outputs": [
    {
     "name": "stderr",
     "output_type": "stream",
     "text": [
      "C:\\Users\\sqrte\\anaconda3\\envs\\tf\\lib\\site-packages\\ipykernel_launcher.py:2: SettingWithCopyWarning: \n",
      "A value is trying to be set on a copy of a slice from a DataFrame.\n",
      "Try using .loc[row_indexer,col_indexer] = value instead\n",
      "\n",
      "See the caveats in the documentation: https://pandas.pydata.org/pandas-docs/stable/user_guide/indexing.html#returning-a-view-versus-a-copy\n",
      "  \n",
      "C:\\Users\\sqrte\\anaconda3\\envs\\tf\\lib\\site-packages\\ipykernel_launcher.py:3: SettingWithCopyWarning: \n",
      "A value is trying to be set on a copy of a slice from a DataFrame.\n",
      "Try using .loc[row_indexer,col_indexer] = value instead\n",
      "\n",
      "See the caveats in the documentation: https://pandas.pydata.org/pandas-docs/stable/user_guide/indexing.html#returning-a-view-versus-a-copy\n",
      "  This is separate from the ipykernel package so we can avoid doing imports until\n"
     ]
    }
   ],
   "source": [
    "#╰( ͡° ͜ʖ ͡° )つ──☆*:・ﾟ\n",
    "x_train['congestion'] = x_train['hour'].apply(lambda x: 1 if x in range(6, 22) else 0)\n",
    "x_test['congestion'] = x_test['hour'].apply(lambda x: 1 if x in range(6, 22) else 0)"
   ]
  },
  {
   "cell_type": "markdown",
   "metadata": {},
   "source": [
    "**Задание 8 (0.25 балла)**. Как уже было замечено выше, на карте выделяются две точки - аэропорты La Guardia и John F Kennedy. Для каждого из аэропортов добавьте в выборки два признака: началась ли поездка из этого аэропорта и закончилась ли поездка в этом аэропорту."
   ]
  },
  {
   "cell_type": "code",
   "execution_count": 150,
   "metadata": {},
   "outputs": [],
   "source": [
    "#╰( ͡° ͜ʖ ͡° )つ──☆*:・ﾟ\n",
    "def la_guardia_pickup(data):\n",
    "    return 1 if ((data['pickup_latitude'] < 40.788005) & (data['pickup_latitude'] > 40.764437) & \n",
    "                 (data['pickup_longitude'] > -73.876410) & (data['pickup_longitude'] < -73.872657)) else 0\n",
    "def la_guardia_dropoff(data):\n",
    "    return 1 if ((data['dropoff_latitude'] < 40.788005) & (data['dropoff_latitude'] > 40.764437) & \n",
    "                 (data['dropoff_longitude'] > -73.876410) & (data['dropoff_longitude'] < -73.872657)) else 0\n",
    "\n",
    "def john_k_pickup(data):\n",
    "    return 1 if ((data['pickup_latitude'] < 40.666546) & (data['pickup_latitude'] > 40.614670) & \n",
    "                 (data['pickup_longitude'] > -73.893473) & (data['pickup_longitude'] < -73.851284)) else 0\n",
    "def john_k_dropoff(data):\n",
    "    return 1 if ((data['pickup_latitude'] < 40.666546) & (data['pickup_latitude'] > 40.614670) & \n",
    "                 (data['pickup_longitude'] > -73.893473) & (data['pickup_longitude'] < -73.851284)) else 0"
   ]
  },
  {
   "cell_type": "code",
   "execution_count": 149,
   "metadata": {},
   "outputs": [
    {
     "name": "stderr",
     "output_type": "stream",
     "text": [
      "<ipython-input-149-afc80b5fa581>:1: SettingWithCopyWarning: \n",
      "A value is trying to be set on a copy of a slice from a DataFrame.\n",
      "Try using .loc[row_indexer,col_indexer] = value instead\n",
      "\n",
      "See the caveats in the documentation: https://pandas.pydata.org/pandas-docs/stable/user_guide/indexing.html#returning-a-view-versus-a-copy\n",
      "  x_train['la_guardia_pickup'] = x_train.apply(la_guardia_pickup, axis=1)\n",
      "<ipython-input-149-afc80b5fa581>:2: SettingWithCopyWarning: \n",
      "A value is trying to be set on a copy of a slice from a DataFrame.\n",
      "Try using .loc[row_indexer,col_indexer] = value instead\n",
      "\n",
      "See the caveats in the documentation: https://pandas.pydata.org/pandas-docs/stable/user_guide/indexing.html#returning-a-view-versus-a-copy\n",
      "  x_train['la_guardia_dropoff'] = x_train.apply(la_guardia_dropoff, axis=1)\n"
     ]
    }
   ],
   "source": [
    "x_train['la_guardia_pickup'] = x_train.apply(la_guardia_pickup, axis=1)\n",
    "x_train['la_guardia_dropoff'] = x_train.apply(la_guardia_dropoff, axis=1)\n",
    "x_train['john_k_pickup'] = x_train.apply(john_k_pickup, axis=1)\n",
    "x_train['john_k_dropoff'] = x_train.apply(john_k_dropoff, axis=1)"
   ]
  },
  {
   "cell_type": "code",
   "execution_count": 154,
   "metadata": {},
   "outputs": [
    {
     "name": "stderr",
     "output_type": "stream",
     "text": [
      "<ipython-input-154-ce09f48d9491>:1: SettingWithCopyWarning: \n",
      "A value is trying to be set on a copy of a slice from a DataFrame.\n",
      "Try using .loc[row_indexer,col_indexer] = value instead\n",
      "\n",
      "See the caveats in the documentation: https://pandas.pydata.org/pandas-docs/stable/user_guide/indexing.html#returning-a-view-versus-a-copy\n",
      "  x_val['la_guardia_pickup'] = x_val.apply(la_guardia_pickup, axis=1)\n",
      "<ipython-input-154-ce09f48d9491>:2: SettingWithCopyWarning: \n",
      "A value is trying to be set on a copy of a slice from a DataFrame.\n",
      "Try using .loc[row_indexer,col_indexer] = value instead\n",
      "\n",
      "See the caveats in the documentation: https://pandas.pydata.org/pandas-docs/stable/user_guide/indexing.html#returning-a-view-versus-a-copy\n",
      "  x_val['la_guardia_dropoff'] = x_val.apply(la_guardia_dropoff, axis=1)\n",
      "<ipython-input-154-ce09f48d9491>:3: SettingWithCopyWarning: \n",
      "A value is trying to be set on a copy of a slice from a DataFrame.\n",
      "Try using .loc[row_indexer,col_indexer] = value instead\n",
      "\n",
      "See the caveats in the documentation: https://pandas.pydata.org/pandas-docs/stable/user_guide/indexing.html#returning-a-view-versus-a-copy\n",
      "  x_val['john_k_pickup'] = x_val.apply(john_k_pickup, axis=1)\n",
      "<ipython-input-154-ce09f48d9491>:4: SettingWithCopyWarning: \n",
      "A value is trying to be set on a copy of a slice from a DataFrame.\n",
      "Try using .loc[row_indexer,col_indexer] = value instead\n",
      "\n",
      "See the caveats in the documentation: https://pandas.pydata.org/pandas-docs/stable/user_guide/indexing.html#returning-a-view-versus-a-copy\n",
      "  x_val['john_k_dropoff'] = x_val.apply(john_k_dropoff, axis=1)\n"
     ]
    }
   ],
   "source": [
    "x_test['la_guardia_pickup'] = x_test.apply(la_guardia_pickup, axis=1)\n",
    "x_test['la_guardia_dropoff'] = x_test.apply(la_guardia_dropoff, axis=1)\n",
    "x_test['john_k_pickup'] = x_test.apply(john_k_pickup, axis=1)\n",
    "x_test['john_k_dropoff'] = x_test.apply(john_k_dropoff, axis=1)"
   ]
  },
  {
   "cell_type": "code",
   "execution_count": 46,
   "metadata": {},
   "outputs": [],
   "source": [
    "x_train.to_csv('data/practice2/x_train_buf.csv', index=False)\n",
    "x_test.to_csv('data/practice2/x_test_buf.csv', index=False)"
   ]
  },
  {
   "cell_type": "code",
   "execution_count": 43,
   "metadata": {},
   "outputs": [],
   "source": [
    "x_train = pd.read_csv('data/practice2/x_train_buf.csv')\n",
    "x_test = pd.read_csv('data/practice2/x_test_buf.csv')"
   ]
  },
  {
   "cell_type": "markdown",
   "metadata": {},
   "source": [
    "Для каждого из созданных признаков нарисуйте \"ящик с усами\" (`sns.boxplot`) распределения логарифма времени поездки"
   ]
  },
  {
   "cell_type": "code",
   "execution_count": 44,
   "metadata": {},
   "outputs": [
    {
     "data": {
      "text/plain": [
       "<matplotlib.axes._subplots.AxesSubplot at 0x1a9008bd188>"
      ]
     },
     "execution_count": 44,
     "metadata": {},
     "output_type": "execute_result"
    },
    {
     "data": {
      "image/png": "[encoded data removed]",
      "text/plain": [
       "<Figure size 432x288 with 4 Axes>"
      ]
     },
     "metadata": {},
     "output_type": "display_data"
    }
   ],
   "source": [
    "#╰( ͡° ͜ʖ ͡° )つ──☆*:・ﾟ\n",
    "fig, axs = plt.subplots(1, 4)\n",
    "sns.boxplot(x='la_guardia_pickup', y='log_trip_duration', data=x_train, ax=axs[0])\n",
    "sns.boxplot(x='la_guardia_dropoff', y='log_trip_duration', data=x_train, ax=axs[1])\n",
    "sns.boxplot(x='john_k_pickup', y='log_trip_duration', data=x_train, ax=axs[2])\n",
    "sns.boxplot(x='john_k_dropoff', y='log_trip_duration', data=x_train, ax=axs[3])"
   ]
  },
  {
   "cell_type": "markdown",
   "metadata": {},
   "source": [
    "**Вопрос**: судя по графикам, как вы думаете, хорошими ли получились эти признаки?"
   ]
  },
  {
   "cell_type": "markdown",
   "metadata": {},
   "source": [
    "<img src=\"https://www.dropbox.com/s/xson9nukz5hba7c/map.png?raw=1\" align=\"right\" width=\"20%\" style=\"margin-left: 20px; margin-bottom: 20px\">\n",
    "\n",
    "**Задание 9 (1 балл)**. Сейчас мы почти что не используем сами значения координат. На это есть несколько причин: по отдельности рассматривать широту и долготу не имеет особого смысла, стоит рассматривать их вместе. Во-вторых, понятно, что зависимость между нашим таргетом и координатами не линейная. Чтобы как-то использовать координаты, можно прибегнуть к следующему трюку: обрамим область с наибольшим количеством поездок прямоугольником (как на рисунке). Разобьем этот прямоугольник на ячейки. Каждой точке сопоставим номер ее ячейки, а тем точкам, что не попали ни в одну из ячеек, сопоставим значение -1.\n",
    "\n",
    "Напишите трансформер, который сначала разбивает показанную на рисунке область на ячейки, а затем создает два признака: номер ячейки, в которой началась поездка, и номер ячейки, в которой закончилась поездка. Количество строк и столбцов выберите самостоятельно.\n",
    "\n",
    "Обратите внимание, что все вычисления должны быть векторизованными, трансформер не должен модифицировать передаваемую ему выборку inplace, а все необходимые статистики (если они вдруг нужны) нужно считать только по обучающей выборке в методе `fit`:"
   ]
  },
  {
   "cell_type": "code",
   "execution_count": 58,
   "metadata": {},
   "outputs": [
    {
     "data": {
      "text/html": [
       "<div>\n",
       "<style scoped>\n",
       "    .dataframe tbody tr th:only-of-type {\n",
       "        vertical-align: middle;\n",
       "    }\n",
       "\n",
       "    .dataframe tbody tr th {\n",
       "        vertical-align: top;\n",
       "    }\n",
       "\n",
       "    .dataframe thead th {\n",
       "        text-align: right;\n",
       "    }\n",
       "</style>\n",
       "<table border=\"1\" class=\"dataframe\">\n",
       "  <thead>\n",
       "    <tr style=\"text-align: right;\">\n",
       "      <th></th>\n",
       "      <th>id</th>\n",
       "      <th>vendor_id</th>\n",
       "      <th>pickup_datetime</th>\n",
       "      <th>passenger_count</th>\n",
       "      <th>pickup_longitude</th>\n",
       "      <th>pickup_latitude</th>\n",
       "      <th>dropoff_longitude</th>\n",
       "      <th>dropoff_latitude</th>\n",
       "      <th>store_and_fwd_flag</th>\n",
       "      <th>trip_duration</th>\n",
       "      <th>...</th>\n",
       "      <th>second_anomaly</th>\n",
       "      <th>haversine_dist</th>\n",
       "      <th>log_haversine</th>\n",
       "      <th>congestion</th>\n",
       "      <th>la_guardia_pickup</th>\n",
       "      <th>la_guardia_dropoff</th>\n",
       "      <th>john_k_pickup</th>\n",
       "      <th>john_k_dropoff</th>\n",
       "      <th>pickup_cluster</th>\n",
       "      <th>dropoff_cluster</th>\n",
       "    </tr>\n",
       "  </thead>\n",
       "  <tbody>\n",
       "    <tr>\n",
       "      <th>0</th>\n",
       "      <td>id2209155</td>\n",
       "      <td>2</td>\n",
       "      <td>2016-05-03 09:03:08</td>\n",
       "      <td>2</td>\n",
       "      <td>-73.979813</td>\n",
       "      <td>40.752529</td>\n",
       "      <td>-73.982681</td>\n",
       "      <td>40.763680</td>\n",
       "      <td>N</td>\n",
       "      <td>844</td>\n",
       "      <td>...</td>\n",
       "      <td>0</td>\n",
       "      <td>1.263187</td>\n",
       "      <td>0.234429</td>\n",
       "      <td>1</td>\n",
       "      <td>0</td>\n",
       "      <td>0</td>\n",
       "      <td>0</td>\n",
       "      <td>0</td>\n",
       "      <td>93</td>\n",
       "      <td>64</td>\n",
       "    </tr>\n",
       "    <tr>\n",
       "      <th>1</th>\n",
       "      <td>id0586605</td>\n",
       "      <td>1</td>\n",
       "      <td>2016-01-01 16:40:51</td>\n",
       "      <td>1</td>\n",
       "      <td>-73.977623</td>\n",
       "      <td>40.746296</td>\n",
       "      <td>-73.968414</td>\n",
       "      <td>40.788933</td>\n",
       "      <td>N</td>\n",
       "      <td>1001</td>\n",
       "      <td>...</td>\n",
       "      <td>0</td>\n",
       "      <td>4.804012</td>\n",
       "      <td>1.569660</td>\n",
       "      <td>1</td>\n",
       "      <td>0</td>\n",
       "      <td>0</td>\n",
       "      <td>0</td>\n",
       "      <td>0</td>\n",
       "      <td>19</td>\n",
       "      <td>86</td>\n",
       "    </tr>\n",
       "    <tr>\n",
       "      <th>2</th>\n",
       "      <td>id0467144</td>\n",
       "      <td>1</td>\n",
       "      <td>2016-04-24 13:57:03</td>\n",
       "      <td>1</td>\n",
       "      <td>-73.950699</td>\n",
       "      <td>40.779404</td>\n",
       "      <td>-73.863129</td>\n",
       "      <td>40.768608</td>\n",
       "      <td>N</td>\n",
       "      <td>1048</td>\n",
       "      <td>...</td>\n",
       "      <td>0</td>\n",
       "      <td>7.471088</td>\n",
       "      <td>2.011175</td>\n",
       "      <td>1</td>\n",
       "      <td>0</td>\n",
       "      <td>0</td>\n",
       "      <td>0</td>\n",
       "      <td>0</td>\n",
       "      <td>68</td>\n",
       "      <td>48</td>\n",
       "    </tr>\n",
       "    <tr>\n",
       "      <th>3</th>\n",
       "      <td>id0989010</td>\n",
       "      <td>2</td>\n",
       "      <td>2016-01-10 17:03:47</td>\n",
       "      <td>1</td>\n",
       "      <td>-73.984558</td>\n",
       "      <td>40.721802</td>\n",
       "      <td>-73.976753</td>\n",
       "      <td>40.752213</td>\n",
       "      <td>N</td>\n",
       "      <td>784</td>\n",
       "      <td>...</td>\n",
       "      <td>0</td>\n",
       "      <td>3.444869</td>\n",
       "      <td>1.237176</td>\n",
       "      <td>1</td>\n",
       "      <td>0</td>\n",
       "      <td>0</td>\n",
       "      <td>0</td>\n",
       "      <td>0</td>\n",
       "      <td>44</td>\n",
       "      <td>93</td>\n",
       "    </tr>\n",
       "    <tr>\n",
       "      <th>4</th>\n",
       "      <td>id0580742</td>\n",
       "      <td>1</td>\n",
       "      <td>2016-02-25 17:37:36</td>\n",
       "      <td>1</td>\n",
       "      <td>-73.967720</td>\n",
       "      <td>40.768742</td>\n",
       "      <td>-73.977173</td>\n",
       "      <td>40.789875</td>\n",
       "      <td>N</td>\n",
       "      <td>732</td>\n",
       "      <td>...</td>\n",
       "      <td>0</td>\n",
       "      <td>2.481063</td>\n",
       "      <td>0.909090</td>\n",
       "      <td>1</td>\n",
       "      <td>0</td>\n",
       "      <td>0</td>\n",
       "      <td>0</td>\n",
       "      <td>0</td>\n",
       "      <td>78</td>\n",
       "      <td>56</td>\n",
       "    </tr>\n",
       "  </tbody>\n",
       "</table>\n",
       "<p>5 rows × 27 columns</p>\n",
       "</div>"
      ],
      "text/plain": [
       "          id  vendor_id      pickup_datetime  passenger_count  \\\n",
       "0  id2209155          2  2016-05-03 09:03:08                2   \n",
       "1  id0586605          1  2016-01-01 16:40:51                1   \n",
       "2  id0467144          1  2016-04-24 13:57:03                1   \n",
       "3  id0989010          2  2016-01-10 17:03:47                1   \n",
       "4  id0580742          1  2016-02-25 17:37:36                1   \n",
       "\n",
       "   pickup_longitude  pickup_latitude  dropoff_longitude  dropoff_latitude  \\\n",
       "0        -73.979813        40.752529         -73.982681         40.763680   \n",
       "1        -73.977623        40.746296         -73.968414         40.788933   \n",
       "2        -73.950699        40.779404         -73.863129         40.768608   \n",
       "3        -73.984558        40.721802         -73.976753         40.752213   \n",
       "4        -73.967720        40.768742         -73.977173         40.789875   \n",
       "\n",
       "  store_and_fwd_flag  trip_duration  ...  second_anomaly haversine_dist  \\\n",
       "0                  N            844  ...               0       1.263187   \n",
       "1                  N           1001  ...               0       4.804012   \n",
       "2                  N           1048  ...               0       7.471088   \n",
       "3                  N            784  ...               0       3.444869   \n",
       "4                  N            732  ...               0       2.481063   \n",
       "\n",
       "   log_haversine  congestion  la_guardia_pickup  la_guardia_dropoff  \\\n",
       "0       0.234429           1                  0                   0   \n",
       "1       1.569660           1                  0                   0   \n",
       "2       2.011175           1                  0                   0   \n",
       "3       1.237176           1                  0                   0   \n",
       "4       0.909090           1                  0                   0   \n",
       "\n",
       "   john_k_pickup  john_k_dropoff  pickup_cluster  dropoff_cluster  \n",
       "0              0               0              93               64  \n",
       "1              0               0              19               86  \n",
       "2              0               0              68               48  \n",
       "3              0               0              44               93  \n",
       "4              0               0              78               56  \n",
       "\n",
       "[5 rows x 27 columns]"
      ]
     },
     "execution_count": 58,
     "metadata": {},
     "output_type": "execute_result"
    }
   ],
   "source": [
    "from sklearn.cluster import MiniBatchKMeans\n",
    "coords = np.vstack((x_train[['pickup_latitude', 'pickup_longitude']].values,\n",
    "                    x_train[['dropoff_latitude', 'dropoff_longitude']].values,\n",
    "                    x_test[['pickup_latitude', 'pickup_longitude']].values,\n",
    "                    x_test[['dropoff_latitude', 'dropoff_longitude']].values))\n",
    "\n",
    "sample_ind = np.random.permutation(len(coords))[:500000]\n",
    "kmeans = MiniBatchKMeans(n_clusters=100, batch_size=10000).fit(coords[sample_ind])\n",
    "\n",
    "x_train.loc[:, 'pickup_cluster'] = kmeans.predict(x_train[['pickup_latitude', 'pickup_longitude']])\n",
    "x_train.loc[:, 'dropoff_cluster'] = kmeans.predict(x_train[['dropoff_latitude', 'dropoff_longitude']])\n",
    "x_test.loc[:, 'pickup_cluster'] = kmeans.predict(x_test[['pickup_latitude', 'pickup_longitude']])\n",
    "x_test.loc[:, 'dropoff_cluster'] = kmeans.predict(x_test[['dropoff_latitude', 'dropoff_longitude']])\n",
    "\n",
    "x_train.head()"
   ]
  },
  {
   "cell_type": "markdown",
   "metadata": {},
   "source": [
    "**Задание 10 (0.25 балла)**. Обучите `Ridge`-регрессию со стандартными параметрами на признаках, которые мы выделили к текущему моменту. Категориальные признаки закодируйте через one-hot-кодирование, численные признаки отмасштабируйте."
   ]
  },
  {
   "cell_type": "code",
   "execution_count": 59,
   "metadata": {},
   "outputs": [
    {
     "name": "stdout",
     "output_type": "stream",
     "text": [
      "MSE: 0.2620616552322262\n"
     ]
    }
   ],
   "source": [
    "features = ['dayofyear', 'dayofweek', 'month', 'hour', 'blizzard', 'second_anomaly',\n",
    "           'haversine_dist', 'log_haversine', 'congestion', 'la_guardia_pickup', 'la_guardia_dropoff',\n",
    "           'john_k_pickup', 'john_k_dropoff', 'log_trip_duration', 'pickup_cluster', 'dropoff_cluster']\n",
    "\n",
    "categorical = ['dayofweek', 'month', 'hour']\n",
    "numerical = ['haversine_dist', 'log_haversine']\n",
    "\n",
    "for feature in categorical:\n",
    "    x_train[feature] = x_train[feature].astype('category')\n",
    "    x_test[feature] = x_train[feature].astype('category')\n",
    "\n",
    "scaler = StandardScaler()\n",
    "x_train[numerical] = scaler.fit_transform(x_train[numerical])\n",
    "x_test[numerical] = scaler.transform(x_test[numerical])\n",
    "\n",
    "x_train_dum = pd.concat([x_train[features],\n",
    "                    pd.get_dummies(x_train[categorical])],\n",
    "                   axis=1)\n",
    "\n",
    "x_test_dum = pd.concat([x_train[features],\n",
    "                    pd.get_dummies(x_train[categorical])],\n",
    "                   axis=1)\n",
    "\n",
    "model = Ridge()\n",
    "model.fit(x_train_dum.drop(['log_trip_duration'], axis=1), x_train_dum['log_trip_duration'])\n",
    "predictions = model.predict(x_test_dum.drop(['log_trip_duration'], axis=1))\n",
    "print('MSE: {}'.format(MSE(x_test_dum['log_trip_duration'], predictions)))"
   ]
  },
  {
   "cell_type": "markdown",
   "metadata": {},
   "source": [
    "## Часть 3. Изучаем оставшиеся признаки (1 балл)\n",
    "\n",
    "**Задание 11 (0.75 баллов)**. У нас осталось еще 3 признака, которые мы не исследовали: `vendor_id`, `passenger_count` и `store_and_fwd_flag`.\n",
    "\n",
    "**Вопрос**: Подумайте, почему каждый из этих признаков может быть потенциально полезным.\n",
    "\n",
    "Посчитайте, сколько есть уникальных значений у каждого из этих признаков:"
   ]
  },
  {
   "cell_type": "code",
   "execution_count": 60,
   "metadata": {},
   "outputs": [
    {
     "data": {
      "text/plain": [
       "vendor_id              2\n",
       "passenger_count       10\n",
       "store_and_fwd_flag     2\n",
       "dtype: int64"
      ]
     },
     "execution_count": 60,
     "metadata": {},
     "output_type": "execute_result"
    }
   ],
   "source": [
    "#╰( ͡° ͜ʖ ͡° )つ──☆*:・ﾟ\n",
    "x_train[['vendor_id', 'passenger_count', 'store_and_fwd_flag']].nunique()"
   ]
  },
  {
   "cell_type": "markdown",
   "metadata": {},
   "source": [
    "Постройте \"ящики с усами\" распределений логарифма времени поездки в зависимости от значений каждого из признаков"
   ]
  },
  {
   "cell_type": "code",
   "execution_count": 61,
   "metadata": {},
   "outputs": [
    {
     "data": {
      "text/plain": [
       "<matplotlib.axes._subplots.AxesSubplot at 0x1a894a9fd88>"
      ]
     },
     "execution_count": 61,
     "metadata": {},
     "output_type": "execute_result"
    },
    {
     "data": {
      "image/png": "[encoded data removed]",
      "text/plain": [
       "<Figure size 432x288 with 3 Axes>"
      ]
     },
     "metadata": {},
     "output_type": "display_data"
    }
   ],
   "source": [
    "#╰( ͡° ͜ʖ ͡° )つ──☆*:・ﾟ\n",
    "fig, axs = plt.subplots(1, 3)\n",
    "sns.boxplot(x='vendor_id', y='log_trip_duration', data=x_train, ax=axs[0])\n",
    "sns.boxplot(x='passenger_count', y='log_trip_duration', data=x_train, ax=axs[1])\n",
    "sns.boxplot(x='store_and_fwd_flag', y='log_trip_duration', data=x_train, ax=axs[2])"
   ]
  },
  {
   "cell_type": "markdown",
   "metadata": {},
   "source": [
    "Переведите признаки `vendor_id` и `store_and_fwd_flag` в значения $\\{0;1\\}$"
   ]
  },
  {
   "cell_type": "code",
   "execution_count": 62,
   "metadata": {},
   "outputs": [],
   "source": [
    "#╰( ͡° ͜ʖ ͡° )つ──☆*:・ﾟ\n",
    "x_train['vendor_id_binary'] = x_train['vendor_id'].map({1:0, 2:1})\n",
    "x_train['store_and_fwd_flag_binary'] = x_train['store_and_fwd_flag'].map({'N':0, 'Y':1})\n",
    "\n",
    "x_test['vendor_id_binary'] = x_test['vendor_id'].map({1:0, 2:1})\n",
    "x_test['store_and_fwd_flag_binary'] = x_test['store_and_fwd_flag'].map({'N':0, 'Y':1})"
   ]
  },
  {
   "cell_type": "markdown",
   "metadata": {},
   "source": [
    "**Вопрос**: Основываясь на графиках выше, как вы думаете, будут ли эти признаки сильными?"
   ]
  },
  {
   "cell_type": "markdown",
   "metadata": {},
   "source": [
    "**Задание 12 (0.25 баллов)**. Проверьте свои предположения, обучив модель в том числе и на этих трех признаках. Обучайте `Ridge`-регрессию со стандартными параметрами. Категориальные признаки закодируйте one-hot-кодированием, а численные отмасштабируйте."
   ]
  },
  {
   "cell_type": "code",
   "execution_count": 63,
   "metadata": {},
   "outputs": [
    {
     "name": "stdout",
     "output_type": "stream",
     "text": [
      "MSE: 0.261918056928626\n"
     ]
    }
   ],
   "source": [
    "#╰( ͡° ͜ʖ ͡° )つ──☆*:・ﾟ\n",
    "features = ['dayofyear', 'blizzard', 'second_anomaly',\n",
    "           'haversine_dist', 'log_haversine', 'congestion', 'la_guardia_pickup', 'la_guardia_dropoff',\n",
    "           'john_k_pickup', 'john_k_dropoff', 'vendor_id_binary', 'store_and_fwd_flag_binary',\n",
    "            'passenger_count', 'log_trip_duration', 'pickup_cluster', 'dropoff_cluster' ]\n",
    "\n",
    "\n",
    "categorical = ['dayofweek', 'month', 'hour']\n",
    "numerical = ['haversine_dist', 'log_haversine']\n",
    "\n",
    "for feature in categorical:\n",
    "    x_train[feature] = x_train[feature].astype('category')\n",
    "    x_test[feature] = x_train[feature].astype('category')\n",
    "\n",
    "scaler = StandardScaler()\n",
    "x_train[numerical] = scaler.fit_transform(x_train[numerical])\n",
    "x_test[numerical] = scaler.transform(x_test[numerical])\n",
    "\n",
    "x_train_dum = pd.concat([x_train[features],\n",
    "                    pd.get_dummies(x_train[categorical])],\n",
    "                   axis=1)\n",
    "\n",
    "x_test_dum = pd.concat([x_train[features],\n",
    "                    pd.get_dummies(x_train[categorical])],\n",
    "                   axis=1)\n",
    "\n",
    "model = Ridge()\n",
    "model.fit(x_train_dum.drop(['log_trip_duration'], axis=1), x_train_dum['log_trip_duration'])\n",
    "predictions = model.predict(x_test_dum.drop(['log_trip_duration'], axis=1))\n",
    "print('MSE: {}'.format(MSE(x_test_dum['log_trip_duration'], predictions)))"
   ]
  },
  {
   "cell_type": "markdown",
   "metadata": {},
   "source": [
    "Если признаки не дали какого-то ощутимого улучшения метрики, их можно выбросить из данных."
   ]
  },
  {
   "cell_type": "markdown",
   "metadata": {},
   "source": [
    "## Часть 4. Улучшаем модель (3 балла)"
   ]
  },
  {
   "cell_type": "markdown",
   "metadata": {},
   "source": [
    "**Задание 13 (1 балл)**. В наших данных есть нетипичные объекты: с аномально маленьким времени поездки, с очень большим пройденным расстоянием или очень большими остатками регрессии. В этом задании предлагается исключить такие объекты из обучающей выборки. Для этого нарисуйте гистограммы распределения упомянутых выше величин, выберите объекты, которые можно назвать выбросами, и очистите обучающую выборку от них."
   ]
  },
  {
   "cell_type": "code",
   "execution_count": 64,
   "metadata": {},
   "outputs": [
    {
     "data": {
      "text/plain": [
       "(array([0., 0., 0., 0., 0., 0., 0., 0., 0., 0.]),\n",
       " array([0. , 0.1, 0.2, 0.3, 0.4, 0.5, 0.6, 0.7, 0.8, 0.9, 1. ]),\n",
       " <a list of 10 Patch objects>)"
      ]
     },
     "execution_count": 64,
     "metadata": {},
     "output_type": "execute_result"
    },
    {
     "data": {
      "image/png": "[encoded data removed]",
      "text/plain": [
       "<Figure size 432x288 with 3 Axes>"
      ]
     },
     "metadata": {},
     "output_type": "display_data"
    }
   ],
   "source": [
    "#╰( ͡° ͜ʖ ͡° )つ──☆*:・ﾟ\n",
    "fig, axs = plt.subplots(1, 3)\n",
    "axs[0].hist(x_train[x_train['trip_duration'] < 100]['trip_duration'])\n",
    "axs[0].set_title('Время поездки < 500')\n",
    "axs[1].hist(x_train[x_train['haversine_dist'] > 25]['haversine_dist'])"
   ]
  },
  {
   "cell_type": "code",
   "execution_count": 65,
   "metadata": {},
   "outputs": [],
   "source": [
    "x_train = x_train[x_train['trip_duration'] > 10]\n",
    "x_train = x_train[x_train['haversine_dist'] < 25]"
   ]
  },
  {
   "cell_type": "markdown",
   "metadata": {},
   "source": [
    "Сейчас у нас очень много категориальных признаков. В категориальных признаках могут содержаться редкие категории, обычно это плохо: модель сильно переобучается на таких примерах. Попробуйте объединить редкие категории в одну. Естественно, делать это нужно только для действительно редких категорий."
   ]
  },
  {
   "cell_type": "code",
   "execution_count": 66,
   "metadata": {},
   "outputs": [],
   "source": [
    "x_train['to_from_airport'] = x_train['la_guardia_pickup'].values | x_train['la_guardia_dropoff'].values | x_train['john_k_pickup'].values | x_train['john_k_dropoff'].values\n",
    "x_test['to_from_airport'] = x_test['la_guardia_pickup'].values | x_test['la_guardia_dropoff'].values | x_test['john_k_pickup'].values | x_test['john_k_dropoff'].values\n",
    "\n",
    "x_train['trafic_anomaly'] = x_train['blizzard'].values | x_train['second_anomaly']\n",
    "x_test['trafic_anomaly'] = x_test['blizzard'].values | x_test['second_anomaly']\n"
   ]
  },
  {
   "cell_type": "code",
   "execution_count": 70,
   "metadata": {},
   "outputs": [
    {
     "name": "stdout",
     "output_type": "stream",
     "text": [
      "MSE: 0.2625378522567621\n"
     ]
    }
   ],
   "source": [
    "#╰( ͡° ͜ʖ ͡° )つ──☆*:・ﾟ\n",
    "features = ['trafic_anomaly', 'dayofyear',\n",
    "           'haversine_dist', 'log_haversine', 'congestion', 'to_from_airport', 'log_trip_duration',\n",
    "           'pickup_cluster', 'dropoff_cluster']\n",
    "\n",
    "categorical = ['dayofweek', 'month', 'hour']\n",
    "\n",
    "for feature in categorical:\n",
    "    x_train[feature] = x_train[feature].astype('category')\n",
    "    x_test[feature] = x_train[feature].astype('category')\n",
    "\n",
    "x_train_dum = pd.concat([x_train[features],\n",
    "                    pd.get_dummies(x_train[categorical])],\n",
    "                   axis=1)\n",
    "\n",
    "x_test_dum = pd.concat([x_train[features],\n",
    "                    pd.get_dummies(x_train[categorical])],\n",
    "                   axis=1)\n",
    "\n",
    "model = Ridge()\n",
    "model.fit(x_train_dum.drop(['log_trip_duration'], axis=1), x_train_dum['log_trip_duration'])\n",
    "predictions = model.predict(x_test_dum.drop(['log_trip_duration'], axis=1))\n",
    "print('MSE: {}'.format(MSE(x_test_dum['log_trip_duration'], predictions)))"
   ]
  },
  {
   "cell_type": "markdown",
   "metadata": {},
   "source": [
    "Обучите модель на очищенных данных и посчитайте качество на тестовой выборке."
   ]
  },
  {
   "cell_type": "markdown",
   "metadata": {},
   "source": [
    "**Задание 14 (1 балл)**. После OneHot-кодирования количество признаков в нашем датасете сильно возрастает. Посчитайте колиество признаков до и после кодирования категориальных признаков."
   ]
  },
  {
   "cell_type": "code",
   "execution_count": 71,
   "metadata": {},
   "outputs": [
    {
     "name": "stdout",
     "output_type": "stream",
     "text": [
      "Количество признаков до кодирования: 12\n",
      "Количестов признаков после кодирования: 46\n"
     ]
    }
   ],
   "source": [
    "#╰( ͡° ͜ʖ ͡° )つ──☆*:・ﾟ\n",
    "print('Количество признаков до кодирования: {}'.format(len(features) + len(categorical)))\n",
    "print('Количестов признаков после кодирования: {}'.format(x_train_dum.shape[1]))"
   ]
  },
  {
   "cell_type": "markdown",
   "metadata": {},
   "source": [
    "Попробуйте обучить не `Ridge`-, а `Lasso`-регрессию. Стало ли лучше?"
   ]
  },
  {
   "cell_type": "code",
   "execution_count": 72,
   "metadata": {},
   "outputs": [
    {
     "name": "stdout",
     "output_type": "stream",
     "text": [
      "MSE: 0.5988062204233138\n"
     ]
    }
   ],
   "source": [
    "#╰( ͡° ͜ʖ ͡° )つ──☆*:・ﾟ\n",
    "from sklearn.linear_model import Lasso\n",
    "\n",
    "model = Lasso()\n",
    "model.fit(x_train_dum.drop(['log_trip_duration'], axis=1), x_train_dum['log_trip_duration'])\n",
    "predictions = model.predict(x_test_dum.drop(['log_trip_duration'], axis=1))\n",
    "print('MSE: {}'.format(MSE(x_test_dum['log_trip_duration'], predictions)))"
   ]
  },
  {
   "cell_type": "markdown",
   "metadata": {},
   "source": [
    "Разбейте обучающую выборку на обучающую и валидационную в отношении 8:2. По валидационной выборке подберите оптимальное значение параметра регуляризации (по логарифмической сетке), на тестовой выборке измерьте качество полученной модели."
   ]
  },
  {
   "cell_type": "code",
   "execution_count": 73,
   "metadata": {},
   "outputs": [
    {
     "name": "stderr",
     "output_type": "stream",
     "text": [
      "C:\\Users\\sqrte\\anaconda3\\envs\\tf\\lib\\site-packages\\sklearn\\linear_model\\_coordinate_descent.py:531: ConvergenceWarning: Objective did not converge. You might want to increase the number of iterations. Duality gap: 917.1115272035531, tolerance: 9.730714844454523\n",
      "  positive)\n",
      "C:\\Users\\sqrte\\anaconda3\\envs\\tf\\lib\\site-packages\\sklearn\\linear_model\\_coordinate_descent.py:531: ConvergenceWarning: Objective did not converge. You might want to increase the number of iterations. Duality gap: 926.1999111348341, tolerance: 9.78211616191253\n",
      "  positive)\n",
      "C:\\Users\\sqrte\\anaconda3\\envs\\tf\\lib\\site-packages\\sklearn\\linear_model\\_coordinate_descent.py:531: ConvergenceWarning: Objective did not converge. You might want to increase the number of iterations. Duality gap: 932.2886576886449, tolerance: 9.779150261985823\n",
      "  positive)\n",
      "C:\\Users\\sqrte\\anaconda3\\envs\\tf\\lib\\site-packages\\sklearn\\linear_model\\_coordinate_descent.py:531: ConvergenceWarning: Objective did not converge. You might want to increase the number of iterations. Duality gap: 919.653362270401, tolerance: 9.749507758679142\n",
      "  positive)\n",
      "C:\\Users\\sqrte\\anaconda3\\envs\\tf\\lib\\site-packages\\sklearn\\linear_model\\_coordinate_descent.py:531: ConvergenceWarning: Objective did not converge. You might want to increase the number of iterations. Duality gap: 937.6077268806184, tolerance: 9.808697784983128\n",
      "  positive)\n",
      "C:\\Users\\sqrte\\anaconda3\\envs\\tf\\lib\\site-packages\\sklearn\\linear_model\\_coordinate_descent.py:531: ConvergenceWarning: Objective did not converge. You might want to increase the number of iterations. Duality gap: 1158.2693395703027, tolerance: 12.21255884120411\n",
      "  positive)\n"
     ]
    },
    {
     "data": {
      "text/plain": [
       "GridSearchCV(cv=5, estimator=Lasso(),\n",
       "             param_grid={'alpha': [1e-05, 0.0001, 0.001, 0.01]})"
      ]
     },
     "execution_count": 73,
     "metadata": {},
     "output_type": "execute_result"
    }
   ],
   "source": [
    "#╰( ͡° ͜ʖ ͡° )つ──☆*:・ﾟ\n",
    "from sklearn.model_selection import GridSearchCV\n",
    "x_train_dum, x_val_dum = train_test_split(x_train_dum, test_size=0.2, random_state=42)\n",
    "\n",
    "model = Lasso()\n",
    "alphas = [0.00001, 0.0001, 0.001, 0.01]\n",
    "lasso_params = {'alpha':alphas}\n",
    "search = GridSearchCV(model, lasso_params, cv=5)\n",
    "search.fit(x_val_dum.drop(['log_trip_duration'], axis=1), x_val_dum['log_trip_duration'])"
   ]
  },
  {
   "cell_type": "code",
   "execution_count": 74,
   "metadata": {},
   "outputs": [
    {
     "name": "stdout",
     "output_type": "stream",
     "text": [
      "MSE: 0.262604799988668\n"
     ]
    }
   ],
   "source": [
    "model = search.best_estimator_\n",
    "predictions = model.predict(x_test_dum.drop(['log_trip_duration'], axis=1))\n",
    "print('MSE: {}'.format(MSE(x_test_dum['log_trip_duration'], predictions)))"
   ]
  },
  {
   "cell_type": "markdown",
   "metadata": {},
   "source": [
    "Для каждого перебранного `alpha` посчитайте количество нулевых весов в модели и нарисуйте график зависимости его от `alpha`."
   ]
  },
  {
   "cell_type": "code",
   "execution_count": 75,
   "metadata": {},
   "outputs": [
    {
     "name": "stderr",
     "output_type": "stream",
     "text": [
      "C:\\Users\\sqrte\\anaconda3\\envs\\tf\\lib\\site-packages\\sklearn\\linear_model\\_coordinate_descent.py:531: ConvergenceWarning: Objective did not converge. You might want to increase the number of iterations. Duality gap: 1158.2693395703027, tolerance: 12.21255884120411\n",
      "  positive)\n"
     ]
    },
    {
     "data": {
      "text/plain": [
       "[<matplotlib.lines.Line2D at 0x1a8ad7aed08>]"
      ]
     },
     "execution_count": 75,
     "metadata": {},
     "output_type": "execute_result"
    },
    {
     "data": {
      "image/png": "[encoded data removed]",
      "text/plain": [
       "<Figure size 432x288 with 1 Axes>"
      ]
     },
     "metadata": {},
     "output_type": "display_data"
    }
   ],
   "source": [
    "#╰( ͡° ͜ʖ ͡° )つ──☆*:・ﾟ\n",
    "zero_weights = []\n",
    "\n",
    "for alpha in alphas:\n",
    "    model = Lasso(alpha)\n",
    "    model.fit(x_val_dum.drop(['log_trip_duration'], axis=1), x_val_dum['log_trip_duration'])\n",
    "    zero_weights.append((model.coef_ == 0).sum())\n",
    "\n",
    "plt.plot(zero_weights, alphas)"
   ]
  },
  {
   "cell_type": "markdown",
   "metadata": {},
   "source": [
    "<img src=\"https://www.dropbox.com/s/wp4jj0599np17lh/map_direction.png?raw=1\" width=\"20%\" align=\"right\" style=\"margin-left: 20px\">\n",
    "\n",
    "**Задание 15 (1 балл)**. Часто бывает полезным использовать взаимодействия признаков (feature interactions), то есть строить новые признаки на основе уже существующих. Выше мы разбили карту Манхэттена на ячейки и придумали признаки \"из какой ячейки началась поездка\" и \"в какой ячейке закончилась поездка\".\n",
    "\n",
    "Давайте попробуем сделать следующее: посчитаем, сколько раз встречается каждая возможная пара этих признаков в нашем датасете и выберем 100 самых частых пар. Закодируем поездки с этими редкими парами как категориальный признак, остальным объектам припишем -1. Получается, что мы закодировали, откуда и куда должно было ехать такси.\n",
    "\n",
    "**Вопрос**: Почему такой признак потенциально полезный? Почему линейная модель не может самостоятельно \"вытащить\" эту информацию, ведь у нее в распоряжении есть признаки \"из какой ячейки началась поездка\" и \"в какой ячейке закончилась поездка\"?"
   ]
  },
  {
   "cell_type": "code",
   "execution_count": 92,
   "metadata": {},
   "outputs": [
    {
     "data": {
      "text/html": [
       "<div>\n",
       "<style scoped>\n",
       "    .dataframe tbody tr th:only-of-type {\n",
       "        vertical-align: middle;\n",
       "    }\n",
       "\n",
       "    .dataframe tbody tr th {\n",
       "        vertical-align: top;\n",
       "    }\n",
       "\n",
       "    .dataframe thead th {\n",
       "        text-align: right;\n",
       "    }\n",
       "</style>\n",
       "<table border=\"1\" class=\"dataframe\">\n",
       "  <thead>\n",
       "    <tr style=\"text-align: right;\">\n",
       "      <th></th>\n",
       "      <th>pickup_cluster</th>\n",
       "      <th>dropoff_cluster</th>\n",
       "      <th>trip_duration</th>\n",
       "    </tr>\n",
       "  </thead>\n",
       "  <tbody>\n",
       "    <tr>\n",
       "      <th>0</th>\n",
       "      <td>78</td>\n",
       "      <td>22</td>\n",
       "      <td>2799</td>\n",
       "    </tr>\n",
       "    <tr>\n",
       "      <th>1</th>\n",
       "      <td>78</td>\n",
       "      <td>36</td>\n",
       "      <td>2709</td>\n",
       "    </tr>\n",
       "    <tr>\n",
       "      <th>2</th>\n",
       "      <td>10</td>\n",
       "      <td>64</td>\n",
       "      <td>2410</td>\n",
       "    </tr>\n",
       "    <tr>\n",
       "      <th>3</th>\n",
       "      <td>68</td>\n",
       "      <td>40</td>\n",
       "      <td>2398</td>\n",
       "    </tr>\n",
       "    <tr>\n",
       "      <th>4</th>\n",
       "      <td>18</td>\n",
       "      <td>36</td>\n",
       "      <td>2379</td>\n",
       "    </tr>\n",
       "    <tr>\n",
       "      <th>...</th>\n",
       "      <td>...</td>\n",
       "      <td>...</td>\n",
       "      <td>...</td>\n",
       "    </tr>\n",
       "    <tr>\n",
       "      <th>95</th>\n",
       "      <td>0</td>\n",
       "      <td>71</td>\n",
       "      <td>1105</td>\n",
       "    </tr>\n",
       "    <tr>\n",
       "      <th>96</th>\n",
       "      <td>62</td>\n",
       "      <td>28</td>\n",
       "      <td>1099</td>\n",
       "    </tr>\n",
       "    <tr>\n",
       "      <th>97</th>\n",
       "      <td>71</td>\n",
       "      <td>0</td>\n",
       "      <td>1097</td>\n",
       "    </tr>\n",
       "    <tr>\n",
       "      <th>98</th>\n",
       "      <td>71</td>\n",
       "      <td>23</td>\n",
       "      <td>1092</td>\n",
       "    </tr>\n",
       "    <tr>\n",
       "      <th>99</th>\n",
       "      <td>71</td>\n",
       "      <td>71</td>\n",
       "      <td>1087</td>\n",
       "    </tr>\n",
       "  </tbody>\n",
       "</table>\n",
       "<p>100 rows × 3 columns</p>\n",
       "</div>"
      ],
      "text/plain": [
       "    pickup_cluster  dropoff_cluster  trip_duration\n",
       "0               78               22           2799\n",
       "1               78               36           2709\n",
       "2               10               64           2410\n",
       "3               68               40           2398\n",
       "4               18               36           2379\n",
       "..             ...              ...            ...\n",
       "95               0               71           1105\n",
       "96              62               28           1099\n",
       "97              71                0           1097\n",
       "98              71               23           1092\n",
       "99              71               71           1087\n",
       "\n",
       "[100 rows x 3 columns]"
      ]
     },
     "execution_count": 92,
     "metadata": {},
     "output_type": "execute_result"
    }
   ],
   "source": [
    "#╰( ͡° ͜ʖ ͡° )つ──☆*:・ﾟ\n",
    "clusters = x_train[['pickup_cluster', 'dropoff_cluster', 'trip_duration']]\n",
    "group = clusters.groupby(['pickup_cluster', 'dropoff_cluster']).count()\n",
    "group = group.sort_values(by=['trip_duration'], ascending=False)\n",
    "group.reset_index(inplace=True)\n",
    "first100 = group.iloc[:100]\n",
    "first100"
   ]
  },
  {
   "cell_type": "markdown",
   "metadata": {},
   "source": [
    "Переобучите модель на новых даннных и посчитайте качество на тестовой выборке"
   ]
  },
  {
   "cell_type": "code",
   "execution_count": null,
   "metadata": {},
   "outputs": [],
   "source": [
    "#╰( ͡° ͜ʖ ͡° )つ──☆*:・ﾟ"
   ]
  },
  {
   "cell_type": "markdown",
   "metadata": {},
   "source": [
    "**Задание 16 (бонус, 1 балл)**. Где, как не для нашей задачи, считать манхэттенское расстояние?\n",
    "\n",
    "**Вопрос**: Найдите, что такое манхэттенское расстояние и почему оно так называется. Как оно нам может помочь?\n",
    "\n",
    "Введите систему координат на нашей карте так, чтобы оси были параллельны улицам Манхэттена, и добавьте сначала в данные признак \"манхэттенское расстояние между пунктом отправления и пунктом назначения\", а затем и логарифм этого признака. Посчитайте корреляцию между вашим новыми признаком и таргетом; между `log_haversine` и таргетом. В каком случае корреляция больше?\n",
    "\n",
    "Нарисуйте карту, где покажете выбранные оси. Чтобы мы могли проверить вашу работу, просьба сделать скрин этой карты и приложить картинку (если мы откроем ваш ноутбук, виджеты отображаться не будут). "
   ]
  },
  {
   "cell_type": "code",
   "execution_count": null,
   "metadata": {},
   "outputs": [],
   "source": [
    "#╰( ͡° ͜ʖ ͡° )つ──☆*:・ﾟ"
   ]
  },
  {
   "cell_type": "markdown",
   "metadata": {},
   "source": [
    "Переобучите модель на новых даннных и посчитайте качество на тестовой выборке"
   ]
  },
  {
   "cell_type": "code",
   "execution_count": null,
   "metadata": {},
   "outputs": [],
   "source": [
    "#╰( ͡° ͜ʖ ͡° )つ──☆*:・ﾟ"
   ]
  }
 ],
 "metadata": {
  "kernelspec": {
   "display_name": "Python 3",
   "language": "python",
   "name": "python3"
  },
  "language_info": {
   "codemirror_mode": {
    "name": "ipython",
    "version": 3
   },
   "file_extension": ".py",
   "mimetype": "text/x-python",
   "name": "python",
   "nbconvert_exporter": "python",
   "pygments_lexer": "ipython3",
   "version": "3.7.7"
  }
 },
 "nbformat": 4,
 "nbformat_minor": 2
}
