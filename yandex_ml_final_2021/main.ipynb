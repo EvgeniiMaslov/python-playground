{
 "cells": [
  {
   "cell_type": "markdown",
   "metadata": {},
   "source": [
    "## Solution for yandex machine learning iprofi competition 2021"
   ]
  },
  {
   "cell_type": "code",
   "execution_count": 29,
   "metadata": {},
   "outputs": [],
   "source": [
    "import numpy as np\n",
    "import pandas as pd\n",
    "import os\n",
    "import matplotlib.pyplot as plt\n",
    "import seaborn as sns"
   ]
  },
  {
   "cell_type": "code",
   "execution_count": 50,
   "metadata": {},
   "outputs": [],
   "source": [
    "data_path = 'data'\n",
    "submission_path = 'submission'"
   ]
  },
  {
   "cell_type": "code",
   "execution_count": 57,
   "metadata": {},
   "outputs": [],
   "source": [
    "def get_sub_number():\n",
    "    max_number = sorted(os.listdir(submission_path), key=lambda x: int(x.split('_')[0]))[-1] + 1\n",
    "    return max_number\n",
    "\n",
    "def create_submission(predictions):\n",
    "    \n",
    "    if not os.path.isdir(submission_path):\n",
    "        os.mkdir(submission_path)\n",
    "        \n",
    "    submission = test.copy()\n",
    "    submission['NTG'] = predictions\n",
    "    \n",
    "    sub_number = 1 if not os.listdir(submission_path) else get_sub_number()\n",
    "    \n",
    "    save_path = os.path.join(submission_path, '{}_submission.csv'.format(sub_number))\n",
    "    \n",
    "    submission.to_csv(save_path, index=False)"
   ]
  },
  {
   "cell_type": "code",
   "execution_count": 192,
   "metadata": {},
   "outputs": [],
   "source": [
    "train = pd.read_csv(os.path.join(data_path, 'Training_wells.csv'))\n",
    "test = pd.read_csv(os.path.join(data_path, 'Empty_part.csv'))"
   ]
  },
  {
   "cell_type": "code",
   "execution_count": 10,
   "metadata": {},
   "outputs": [
    {
     "name": "stdout",
     "output_type": "stream",
     "text": [
      "Train shape: (138, 4)\n",
      "Test shape: (1242, 3)\n"
     ]
    }
   ],
   "source": [
    "print('Train shape: {}'.format(train.shape))\n",
    "print('Test shape: {}'.format(test.shape))"
   ]
  },
  {
   "cell_type": "code",
   "execution_count": 6,
   "metadata": {},
   "outputs": [
    {
     "data": {
      "text/html": [
       "<div>\n",
       "<style scoped>\n",
       "    .dataframe tbody tr th:only-of-type {\n",
       "        vertical-align: middle;\n",
       "    }\n",
       "\n",
       "    .dataframe tbody tr th {\n",
       "        vertical-align: top;\n",
       "    }\n",
       "\n",
       "    .dataframe thead th {\n",
       "        text-align: right;\n",
       "    }\n",
       "</style>\n",
       "<table border=\"1\" class=\"dataframe\">\n",
       "  <thead>\n",
       "    <tr style=\"text-align: right;\">\n",
       "      <th></th>\n",
       "      <th>Well</th>\n",
       "      <th>X</th>\n",
       "      <th>Y</th>\n",
       "      <th>NTG</th>\n",
       "    </tr>\n",
       "  </thead>\n",
       "  <tbody>\n",
       "    <tr>\n",
       "      <th>0</th>\n",
       "      <td>201-907</td>\n",
       "      <td>201</td>\n",
       "      <td>907</td>\n",
       "      <td>0.2006</td>\n",
       "    </tr>\n",
       "    <tr>\n",
       "      <th>1</th>\n",
       "      <td>201-914</td>\n",
       "      <td>201</td>\n",
       "      <td>914</td>\n",
       "      <td>0.3624</td>\n",
       "    </tr>\n",
       "    <tr>\n",
       "      <th>2</th>\n",
       "      <td>201-924</td>\n",
       "      <td>201</td>\n",
       "      <td>924</td>\n",
       "      <td>0.4381</td>\n",
       "    </tr>\n",
       "    <tr>\n",
       "      <th>3</th>\n",
       "      <td>202-922</td>\n",
       "      <td>202</td>\n",
       "      <td>922</td>\n",
       "      <td>0.4289</td>\n",
       "    </tr>\n",
       "    <tr>\n",
       "      <th>4</th>\n",
       "      <td>202-925</td>\n",
       "      <td>202</td>\n",
       "      <td>925</td>\n",
       "      <td>0.4021</td>\n",
       "    </tr>\n",
       "  </tbody>\n",
       "</table>\n",
       "</div>"
      ],
      "text/plain": [
       "      Well    X    Y     NTG\n",
       "0  201-907  201  907  0.2006\n",
       "1  201-914  201  914  0.3624\n",
       "2  201-924  201  924  0.4381\n",
       "3  202-922  202  922  0.4289\n",
       "4  202-925  202  925  0.4021"
      ]
     },
     "execution_count": 6,
     "metadata": {},
     "output_type": "execute_result"
    }
   ],
   "source": [
    "train.head()"
   ]
  },
  {
   "cell_type": "code",
   "execution_count": 7,
   "metadata": {},
   "outputs": [
    {
     "name": "stdout",
     "output_type": "stream",
     "text": [
      "<class 'pandas.core.frame.DataFrame'>\n",
      "RangeIndex: 138 entries, 0 to 137\n",
      "Data columns (total 4 columns):\n",
      " #   Column  Non-Null Count  Dtype  \n",
      "---  ------  --------------  -----  \n",
      " 0   Well    138 non-null    object \n",
      " 1   X       138 non-null    int64  \n",
      " 2   Y       138 non-null    int64  \n",
      " 3   NTG     138 non-null    float64\n",
      "dtypes: float64(1), int64(2), object(1)\n",
      "memory usage: 4.4+ KB\n"
     ]
    }
   ],
   "source": [
    "train.info()"
   ]
  },
  {
   "cell_type": "code",
   "execution_count": 15,
   "metadata": {},
   "outputs": [],
   "source": [
    "# Well column is id, coombination of X and Y\n",
    "assert train.Well.nunique() == train.shape[0]\n",
    "assert test.Well.nunique() == test.shape[0]"
   ]
  },
  {
   "cell_type": "code",
   "execution_count": 41,
   "metadata": {},
   "outputs": [
    {
     "name": "stdout",
     "output_type": "stream",
     "text": [
      "Mean: 0.3257195652173913\n"
     ]
    },
    {
     "data": {
      "text/plain": [
       "<seaborn.axisgrid.FacetGrid at 0x23fadabedc8>"
      ]
     },
     "execution_count": 41,
     "metadata": {},
     "output_type": "execute_result"
    },
    {
     "data": {
      "image/png": "[encoded data removed]",
      "text/plain": [
       "<Figure size 360x360 with 1 Axes>"
      ]
     },
     "metadata": {
      "needs_background": "light"
     },
     "output_type": "display_data"
    }
   ],
   "source": [
    "print('Mean: {}'.format(train['NTG'].mean()))\n",
    "sns.displot(train['NTG'], bins=12)"
   ]
  },
  {
   "cell_type": "code",
   "execution_count": 178,
   "metadata": {},
   "outputs": [
    {
     "data": {
      "text/plain": [
       "<AxesSubplot:xlabel='X', ylabel='Y'>"
      ]
     },
     "execution_count": 178,
     "metadata": {},
     "output_type": "execute_result"
    },
    {
     "data": {
      "image/png": "[encoded data removed]",
      "text/plain": [
       "<Figure size 432x288 with 1 Axes>"
      ]
     },
     "metadata": {
      "needs_background": "light"
     },
     "output_type": "display_data"
    }
   ],
   "source": [
    "sns.scatterplot(data=train, x='X', y='Y', hue='NTG')"
   ]
  },
  {
   "cell_type": "markdown",
   "metadata": {},
   "source": [
    "## Submit 1 - baseline"
   ]
  },
  {
   "cell_type": "code",
   "execution_count": 58,
   "metadata": {},
   "outputs": [],
   "source": [
    "prediction = train['NTG'].mean()\n",
    "create_submission(prediction)"
   ]
  },
  {
   "cell_type": "markdown",
   "metadata": {},
   "source": [
    "## Submit 2"
   ]
  },
  {
   "cell_type": "code",
   "execution_count": 163,
   "metadata": {},
   "outputs": [],
   "source": [
    "x_not_in_train = []\n",
    "y_not_in_train = []\n",
    "for x, y in zip(test.X, test.Y):\n",
    "    if x not in train.X.values and x not in x_not_in_train:\n",
    "        x_not_in_train.append(x)\n",
    "    if y not in train.Y.values and y not in y_not_in_train:\n",
    "        y_not_in_train.append(y)"
   ]
  },
  {
   "cell_type": "code",
   "execution_count": 165,
   "metadata": {},
   "outputs": [
    {
     "name": "stdout",
     "output_type": "stream",
     "text": [
      "X not in train: [213, 233, 236]\n",
      "Y not in train: []\n"
     ]
    }
   ],
   "source": [
    "print('X not in train: {}'.format(x_not_in_train))\n",
    "print('Y not in train: {}'.format(y_not_in_train))"
   ]
  },
  {
   "cell_type": "code",
   "execution_count": 170,
   "metadata": {},
   "outputs": [],
   "source": [
    "# group_x = train.groupby(by='X').agg({'NTG':'mean'})\n",
    "# group_x.reset_index(inplace=True)\n",
    "# group_x.columns = ['X', 'NTG_X_mean']\n",
    "\n",
    "# group_y = train.groupby(by='Y').agg({'NTG':'mean'})\n",
    "# group_y.reset_index(inplace=True)\n",
    "# group_y.columns = ['Y', 'NTG_Y_mean']\n",
    "\n",
    "\n",
    "# train = pd.merge(train, group_x, on='X', how='left')\n",
    "\n",
    "# train = pd.merge(train, group_y, on='Y', how='left')\n",
    "\n",
    "\n",
    "# group_x = train.groupby(by='X').agg({'NTG':'median'})\n",
    "# group_x.reset_index(inplace=True)\n",
    "# group_x.columns = ['X', 'NTG_X_median']\n",
    "\n",
    "group_y = train.groupby(by='Y').agg({'NTG':'median'})\n",
    "group_y.reset_index(inplace=True)\n",
    "group_y.columns = ['Y', 'NTG_Y_median']\n",
    "\n",
    "# train = pd.merge(train, group_x, on='X', how='left')\n",
    "\n",
    "train = pd.merge(train, group_y, on='Y', how='left')"
   ]
  },
  {
   "cell_type": "code",
   "execution_count": 191,
   "metadata": {},
   "outputs": [
    {
     "data": {
      "text/plain": [
       "<AxesSubplot:xlabel='X', ylabel='Y'>"
      ]
     },
     "execution_count": 191,
     "metadata": {},
     "output_type": "execute_result"
    },
    {
     "data": {
      "image/png": "[encoded data removed]",
      "text/plain": [
       "<Figure size 432x288 with 1 Axes>"
      ]
     },
     "metadata": {
      "needs_background": "light"
     },
     "output_type": "display_data"
    }
   ],
   "source": [
    "from sklearn.cluster import KMeans\n",
    "\n",
    "model = KMeans(n_clusters=20)\n",
    "model.fit(train[['X', 'Y']])\n",
    "\n",
    "plt.scatter(model.cluster_centers_[:, 0], model.cluster_centers_[:, 1], marker='x', color='red')\n",
    "sns.scatterplot(data=train, x='X', y='Y', hue='NTG')"
   ]
  },
  {
   "cell_type": "code",
   "execution_count": 196,
   "metadata": {},
   "outputs": [],
   "source": [
    "train['cluster'] = model.labels_\n",
    "\n",
    "group = train.groupby(by='cluster').agg({'NTG':'mean'})\n",
    "group.reset_index(inplace=True)\n",
    "group.columns = ['cluster', 'NTG_cluster_mean']\n",
    "\n",
    "train = pd.merge(train, group, on='cluster', how='left')"
   ]
  },
  {
   "cell_type": "code",
   "execution_count": 197,
   "metadata": {},
   "outputs": [
    {
     "data": {
      "text/html": [
       "<div>\n",
       "<style scoped>\n",
       "    .dataframe tbody tr th:only-of-type {\n",
       "        vertical-align: middle;\n",
       "    }\n",
       "\n",
       "    .dataframe tbody tr th {\n",
       "        vertical-align: top;\n",
       "    }\n",
       "\n",
       "    .dataframe thead th {\n",
       "        text-align: right;\n",
       "    }\n",
       "</style>\n",
       "<table border=\"1\" class=\"dataframe\">\n",
       "  <thead>\n",
       "    <tr style=\"text-align: right;\">\n",
       "      <th></th>\n",
       "      <th>Well</th>\n",
       "      <th>X</th>\n",
       "      <th>Y</th>\n",
       "      <th>NTG</th>\n",
       "      <th>cluster</th>\n",
       "      <th>NTG_cluster_mean</th>\n",
       "    </tr>\n",
       "  </thead>\n",
       "  <tbody>\n",
       "    <tr>\n",
       "      <th>0</th>\n",
       "      <td>201-907</td>\n",
       "      <td>201</td>\n",
       "      <td>907</td>\n",
       "      <td>0.2006</td>\n",
       "      <td>11</td>\n",
       "      <td>0.218567</td>\n",
       "    </tr>\n",
       "    <tr>\n",
       "      <th>1</th>\n",
       "      <td>201-914</td>\n",
       "      <td>201</td>\n",
       "      <td>914</td>\n",
       "      <td>0.3624</td>\n",
       "      <td>1</td>\n",
       "      <td>0.314583</td>\n",
       "    </tr>\n",
       "    <tr>\n",
       "      <th>2</th>\n",
       "      <td>201-924</td>\n",
       "      <td>201</td>\n",
       "      <td>924</td>\n",
       "      <td>0.4381</td>\n",
       "      <td>5</td>\n",
       "      <td>0.355600</td>\n",
       "    </tr>\n",
       "    <tr>\n",
       "      <th>3</th>\n",
       "      <td>202-922</td>\n",
       "      <td>202</td>\n",
       "      <td>922</td>\n",
       "      <td>0.4289</td>\n",
       "      <td>5</td>\n",
       "      <td>0.355600</td>\n",
       "    </tr>\n",
       "    <tr>\n",
       "      <th>4</th>\n",
       "      <td>202-925</td>\n",
       "      <td>202</td>\n",
       "      <td>925</td>\n",
       "      <td>0.4021</td>\n",
       "      <td>5</td>\n",
       "      <td>0.355600</td>\n",
       "    </tr>\n",
       "    <tr>\n",
       "      <th>...</th>\n",
       "      <td>...</td>\n",
       "      <td>...</td>\n",
       "      <td>...</td>\n",
       "      <td>...</td>\n",
       "      <td>...</td>\n",
       "      <td>...</td>\n",
       "    </tr>\n",
       "    <tr>\n",
       "      <th>133</th>\n",
       "      <td>245-908</td>\n",
       "      <td>245</td>\n",
       "      <td>908</td>\n",
       "      <td>0.2719</td>\n",
       "      <td>18</td>\n",
       "      <td>0.297271</td>\n",
       "    </tr>\n",
       "    <tr>\n",
       "      <th>134</th>\n",
       "      <td>245-911</td>\n",
       "      <td>245</td>\n",
       "      <td>911</td>\n",
       "      <td>0.3780</td>\n",
       "      <td>18</td>\n",
       "      <td>0.297271</td>\n",
       "    </tr>\n",
       "    <tr>\n",
       "      <th>135</th>\n",
       "      <td>245-923</td>\n",
       "      <td>245</td>\n",
       "      <td>923</td>\n",
       "      <td>0.4239</td>\n",
       "      <td>13</td>\n",
       "      <td>0.317375</td>\n",
       "    </tr>\n",
       "    <tr>\n",
       "      <th>136</th>\n",
       "      <td>246-905</td>\n",
       "      <td>246</td>\n",
       "      <td>905</td>\n",
       "      <td>0.4900</td>\n",
       "      <td>0</td>\n",
       "      <td>0.357012</td>\n",
       "    </tr>\n",
       "    <tr>\n",
       "      <th>137</th>\n",
       "      <td>246-923</td>\n",
       "      <td>246</td>\n",
       "      <td>923</td>\n",
       "      <td>0.3667</td>\n",
       "      <td>13</td>\n",
       "      <td>0.317375</td>\n",
       "    </tr>\n",
       "  </tbody>\n",
       "</table>\n",
       "<p>138 rows × 6 columns</p>\n",
       "</div>"
      ],
      "text/plain": [
       "        Well    X    Y     NTG  cluster  NTG_cluster_mean\n",
       "0    201-907  201  907  0.2006       11          0.218567\n",
       "1    201-914  201  914  0.3624        1          0.314583\n",
       "2    201-924  201  924  0.4381        5          0.355600\n",
       "3    202-922  202  922  0.4289        5          0.355600\n",
       "4    202-925  202  925  0.4021        5          0.355600\n",
       "..       ...  ...  ...     ...      ...               ...\n",
       "133  245-908  245  908  0.2719       18          0.297271\n",
       "134  245-911  245  911  0.3780       18          0.297271\n",
       "135  245-923  245  923  0.4239       13          0.317375\n",
       "136  246-905  246  905  0.4900        0          0.357012\n",
       "137  246-923  246  923  0.3667       13          0.317375\n",
       "\n",
       "[138 rows x 6 columns]"
      ]
     },
     "execution_count": 197,
     "metadata": {},
     "output_type": "execute_result"
    }
   ],
   "source": [
    "train"
   ]
  },
  {
   "cell_type": "code",
   "execution_count": 199,
   "metadata": {},
   "outputs": [
    {
     "name": "stdout",
     "output_type": "stream",
     "text": [
      "RMSE: 0.06822603639639348\n",
      "Baseline RMSE: 0.06722763293543839\n"
     ]
    }
   ],
   "source": [
    "from sklearn.model_selection import train_test_split\n",
    "from xgboost import XGBRegressor\n",
    "from sklearn.metrics import mean_squared_error\n",
    "\n",
    "\n",
    "x_train, x_val, y_train, y_val = train_test_split(train.drop(['Well', 'NTG'], axis=1),\n",
    "                                                  train['NTG'],\n",
    "                                                  test_size=0.2,\n",
    "                                                  random_state=42)\n",
    "\n",
    "model = XGBRegressor(objective='reg:squarederror')\n",
    "\n",
    "model.fit(x_train, y_train)\n",
    "predictions = model.predict(x_val)\n",
    "\n",
    "baseline = np.ones(shape=(predictions.shape)) * y_val.mean()\n",
    "\n",
    "print('RMSE: {}'.format(np.sqrt(mean_squared_error(y_val, predictions))))\n",
    "print('Baseline RMSE: {}'.format(np.sqrt(mean_squared_error(y_val, baseline))))"
   ]
  },
  {
   "cell_type": "code",
   "execution_count": null,
   "metadata": {},
   "outputs": [],
   "source": []
  }
 ],
 "metadata": {
  "kernelspec": {
   "display_name": "Python 3",
   "language": "python",
   "name": "python3"
  },
  "language_info": {
   "codemirror_mode": {
    "name": "ipython",
    "version": 3
   },
   "file_extension": ".py",
   "mimetype": "text/x-python",
   "name": "python",
   "nbconvert_exporter": "python",
   "pygments_lexer": "ipython3",
   "version": "3.7.9"
  }
 },
 "nbformat": 4,
 "nbformat_minor": 4
}
